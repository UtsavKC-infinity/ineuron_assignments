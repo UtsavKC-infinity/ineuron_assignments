{
  "nbformat": 4,
  "nbformat_minor": 0,
  "metadata": {
    "colab": {
      "provenance": []
    },
    "kernelspec": {
      "name": "python3",
      "display_name": "Python 3"
    },
    "language_info": {
      "name": "python"
    }
  },
  "cells": [
    {
      "cell_type": "markdown",
      "source": [
        "1. In what modes should the PdfFileReader() and PdfFileWriter() File objects will be opened?\n",
        "\n",
        "Ans: The PdfFileReader() and PdfFileWriter() objects from the PyPDF2 library are used to read and write PDF files, respectively. When working with these objects, the corresponding PDF file needs to be opened in specific modes.\n",
        "\n",
        "1)PdfFileReader() object: The corresponding PDF file should be opened in \"rb\" mode, which stands for \"read binary.\" This mode is used to read the PDF file in binary mode, ensuring that all the content and formatting of the PDF file is preserved.\n",
        "\n",
        "2)PdfFileWriter() object: The corresponding PDF file should be opened in \"wb\" mode, which stands for \"write binary.\" This mode is used to write and create a new PDF file or modify an existing one. Opening the file in write binary mode allows the PdfFileWriter() object to make changes to the PDF file."
      ],
      "metadata": {
        "id": "uYjtpoSupn_z"
      }
    },
    {
      "cell_type": "markdown",
      "source": [
        "2. From a PdfFileReader object, how do you get a Page object for page 5?\n",
        "\n",
        "Ans: To get a Page object for page 5 from a PdfFileReader object in the PyPDF2 library, you can use the getPage() method and provide the index of the page you want (indexes start from 0).\n"
      ],
      "metadata": {
        "id": "5Nqoj0ODqDy-"
      }
    },
    {
      "cell_type": "markdown",
      "source": [
        "3. What PdfFileReader variable stores the number of pages in the PDF document?\n",
        "\n",
        "Ans: The PdfFileReader variable numPages stores the number of pages in the PDF document. You can access this variable to retrieve the total number of pages in the PDF."
      ],
      "metadata": {
        "id": "_N1hI1BUqPbA"
      }
    },
    {
      "cell_type": "markdown",
      "source": [
        "4. If a PdfFileReader object’s PDF is encrypted with the password swordfish, what must you do\n",
        "before you can obtain Page objects from it?\n",
        "\n",
        "Ans: If a PdfFileReader object's PDF is encrypted with the password \"swordfish\", you need to decrypt the PDF by providing the password before you can obtain Page objects from it."
      ],
      "metadata": {
        "id": "fHbInTh9qcW0"
      }
    },
    {
      "cell_type": "markdown",
      "source": [
        "5. What methods do you use to rotate a page?\n",
        "\n",
        "Ans: To rotate a page in a PDF using PyPDF2, you can use the rotateClockwise() and rotateCounterClockwise() methods of the Page object. These methods allow you to rotate a page by 90 degrees clockwise or counterclockwise, respectively."
      ],
      "metadata": {
        "id": "zx31eCgnqnMe"
      }
    },
    {
      "cell_type": "markdown",
      "source": [
        "6. What is the difference between a Run object and a Paragraph object?\n",
        "\n",
        "Ans: a Paragraph object represents a paragraph in a Word document and manages the overall paragraph-level formatting, while a Run object represents a contiguous run of text within a paragraph and handles the formatting of individual text segments."
      ],
      "metadata": {
        "id": "BnPFq6Btqr24"
      }
    },
    {
      "cell_type": "markdown",
      "source": [
        "7. How do you obtain a list of Paragraph objects for a Document object that’s stored in a variable\n",
        "named doc?\n",
        "\n",
        "Ans: To obtain a list of Paragraph objects from a Document object in the python-docx library, you can use the paragraphs property. "
      ],
      "metadata": {
        "id": "avIpv3T4q0eX"
      }
    },
    {
      "cell_type": "markdown",
      "source": [
        "8. What type of object has bold, underline, italic, strike, and outline variables?\n",
        "\n",
        "Ans: The Run object in the python-docx library has the variables bold, underline, italic, strike, and outline that represent different formatting options for text."
      ],
      "metadata": {
        "id": "7uQJuQW1rEbd"
      }
    },
    {
      "cell_type": "markdown",
      "source": [
        "9. What is the difference between False, True, and None for the bold variable?\n",
        "\n",
        "Ans: In the context of the python-docx library, the bold variable of a Run object can take three different values: True, False, and None. Here's what each value represents:\n",
        "\n",
        "1)False: When bold is set to False, it means that the text in the Run object is not formatted as bold. The text will be displayed in the regular font style without any bold emphasis.\n",
        "\n",
        "2)True: Setting bold to True indicates that the text in the Run object should be displayed in a bold font style. The text will appear with a bold emphasis.\n",
        "\n",
        "3)None: When bold is set to None, it means that the bold formatting of the text is inherited from the parent style. In this case, the actual bold formatting will depend on the style applied to the paragraph or the run. If the parent style has bold formatting, the text will be displayed as bold. If the parent style does not have bold formatting, the text will not be bold.\n",
        "\n",
        "It's important to note that bold is a boolean property, so it can only take the values True, False, or None.\n",
        "\n",
        "\n",
        "\n",
        "\n",
        "\n"
      ],
      "metadata": {
        "id": "_s_HUHWXrMrJ"
      }
    },
    {
      "cell_type": "markdown",
      "source": [
        "10. How do you create a Document object for a new Word document?\n",
        "\n",
        "Ans: To create a Document object for a new Word document using the python-docx library, you can use the Document() constructor"
      ],
      "metadata": {
        "id": "N8WsQ5NRrdyR"
      }
    },
    {
      "cell_type": "markdown",
      "source": [
        "11. How do you add a paragraph with the text &#39;Hello, there!&#39; to a Document object stored in a\n",
        "variable named doc?\n",
        "\n",
        "Ans: To add a paragraph with the text 'Hello, there!' to a Document object stored in a variable named doc using the python-docx library, you can use the add_paragraph() method. "
      ],
      "metadata": {
        "id": "hn3k-J12rppI"
      }
    },
    {
      "cell_type": "markdown",
      "source": [
        "12. What integers represent the levels of headings available in Word documents?\n",
        "\n",
        "Ans: In Word documents, the levels of headings are represented by integer values. The commonly used integer values for heading levels in Word documents are:\n",
        "\n",
        "Heading 1: Level 1 (represented by the integer 1)\n",
        "\n",
        "Heading 2: Level 2 (represented by the integer 2)\n",
        "\n",
        "Heading 3: Level 3 (represented by the integer 3)\n",
        "\n",
        "Heading 4: Level 4 (represented by the integer 4)\n",
        "\n",
        "Heading 5: Level 5 (represented by the integer 5)\n",
        "\n",
        "Heading 6: Level 6 (represented by the integer 6)\n",
        "\n",
        "These heading levels allow you to structure and organize the content in a Word document with varying levels of hierarchy."
      ],
      "metadata": {
        "id": "-T0aiqRGr0Kb"
      }
    },
    {
      "cell_type": "code",
      "execution_count": null,
      "metadata": {
        "id": "OnHkvUMaplSE"
      },
      "outputs": [],
      "source": []
    }
  ]
}