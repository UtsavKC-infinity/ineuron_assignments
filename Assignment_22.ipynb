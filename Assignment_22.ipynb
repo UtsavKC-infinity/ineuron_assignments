{
  "nbformat": 4,
  "nbformat_minor": 0,
  "metadata": {
    "colab": {
      "provenance": []
    },
    "kernelspec": {
      "name": "python3",
      "display_name": "Python 3"
    },
    "language_info": {
      "name": "python"
    }
  },
  "cells": [
    {
      "cell_type": "markdown",
      "source": [
        "1. What is the result of the code, and explain?\n",
        "\n",
        "&gt;&gt;&gt; X = &#39;iNeuron&#39;\n",
        "\n",
        "&gt;&gt;&gt; def func():\n",
        "\n",
        "print(X)\n",
        "\n",
        "&gt;&gt;&gt; func()\n",
        "\n",
        "Ans:"
      ],
      "metadata": {
        "id": "0lnkeitWGjbp"
      }
    },
    {
      "cell_type": "code",
      "execution_count": 1,
      "metadata": {
        "colab": {
          "base_uri": "https://localhost:8080/"
        },
        "id": "b0PGf_DxGilr",
        "outputId": "00641b5c-7101-4b70-cdc6-c1f2c9b6f2d1"
      },
      "outputs": [
        {
          "output_type": "stream",
          "name": "stdout",
          "text": [
            "iNeuron\n"
          ]
        }
      ],
      "source": [
        "X = 'iNeuron'\n",
        "def func():\n",
        "  print(X)\n",
        "func()"
      ]
    },
    {
      "cell_type": "markdown",
      "source": [
        "2. What is the result of the code, and explain?\n",
        "\n",
        "&gt;&gt;&gt; X = &#39;iNeuron&#39;\n",
        "\n",
        "&gt;&gt;&gt; def func():\n",
        "\n",
        "X = &#39;NI!&#39;\n",
        "\n",
        "&gt;&gt;&gt; func()\n",
        "\n",
        "&gt;&gt;&gt; print(X)\n",
        "\n",
        "Ans:"
      ],
      "metadata": {
        "id": "hx8VgWltG3in"
      }
    },
    {
      "cell_type": "code",
      "source": [
        "X = 'iNeuron'\n",
        "def func():\n",
        "  X='NI!'\n",
        "func()\n",
        "print(X)"
      ],
      "metadata": {
        "colab": {
          "base_uri": "https://localhost:8080/"
        },
        "id": "_1BYLeKLGwVg",
        "outputId": "69ba81ff-9e4d-4199-fde9-5eff72d1c29b"
      },
      "execution_count": 2,
      "outputs": [
        {
          "output_type": "stream",
          "name": "stdout",
          "text": [
            "iNeuron\n"
          ]
        }
      ]
    },
    {
      "cell_type": "markdown",
      "source": [
        "Explanation:\n",
        "\n",
        "1) The variable X is assigned the string value 'iNeuron'.\n",
        "\n",
        "2)A function named func is defined, which assigns the string value 'NI!' to a local variable X. This local variable X is separate from the global variable X.\n",
        "\n",
        "3)The func() function is called, but it only modifies the local variable X within its own scope.\n",
        "\n",
        "4)After the function call, when print(X) is executed, it refers to the global variable X, which still holds the value 'iNeuron'. Therefore, it prints 'iNeuron'."
      ],
      "metadata": {
        "id": "pMgUIiZ_HQg8"
      }
    },
    {
      "cell_type": "markdown",
      "source": [
        "3. What does this code print, and why?\n",
        "\n",
        "&gt;&gt;&gt; X = &#39;iNeuron&#39;\n",
        "\n",
        "&gt;&gt;&gt; def func():\n",
        "\n",
        "X = &#39;NI&#39;\n",
        "\n",
        "print(X)\n",
        "\n",
        "&gt;&gt;&gt; func()\n",
        "\n",
        "&gt;&gt;&gt; print(X)\n",
        "\n",
        "Ans: "
      ],
      "metadata": {
        "id": "o91yv5wGHcG5"
      }
    },
    {
      "cell_type": "code",
      "source": [
        "X = 'iNeuron'\n",
        "def func():\n",
        "  X= 'NI'\n",
        "  print(X)\n",
        "func()\n",
        "print(X)"
      ],
      "metadata": {
        "colab": {
          "base_uri": "https://localhost:8080/"
        },
        "id": "1Xwc9zrzHL36",
        "outputId": "5d7c5ffb-0eba-4cf4-d33e-37fe0d0509e7"
      },
      "execution_count": 4,
      "outputs": [
        {
          "output_type": "stream",
          "name": "stdout",
          "text": [
            "NI\n",
            "iNeuron\n"
          ]
        }
      ]
    },
    {
      "cell_type": "markdown",
      "source": [
        "Explanation:\n",
        "\n",
        "1)The variable X is assigned the string value 'iNeuron'.\n",
        "\n",
        "2)A function named func is defined, which assigns the string value 'NI' to a local variable X.\n",
        "\n",
        "3)Inside the func() function, when print(X) is executed, it refers to the local variable X, which holds the value 'NI'. Therefore, it prints 'NI'.\n",
        "\n",
        "4)After the function call, when print(X) is executed outside the function, it refers to the global variable X, which still holds the value 'iNeuron'. Therefore, it prints 'iNeuron'.\n",
        "\n",
        "\n",
        "\n"
      ],
      "metadata": {
        "id": "-wfksw8JH0zY"
      }
    },
    {
      "cell_type": "markdown",
      "source": [
        "4. What output does this code produce? Why?\n",
        "\n",
        "&gt;&gt;&gt; X = &#39;iNeuron&#39;\n",
        "\n",
        "&gt;&gt;&gt; def func():\n",
        "\n",
        "global X\n",
        "\n",
        "X = &#39;NI&#39;\n",
        "\n",
        "&gt;&gt;&gt; func()\n",
        "\n",
        "&gt;&gt;&gt; print(X)\n",
        "\n",
        "Ans: "
      ],
      "metadata": {
        "id": "1vz1Xvp4IAJN"
      }
    },
    {
      "cell_type": "code",
      "source": [
        "X = 'iNeuron'\n",
        "def func():\n",
        "  global X\n",
        "  X = 'NI'\n",
        "func()\n",
        "print(X)"
      ],
      "metadata": {
        "colab": {
          "base_uri": "https://localhost:8080/"
        },
        "id": "oSYMMRoiHu6E",
        "outputId": "aa2586df-ce7e-4964-c5d5-955a7e3c8ca1"
      },
      "execution_count": 6,
      "outputs": [
        {
          "output_type": "stream",
          "name": "stdout",
          "text": [
            "NI\n"
          ]
        }
      ]
    },
    {
      "cell_type": "markdown",
      "source": [
        "Explanation:\n",
        "\n",
        "1)The variable X is assigned the string value 'iNeuron'.\n",
        "\n",
        "2)Inside the func() function, the global keyword is used to indicate that X refers to the global variable X defined outside the function.\n",
        "\n",
        "3)The statement X = 'NI' modifies the value of the global variable X, changing it to 'NI'.\n",
        "\n",
        "4)After calling the func() function, when print(X) is executed, it refers to the modified global variable X, which now holds the value 'NI'. Therefore, it prints 'NI'."
      ],
      "metadata": {
        "id": "rBmLW5DnITu0"
      }
    },
    {
      "cell_type": "markdown",
      "source": [
        "5. What about this code—what’s the output, and why?\n",
        "\n",
        "&gt;&gt;&gt; X = &#39;iNeuron&#39;\n",
        "\n",
        "&gt;&gt;&gt; def func():\n",
        "\n",
        "X = &#39;NI&#39;\n",
        "\n",
        "def nested():\n",
        "\n",
        "print(X)\n",
        "\n",
        "nested()\n",
        "\n",
        "&gt;&gt;&gt; func()\n",
        "\n",
        "&gt;&gt;&gt; X"
      ],
      "metadata": {
        "id": "jmk27CqLIfsN"
      }
    },
    {
      "cell_type": "code",
      "source": [
        "X = 'iNeuron'\n",
        "def func():\n",
        "  X='NI'\n",
        "  def nested():\n",
        "    print(X)\n",
        "  nested()\n",
        "func()\n",
        "X"
      ],
      "metadata": {
        "colab": {
          "base_uri": "https://localhost:8080/",
          "height": 52
        },
        "id": "3pkLhzZlILNA",
        "outputId": "c471b00a-ab9c-4634-e250-1468c8c743a7"
      },
      "execution_count": 9,
      "outputs": [
        {
          "output_type": "stream",
          "name": "stdout",
          "text": [
            "NI\n"
          ]
        },
        {
          "output_type": "execute_result",
          "data": {
            "text/plain": [
              "'iNeuron'"
            ],
            "application/vnd.google.colaboratory.intrinsic+json": {
              "type": "string"
            }
          },
          "metadata": {},
          "execution_count": 9
        }
      ]
    },
    {
      "cell_type": "markdown",
      "source": [
        "Explanation:\n",
        "\n",
        "1)The variable X is assigned the string value 'iNeuron'.\n",
        "\n",
        "2)The func() function is defined, and inside it, a nested function nested() is defined.\n",
        "\n",
        "3)Inside the nested() function, print(X) is called. Since X is not defined in the local scope of nested(), it looks for X in the enclosing scope, which is the func() function.\n",
        "\n",
        "4)In the func() function, X is assigned the value 'NI' before calling nested().\n",
        "When nested() is called, it prints the value of X from the enclosing scope of func(), which is 'NI'.\n",
        "\n",
        "5)After calling func(), X is referenced outside the function. Since X is a global variable, its value remains unchanged and is still 'iNeuron'."
      ],
      "metadata": {
        "id": "QZ0TZzaeJG1t"
      }
    },
    {
      "cell_type": "markdown",
      "source": [
        "6. How about this code: what is its output in Python 3, and explain?\n",
        "\n",
        "&gt;&gt;&gt; def func():\n",
        "\n",
        "X = &#39;NI&#39;\n",
        "\n",
        "def nested():\n",
        "\n",
        "nonlocal X\n",
        "\n",
        "X = &#39;Spam&#39;\n",
        "\n",
        "nested()\n",
        "\n",
        "print(X)\n",
        "\n",
        "&gt;&gt;&gt; func()\n",
        "\n",
        "Ans:"
      ],
      "metadata": {
        "id": "78zVQmSJJSyq"
      }
    },
    {
      "cell_type": "code",
      "source": [
        "def func():\n",
        "  X='NI'\n",
        "  def nested():\n",
        "    nonlocal X\n",
        "    X = 'Spam'\n",
        "  nested()\n",
        "  print(X)\n",
        "func()"
      ],
      "metadata": {
        "colab": {
          "base_uri": "https://localhost:8080/"
        },
        "id": "uYGq2GUoIufo",
        "outputId": "73911302-03a1-4a51-94a9-21a393b356e9"
      },
      "execution_count": 11,
      "outputs": [
        {
          "output_type": "stream",
          "name": "stdout",
          "text": [
            "Spam\n"
          ]
        }
      ]
    },
    {
      "cell_type": "markdown",
      "source": [
        "Explanation:\n",
        "\n",
        "1) The func() function defines a local variable X with the value 'NI'.\n",
        "\n",
        "2)Inside func(), there is a nested function nested().\n",
        "\n",
        "3)The nonlocal keyword is used within nested() to indicate that the variable X is a nonlocal variable, i.e., it refers to the X variable in the nearest enclosing scope (func()).\n",
        "\n",
        "4)The nested() function assigns the value 'Spam' to the nonlocal variable X.\n",
        "\n",
        "5)After nested() is called, the print(X) statement inside func() prints the value of X, which is now 'Spam'.\n",
        "\n",
        "6)The nonlocal keyword allows the nested function to modify the value of a variable in its enclosing scope.In this case, it allows nested() to modify the X variable defined in func()."
      ],
      "metadata": {
        "id": "PsG0SxC3KNXN"
      }
    },
    {
      "cell_type": "code",
      "source": [],
      "metadata": {
        "id": "C8OlzzdFJkBH"
      },
      "execution_count": null,
      "outputs": []
    }
  ]
}