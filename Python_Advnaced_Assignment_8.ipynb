{
  "nbformat": 4,
  "nbformat_minor": 0,
  "metadata": {
    "colab": {
      "provenance": []
    },
    "kernelspec": {
      "name": "python3",
      "display_name": "Python 3"
    },
    "language_info": {
      "name": "python"
    }
  },
  "cells": [
    {
      "cell_type": "markdown",
      "source": [
        "Q1. What are the two latest user-defined exception constraints in Python 3.X?\n",
        "\n",
        "Ans:  The two latest user-defined exception constraints in Python 3.X are:\n",
        "\n",
        "\n",
        "\n",
        "1.   Inheriting from built-in exceptions: Python allows users to define custom exceptions by creating a new class that inherits from one of the built-in exception classes provided by Python, such as Exception, ValueError, TypeError, etc.\n",
        "\n",
        "2.   Adding additional attributes or behaviors: Users can define custom exceptions with additional attributes or behaviors by extending the base exception class and adding their own methods or properties. This can be useful for providing more context or handling specific error conditions differently.\n",
        "\n"
      ],
      "metadata": {
        "id": "7CXP0tXWuT4F"
      }
    },
    {
      "cell_type": "markdown",
      "source": [
        "Q2. How are class-based exceptions that have been raised matched to handlers?\n",
        "\n",
        "Ans:\n",
        "In Python, when an exception is raised, the interpreter looks for an exception handler that can handle that particular type of exception. The process of matching class-based exceptions to handlers is as follows:\n",
        "\n",
        "\n",
        "\n",
        "1.   Exception Propagation: When an exception is raised within a try block, Python starts searching for an appropriate exception handler to catch the exception. If there's no suitable handler within the current function, Python propagates the exception to the calling function and continues searching for a handler there.\n",
        "\n",
        "2.   Matching Exception Type: Python checks each except clause in the try block, one by one, to see if the raised exception matches the type specified in the except clause. If a match is found, the corresponding block of code associated with that except clause is executed.\n",
        "\n",
        "\n",
        "3.   Inheritance Hierarchy: Python's exception handling mechanism takes into account the inheritance hierarchy of exception classes. If the raised exception is an instance of a subclass of the exception type specified in the except clause, it is still considered a match, and the corresponding handler is invoked. This means that a handler for a base class exception can also catch exceptions of its derived classes.\n",
        "\n",
        "4.   List Order of except Clauses: The order of except clauses matters. Python checks the except clauses in the order they appear in the try block. If multiple except clauses can handle the raised exception, only the first matching except clause encountered will be executed, and the rest will be skipped.\n",
        "\n",
        "\n",
        "\n",
        "\n",
        "\n"
      ],
      "metadata": {
        "id": "DQ7e9HKauwMT"
      }
    },
    {
      "cell_type": "markdown",
      "source": [
        "\n",
        "Q3. Describe two methods for attaching context information to exception artefacts.\n",
        "\n",
        "Ans: Attaching context information to exception artifacts is crucial for debugging and understanding the root cause of errors in a program. Here are two common methods for attaching context information to exception artifacts in Python:\n",
        "\n",
        "\n",
        "\n",
        "1.   Exception Arguments:\n",
        "One of the simplest ways to attach context information to an exception is by providing additional arguments when raising the exception. These arguments can include descriptive messages, relevant data, or any other information that helps in understanding the cause of the error.\n",
        "\n",
        "2.   Custom Exception Classes with Attributes:\n",
        "Another method is to create custom exception classes that include attributes for holding context information. By defining your own exception classes, you can provide specific attributes that store relevant data associated with the exception.\n",
        "\n"
      ],
      "metadata": {
        "id": "6bIUuIawvZKH"
      }
    },
    {
      "cell_type": "markdown",
      "source": [
        "Q4. Describe two methods for specifying the text of an exception object&#39;s error message.\n",
        "\n",
        "Ans:\n",
        "In Python, there are several methods for specifying the text of an exception object's error message. Here are two common methods:\n",
        "\n",
        "\n",
        "\n",
        "1.   Passing a String to the Exception Constructor:\n",
        "The simplest and most common method is to pass a string as an argument when raising an exception. This string represents the error message associated with the exception.\n",
        "\n",
        "2.   Custom Exception Classes with Message Attributes:\n",
        "Another method is to define custom exception classes with message attributes. This approach allows for more structured error messages and additional flexibility.\n",
        "\n"
      ],
      "metadata": {
        "id": "sNkZ-6J3v5F6"
      }
    },
    {
      "cell_type": "markdown",
      "source": [
        "Q5. Why do you no longer use string-based exceptions?\n",
        "\n",
        "Ans:\n",
        "As of Python 3.x, using string-based exceptions directly (i.e., raising exceptions with strings as the exception object) is discouraged and generally considered a poor practice. There are several reasons for this:\n",
        "\n",
        "\n",
        "* Loss of Information: String-based exceptions provide limited information about the error. They lack the rich metadata that exception objects provide, such as stack traces, error types, and custom attributes. This makes it harder to diagnose and handle errors effectively.\n",
        "\n",
        "* Difficulty in Handling: When catching exceptions raised as strings, it's challenging to distinguish between different types of errors based solely on their error messages. This can lead to less precise error handling and potentially incorrect behavior in the program.\n",
        "\n",
        "\n",
        "\n",
        "* Legacy Compatibility: While string-based exceptions were allowed in older versions of Python (e.g., Python 2.x), they are no longer the recommended approach in Python 3.x. The Python community has moved towards using exception classes for better consistency, clarity, and functionality.\n",
        "\n",
        "* Security Risks: Using string-based exceptions can introduce security vulnerabilities such as injection attacks if error messages include user-controlled input. Exception objects provide safer ways to handle and present error information without exposing sensitive details.\n",
        "\n",
        "\n",
        "Instead of using string-based exceptions, it's recommended to raise instances of built-in or custom exception classes, which allow for more structured and informative error handling. By subclassing Exception or other appropriate built-in exceptions, developers can define custom exception types with additional attributes and behaviors tailored to their specific use cases. This approach promotes better code organization, readability, and maintainability."
      ],
      "metadata": {
        "id": "21rFAg7gwMNf"
      }
    }
  ]
}