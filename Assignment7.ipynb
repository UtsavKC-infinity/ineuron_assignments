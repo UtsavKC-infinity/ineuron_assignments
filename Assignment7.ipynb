{
  "nbformat": 4,
  "nbformat_minor": 0,
  "metadata": {
    "colab": {
      "provenance": []
    },
    "kernelspec": {
      "name": "python3",
      "display_name": "Python 3"
    },
    "language_info": {
      "name": "python"
    }
  },
  "cells": [
    {
      "cell_type": "code",
      "execution_count": 1,
      "metadata": {
        "colab": {
          "base_uri": "https://localhost:8080/"
        },
        "id": "h2D2qsuqkAIM",
        "outputId": "eaa8d8c0-b67d-4b30-b3e1-0573e7863b96"
      },
      "outputs": [
        {
          "output_type": "stream",
          "name": "stdout",
          "text": [
            "The sum of the array is: 15\n"
          ]
        }
      ],
      "source": [
        "#Write a Python Program to find sum of array?\n",
        "def array_sum(arr):\n",
        "    sum = 0\n",
        "    for num in arr:\n",
        "        sum += num\n",
        "    return sum\n",
        "\n",
        "array = [1, 2, 3, 4, 5]\n",
        "result = array_sum(array)\n",
        "print(f\"The sum of the array is: {result}\")"
      ]
    },
    {
      "cell_type": "code",
      "source": [
        "#Write a Python Program to find largest element in an array?\n",
        "def find_largest(arr):\n",
        "    largest = arr[0]  # Assume the first element is the largest\n",
        "    for num in arr:\n",
        "        if num > largest:\n",
        "            largest = num\n",
        "    return largest\n",
        "\n",
        "array = [4, 8, 2, 10, 6]\n",
        "largest_num = find_largest(array)\n",
        "print(f\"The largest element in the array is: {largest_num}\")"
      ],
      "metadata": {
        "colab": {
          "base_uri": "https://localhost:8080/"
        },
        "id": "Sb6O9t6NlAQe",
        "outputId": "460af9c1-189a-495b-e2ae-0fb39c04abde"
      },
      "execution_count": 2,
      "outputs": [
        {
          "output_type": "stream",
          "name": "stdout",
          "text": [
            "The largest element in the array is: 10\n"
          ]
        }
      ]
    },
    {
      "cell_type": "code",
      "source": [
        "#Write a Python Program for array rotation?\n",
        "def rotate_array(arr, k):\n",
        "    n = len(arr)\n",
        "    k = k % n  # Adjust rotation count if it exceeds the array length\n",
        "    rotated_arr = arr[k:] + arr[:k]\n",
        "    return rotated_arr\n",
        "\n",
        "array = [1, 2, 3, 4, 5]\n",
        "rotation_count = 2\n",
        "rotated_array = rotate_array(array, rotation_count)\n",
        "print(\"Original Array:\", array)\n",
        "print(\"Rotated Array:\", rotated_array)"
      ],
      "metadata": {
        "colab": {
          "base_uri": "https://localhost:8080/"
        },
        "id": "_sZqtC_5lLmT",
        "outputId": "dfe83a11-61e8-4cd7-c5a6-d59bec8ed95f"
      },
      "execution_count": 3,
      "outputs": [
        {
          "output_type": "stream",
          "name": "stdout",
          "text": [
            "Original Array: [1, 2, 3, 4, 5]\n",
            "Rotated Array: [3, 4, 5, 1, 2]\n"
          ]
        }
      ]
    },
    {
      "cell_type": "code",
      "source": [
        "#4. Write a Python Program to Split the array and add the first part to the end?\n",
        "def split_and_add(arr, n):\n",
        "    if n > len(arr):\n",
        "        print(\"Invalid split position!\")\n",
        "        return arr\n",
        "\n",
        "    split_point = n\n",
        "    splitted_arr = arr[split_point:] + arr[:split_point]\n",
        "    return splitted_arr\n",
        "\n",
        "array = [1, 2, 3, 4, 5]\n",
        "split_position = 2\n",
        "result = split_and_add(array, split_position)\n",
        "print(\"Original Array:\", array)\n",
        "print(\"Split and Added Array:\", result)"
      ],
      "metadata": {
        "colab": {
          "base_uri": "https://localhost:8080/"
        },
        "id": "tWmzlR7clb7c",
        "outputId": "c1eb361b-42de-4055-e1cc-c0876f1c44a7"
      },
      "execution_count": 4,
      "outputs": [
        {
          "output_type": "stream",
          "name": "stdout",
          "text": [
            "Original Array: [1, 2, 3, 4, 5]\n",
            "Split and Added Array: [3, 4, 5, 1, 2]\n"
          ]
        }
      ]
    },
    {
      "cell_type": "code",
      "source": [
        "#5. Write a Python Program to check if given array is Monotonic?\n",
        "def is_monotonic(arr):\n",
        "    increasing = decreasing = True\n",
        "\n",
        "    for i in range(len(arr) - 1):\n",
        "        if arr[i] > arr[i + 1]:\n",
        "            increasing = False\n",
        "        if arr[i] < arr[i + 1]:\n",
        "            decreasing = False\n",
        "\n",
        "    return increasing or decreasing\n",
        "\n",
        "array1 = [1, 2, 3, 4, 5]\n",
        "array2 = [5, 4, 3, 2, 1]\n",
        "array3 = [1, 2, 2, 4, 5]\n",
        "\n",
        "print(is_monotonic(array1))  # True (monotonic increasing)\n",
        "print(is_monotonic(array2))  # True (monotonic decreasing)\n",
        "print(is_monotonic(array3))  # True (monotonic non-decreasing)\n"
      ],
      "metadata": {
        "colab": {
          "base_uri": "https://localhost:8080/"
        },
        "id": "za3KS-8Ylore",
        "outputId": "419aaf1b-0fc9-4b0f-ce33-22b324330655"
      },
      "execution_count": 5,
      "outputs": [
        {
          "output_type": "stream",
          "name": "stdout",
          "text": [
            "True\n",
            "True\n",
            "True\n"
          ]
        }
      ]
    },
    {
      "cell_type": "code",
      "source": [],
      "metadata": {
        "id": "JmGXAY16lzKJ"
      },
      "execution_count": null,
      "outputs": []
    }
  ]
}