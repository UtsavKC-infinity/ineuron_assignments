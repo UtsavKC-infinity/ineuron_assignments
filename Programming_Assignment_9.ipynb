{
  "nbformat": 4,
  "nbformat_minor": 0,
  "metadata": {
    "colab": {
      "provenance": []
    },
    "kernelspec": {
      "name": "python3",
      "display_name": "Python 3"
    },
    "language_info": {
      "name": "python"
    }
  },
  "cells": [
    {
      "cell_type": "code",
      "execution_count": 1,
      "metadata": {
        "colab": {
          "base_uri": "https://localhost:8080/"
        },
        "id": "RfHYu_w9n-Ps",
        "outputId": "82bdab4f-3f63-4c11-93d0-c244af30a567"
      },
      "outputs": [
        {
          "output_type": "stream",
          "name": "stdout",
          "text": [
            "Enter a number: 3\n",
            "3 is a Disarium number\n"
          ]
        }
      ],
      "source": [
        "#1. Write a Python program to check if the given number is a Disarium Number?\n",
        "def is_disarium_number(num):\n",
        "    # Convert the number to a string to access individual digits\n",
        "    num_str = str(num)\n",
        "    n = len(num_str)  # Length of the number\n",
        "\n",
        "    # Calculate the sum of digits raised to their respective positions\n",
        "    disarium_sum = sum(int(digit) ** (i+1) for i, digit in enumerate(num_str))\n",
        "\n",
        "    # Check if the sum is equal to the original number\n",
        "    return num == disarium_sum\n",
        "\n",
        "# Test the function\n",
        "number = int(input(\"Enter a number: \"))\n",
        "if is_disarium_number(number):\n",
        "    print(number, \"is a Disarium number\")\n",
        "else:\n",
        "    print(number, \"is not a Disarium number\")\n"
      ]
    },
    {
      "cell_type": "code",
      "source": [
        "#2. Write a Python program to print all disarium numbers between 1 to 100?\n",
        "def is_disarium_number(num):\n",
        "    num_str = str(num)\n",
        "    n = len(num_str)\n",
        "    disarium_sum = sum(int(digit) ** (i+1) for i, digit in enumerate(num_str))\n",
        "    return num == disarium_sum\n",
        "\n",
        "print(\"Disarium numbers between 1 and 100:\")\n",
        "for i in range(1, 101):\n",
        "    if is_disarium_number(i):\n",
        "        print(i)\n"
      ],
      "metadata": {
        "colab": {
          "base_uri": "https://localhost:8080/"
        },
        "id": "uyOmcFWhoGqx",
        "outputId": "ec84f276-8d08-40ae-aea2-3c6b476059c3"
      },
      "execution_count": 2,
      "outputs": [
        {
          "output_type": "stream",
          "name": "stdout",
          "text": [
            "Disarium numbers between 1 and 100:\n",
            "1\n",
            "2\n",
            "3\n",
            "4\n",
            "5\n",
            "6\n",
            "7\n",
            "8\n",
            "9\n",
            "89\n"
          ]
        }
      ]
    },
    {
      "cell_type": "code",
      "source": [
        "#3. Write a Python program to check if the given number is Happy Number?\n",
        "def is_happy_number(num):\n",
        "    visited = set()  # Set to keep track of visited numbers\n",
        "\n",
        "    while True:\n",
        "        # Calculate the sum of squares of digits\n",
        "        num = sum(int(digit) ** 2 for digit in str(num))\n",
        "\n",
        "        if num == 1:\n",
        "            return True  # Number is happy\n",
        "\n",
        "        if num in visited:\n",
        "            return False  # Number entered a cycle, not happy\n",
        "\n",
        "        visited.add(num)  # Add number to visited set\n",
        "\n",
        "# Test the function\n",
        "number = int(input(\"Enter a number: \"))\n",
        "if is_happy_number(number):\n",
        "    print(number, \"is a happy number\")\n",
        "else:\n",
        "    print(number, \"is not a happy number\")\n"
      ],
      "metadata": {
        "colab": {
          "base_uri": "https://localhost:8080/"
        },
        "id": "pEBlcm0VoO_8",
        "outputId": "2dc4bf07-8544-40e2-8f05-c3510ee1bcf7"
      },
      "execution_count": 3,
      "outputs": [
        {
          "output_type": "stream",
          "name": "stdout",
          "text": [
            "Enter a number: 45\n",
            "45 is not a happy number\n"
          ]
        }
      ]
    },
    {
      "cell_type": "code",
      "source": [
        "#4. Write a Python program to print all happy numbers between 1 and 100?\n",
        "def is_happy_number(num):\n",
        "    visited = set()\n",
        "\n",
        "    while True:\n",
        "        num = sum(int(digit) ** 2 for digit in str(num))\n",
        "\n",
        "        if num == 1:\n",
        "            return True\n",
        "\n",
        "        if num in visited:\n",
        "            return False\n",
        "\n",
        "        visited.add(num)\n",
        "\n",
        "print(\"Happy numbers between 1 and 100:\")\n",
        "for i in range(1, 101):\n",
        "    if is_happy_number(i):\n",
        "        print(i)\n"
      ],
      "metadata": {
        "colab": {
          "base_uri": "https://localhost:8080/"
        },
        "id": "Xfp9midEoXXY",
        "outputId": "a9d37a55-b65b-413a-ed9d-af6e29131f81"
      },
      "execution_count": 4,
      "outputs": [
        {
          "output_type": "stream",
          "name": "stdout",
          "text": [
            "Happy numbers between 1 and 100:\n",
            "1\n",
            "7\n",
            "10\n",
            "13\n",
            "19\n",
            "23\n",
            "28\n",
            "31\n",
            "32\n",
            "44\n",
            "49\n",
            "68\n",
            "70\n",
            "79\n",
            "82\n",
            "86\n",
            "91\n",
            "94\n",
            "97\n",
            "100\n"
          ]
        }
      ]
    },
    {
      "cell_type": "code",
      "source": [
        "#5. Write a Python program to determine whether the given number is a Harshad Number?\n",
        "def is_harshad_number(num):\n",
        "    # Convert the number to a string to access individual digits\n",
        "    num_str = str(num)\n",
        "\n",
        "    # Calculate the sum of digits\n",
        "    digit_sum = sum(int(digit) for digit in num_str)\n",
        "\n",
        "    # Check if the number is divisible by the sum of its digits\n",
        "    return num % digit_sum == 0\n",
        "\n",
        "# Test the function\n",
        "number = int(input(\"Enter a number: \"))\n",
        "if is_harshad_number(number):\n",
        "    print(number, \"is a Harshad number\")\n",
        "else:\n",
        "    print(number, \"is not a Harshad number\")\n"
      ],
      "metadata": {
        "colab": {
          "base_uri": "https://localhost:8080/"
        },
        "id": "xzjRAUiqohzV",
        "outputId": "43774673-20c2-49ca-8270-61dff6c15f60"
      },
      "execution_count": 5,
      "outputs": [
        {
          "output_type": "stream",
          "name": "stdout",
          "text": [
            "Enter a number: 45\n",
            "45 is a Harshad number\n"
          ]
        }
      ]
    },
    {
      "cell_type": "code",
      "source": [
        "#6. Write a Python program to print all pronic numbers between 1 and 100?\n",
        "def is_pronic_number(num):\n",
        "    for i in range(1, num+1):\n",
        "        # Check if i * (i+1) is equal to the number\n",
        "        if i * (i+1) == num:\n",
        "            return True\n",
        "    return False\n",
        "\n",
        "print(\"Pronic numbers between 1 and 100:\")\n",
        "for i in range(1, 101):\n",
        "    if is_pronic_number(i):\n",
        "        print(i)\n"
      ],
      "metadata": {
        "colab": {
          "base_uri": "https://localhost:8080/"
        },
        "id": "_3S8QW-soqJd",
        "outputId": "e8b6d55e-eb06-4b1a-820d-9aa60bb6a6fe"
      },
      "execution_count": 6,
      "outputs": [
        {
          "output_type": "stream",
          "name": "stdout",
          "text": [
            "Pronic numbers between 1 and 100:\n",
            "2\n",
            "6\n",
            "12\n",
            "20\n",
            "30\n",
            "42\n",
            "56\n",
            "72\n",
            "90\n"
          ]
        }
      ]
    },
    {
      "cell_type": "code",
      "source": [],
      "metadata": {
        "id": "P9V89QO2oyZ9"
      },
      "execution_count": null,
      "outputs": []
    }
  ]
}