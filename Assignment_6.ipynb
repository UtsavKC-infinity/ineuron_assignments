{
  "nbformat": 4,
  "nbformat_minor": 0,
  "metadata": {
    "colab": {
      "provenance": []
    },
    "kernelspec": {
      "name": "python3",
      "display_name": "Python 3"
    },
    "language_info": {
      "name": "python"
    }
  },
  "cells": [
    {
      "cell_type": "markdown",
      "source": [
        "#1. What are escape characters, and how do you use them?\n",
        "\n",
        "Ans: In Python strings, the backslash ' \\ ' is a special character, also called the \"escape\" character. \n",
        "\n",
        "\n"
      ],
      "metadata": {
        "id": "VDijHIasBE2F"
      }
    },
    {
      "cell_type": "code",
      "source": [
        "# This example shows how we use them two print quotation with in the quotation\n",
        "txt = \"We are the so-called \\\"Vikings\\\" from the north.\"\n",
        "print(txt)"
      ],
      "metadata": {
        "colab": {
          "base_uri": "https://localhost:8080/"
        },
        "id": "OUW_e8bJBEmP",
        "outputId": "9d684916-fb2a-4c3e-9d98-1bfbc3855ca8"
      },
      "execution_count": 2,
      "outputs": [
        {
          "output_type": "stream",
          "name": "stdout",
          "text": [
            "We are the so-called \"Vikings\" from the north.\n"
          ]
        }
      ]
    },
    {
      "cell_type": "markdown",
      "source": [
        "#2. What do the escape characters n and t stand for?\n",
        "\n",
        "Ans: Escape character is used in representing certain whitespace characters: \"\\t\" is a tab, \"\\n\" is a newline."
      ],
      "metadata": {
        "id": "IHhUREtPC3K_"
      }
    },
    {
      "cell_type": "markdown",
      "source": [
        "#3. What is the way to include backslash characters in a string?\n",
        "\n",
        "Ans:In Python, the backslash \\  is a special character. If you use the backslash in front of another character, it changes the meaning of that character.\n",
        "\n"
      ],
      "metadata": {
        "id": "eJOK7JxwDS0z"
      }
    },
    {
      "cell_type": "code",
      "execution_count": 11,
      "metadata": {
        "colab": {
          "base_uri": "https://localhost:8080/"
        },
        "id": "L2ZLtWlnBBIP",
        "outputId": "738e02e0-7366-4b2f-b518-bbc997ad2ffa"
      },
      "outputs": [
        {
          "output_type": "stream",
          "name": "stdout",
          "text": [
            "1)By using tab escape sequence : \n",
            "Hello\tRam\n",
            "2)By using new line escape sequence : \n",
            "Hello Ram \n",
            " How are you?\n",
            "3) is we want to print backslah itself then we use raw :\n",
            "\\n\n"
          ]
        }
      ],
      "source": [
        "#The way of include backslash characters in a string are :\n",
        "print(\"1)By using tab escape sequence : \")\n",
        "txt1 = \"Hello\\tRam\"\n",
        "print(txt1)\n",
        "print(\"2)By using new line escape sequence : \")\n",
        "txt2 = \"Hello Ram \\n How are you?\"\n",
        "print(txt2)\n",
        "print(\"3) is we want to print backslah itself then we use raw :\")\n",
        "txt = r\"\\n\"\n",
        "print(txt)\n"
      ]
    },
    {
      "cell_type": "markdown",
      "source": [
        "#4. The string &quot;Howl&#39;s Moving Castle&quot; is a correct value. Why isn&#39;t the single quote character in the word Howl&#39;s not escaped a problem?\n",
        "\n",
        "Ans: Because we use single quotation inside double quotation so in these case no error occur and we get correct value but if we  use  single quoation inside the single quotation then in such case we may face some problems and in result we will get syntax error. "
      ],
      "metadata": {
        "id": "NkJh95HbGTCe"
      }
    },
    {
      "cell_type": "code",
      "source": [
        "#Test of above problem:\n",
        "print(\"Howl's Moving Castle\")"
      ],
      "metadata": {
        "colab": {
          "base_uri": "https://localhost:8080/"
        },
        "id": "W79287R8GoSn",
        "outputId": "05925ad0-a868-449b-e2e0-14400615079f"
      },
      "execution_count": 15,
      "outputs": [
        {
          "output_type": "stream",
          "name": "stdout",
          "text": [
            "Howl's Moving Castle\n"
          ]
        }
      ]
    },
    {
      "cell_type": "markdown",
      "source": [
        "#5. How do you write a string of newlines if you don&#39;t want to use the n character?\n",
        "\n",
        "Ans: We can use triple quotes instead of n character because according to official Python documentation triple quotes are docstrings, or multi-line docstrings and are not considered comments. Anything inside triple quotes is read by the interpreter. When the interpreter encounters the hash symbol, it ignores everything after that.\n"
      ],
      "metadata": {
        "id": "wNmsetUsIHhA"
      }
    },
    {
      "cell_type": "code",
      "source": [
        "# Example of triple quote in the string\n",
        "my_str = \"\"\"I\n",
        "am\n",
        "Utsav !\"\"\"\n",
        " \n",
        "# check data type of my_str\n",
        "print(type(my_str))\n",
        " \n",
        "print(my_str)"
      ],
      "metadata": {
        "colab": {
          "base_uri": "https://localhost:8080/"
        },
        "id": "EkIuc4_OIFBE",
        "outputId": "0cf8f81a-4103-4ebf-ca8c-f4fb187bd369"
      },
      "execution_count": 17,
      "outputs": [
        {
          "output_type": "stream",
          "name": "stdout",
          "text": [
            "<class 'str'>\n",
            "I\n",
            "am\n",
            "Utsav !\n"
          ]
        }
      ]
    },
    {
      "cell_type": "markdown",
      "source": [
        "#6. What are the values of the given expressions?\n",
        "#&#39;Hello, world!&#39;[1]\n",
        "#&#39;Hello, world!&#39;[0:5]\n",
        "#&#39;Hello, world!&#39;[:5]\n",
        "#&#39;Hello, world!&#39;[3:]\n",
        "\n",
        "Ans : \n",
        "\n",
        "\n",
        "1.   First string slicing will give me 'e'\n",
        "2.   Second string slicing will give me 'Hello'\n",
        "3.   Third string slicing will give me 'Hello'\n",
        "4.   Fourth string slicing will give me 'lo, world!'\n",
        "\n"
      ],
      "metadata": {
        "id": "nKpo9r_rKP5e"
      }
    },
    {
      "cell_type": "code",
      "source": [
        "print('Hello, world!'[1])\n",
        "print('Hello, world!'[0:5])\n",
        "print('Hello, world!'[:5])\n",
        "print('Hello, world!'[3:])"
      ],
      "metadata": {
        "colab": {
          "base_uri": "https://localhost:8080/"
        },
        "id": "Ty1YmSB3IZ-f",
        "outputId": "c43fd6b3-130e-4262-84ee-b28a5b129357"
      },
      "execution_count": 20,
      "outputs": [
        {
          "output_type": "stream",
          "name": "stdout",
          "text": [
            "e\n",
            "Hello\n",
            "Hello\n",
            "lo, world!\n"
          ]
        }
      ]
    },
    {
      "cell_type": "markdown",
      "source": [
        "#7. What are the values of the following expressions?\n",
        "#&#39;Hello&#39;.upper()\n",
        "#&#39;Hello&#39;.upper().isupper()\n",
        "#&#39;Hello&#39;.upper().lower()\n",
        "\n",
        "Ans:\n",
        "\n",
        "1.   First expression will give me \"HELLO\"\n",
        "2.   Second expression will give me True\n",
        "3.   Third expression will give me \"hello\"\n",
        "\n"
      ],
      "metadata": {
        "id": "VAX1aR2SLYoO"
      }
    },
    {
      "cell_type": "code",
      "source": [
        "print('Hello'.upper())\n",
        "print('Hello'.upper().isupper())\n",
        "print('Hello'.upper().lower())"
      ],
      "metadata": {
        "colab": {
          "base_uri": "https://localhost:8080/"
        },
        "id": "0vtDjeE6LBq_",
        "outputId": "687f1446-6566-41f7-bdb6-4ebf564cc41d"
      },
      "execution_count": 21,
      "outputs": [
        {
          "output_type": "stream",
          "name": "stdout",
          "text": [
            "HELLO\n",
            "True\n",
            "hello\n"
          ]
        }
      ]
    },
    {
      "cell_type": "markdown",
      "source": [
        "#8. What are the values of the following expressions?\n",
        "#&#39;Remember, remember, the fifth of July.&#39;.split()\n",
        "#&#39;-&#39;.join(&#39;There can only one.&#39;.split())\n",
        "\n",
        "Ans : \n",
        "\n",
        "1.   By using split() method in first expression, we will get list of elements. In where, each element are the word from the string. In general, split() method is used to convert string into list.\n",
        "2.   By using join() method we can convert the list which is created by split() function to the string again by using the separator in our case dash i.e \"-\". So every element from the list will be join togther with dash.  \n",
        "\n"
      ],
      "metadata": {
        "id": "V3pDTamqMAC6"
      }
    },
    {
      "cell_type": "code",
      "source": [
        "print(\"First Expression: \")\n",
        "print('Remember, remember, the fifth of July.'.split())\n",
        "print(\"Second Expression: \")\n",
        "print('-'.join('There can only one.'.split()))\n"
      ],
      "metadata": {
        "colab": {
          "base_uri": "https://localhost:8080/"
        },
        "id": "Ok0_sOI-L97N",
        "outputId": "426f8e3c-74de-465e-9b6f-b73c7bd7c7fe"
      },
      "execution_count": 28,
      "outputs": [
        {
          "output_type": "stream",
          "name": "stdout",
          "text": [
            "First Expression: \n",
            "['Remember,', 'remember,', 'the', 'fifth', 'of', 'July.']\n",
            "Second Expression: \n",
            "There-can-only-one.\n"
          ]
        }
      ]
    },
    {
      "cell_type": "markdown",
      "source": [
        "#9. What are the methods for right-justifying, left-justifying, and centering a string?\n",
        "\n",
        "Ans: \n",
        "\n",
        "1.   Centering a string: we use center() method.This function center aligns the string according to the width specified and fills remaining space of line with blank space if ‘ fillchr ‘ argument is not passed.\n",
        "\n",
        "\n",
        "        Syntax :\n",
        "        center( len, fillchr )\n",
        "\n",
        "        Parameters :\n",
        "        len : The width of string to expand it.\n",
        "        fillchr (optional): The character to fill in remaining space.\n",
        "\n",
        "        Return Value :\n",
        "        The resultant center aligned string expanding the given width.\n",
        "\n",
        "2.   right-justifying a string: we use rjust() function. This function right aligns the string according to the width specified and fills remaining space of line with blank space if ‘ fillchr ‘ argument is not passed.\n",
        "\n",
        "\n",
        "          Syntax :\n",
        "          rjust( len, fillchr )\n",
        "\n",
        "          Parameters :\n",
        "          len : The width of string to expand it.\n",
        "          fillchr (optional) : The character to fill in remaining space.\n",
        "\n",
        "          Return Value :\n",
        "          The resultant right aligned string expanding the given width.\n",
        "\n",
        "3. left-justifying a string: we use ljust() method. This function left aligns the string according to the width specified and fills remaining space of line with blank space if ‘ fillchr ‘ argument is not passed.\n",
        "\n",
        "\n",
        "          Syntax :\n",
        "          ljust( len, fillchr )\n",
        "\n",
        "          Parameters :\n",
        "          len : The width of string to expand it.\n",
        "          fillchr (optional): The character to fill in remaining space.\n",
        "\n",
        "          Return Value :\n",
        "          The resultant left aligned string expanding the given width."
      ],
      "metadata": {
        "id": "5bMx8TGjPY67"
      }
    },
    {
      "cell_type": "markdown",
      "source": [
        "#10. What is the best way to remove whitespace characters from the start or end?\n",
        "\n",
        "Ans: Use the .strip() method to remove whitespace and characters from the beginning and the end of a string.\n",
        "\n",
        "1.   Use the .lstrip() method to remove whitespace and characters only from the beginning of a string.\n",
        "2.   Use the .rstrip() method to remove whitespace and characters only from the end of a string.\n",
        "\n"
      ],
      "metadata": {
        "id": "l1Dmaz5QSUJi"
      }
    }
  ]
}