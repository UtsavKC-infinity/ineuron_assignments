{
  "nbformat": 4,
  "nbformat_minor": 0,
  "metadata": {
    "colab": {
      "provenance": []
    },
    "kernelspec": {
      "name": "python3",
      "display_name": "Python 3"
    },
    "language_info": {
      "name": "python"
    }
  },
  "cells": [
    {
      "cell_type": "markdown",
      "source": [
        "1. What is the result of the code, and why?\n",
        "&gt;&gt;&gt; def func(a, b=6, c=8):\n",
        "print(a, b, c)\n",
        "&gt;&gt;&gt; func(1, 2)\n",
        "\n",
        "Ans:The function func is defined with three parameters: a, b, and c. The parameter a does not have a default value, so it must be provided with an argument when calling the function. The parameters b and c have default values of 6 and 8, respectively.\n",
        "\n",
        "In the function call func(1, 2), the argument 1 is assigned to the parameter a, and the argument 2 is assigned to the parameter b. Since no argument is provided for the parameter c, it takes its default value of 8.\n",
        "\n",
        "Therefore, when the function is executed, it will print 1 2 8, which represents the values of the parameters a, b, and c, respectively.\n",
        "\n"
      ],
      "metadata": {
        "id": "9Xj6ZYtlGgxx"
      }
    },
    {
      "cell_type": "markdown",
      "source": [
        "2)What is the result of this code, and why?\n",
        "&gt;&gt;&gt; def func(a, b, c=5):\n",
        "print(a, b, c)\n",
        "&gt;&gt;&gt; func(1, c=3, b=2)\n",
        "\n",
        "Ans: The function func is defined with three parameters: a, b, and c. None of the parameters have default values specified in the function definition.\n",
        "\n",
        "In the function call func(1, c=3, b=2), the argument 1 is assigned to the parameter a. The keyword arguments c=3 and b=2 explicitly specify the values for the parameters c and b, respectively.\n",
        "\n",
        "Therefore, when the function is executed, it will print 1 2 3, which represents the values of the parameters a, b, and c, respectively. The order of the keyword arguments doesn't matter in this case because they are explicitly assigned to their corresponding parameters based on the keyword."
      ],
      "metadata": {
        "id": "2LypWXmeGxfN"
      }
    },
    {
      "cell_type": "markdown",
      "source": [
        "3. How about this code: what is its result, and why?\n",
        "&gt;&gt;&gt; def func(a, *pargs):\n",
        "print(a, pargs)\n",
        "&gt;&gt;&gt; func(1, 2, 3)\n",
        "\n",
        "Ans: The function func is defined with a parameter a and *pargs parameter. The asterisk (*) before pargs indicates that it is a variable-length argument list, also known as \"arbitrary arguments\" or \"varargs.\" It allows the function to accept any number of additional positional arguments after the initial a argument.\n",
        "\n",
        "In the function call func(1, 2, 3), the argument 1 is assigned to the parameter a, and the arguments 2 and 3 are captured by the *pargs parameter as a tuple (2, 3).\n",
        "\n",
        "Therefore, when the function is executed, it will print 1 (2, 3), representing the value of a and the tuple pargs, respectively. The asterisk (*) in the function definition unpacks the additional arguments into a tuple, allowing them to be accessed within the function."
      ],
      "metadata": {
        "id": "HWd87asWG20z"
      }
    },
    {
      "cell_type": "markdown",
      "source": [
        "4. What does this code print, and why?\n",
        "&gt;&gt;&gt; def func(a, **kargs):\n",
        "print(a, kargs)\n",
        "&gt;&gt;&gt; func(a=1, c=3, b=2)\n",
        "\n",
        "Ans: The function func is defined with a parameter a and **kargs parameter. The double asterisks (**) before kargs indicate that it is a variable-length keyword argument list, also known as \"arbitrary keyword arguments.\" It allows the function to accept any number of additional keyword arguments after the initial a argument.\n",
        "\n",
        "In the function call func(a=1, c=3, b=2), the keyword argument a=1 is assigned to the parameter a, and the keyword arguments c=3 and b=2 are captured by the **kargs parameter as a dictionary {'c': 3, 'b': 2}.\n",
        "\n",
        "Therefore, when the function is executed, it will print 1 {'c': 3, 'b': 2}, representing the value of a and the dictionary kargs, respectively. The double asterisks (**) in the function definition pack the additional keyword arguments into a dictionary, allowing them to be accessed within the function.\n",
        "\n",
        "\n",
        "\n",
        "\n",
        "\n"
      ],
      "metadata": {
        "id": "MIwZ2celG_aP"
      }
    },
    {
      "cell_type": "markdown",
      "source": [
        "5. What gets printed by this, and explain?\n",
        "&gt;&gt;&gt; def func(a, b, c=8, d=5): print(a, b, c, d)\n",
        "&gt;&gt;&gt; func(1, *(5, 6))\n",
        "\n",
        "Ans: The function func is defined with four parameters: a, b, c, and d. The parameters c and d have default values of 8 and 5, respectively.\n",
        "\n",
        "In the function call func(1, *(5, 6)), the argument 1 is assigned to the parameter a. The asterisk (*) before (5, 6) is used to unpack the tuple (5, 6) into separate positional arguments. So, the value 5 is assigned to the parameter b, and the value 6 is assigned to the parameter c (since c comes after b in the function definition).\n",
        "\n",
        "Since no argument is provided for the parameter d, it takes its default value of 5.\n",
        "\n",
        "Therefore, when the function is executed, it will print 1 5 6 5, which represents the values of the parameters a, b, c, and d, respectively\n",
        "\n"
      ],
      "metadata": {
        "id": "SbpDu1KtHII7"
      }
    },
    {
      "cell_type": "markdown",
      "source": [
        "6. what is the result of this, and explain?\n",
        "&gt;&gt;&gt; def func(a, b, c): a = 2; b[0] = &#39;x&#39;; c[&#39;a&#39;] = &#39;y&#39;\n",
        "&gt;&gt;&gt; l=1; m=[1]; n={&#39;a&#39;:0}\n",
        "&gt;&gt;&gt; func(l, m, n)\n",
        "\n",
        "&gt;&gt;&gt; l, m, n\n",
        "\n",
        "Ans: In the code snippet provided, the function func takes three parameters: a, b, and c. Within the function, the values of a, b, and c are modified.\n",
        "\n",
        "The variable l is assigned the value 1, m is assigned a list containing the value 1, and n is assigned a dictionary with the key 'a' and the value 0.\n",
        "\n",
        "When the function is called with func(l, m, n), the following modifications take place within the function:\n",
        "\n",
        "a is assigned the value 2, but this modification does not affect the variable l outside the function.\n",
        "b[0] is assigned the value 'x'. Since m is a mutable object (a list), this modification changes the first element of m to 'x'.\n",
        "c['a'] is assigned the value 'y'. Since n is also a mutable object (a dictionary), this modification changes the value associated with the key 'a' in n to 'y'.\n",
        "After the function call, when we print the values of l, m, and n, we observe the following:\n",
        "\n",
        "The value of l remains unchanged and remains 1.\n",
        "The list m has been modified within the function, changing its first element to 'x'.\n",
        "The dictionary n has also been modified within the function, changing the value associated with the key 'a' to 'y'.\n",
        "\n",
        "\n",
        "\n",
        "\n"
      ],
      "metadata": {
        "id": "RY_n_cL1HW04"
      }
    },
    {
      "cell_type": "code",
      "execution_count": null,
      "metadata": {
        "id": "_XqKIQVYGVAd"
      },
      "outputs": [],
      "source": []
    }
  ]
}