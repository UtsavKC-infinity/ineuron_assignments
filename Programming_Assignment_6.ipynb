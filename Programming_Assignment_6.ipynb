{
  "nbformat": 4,
  "nbformat_minor": 0,
  "metadata": {
    "colab": {
      "provenance": []
    },
    "kernelspec": {
      "name": "python3",
      "display_name": "Python 3"
    },
    "language_info": {
      "name": "python"
    }
  },
  "cells": [
    {
      "cell_type": "markdown",
      "source": [
        "#1. Write a Python Program to Display Fibonacci Sequence Using Recursion?"
      ],
      "metadata": {
        "id": "XLNsBJbrWSCv"
      }
    },
    {
      "cell_type": "code",
      "source": [
        "def fiboRecur(n : int):\n",
        "  fibo_sequence = 0\n",
        "  if n == 0 or n == 1:\n",
        "    fibo_sequence = n\n",
        "  else:\n",
        "    fibo_sequence = fiboRecur(n-1) + fiboRecur(n-2)\n",
        "  return fibo_sequence\n",
        "user_input_number = int(input(\"Enter the number : \"))\n",
        "print(f\"fibionacci sequence of {user_input_number} is {fiboRecur(user_input_number)}\")\n"
      ],
      "metadata": {
        "id": "X3CMl2GVXVw3",
        "colab": {
          "base_uri": "https://localhost:8080/"
        },
        "outputId": "b6ee9eed-502c-4f10-e57f-1974298130d6"
      },
      "execution_count": null,
      "outputs": [
        {
          "output_type": "stream",
          "name": "stdout",
          "text": [
            "Enter the number : 10\n",
            "fibionacci sequence of 10 is 55\n"
          ]
        }
      ]
    },
    {
      "cell_type": "markdown",
      "source": [
        "#2. Write a Python Program to Find Factorial of Number Using Recursion?"
      ],
      "metadata": {
        "id": "85JNuuK6lhCC"
      }
    },
    {
      "cell_type": "code",
      "execution_count": null,
      "metadata": {
        "id": "4hvKy7h5WCV4"
      },
      "outputs": [],
      "source": [
        "def factorial(n  : int):\n",
        "  \"\"\"From this method we will get factorial  of a number \"\"\"\n",
        "  if (n == 0 or n==1):\n",
        "    return 1\n",
        "  else:\n",
        "    return n * factorial(n-1)"
      ]
    },
    {
      "cell_type": "code",
      "source": [
        "num = int(input(\"Enter the number : \"))\n",
        "print(f\"factorial of a {num} is {factorial(num)}\")"
      ],
      "metadata": {
        "colab": {
          "base_uri": "https://localhost:8080/"
        },
        "id": "vaQvrfBvWeqM",
        "outputId": "c71c50bf-09c9-41dd-c267-ab3402f7a86b"
      },
      "execution_count": null,
      "outputs": [
        {
          "output_type": "stream",
          "name": "stdout",
          "text": [
            "Enter the number : 12\n",
            "factorial of a 12 is 479001600\n"
          ]
        }
      ]
    },
    {
      "cell_type": "markdown",
      "source": [
        "#3. Write a Python Program to calculate your Body Mass Index?"
      ],
      "metadata": {
        "id": "5NB6bVGEmV-z"
      }
    },
    {
      "cell_type": "code",
      "source": [
        "def BMI(weight : float , height : float):\n",
        "  bmi = weight/(height**2)\n",
        "  result = \" \"\n",
        "  if  bmi > 30.5:\n",
        "    result = \"Obesity\"\n",
        "  elif 25.0<=bmi<=29.9:\n",
        "    result = \"Overweight\"\n",
        "  elif 18.5<=bmi<=24.9:\n",
        "    result = \"Healthy weight\"\n",
        "  else:\n",
        "    result = \"Under weight\"\n",
        "  return f\"{round(bmi,2)} so he/she is {result}\" \n",
        "\n",
        "weight = float(input(\"Enter the weight : \"))\n",
        "height = float(input(\"Enter the height : \"))\n",
        "print(f\"The body mass index of a person having {weight} kg and {height} m is {BMI(weight , height)}\")\n",
        "    \n"
      ],
      "metadata": {
        "id": "MCY16_AHWopn",
        "colab": {
          "base_uri": "https://localhost:8080/"
        },
        "outputId": "89f7dafa-b851-4c8d-d7c9-8ecf783f798e"
      },
      "execution_count": null,
      "outputs": [
        {
          "output_type": "stream",
          "name": "stdout",
          "text": [
            "Enter the weight : 55\n",
            "Enter the height : 5.5\n",
            "The body mass index of a person having 55.0 kg and 5.5 m is 1.82 so he/she is Under weight\n"
          ]
        }
      ]
    },
    {
      "cell_type": "markdown",
      "source": [
        "#4. Write a Python Program to calculate the natural logarithm of any number?"
      ],
      "metadata": {
        "id": "vG6wVxh5pevL"
      }
    },
    {
      "cell_type": "code",
      "source": [
        "import numpy\n",
        "num = float(input(\"Enter the number : \"))\n",
        "print(f\"The natural log of {num} is {round(numpy.log(num),2)}\")"
      ],
      "metadata": {
        "colab": {
          "base_uri": "https://localhost:8080/"
        },
        "id": "sbw7QJU2o91e",
        "outputId": "3ec71277-8a0f-4486-c108-45dd3e135a27"
      },
      "execution_count": null,
      "outputs": [
        {
          "output_type": "stream",
          "name": "stdout",
          "text": [
            "Enter the number : 12\n",
            "The natural log of 12.0 is 2.48\n"
          ]
        }
      ]
    },
    {
      "cell_type": "markdown",
      "source": [
        "#5. Write a Python Program for cube sum of first n natural numbers?"
      ],
      "metadata": {
        "id": "4EbxlQaSrmSV"
      }
    },
    {
      "cell_type": "code",
      "source": [
        "import functools\n",
        "\n",
        "num = int(input(\"Enter the  number : \"))\n",
        "list_num = [i for i in range(1,num+1) ]\n",
        "qube_sum = functools.reduce(lambda a,b : a + b**3 ,list_num)\n",
        "print(f\"The qube sum of {num} is {qube_sum}\")"
      ],
      "metadata": {
        "colab": {
          "base_uri": "https://localhost:8080/"
        },
        "id": "EKP8FygQp_Bm",
        "outputId": "645032cc-ecd9-453c-ecf0-9d568691c14e"
      },
      "execution_count": 79,
      "outputs": [
        {
          "output_type": "stream",
          "name": "stdout",
          "text": [
            "Enter the  number : 100\n",
            "The qube sum of 100 is 25502500\n"
          ]
        }
      ]
    }
  ]
}