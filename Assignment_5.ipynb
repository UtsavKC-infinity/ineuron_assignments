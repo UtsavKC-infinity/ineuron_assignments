{
  "nbformat": 4,
  "nbformat_minor": 0,
  "metadata": {
    "colab": {
      "provenance": []
    },
    "kernelspec": {
      "name": "python3",
      "display_name": "Python 3"
    },
    "language_info": {
      "name": "python"
    }
  },
  "cells": [
    {
      "cell_type": "markdown",
      "source": [
        "#1. What does an empty dictionary&#39;s code look like?\n",
        "\n",
        "Ans: An empty dictionary in Python is created using curly braces {} or the built-in dict() function with no arguments. Here are a few examples of how you can create an empty dictionary in Python:\n",
        "\n",
        "          # Using curly braces\n",
        "          empty_dict = {}\n",
        "\n",
        "          # Using the dict() function\n",
        "          empty_dict = dict()\n",
        "\n",
        "          #You can also create an empty dictionary using the dict constructor, by passing no arguments to it\n",
        "\n",
        "          empty_dict = dict()\n",
        "\n",
        "\n",
        "In all the above examples, empty_dict is an empty dictionary, with no key-value pairs, ready to store new items.\n"
      ],
      "metadata": {
        "id": "gotOcjyw5Ais"
      }
    },
    {
      "cell_type": "markdown",
      "source": [
        "#2. What is the value of a dictionary value with the key &#39;foo&#39; and the value 42?\n",
        "\n",
        "Ans: If you have a dictionary with key 'foo' and value 42, you can access the value by using the key in square brackets, like this:\n",
        "\n",
        "          my_dict = {'foo': 42}\n",
        "          value = my_dict['foo']\n",
        "          print(value) # 42\n",
        "\n",
        "Here, the value of my_dict['foo'] is 42, it's an integer.\n",
        "\n",
        "It's also possible to use the .get() method on the dictionary to access the value, it returns the value of the key if it exists in the dictionary and returns None if the key is not found.\n",
        "\n",
        "          value = my_dict.get('foo')\n",
        "          print(value) # 42\n",
        "\n",
        "It's important to note that if you try to access a key that doesn't exist in the dictionary, it would raise a KeyError exception. To avoid this, you can use the .get() method, which allows you to specify a default value to return if the key is not found.\n"
      ],
      "metadata": {
        "id": "r1vqMwAP5tKo"
      }
    },
    {
      "cell_type": "markdown",
      "source": [
        "#3. What is the most significant distinction between a dictionary and a list?\n",
        "\n",
        "Ans: The most significant distinction between a dictionary and a list in Python is that a dictionary uses keys to access its elements, while a list uses indexes.\n",
        "\n",
        "A dictionary is an unordered collection of key-value pairs, where each key is unique and is used to access the corresponding value. The keys in a dictionary can be of any immutable type (strings, numbers, etc.) and values can be of any type. Dictionaries are also known as associative arrays or hash maps.\n",
        "\n",
        "A list, on the other hand, is an ordered collection of elements, where each element can be of any type. Elements in a list are accessed by their index, which is an integer value starting from 0. Lists are also known as arrays.\n",
        "\n",
        "So, the main difference is that, in a dictionary, the elements are accessed by keys, and in a list, the elements are accessed by their index position.\n",
        "\n",
        "Additionally, Lists are ordered and allow duplicate values, while dictionaries are unordered and keys have to be unique."
      ],
      "metadata": {
        "id": "dtTkJRlp6gH2"
      }
    },
    {
      "cell_type": "markdown",
      "source": [
        "#4. What happens if you try to access spam[&#39;foo&#39;] if spam is {&#39;bar&#39;: 100}?\n",
        "\n",
        "Ans: If you try to access the value of key 'foo' in a dictionary spam that has the key-value pair {'bar': 100}, it will raise a KeyError exception, because the key 'foo' does not exist in the dictionary."
      ],
      "metadata": {
        "id": "J89zqNvU7NA0"
      }
    },
    {
      "cell_type": "markdown",
      "source": [
        "#5. If a dictionary is stored in spam, what is the difference between the expressions &#39;cat&#39; in spam and &#39;cat&#39; in spam.keys()?\n",
        "\n",
        "Ans:The expression 'cat' in spam checks if the key 'cat' is present in the dictionary spam. If the key is present, it will return True, otherwise, it will return False.\n",
        "\n",
        "The expression 'cat' in spam.keys() also checks if the key 'cat' is present in the dictionary spam, but it does it by checking the keys of the dictionary. The keys() method returns a view object that displays a list of all the keys in the dictionary. In this case, 'cat' in spam.keys() will also return True if the key 'cat' exists in the dictionary, otherwise it will return False.\n",
        "\n",
        "The main difference is that the first expression 'cat' in spam is a more concise way of checking if a key exists in a dictionary, while the second expression 'cat' in spam.keys() returns the same result but it's more explicit and it shows the intent of the code.\n",
        "\n",
        "Additionally, when using the first expression, if the key you are looking for is not present in the dictionary, the interpreter will check all the keys in the dictionary, while when using the second expression, the interpreter will check only in the keys view object which is less expensive in terms of performance.\n",
        "\n",
        "\n",
        "\n"
      ],
      "metadata": {
        "id": "Y_kXVmVS76M9"
      }
    },
    {
      "cell_type": "markdown",
      "source": [
        "#6. If a dictionary is stored in spam, what is the difference between the expressions &#39;cat&#39; in spam and &#39;cat&#39; in spam.values()?\n",
        "\n",
        "Ans:The expression 'cat' in spam checks if the key 'cat' is present in the dictionary spam. If the key is present, it will return True, otherwise, it will return False.\n",
        "\n",
        "The expression 'cat' in spam.values() checks if the value 'cat' is present in the dictionary spam, by checking the values of the dictionary. The values() method returns a view object that displays a list of all the values in the dictionary. In this case, 'cat' in spam.values() will return True if the value 'cat' exists in the dictionary, otherwise it will return False.\n",
        "\n",
        "The main difference is that the first expression 'cat' in spam is checking for the presence of a key, while the second expression 'cat' in spam.values() is checking for the presence of a value in the values view object.\n",
        "\n",
        "It's important to note that in the first expression, 'cat' is being used as a key, and in the second expression, 'cat' is being used as a value.\n",
        "\n",
        "Additionally, when using the first expression, the interpreter will check all the keys in the dictionary, while when using the second expression, the interpreter will check only in the values view object which is less expensive in terms of performance.\n",
        "\n",
        "\n",
        "\n",
        "\n"
      ],
      "metadata": {
        "id": "oc6nDnbS82M3"
      }
    },
    {
      "cell_type": "markdown",
      "source": [
        "#7. What is a shortcut for the following code?\n",
        "if &#39;color&#39; not in spam:\n",
        "spam[&#39;color&#39;] = &#39;black&#39;\n",
        "\n",
        "Ans : A shortcut for the following code is using the dict.setdefault() method:\n",
        "\n",
        "      spam.setdefault('color', 'black')\n",
        "\n",
        "dict.setdefault(key, default=None) method is used to set a value for a key if it is not already in the dictionary. It works similar to the following code:\n",
        "\n",
        "      if key not in dictionary:\n",
        "          dictionary[key] = default\n",
        "\n",
        "In this case, it sets the value 'black' for the key 'color' if the key is not already in the dictionary 'spam'\n",
        "\n",
        "The setdefault() method first checks if the key is in the dictionary, if it is not present then it will insert key with a value to the dictionary and return the value, in this case, 'black' and if the key is already present, it will return the key's value without changing the dictionary.\n",
        "It's a more concise way of writing the code, and it's more efficient than using an if statement and checking the key's presence in the dictionary.\n",
        "\n",
        "\n"
      ],
      "metadata": {
        "id": "ERcMh4ZH9bK7"
      }
    },
    {
      "cell_type": "markdown",
      "source": [
        "#8. How do you &quot;pretty print&quot; dictionary values using which module and function?\n",
        "\n",
        "Ans:In Python, you can use the pprint module and the pprint.pprint() function to \"pretty print\" dictionary values.\n",
        "\n",
        "The pprint module provides a pprint() function that can be used to print data structures in a more human-readable format. The pprint() function takes a single argument, which is the data structure to be printed. It also provides a pprint.pprint() function which is similar to the built-in print() function, but it pretty-prints the data structure.\n",
        "\n",
        "Here is an example of how you can use the pprint.pprint() function to pretty-print the values of a dictionary:\n",
        "\n",
        "\n",
        "            import pprint\n",
        "\n",
        "            spam = {'name': 'Zophie', 'species': 'cat', 'age': 7}\n",
        "            pprint.pprint(spam)\n",
        "            \n",
        "This will output the contents of the spam dictionary in a more human-readable format, with each key-value pair on a new line and indented according to its level in the nested data structure.\n",
        "\n",
        "It's important to note that the pprint will only format the output and make it more readable it will not change the original data structure of the dictionary.\n",
        "\n",
        "\n",
        "\n",
        "\n",
        "\n"
      ],
      "metadata": {
        "id": "YyffoyrX-qRI"
      }
    },
    {
      "cell_type": "code",
      "source": [
        "import pprint\n",
        "\n",
        "spam = {'name': 'Zophie', 'species': 'cat', 'age': 7}\n",
        "pprint.pprint(spam)"
      ],
      "metadata": {
        "colab": {
          "base_uri": "https://localhost:8080/"
        },
        "id": "6cnGOL929xsI",
        "outputId": "faf68fbf-bd5b-4686-ffa4-429a43552715"
      },
      "execution_count": 9,
      "outputs": [
        {
          "output_type": "stream",
          "name": "stdout",
          "text": [
            "{'age': 7, 'name': 'Zophie', 'species': 'cat'}\n"
          ]
        }
      ]
    }
  ]
}