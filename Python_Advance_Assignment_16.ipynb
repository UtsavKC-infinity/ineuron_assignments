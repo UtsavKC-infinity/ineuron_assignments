{
  "nbformat": 4,
  "nbformat_minor": 0,
  "metadata": {
    "colab": {
      "provenance": []
    },
    "kernelspec": {
      "name": "python3",
      "display_name": "Python 3"
    },
    "language_info": {
      "name": "python"
    }
  },
  "cells": [
    {
      "cell_type": "markdown",
      "source": [
        "Q1. What is the benefit of regular expressions?\n",
        "\n",
        "Ans: Regular expressions offer a powerful and flexible approach to text processing and manipulation tasks, providing developers with a versatile tool for working with textual data in a wide range of applications and scenarios."
      ],
      "metadata": {
        "id": "pie0B5snh9ou"
      }
    },
    {
      "cell_type": "markdown",
      "source": [
        "Q2. Describe the difference between the effects of &quot;(ab)c+&quot; and &quot;a(bc)+.&quot; Which of these, if any, is the\n",
        "unqualified pattern &quot;abc+&quot;?\n",
        "\n",
        "Ans: The difference is :\n",
        "1. \"(ab)c+\" matches strings starting with \"ab\" followed by one or more occurrences of \"c\".\n",
        "2. \"a(bc)+\" matches strings starting with \"a\" followed by one or more occurrences of \"bc\".\n",
        "3. \"abc+\" generally matches strings starting with \"a\" followed by one or more occurrences of \"b\", followed by one occurrence of \"c\"."
      ],
      "metadata": {
        "id": "ukhiYhzRiH06"
      }
    },
    {
      "cell_type": "markdown",
      "source": [
        "Q3. How much do you need to use the following sentence while using regular expressions?\n",
        "\n",
        "import re\n",
        "\n",
        "  Ans:\n",
        "  In Python, the import re statement is used to import the built-in re module, which provides support for working with regular expressions. Once the re module is imported, you can use its functions and classes to perform various operations related to pattern matching, search, substitution, and more using regular expressions.\n",
        "\n",
        "  To use these functionalities and perform regular expression operations in Python, you need to import the re module at the beginning of your script or in your interactive session using the import re statement."
      ],
      "metadata": {
        "id": "U6ORJ_Miifq3"
      }
    },
    {
      "cell_type": "markdown",
      "source": [
        "Q4. Which characters have special significance in square brackets when expressing a range, and\n",
        "under what circumstances?\n",
        "\n",
        "Ans:\n",
        "In a regular expression pattern, square brackets [] are used to specify a character class, which defines a set of characters to match at a single position in the input string. Within square brackets, certain characters have special significance, especially when expressing a range of characters. These special characters are:\n",
        "\n",
        "1. Hyphen (-): The hyphen - is used to specify a range of characters within square brackets. It indicates a range of characters from one character to another in ASCII order.\n",
        "\n",
        "2. Caret (^): When the caret ^ is used as the first character inside square brackets, it negates the character class. It indicates that the character class should match any character except those specified within the square brackets\n",
        "\n",
        "3. Backslash (): The backslash \\ is used for escaping special characters within square brackets. If you want to include a special character like hyphen or caret as a literal character within the character class, you need to escape it with a backslash\n",
        "\n",
        "4. Closing Square Bracket ( ] ): The closing square bracket ] has special significance when it is not the first character inside the square brackets. If you want to include a literal closing square bracket ] in the character class, it should be placed immediately after the opening square bracket [. Otherwise, it is interpreted as the end of the character class.\n",
        "\n",
        "These characters have special significance within square brackets when expressing a range or defining a character class in a regular expression pattern. It's important to understand their meanings and use them correctly to construct accurate and effective regular expressions.\n"
      ],
      "metadata": {
        "id": "qlPfrdEBi2ws"
      }
    },
    {
      "cell_type": "markdown",
      "source": [
        "Q5. How does compiling a regular-expression object benefit you?\n",
        "\n",
        "Ans:  Compiling a regular expression pattern into a regular expression object provides performance benefits, improves code readability, enables precompiled error checking, offers optimization opportunities, and enhances portability and reusability of regular expressions in Python code."
      ],
      "metadata": {
        "id": "hfFq9gaOjWYG"
      }
    },
    {
      "cell_type": "markdown",
      "source": [
        "Q6. What are some examples of how to use the match object returned by re.match and re.search?\n",
        "\n",
        "Ans: The re.match() and re.search() functions in Python's re module return match objects when a pattern is found in the input string. These match objects contain information about the match, including the matched string, the location of the match, and any captured groups. Here are some examples of how to use the match object returned by re.match() and re.search():\n",
        "\n",
        "1. Accessing Matched String:\n",
        "\n",
        "  Use the group() method of the match object to retrieve the entire matched string."
      ],
      "metadata": {
        "id": "WRU4hF77jig8"
      }
    },
    {
      "cell_type": "code",
      "execution_count": 2,
      "metadata": {
        "colab": {
          "base_uri": "https://localhost:8080/"
        },
        "id": "cM_wYOHuh88y",
        "outputId": "8df71b5c-20a8-4305-e018-2bb12f347848"
      },
      "outputs": [
        {
          "output_type": "stream",
          "name": "stdout",
          "text": [
            "apple\n"
          ]
        }
      ],
      "source": [
        "import re\n",
        "\n",
        "pattern = r'apple'\n",
        "text = 'I like apples and oranges.'\n",
        "match = re.search(pattern, text)\n",
        "if match:\n",
        "\n",
        "    print(match.group())"
      ]
    },
    {
      "cell_type": "markdown",
      "source": [
        "2. Accessing Matched Groups:\n",
        "\n",
        "  Use the group() method with an argument to access captured groups within the pattern."
      ],
      "metadata": {
        "id": "_0WLfhq4j4gp"
      }
    },
    {
      "cell_type": "code",
      "source": [
        "pattern = r'(\\d{2})-(\\d{2})-(\\d{4})'\n",
        "text = 'Date: 28-02-2022'\n",
        "match = re.search(pattern, text)\n",
        "if match:\n",
        "    print(match.group(1))\n",
        "    print(match.group(2))\n",
        "    print(match.group(3))\n"
      ],
      "metadata": {
        "colab": {
          "base_uri": "https://localhost:8080/"
        },
        "id": "MlImnMXtj3N9",
        "outputId": "12614c0f-887b-4a0a-8670-7e093d1fefcf"
      },
      "execution_count": 3,
      "outputs": [
        {
          "output_type": "stream",
          "name": "stdout",
          "text": [
            "28\n",
            "02\n",
            "2022\n"
          ]
        }
      ]
    },
    {
      "cell_type": "markdown",
      "source": [
        "Q7. What is the difference between using a vertical bar ( | ) as an alteration and using square brackets\n",
        "as a character set?\n",
        "\n",
        "Ans:  The main difference between using a vertical bar ( | ) as an alternation and using square brackets ([ ]) as a character set is that alternation matches one of several alternatives, while a character set matches any single character from a specified set of characters. The choice between using alternation and character sets depends on the specific requirements of the regular expression pattern you are defining."
      ],
      "metadata": {
        "id": "7he8gOBxkISX"
      }
    },
    {
      "cell_type": "markdown",
      "source": [
        "Q8. In regular-expression search patterns, why is it necessary to use the raw-string indicator (r)? In replacement strings?\n",
        "\n",
        "Ans: In regular expression search patterns, using the raw-string indicator (r) is not strictly necessary, but it is often recommended to avoid unintended interpretation of backslashes (\\) as escape sequences by the Python interpreter.\n",
        "\n",
        "When you use a raw string (prefixed with r) to define a regular expression pattern, Python treats backslashes (\\) as literal characters rather than escape characters. This is important because regular expressions often contain backslashes to escape special characters such as parentheses, brackets, or the backslash itself.\n",
        "\n",
        "Using raw strings (r) in regular expression search patterns and replacement strings helps ensure that backslashes are interpreted as literal characters, avoiding unintended interpretation or escaping by the Python interpreter. While not strictly necessary, it's a good practice to use raw strings to avoid potential issues with escaping."
      ],
      "metadata": {
        "id": "t2vC1rpVkVAt"
      }
    },
    {
      "cell_type": "code",
      "source": [],
      "metadata": {
        "id": "E_L3zEDekF7s"
      },
      "execution_count": null,
      "outputs": []
    }
  ]
}