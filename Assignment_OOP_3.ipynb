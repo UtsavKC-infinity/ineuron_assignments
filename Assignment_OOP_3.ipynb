{
  "nbformat": 4,
  "nbformat_minor": 0,
  "metadata": {
    "colab": {
      "provenance": []
    },
    "kernelspec": {
      "name": "python3",
      "display_name": "Python 3"
    },
    "language_info": {
      "name": "python"
    }
  },
  "cells": [
    {
      "cell_type": "markdown",
      "source": [
        "1. What is the concept of an abstract superclass?\n",
        "\n",
        "Ans: The concept of an abstract superclass refers to a class that is designed to be inherited by other classes but cannot be instantiated on its own. An abstract superclass serves as a blueprint or template for its subclasses, providing common attributes and methods that can be shared among multiple related classes."
      ],
      "metadata": {
        "id": "7alE5lY3ijgt"
      }
    },
    {
      "cell_type": "markdown",
      "source": [
        "2. What happens when a class statement&#39;s top level contains a basic assignment statement?\n",
        "\n",
        "Ans:  when a basic assignment statement is present at the top level of a class statement, it creates a class-level attribute that is accessible through both the class itself and instances of the class."
      ],
      "metadata": {
        "id": "-NdBYsA5itDt"
      }
    },
    {
      "cell_type": "markdown",
      "source": [
        "3. Why does a class need to manually call a superclass&#39;s _ __init _ __ method?\n",
        "\n",
        "Ans: \n",
        "​_ __init_ __ method when it wants to invoke the initialization code defined in the superclass. This ensures that the superclass's initialization logic is executed before the subclass-specific initialization code.\n",
        "\n",
        "When a subclass is created, it can inherit attributes and behavior from its superclass using inheritance. However, the subclass's _ __init__ _ method does not automatically call the superclass's __ _init__ _ method unless explicitly specified. It is the responsibility of the subclass to invoke the superclass's __ _init__ _ method explicitly if it wants to initialize the inherited attributes or perform any additional initialization steps defined in the superclass.\n",
        "\n",
        "By calling the superclass's __ _init__ _ method, the subclass ensures that the superclass's initialization code is executed, which may involve setting up necessary attributes, performing validations, or executing other logic specific to the superclass. This allows the subclass to leverage the initialization logic defined in the superclass and build upon it."
      ],
      "metadata": {
        "id": "1Nht58LTi82B"
      }
    },
    {
      "cell_type": "markdown",
      "source": [
        "4. How can you augment, instead of completely replacing, an inherited method?\n",
        "\n",
        "Ans: Here's an example to demonstrate how to augment an inherited method:"
      ],
      "metadata": {
        "id": "NLE7QWoSjvlG"
      }
    },
    {
      "cell_type": "code",
      "execution_count": 1,
      "metadata": {
        "colab": {
          "base_uri": "https://localhost:8080/"
        },
        "id": "8I2lBH6kiQXe",
        "outputId": "bfc42b2a-85a3-4276-b7de-272b42f68d74"
      },
      "outputs": [
        {
          "output_type": "stream",
          "name": "stdout",
          "text": [
            "Vehicle starting...\n",
            "Car starting...\n"
          ]
        }
      ],
      "source": [
        "class Vehicle:\n",
        "    def start(self):\n",
        "        print(\"Vehicle starting...\")\n",
        "\n",
        "class Car(Vehicle):\n",
        "    def start(self):\n",
        "        super().start()  # Calling the superclass's method\n",
        "        print(\"Car starting...\")\n",
        "\n",
        "my_car = Car()\n",
        "my_car.start()\n"
      ]
    },
    {
      "cell_type": "markdown",
      "source": [
        "InVehicleand `Car.Vehicleclassstart method, and the Car class is a subclass of Vehicle.\n",
        "\n",
        "InCarclassstartmethodsuper().start()isstartmethodVehicle).\n",
        "\n",
        "After calling super().start(),Car class is added. In this case, it prints \"Car starting...\" to augment the behavior of the inherited method.\n",
        "\n",
        "Whenmy_car.start()isstart method from the Vehicleclasssuper().start()),start method of the Car class, printing \"Car starting...\". The end result is an augmented behavior that combines both the superclass's functionality and the subclass's additional functionality.\n",
        "\n",
        "By following this approach, you can extend the functionality of an inherited method while preserving and leveraging the existing behavior defined in the superclass.\n"
      ],
      "metadata": {
        "id": "QhW5XQzpkEIe"
      }
    },
    {
      "cell_type": "markdown",
      "source": [
        "5. How is the local scope of a class different from that of a function?\n",
        "\n",
        "ans: the local scope of a class and a function serve different purposes within the context of their respective definitions. The class local scope focuses on encapsulating attributes and behavior within a class, while the function local scope focuses on encapsulating variables and logic within a specific function."
      ],
      "metadata": {
        "id": "b6iA4WlIkIae"
      }
    },
    {
      "cell_type": "code",
      "source": [],
      "metadata": {
        "id": "9hEOte42kAWx"
      },
      "execution_count": null,
      "outputs": []
    }
  ]
}