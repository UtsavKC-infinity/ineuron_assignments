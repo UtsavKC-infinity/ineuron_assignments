{
  "nbformat": 4,
  "nbformat_minor": 0,
  "metadata": {
    "colab": {
      "provenance": []
    },
    "kernelspec": {
      "name": "python3",
      "display_name": "Python 3"
    },
    "language_info": {
      "name": "python"
    }
  },
  "cells": [
    {
      "cell_type": "markdown",
      "source": [
        "1. Make a class called Thing with no contents and print it. Then, create an object called example\n",
        "from this class and also print it. Are the printed values the same or different?\n",
        "\n",
        "Ans: When you create a class called Thing with no contents and print it, the output will show the class name and its memory address. Here's an example:"
      ],
      "metadata": {
        "id": "iZTL8_QK9KQJ"
      }
    },
    {
      "cell_type": "code",
      "execution_count": 1,
      "metadata": {
        "colab": {
          "base_uri": "https://localhost:8080/"
        },
        "id": "mrsrGJug9Jhz",
        "outputId": "ebd269ab-570c-4104-f3a2-cc17530597e3"
      },
      "outputs": [
        {
          "output_type": "stream",
          "name": "stdout",
          "text": [
            "<class '__main__.Thing'>\n",
            "<__main__.Thing object at 0x7f9ce66229e0>\n"
          ]
        }
      ],
      "source": [
        "class Thing:\n",
        "    pass\n",
        "\n",
        "print(Thing)\n",
        "example = Thing()\n",
        "print(example)\n"
      ]
    },
    {
      "cell_type": "markdown",
      "source": [
        "2. Create a new class called Thing2 and add the value &#39;abc&#39; to the letters class attribute. Letters\n",
        "should be printed.\n",
        "\n",
        "Ans: \n",
        "To create a new class called Thing2 and add the value 'abc' to the letters class attribute, you can define the class as follows:\n",
        "\n"
      ],
      "metadata": {
        "id": "Rk7zOaNz9Z7W"
      }
    },
    {
      "cell_type": "code",
      "source": [
        "class Thing2:\n",
        "    letters = 'abc'\n",
        "\n",
        "print(Thing2.letters)\n"
      ],
      "metadata": {
        "colab": {
          "base_uri": "https://localhost:8080/"
        },
        "id": "RIpRvHzP9VTp",
        "outputId": "45d5aec3-820c-40e7-c6be-253604cd770f"
      },
      "execution_count": 2,
      "outputs": [
        {
          "output_type": "stream",
          "name": "stdout",
          "text": [
            "abc\n"
          ]
        }
      ]
    },
    {
      "cell_type": "markdown",
      "source": [
        "3. Make yet another class called, of course, Thing3. This time, assign the value &#39;xyz&#39; to an instance\n",
        "(object) attribute called letters. Print letters. Do you need to make an object from the class to do\n",
        "this?\n",
        "\n",
        "Ans: \n",
        "To create the class Thing3 and assign the value 'xyz' to an instance attribute called letters, you can define the class as follows:"
      ],
      "metadata": {
        "id": "-Oa2wSFM9kq9"
      }
    },
    {
      "cell_type": "code",
      "source": [
        "class Thing3:\n",
        "    def __init__(self):\n",
        "        self.letters = 'xyz'\n",
        "\n",
        "# Create an object of the Thing3 class\n",
        "obj = Thing3()\n",
        "\n",
        "# Print the letters attribute of the object\n",
        "print(obj.letters)\n"
      ],
      "metadata": {
        "colab": {
          "base_uri": "https://localhost:8080/"
        },
        "id": "hltEwmbR9fgL",
        "outputId": "75e7e658-1550-40fc-f7fb-2241a3c40f55"
      },
      "execution_count": 3,
      "outputs": [
        {
          "output_type": "stream",
          "name": "stdout",
          "text": [
            "xyz\n"
          ]
        }
      ]
    },
    {
      "cell_type": "markdown",
      "source": [
        "Yeah, we  need to create an object of the Thing3 class (obj = Thing3()) in order to access and print the letters attribute. Each instance of a class has its own set of attributes, and you can access them through the object of that class."
      ],
      "metadata": {
        "id": "nAWhllb19t7e"
      }
    },
    {
      "cell_type": "markdown",
      "source": [
        "4. Create an Element class with the instance attributes name, symbol, and number. Create a class\n",
        "object with the values &#39;Hydrogen,&#39; &#39;H,&#39; and 1.\n",
        "\n",
        "Ans: \n",
        "To create the Element class with the instance attributes name, symbol, and number, and then create a class object with the values 'Hydrogen', 'H', and 1, you can use the following code:"
      ],
      "metadata": {
        "id": "VVbipAcE90c9"
      }
    },
    {
      "cell_type": "code",
      "source": [
        "class Element:\n",
        "    def __init__(self, name, symbol, number):\n",
        "        self.name = name\n",
        "        self.symbol = symbol\n",
        "        self.number = number\n",
        "\n",
        "# Create an object of the Element class with the specified values\n",
        "element = Element('Hydrogen', 'H', 1)\n",
        "print(element.name)  \n",
        "print(element.symbol) \n",
        "print(element.number)  \n"
      ],
      "metadata": {
        "colab": {
          "base_uri": "https://localhost:8080/"
        },
        "id": "RpYgourk9ozV",
        "outputId": "3a3897d4-7711-4c74-ee47-66bf4e228366"
      },
      "execution_count": 5,
      "outputs": [
        {
          "output_type": "stream",
          "name": "stdout",
          "text": [
            "Hydrogen\n",
            "H\n",
            "1\n"
          ]
        }
      ]
    },
    {
      "cell_type": "markdown",
      "source": [
        "5. Make a dictionary with these keys and values: &#39;name&#39;: &#39;Hydrogen&#39;, &#39;symbol&#39;: &#39;H&#39;, &#39;number&#39;: 1. Then,\n",
        "create an object called hydrogen from class Element using this dictionary.\n",
        "\n",
        "Ans: To create an object called hydrogen from the Element class using a dictionary with the keys and values 'name': 'Hydrogen', 'symbol': 'H', and 'number': 1, you can use the following code:"
      ],
      "metadata": {
        "id": "1gLsWL2A-EtI"
      }
    },
    {
      "cell_type": "code",
      "source": [
        "class Element:\n",
        "    def __init__(self, name, symbol, number):\n",
        "        self.name = name\n",
        "        self.symbol = symbol\n",
        "        self.number = number\n",
        "\n",
        "# Create a dictionary with the specified keys and values\n",
        "element_dict = {'name': 'Hydrogen', 'symbol': 'H', 'number': 1}\n",
        "\n",
        "# Create an object of the Element class using the dictionary\n",
        "hydrogen = Element(**element_dict)\n"
      ],
      "metadata": {
        "id": "7Iy44JwN957u"
      },
      "execution_count": 6,
      "outputs": []
    },
    {
      "cell_type": "code",
      "source": [
        "print(hydrogen.name)  \n",
        "print(hydrogen.symbol)  \n",
        "print(hydrogen.number)  "
      ],
      "metadata": {
        "colab": {
          "base_uri": "https://localhost:8080/"
        },
        "id": "HBNJH-K9-SfH",
        "outputId": "e9013d1c-4ec9-4436-81f0-6461a3bbae98"
      },
      "execution_count": 7,
      "outputs": [
        {
          "output_type": "stream",
          "name": "stdout",
          "text": [
            "Hydrogen\n",
            "H\n",
            "1\n"
          ]
        }
      ]
    },
    {
      "cell_type": "markdown",
      "source": [
        "6. For the Element class, define a method called dump() that prints the values of the object’s\n",
        "attributes (name, symbol, and number). Create the hydrogen object from this new definition and\n",
        "use dump() to print its attributes.\n",
        "\n",
        "Ans: To define a method called dump() in the Element class that prints the values of the object's attributes (name, symbol, and number), you can modify the class definition as follows:"
      ],
      "metadata": {
        "id": "av1sk2Du-aw9"
      }
    },
    {
      "cell_type": "code",
      "source": [
        "class Element:\n",
        "    def __init__(self, name, symbol, number):\n",
        "        self.name = name\n",
        "        self.symbol = symbol\n",
        "        self.number = number\n",
        "    \n",
        "    def dump(self):\n",
        "        print(\"Name:\", self.name)\n",
        "        print(\"Symbol:\", self.symbol)\n",
        "        print(\"Number:\", self.number)\n"
      ],
      "metadata": {
        "id": "5uaL45RP-XDH"
      },
      "execution_count": 8,
      "outputs": []
    },
    {
      "cell_type": "code",
      "source": [
        "hydrogen = Element('Hydrogen', 'H', 1)\n",
        "hydrogen.dump()\n"
      ],
      "metadata": {
        "colab": {
          "base_uri": "https://localhost:8080/"
        },
        "id": "cDe1m89F-lfu",
        "outputId": "154e8eec-3836-4083-930d-d6ae3b9a0885"
      },
      "execution_count": 9,
      "outputs": [
        {
          "output_type": "stream",
          "name": "stdout",
          "text": [
            "Name: Hydrogen\n",
            "Symbol: H\n",
            "Number: 1\n"
          ]
        }
      ]
    },
    {
      "cell_type": "markdown",
      "source": [
        "7. Call print(hydrogen). In the definition of Element, change the name of method dump to __str__,\n",
        "create a new hydrogen object, and call print(hydrogen) again.\n",
        "\n",
        "Ans: Code is below:\n"
      ],
      "metadata": {
        "id": "x17q2n41_Bvv"
      }
    },
    {
      "cell_type": "code",
      "source": [
        "class Element:\n",
        "    def __init__(self, name, symbol, number):\n",
        "        self.name = name\n",
        "        self.symbol = symbol\n",
        "        self.number = number\n",
        "    \n",
        "    def __str__(self):\n",
        "        return f\"Name: {self.name}, Symbol: {self.symbol}, Number: {self.number}\"\n",
        "\n",
        "hydrogen = Element('Hydrogen', 'H', 1)\n",
        "print(hydrogen)\n"
      ],
      "metadata": {
        "colab": {
          "base_uri": "https://localhost:8080/"
        },
        "id": "VzeaCjaO-8GK",
        "outputId": "62da33a2-9c72-474d-f371-878ecc6c365f"
      },
      "execution_count": 10,
      "outputs": [
        {
          "output_type": "stream",
          "name": "stdout",
          "text": [
            "Name: Hydrogen, Symbol: H, Number: 1\n"
          ]
        }
      ]
    },
    {
      "cell_type": "markdown",
      "source": [
        "8. Modify Element to make the attributes name, symbol, and number private. Define a getter\n",
        "property for each to return its value.\n",
        "\n",
        "Ans: \n",
        "Here's the modified Element class with private attributes and getter properties:"
      ],
      "metadata": {
        "id": "GAMSBnJQ_Tdu"
      }
    },
    {
      "cell_type": "code",
      "source": [
        "class Element:\n",
        "    def __init__(self, name, symbol, number):\n",
        "        self.__name = name\n",
        "        self.__symbol = symbol\n",
        "        self.__number = number\n",
        "    \n",
        "    @property\n",
        "    def name(self):\n",
        "        return self.__name\n",
        "    \n",
        "    @property\n",
        "    def symbol(self):\n",
        "        return self.__symbol\n",
        "    \n",
        "    @property\n",
        "    def number(self):\n",
        "        return self.__number\n"
      ],
      "metadata": {
        "id": "KUhfgTCD_PHV"
      },
      "execution_count": 11,
      "outputs": []
    },
    {
      "cell_type": "code",
      "source": [
        "hydrogen = Element('Hydrogen', 'H', 1)\n",
        "print(hydrogen.name)   \n",
        "print(hydrogen.symbol) \n",
        "print(hydrogen.number) \n"
      ],
      "metadata": {
        "colab": {
          "base_uri": "https://localhost:8080/"
        },
        "id": "ig3gYKK9_Zp1",
        "outputId": "ac1ad109-c65a-46fa-e660-ef41f9f37e43"
      },
      "execution_count": 12,
      "outputs": [
        {
          "output_type": "stream",
          "name": "stdout",
          "text": [
            "Hydrogen\n",
            "H\n",
            "1\n"
          ]
        }
      ]
    },
    {
      "cell_type": "markdown",
      "source": [
        "9. Define three classes: Bear, Rabbit, and Octothorpe. For each, define only one method: eats(). This\n",
        "should return &#39;berries&#39; (Bear), &#39;clover&#39; (Rabbit), or &#39;campers&#39; (Octothorpe). Create one object from\n",
        "each and print what it eats.\n",
        "\n",
        "Ans: Here are the three classes: Bear, Rabbit, and Octothorpe, with the eats() method defined in each class:"
      ],
      "metadata": {
        "id": "5ztvIcLk_oPw"
      }
    },
    {
      "cell_type": "code",
      "source": [
        "class Bear:\n",
        "    def eats(self):\n",
        "        return 'berries'\n",
        "\n",
        "class Rabbit:\n",
        "    def eats(self):\n",
        "        return 'clover'\n",
        "\n",
        "class Octothorpe:\n",
        "    def eats(self):\n",
        "        return 'campers'\n"
      ],
      "metadata": {
        "id": "tVRXfE-9_hPC"
      },
      "execution_count": 13,
      "outputs": []
    },
    {
      "cell_type": "code",
      "source": [
        "bear = Bear()\n",
        "rabbit = Rabbit()\n",
        "octothorpe = Octothorpe()\n",
        "\n",
        "print(bear.eats())      \n",
        "print(rabbit.eats())    \n",
        "print(octothorpe.eats())"
      ],
      "metadata": {
        "colab": {
          "base_uri": "https://localhost:8080/"
        },
        "id": "qUfpLZGO_vic",
        "outputId": "78c9f2ae-bada-4af1-bb51-1453c2574aa6"
      },
      "execution_count": 14,
      "outputs": [
        {
          "output_type": "stream",
          "name": "stdout",
          "text": [
            "berries\n",
            "clover\n",
            "campers\n"
          ]
        }
      ]
    },
    {
      "cell_type": "markdown",
      "source": [
        "10. Define these classes: Laser, Claw, and SmartPhone. Each has only one method: does(). This\n",
        "returns &#39;disintegrate&#39; (Laser), &#39;crush&#39; (Claw), or &#39;ring&#39; (SmartPhone). Then, define the class Robot that\n",
        "has one instance (object) of each of these. Define a does() method for the Robot that prints what its\n",
        "component objects do.\n",
        "\n",
        "Ans: Here are the classes Laser, Claw, SmartPhone, and Robot with their respective methods:"
      ],
      "metadata": {
        "id": "-O4LH2zS_2rj"
      }
    },
    {
      "cell_type": "code",
      "source": [
        "class Laser:\n",
        "    def does(self):\n",
        "        return 'disintegrate'\n",
        "\n",
        "class Claw:\n",
        "    def does(self):\n",
        "        return 'crush'\n",
        "\n",
        "class SmartPhone:\n",
        "    def does(self):\n",
        "        return 'ring'\n",
        "\n",
        "class Robot:\n",
        "    def __init__(self):\n",
        "        self.laser = Laser()\n",
        "        self.claw = Claw()\n",
        "        self.smartphone = SmartPhone()\n",
        "\n",
        "    def does(self):\n",
        "        print(\"Laser:\", self.laser.does())\n",
        "        print(\"Claw:\", self.claw.does())\n",
        "        print(\"SmartPhone:\", self.smartphone.does())\n"
      ],
      "metadata": {
        "id": "tjuZepO5_zdB"
      },
      "execution_count": 15,
      "outputs": []
    },
    {
      "cell_type": "code",
      "source": [
        "robot = Robot()\n",
        "robot.does()\n"
      ],
      "metadata": {
        "colab": {
          "base_uri": "https://localhost:8080/"
        },
        "id": "pssz1Ic8_7cN",
        "outputId": "4a6085d2-207d-464b-9814-4e188d2bf0cb"
      },
      "execution_count": 16,
      "outputs": [
        {
          "output_type": "stream",
          "name": "stdout",
          "text": [
            "Laser: disintegrate\n",
            "Claw: crush\n",
            "SmartPhone: ring\n"
          ]
        }
      ]
    },
    {
      "cell_type": "code",
      "source": [],
      "metadata": {
        "id": "dOACDCIO_-EB"
      },
      "execution_count": null,
      "outputs": []
    }
  ]
}