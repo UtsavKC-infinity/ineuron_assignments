{
  "nbformat": 4,
  "nbformat_minor": 0,
  "metadata": {
    "colab": {
      "provenance": []
    },
    "kernelspec": {
      "name": "python3",
      "display_name": "Python 3"
    },
    "language_info": {
      "name": "python"
    }
  },
  "cells": [
    {
      "cell_type": "markdown",
      "source": [
        "1. To what does a relative path refer?\n",
        "\n",
        "Ans: A relative path refers to a file or directory location that is expressed relative to the current working directory or the location of the file referencing it. It does not specify the complete path from the root directory but rather describes the path relative to the current location."
      ],
      "metadata": {
        "id": "pEfyHbosiHtw"
      }
    },
    {
      "cell_type": "markdown",
      "source": [
        "2. What does an absolute path start with your operating system?\n",
        "\n",
        "Ans:  An absolute path in my os starts with a drive letter (e.g., C:\\) followed by the directory structure, using backslashes (\\) as separators (e.g., C:\\Users\\Username\\Documents\\file.txt)."
      ],
      "metadata": {
        "id": "pqWdN9fWiPqA"
      }
    },
    {
      "cell_type": "markdown",
      "source": [],
      "metadata": {
        "id": "Jcfwi1Noij8y"
      }
    },
    {
      "cell_type": "markdown",
      "source": [
        "3. What do the functions os.getcwd() and os.chdir() do?\n",
        "\n",
        "Ans: The functions os.getcwd() and os.chdir() are part of the os module in Python, which provides a way to interact with the operating system.\n",
        "\n",
        "The os.getcwd() function is used to retrieve the current working directory, while os.chdir() is used to change the current working directory to a new location. These functions are helpful for managing file operations and navigating the file system within a Python program."
      ],
      "metadata": {
        "id": "f-Atgtx4ipsb"
      }
    },
    {
      "cell_type": "markdown",
      "source": [
        "4. What are the . and .. folders?\n",
        "\n",
        "Ans: In most file systems, the '.' and '..' folders are special directories that provide references to the current directory and the parent directory, respectively."
      ],
      "metadata": {
        "id": "vgULVIxwi6hC"
      }
    },
    {
      "cell_type": "markdown",
      "source": [
        "5. In C:\\bacon\\eggs\\spam.txt, which part is the dir name, and which part is the base name?\n",
        "\n",
        "Ans: In the path C:\\bacon\\eggs\\spam.txt, the directory name and the base name can be identified as follows:\n",
        "\n",
        "Directory Name: C:\\bacon\\eggs\n",
        "Base Name: spam.txt"
      ],
      "metadata": {
        "id": "_ld-Y4gdjI6u"
      }
    },
    {
      "cell_type": "markdown",
      "source": [
        "6. What are the three “mode” arguments that can be passed to the open() function?\n",
        "\n",
        "Ans: The open() function in Python allows you to open files for various operations. It takes the following three common \"mode\" arguments:\n",
        "\n",
        "Read Mode ('r')\n",
        "\n",
        "Write Mode ('w')\n",
        "\n",
        "Append Mode ('a')."
      ],
      "metadata": {
        "id": "clEtHm5LjQD5"
      }
    },
    {
      "cell_type": "markdown",
      "source": [
        "7. What happens if an existing file is opened in write mode?\n",
        "\n",
        "Ans: If an existing file is opened in write mode ('w') using the open() function in Python, the following will happen:\n",
        "\n",
        "1) If the file already exists: The existing contents of the file will be truncated to zero length. In other words, the file will be cleared of its previous content.\n",
        "\n",
        "2) If the file does not exist: A new file with the specified name will be created."
      ],
      "metadata": {
        "id": "w5JsLoqJjkES"
      }
    },
    {
      "cell_type": "markdown",
      "source": [
        "8. How do you tell the difference between read() and readlines()?\n",
        "\n",
        "Ans: read() returns a single string containing the entire file content, while readlines() returns a list of strings where each string represents a line from the file."
      ],
      "metadata": {
        "id": "OWXN4JfZjsVm"
      }
    },
    {
      "cell_type": "markdown",
      "source": [
        "9. What data structure does a shelf value resemble?\n",
        "\n",
        "Ans: In Python, the shelf module provides a dictionary-like interface for accessing and storing data persistently. The values stored in a shelf resemble a dictionary, as they can be accessed and manipulated using keys."
      ],
      "metadata": {
        "id": "Z14Vn3Coj4V4"
      }
    },
    {
      "cell_type": "code",
      "execution_count": null,
      "metadata": {
        "id": "-jC65Qc_iHKN"
      },
      "outputs": [],
      "source": []
    }
  ]
}