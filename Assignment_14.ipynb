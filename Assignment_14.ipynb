{
  "nbformat": 4,
  "nbformat_minor": 0,
  "metadata": {
    "colab": {
      "provenance": []
    },
    "kernelspec": {
      "name": "python3",
      "display_name": "Python 3"
    },
    "language_info": {
      "name": "python"
    }
  },
  "cells": [
    {
      "cell_type": "markdown",
      "source": [
        "1. What does RGBA stand for?\n",
        "\n",
        "Ans: RGBA stands for Red, Green, Blue, and Alpha."
      ],
      "metadata": {
        "id": "ehPmlnj9uvkB"
      }
    },
    {
      "cell_type": "markdown",
      "source": [
        "2. From the Pillow module, how do you get the RGBA value of any images?\n",
        "\n",
        "Ans: To get the RGBA value of pixels in an image using the Pillow module in Python, you can use the getpixel() method of the Image object. "
      ],
      "metadata": {
        "id": "ZMrR-kiOu4-b"
      }
    },
    {
      "cell_type": "markdown",
      "source": [
        "3. What is a box tuple, and how does it work?\n",
        "\n",
        "Ans: The box tuple defines the region of interest within the image specified by the coordinates. This region can be used for various operations, such as cropping, pasting, or extracting specific areas of an image.\n",
        "\n",
        "By using the box tuple, you can define and manipulate rectangular regions within an image using the Pillow module in Python.\n",
        "\n",
        "Here's an example of how a box tuple can be used to crop an image using the Pillow module:\n",
        "\n",
        "          from PIL import Image\n",
        "\n",
        "          # Open the image\n",
        "          image = Image.open('image.png')\n",
        "\n",
        "          # Define the box tuple for cropping\n",
        "          box = (x1, y1, x2, y2)  # Replace x1, y1, x2, y2 with the desired coordinates\n",
        "\n",
        "          # Crop the image using the box tuple\n",
        "          cropped_image = image.crop(box)\n",
        "\n",
        "          # Save the cropped image\n",
        "          cropped_image.save('cropped_image.png')"
      ],
      "metadata": {
        "id": "aR1CFjx2vDmu"
      }
    },
    {
      "cell_type": "markdown",
      "source": [
        "4. Use your image and load in notebook then, How can you find out the width and height of an\n",
        "Image object?\n",
        "\n",
        "Ans: To find out the width and height of an Image object using the Pillow module in Python, you can use the size attribute or the width and height attributes of the Image object. "
      ],
      "metadata": {
        "id": "3lXOmc7YvxAj"
      }
    },
    {
      "cell_type": "markdown",
      "source": [
        "5. What method would you call to get Image object for a 100×100 image, excluding the lower-left\n",
        "quarter of it?\n",
        "\n",
        "Ans: To get an Image object for a 100x100 image, excluding the lower-left quarter of it, you can use the crop() method of the Image object in the Pillow module."
      ],
      "metadata": {
        "id": "MIjm3MRBwQA-"
      }
    },
    {
      "cell_type": "markdown",
      "source": [
        "6. After making changes to an Image object, how could you save it as an image file?\n",
        "\n",
        "Ans: After making changes to an Image object using the Pillow module, you can save it as an image file using the save() method"
      ],
      "metadata": {
        "id": "7MFlrttLwacx"
      }
    },
    {
      "cell_type": "markdown",
      "source": [
        "7. What module contains Pillow’s shape-drawing code?\n",
        "\n",
        "Ans: Pillow's shape-drawing code is contained in the ImageDraw module.\n"
      ],
      "metadata": {
        "id": "lQt4Ot5qwk5W"
      }
    },
    {
      "cell_type": "markdown",
      "source": [
        "8. Image objects do not have drawing methods. What kind of object does? How do you get this kind\n",
        "of object?\n",
        "\n",
        "Ans: To perform drawing operations on images using the Pillow library, you need to use the ImageDraw module. The ImageDraw module provides the Draw class, which has various drawing methods for shapes, text, and other image manipulations.\n",
        "\n",
        "To get an ImageDraw object, you need to create it by calling the ImageDraw.Draw() function and passing an Image object as an argument"
      ],
      "metadata": {
        "id": "jvjONWE-wrM0"
      }
    },
    {
      "cell_type": "code",
      "source": [],
      "metadata": {
        "id": "P8VcnhPMvuCi"
      },
      "execution_count": null,
      "outputs": []
    }
  ]
}