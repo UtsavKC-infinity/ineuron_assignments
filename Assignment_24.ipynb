{
  "nbformat": 4,
  "nbformat_minor": 0,
  "metadata": {
    "colab": {
      "provenance": []
    },
    "kernelspec": {
      "name": "python3",
      "display_name": "Python 3"
    },
    "language_info": {
      "name": "python"
    }
  },
  "cells": [
    {
      "cell_type": "markdown",
      "source": [
        "1. What is the relationship between def statements and lambda expressions ?\n",
        "\n",
        "Ans: the relationship between def statements and lambda expressions is that both are used to define functions, but they differ in syntax, function naming, complexity, and the way they handle return values. def statements are used for more complex functions with a dedicated name, while lambda expressions are used for small, anonymous functions where brevity is important."
      ],
      "metadata": {
        "id": "E4maZxQwCujq"
      }
    },
    {
      "cell_type": "markdown",
      "source": [
        "2.What is the benefit of lambda?\n",
        "\n",
        "Ans: the benefits of lambda expressions include concise syntax, one-liner functions, support for functional programming, immediate use, improved readability, maintainability, and reduced scope. They are a valuable tool for certain programming scenarios where brevity and simplicity are desired.\n"
      ],
      "metadata": {
        "id": "tByC4sZTC2e1"
      }
    },
    {
      "cell_type": "markdown",
      "source": [
        "3. Compare and contrast map, filter, and reduce.\n",
        "\n",
        "Ans:\n",
        "\n",
        "a) Purpose:\n",
        "\n",
        "1) map(): The map() function applies a specified function to each item of an iterable and returns an iterator that yields the transformed values.\n",
        "\n",
        "2) filter(): The filter() function applies a specified function to each item of an iterable and returns an iterator that yields only the items for which the function returns True.\n",
        "\n",
        "3) reduce(): The reduce() function applies a specified function to the first two items of an iterable, then to the result and the next item, and so on, until a single value is obtained. It reduces a sequence of items to a single value.\n",
        "\n",
        "b)Output:\n",
        "\n",
        "1)map(): The map() function returns an iterator that generates the transformed values. To obtain the final result as a list, you need to convert the map object to a list using the list() function or iterate over it.\n",
        "\n",
        "2)filter(): The filter() function returns an iterator that generates only the items for which the function returns True. To obtain the final result as a list, you need to convert the filter object to a list using the list() function or iterate over it.\n",
        "\n",
        "3)reduce(): The reduce() function returns a single value that represents the reduction of the iterable using the specified function."
      ],
      "metadata": {
        "id": "reC8AXB6DAy-"
      }
    },
    {
      "cell_type": "markdown",
      "source": [
        "3)What are function annotations, and how are they used?\n",
        "\n",
        "Ans: \n",
        "\n",
        "Function annotations in Python are a way to associate metadata or additional information with function parameters and return values. They allow you to specify the expected types of the arguments and the return type of a function. Function annotations are optional and do not affect the runtime behavior of the function. They serve as a form of documentation and can be accessed through the function's __annotations__ attribute.\n",
        "\n",
        "Function annotations are defined using the colon (:) syntax after the parameter name or the return arrow (->) syntax for the return type. The annotations can be of any valid Python expression, but they are commonly used to indicate the expected types using built-in types, user-defined types, or type hints from the typing module."
      ],
      "metadata": {
        "id": "XiIRvXwnDw4U"
      }
    },
    {
      "cell_type": "markdown",
      "source": [
        "5. What are recursive functions, and how are they used?\n",
        "\n",
        "Ans: Recursive functions are functions that call themselves, either directly or indirectly, to solve a problem by breaking it down into smaller, simpler subproblems. Recursive functions typically have two components: a base case that defines the simplest version of the problem and the recursive case that breaks down the problem into smaller subproblems until it reaches the base case.\n",
        "\n",
        "When using recursive functions, it's essential to carefully design the algorithm, ensure termination conditions, and consider the potential impact on performance and memory usage. Recursive functions can be a powerful tool for solving certain types of problems, but they may not always be the most efficient or practical solution for all scenario"
      ],
      "metadata": {
        "id": "Kxrgj-sQECmp"
      }
    },
    {
      "cell_type": "markdown",
      "source": [
        "6. What are some general design guidelines for coding functions?\n",
        "\n",
        "Ans: The some general desgin guidelines for coding functions are:\n",
        "\n",
        "\n",
        "1.   function name shuold be descriptive and should not start from the numeric and should not containe the space between the word\n",
        "2.   keep function focuse and concise\n",
        "3. provide clear and comprehensice documentation of your function\n",
        "\n"
      ],
      "metadata": {
        "id": "sd9LCPssEonQ"
      }
    },
    {
      "cell_type": "markdown",
      "source": [
        "7. Name three or more ways that functions can communicate results to a caller.\n",
        "\n",
        "Ans: Functions can communicate results to a caller in various ways. Here are three common ways:\n",
        "\n",
        "Return Values: Functions can communicate results by returning a value using the return statement. The returned value can be of any data type, including built-in types, objects, or even other functions. The caller can capture the returned value and use it in further operations or assignments. For example:\n"
      ],
      "metadata": {
        "id": "VgPEPz82Fhii"
      }
    },
    {
      "cell_type": "code",
      "execution_count": null,
      "metadata": {
        "id": "GDswZdTmCt9G"
      },
      "outputs": [],
      "source": [
        "def add_numbers(a, b):\n",
        "    return a + b\n",
        "\n",
        "result = add_numbers(2, 3)\n",
        "print(result)  # Output: 5\n"
      ]
    },
    {
      "cell_type": "markdown",
      "source": [
        "Modifying Mutable Objects: Functions can communicate results by modifying mutable objects that are passed as arguments. If a function modifies the state of a mutable object, such as a list or dictionary, the modifications persist after the function call. The caller can access the modified object to retrieve the results. For example:"
      ],
      "metadata": {
        "id": "B4YnlgiQFuHj"
      }
    },
    {
      "cell_type": "code",
      "source": [
        "def append_value(my_list, value):\n",
        "    my_list.append(value)\n",
        "\n",
        "data = [1, 2, 3]\n",
        "append_value(data, 4)\n",
        "print(data)  # Output: [1, 2, 3, 4]\n"
      ],
      "metadata": {
        "colab": {
          "base_uri": "https://localhost:8080/"
        },
        "id": "PJ0ZewklFth2",
        "outputId": "5b26e8db-09bd-4612-d415-88f5774c4c95"
      },
      "execution_count": 1,
      "outputs": [
        {
          "output_type": "stream",
          "name": "stdout",
          "text": [
            "[1, 2, 3, 4]\n"
          ]
        }
      ]
    },
    {
      "cell_type": "markdown",
      "source": [
        "Global Variables: Functions can communicate results by modifying or accessing global variables. Global variables are defined outside of any function and can be accessed and modified by functions. However, relying heavily on global variables is generally discouraged as it can make code harder to understand and maintain. Here's an example:"
      ],
      "metadata": {
        "id": "gZR_7s40F4yS"
      }
    },
    {
      "cell_type": "code",
      "source": [
        "counter = 0\n",
        "\n",
        "def increment_counter():\n",
        "    global counter\n",
        "    counter += 1\n",
        "\n",
        "increment_counter()\n",
        "print(counter)  # Output: 1\n"
      ],
      "metadata": {
        "colab": {
          "base_uri": "https://localhost:8080/"
        },
        "id": "brd8RWttFzlw",
        "outputId": "246dad99-e591-428c-ccd4-046e73780d8e"
      },
      "execution_count": 2,
      "outputs": [
        {
          "output_type": "stream",
          "name": "stdout",
          "text": [
            "1\n"
          ]
        }
      ]
    },
    {
      "cell_type": "code",
      "source": [],
      "metadata": {
        "id": "29E9aEl4F68y"
      },
      "execution_count": null,
      "outputs": []
    }
  ]
}