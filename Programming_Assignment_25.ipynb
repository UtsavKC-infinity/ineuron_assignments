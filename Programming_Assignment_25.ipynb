{
  "nbformat": 4,
  "nbformat_minor": 0,
  "metadata": {
    "colab": {
      "provenance": []
    },
    "kernelspec": {
      "name": "python3",
      "display_name": "Python 3"
    },
    "language_info": {
      "name": "python"
    }
  },
  "cells": [
    {
      "cell_type": "markdown",
      "source": [
        "Question1\n",
        "Create a function that takes three integer arguments (a, b, c) and returns the amount of\n",
        "integers which are of equal value.\n"
      ],
      "metadata": {
        "id": "DM_KiFe-dexb"
      }
    },
    {
      "cell_type": "code",
      "execution_count": 8,
      "metadata": {
        "id": "zGwyZ2WCdeE8"
      },
      "outputs": [],
      "source": [
        "def equal(a, b, c):\n",
        "    lst = [a, b, c]\n",
        "    return lst.count(a) if lst.count(a) > 1 else lst.count(b) if lst.count(b) > 1 else lst.count(c)\n"
      ]
    },
    {
      "cell_type": "code",
      "source": [
        "print(equal(3, 4, 3)) \n",
        "print(equal(1, 1, 1))  \n",
        "print(equal(3, 4, 1)) \n",
        "\n"
      ],
      "metadata": {
        "colab": {
          "base_uri": "https://localhost:8080/"
        },
        "id": "95uJ1mlWdj-4",
        "outputId": "271ca935-c3e8-4fa3-dcc1-463232da0ab6"
      },
      "execution_count": 9,
      "outputs": [
        {
          "output_type": "stream",
          "name": "stdout",
          "text": [
            "2\n",
            "3\n",
            "1\n"
          ]
        }
      ]
    },
    {
      "cell_type": "markdown",
      "source": [
        "Question2\n",
        "Write a function that converts a dictionary into a list of keys-values tuples.\n",
        "\n"
      ],
      "metadata": {
        "id": "B-AiDQ9jeVC6"
      }
    },
    {
      "cell_type": "code",
      "source": [
        "def dict_to_list(dictionary):\n",
        "    return sorted(dictionary.items())\n"
      ],
      "metadata": {
        "id": "Z_7ZCWbndrbQ"
      },
      "execution_count": 10,
      "outputs": []
    },
    {
      "cell_type": "code",
      "source": [
        "print(dict_to_list({\"D\": 1, \"B\": 2, \"C\": 3}))\n"
      ],
      "metadata": {
        "colab": {
          "base_uri": "https://localhost:8080/"
        },
        "id": "d_5wsgbrebmK",
        "outputId": "ea97bf6b-1e0a-43fb-dae6-15459b3afce8"
      },
      "execution_count": 12,
      "outputs": [
        {
          "output_type": "stream",
          "name": "stdout",
          "text": [
            "[('B', 2), ('C', 3), ('D', 1)]\n"
          ]
        }
      ]
    },
    {
      "cell_type": "markdown",
      "source": [
        "Question3\n",
        "Write a function that creates a dictionary with each (key, value) pair being the (lower case,\n",
        "upper case) versions of a letter, respectively.\n"
      ],
      "metadata": {
        "id": "JA9QCC6cepNd"
      }
    },
    {
      "cell_type": "code",
      "source": [
        "def mapping(lst):\n",
        "    return {letter: letter.upper() for letter in lst}\n"
      ],
      "metadata": {
        "id": "Xu0_wpBjed6b"
      },
      "execution_count": 13,
      "outputs": []
    },
    {
      "cell_type": "code",
      "source": [
        "print(mapping([\"p\", \"s\"]))"
      ],
      "metadata": {
        "colab": {
          "base_uri": "https://localhost:8080/"
        },
        "id": "__Sq0XF0ettX",
        "outputId": "12c30d26-5383-4267-c376-b7745f84a418"
      },
      "execution_count": 14,
      "outputs": [
        {
          "output_type": "stream",
          "name": "stdout",
          "text": [
            "{'p': 'P', 's': 'S'}\n"
          ]
        }
      ]
    },
    {
      "cell_type": "markdown",
      "source": [
        "Question4\n",
        "Write a function, that replaces all vowels in a string with a specified vowel.\n"
      ],
      "metadata": {
        "id": "OpT9fbFpe01-"
      }
    },
    {
      "cell_type": "code",
      "source": [
        "def vow_replace(string, vowel):\n",
        "    vowels = 'aeiou'\n",
        "    for v in vowels:\n",
        "        string = string.replace(v, vowel)\n",
        "    return string\n"
      ],
      "metadata": {
        "id": "YjM7oIrfexJm"
      },
      "execution_count": 15,
      "outputs": []
    },
    {
      "cell_type": "code",
      "source": [
        "print(vow_replace(\"apples and bananas\", \"u\"))"
      ],
      "metadata": {
        "colab": {
          "base_uri": "https://localhost:8080/"
        },
        "id": "Bwpg2ASqe6Ls",
        "outputId": "27c3681e-4754-470d-ffdf-d658af7b325e"
      },
      "execution_count": 16,
      "outputs": [
        {
          "output_type": "stream",
          "name": "stdout",
          "text": [
            "upplus und bununus\n"
          ]
        }
      ]
    },
    {
      "cell_type": "markdown",
      "source": [
        "Question5\n",
        "Create a function that takes a string as input and capitalizes a letter if its ASCII code is even\n",
        "and returns its lower case version if its ASCII code is odd.\n"
      ],
      "metadata": {
        "id": "wEQ-MS5bfAlS"
      }
    },
    {
      "cell_type": "code",
      "source": [
        "def ascii_capitalize(string):\n",
        "    result = ''\n",
        "    for char in string:\n",
        "        ascii_code = ord(char)\n",
        "        if ascii_code % 2 == 0:\n",
        "            result += char.upper()\n",
        "        else:\n",
        "            result += char.lower()\n",
        "    return result\n"
      ],
      "metadata": {
        "id": "gtnOApAGe8mU"
      },
      "execution_count": 17,
      "outputs": []
    },
    {
      "cell_type": "code",
      "source": [
        "print(ascii_capitalize(\"to be or not to be!\"))"
      ],
      "metadata": {
        "colab": {
          "base_uri": "https://localhost:8080/"
        },
        "id": "GInJexkWfGMn",
        "outputId": "02566470-3f3f-418c-c55a-51921f488624"
      },
      "execution_count": 18,
      "outputs": [
        {
          "output_type": "stream",
          "name": "stdout",
          "text": [
            "To Be oR NoT To Be!\n"
          ]
        }
      ]
    },
    {
      "cell_type": "code",
      "source": [],
      "metadata": {
        "id": "Ch1qjLwIfIYy"
      },
      "execution_count": null,
      "outputs": []
    }
  ]
}