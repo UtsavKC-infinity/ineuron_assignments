{
  "nbformat": 4,
  "nbformat_minor": 0,
  "metadata": {
    "colab": {
      "provenance": []
    },
    "kernelspec": {
      "name": "python3",
      "display_name": "Python 3"
    },
    "language_info": {
      "name": "python"
    }
  },
  "cells": [
    {
      "cell_type": "markdown",
      "source": [
        "1. Create a zoo.py file first. Define the hours() function, which prints the string &#39;Open 9-5 daily&#39;.\n",
        "Then, use the interactive interpreter to import the zoo module and call its hours() function.\n",
        "\n",
        "Ans: To create the zoo.py file, you can follow these steps:\n",
        "\n",
        "Open a text editor and create a new file.\n",
        "Save the file with the name zoo.py.\n",
        "Inside the zoo.py file, define the hours() function with the desired string output. Here's an example:"
      ],
      "metadata": {
        "id": "_6tWUTkv2Vup"
      }
    },
    {
      "cell_type": "code",
      "execution_count": 8,
      "metadata": {
        "id": "yM_Yejei2VJm"
      },
      "outputs": [],
      "source": [
        "def hours():\n",
        "    print('Open 9-5 daily')\n",
        "\n",
        "# save this file in zoo.py\n",
        "#then to access the function that in zoo.py, we should import zoo and then use these commande to extract these functionality : zoo.hours()"
      ]
    },
    {
      "cell_type": "markdown",
      "source": [
        "2. In the interactive interpreter, import the zoo module as menagerie and call its hours() function.\n",
        "\n",
        "Ans: To import the zoo module as menagerie and call its hours() function in the interactive interpreter, you can follow these steps:\n",
        "\n",
        "1) Open the Python interactive interpreter (e.g., terminal, IDLE).\n",
        "\n",
        "2)Type the following command to import the zoo module as menagerie"
      ],
      "metadata": {
        "id": "uJUKyCMw3WPr"
      }
    },
    {
      "cell_type": "code",
      "source": [
        "# import zoo as menagerie\n",
        "#then use these command: menagerie.hours()\n"
      ],
      "metadata": {
        "id": "LVr8dTQp29r-"
      },
      "execution_count": 5,
      "outputs": []
    },
    {
      "cell_type": "markdown",
      "source": [
        "3. Using the interpreter, explicitly import and call the hours() function from zoo.\n",
        "\n",
        "Ans: \n",
        "To explicitly import and call the hours() function from the zoo module using the Python interpreter, you can follow these steps:\n",
        "\n",
        "1) Open the Python interactive interpreter (e.g., terminal, IDLE).\n",
        "\n",
        "2) Type the following command to import the hours() function directly from the zoo module:"
      ],
      "metadata": {
        "id": "SU6iziLU4yzN"
      }
    },
    {
      "cell_type": "code",
      "source": [
        "#from zoo import hours\n",
        "#hours()"
      ],
      "metadata": {
        "id": "-k5sGsn12kwY"
      },
      "execution_count": 9,
      "outputs": []
    },
    {
      "cell_type": "markdown",
      "source": [
        "4. Import the hours() function as info and call it.\n",
        "\n",
        "Ans: \n",
        "To import the hours() function as info and call it, you can follow these steps:\n",
        "\n",
        "Open the Python interactive interpreter (e.g., terminal, IDLE).\n",
        "Type the following command to import the hours() function as info from the zoo module:"
      ],
      "metadata": {
        "id": "Yc-JI0gN5Rft"
      }
    },
    {
      "cell_type": "code",
      "source": [
        "#from zoo import hours as info\n",
        "#info()\n"
      ],
      "metadata": {
        "id": "sPNmx1wb5Ndu"
      },
      "execution_count": 10,
      "outputs": []
    },
    {
      "cell_type": "markdown",
      "source": [
        "5. Create a plain dictionary with the key-value pairs &#39;a&#39;: 1, &#39;b&#39;: 2, and &#39;c&#39;: 3, and print it out.\n",
        "\n",
        "Ans: To create a plain dictionary with the key-value pairs 'a': 1, 'b': 2, and 'c': 3, and print it out, you can use the following code:"
      ],
      "metadata": {
        "id": "31jt_4y45clP"
      }
    },
    {
      "cell_type": "code",
      "source": [
        "plain_dict = {'a': 1, 'b': 2, 'c': 3}\n",
        "print(plain_dict)\n"
      ],
      "metadata": {
        "colab": {
          "base_uri": "https://localhost:8080/"
        },
        "id": "nFqNfO-T5bR-",
        "outputId": "14586236-0eec-4514-9e93-c96ff31162f4"
      },
      "execution_count": 11,
      "outputs": [
        {
          "output_type": "stream",
          "name": "stdout",
          "text": [
            "{'a': 1, 'b': 2, 'c': 3}\n"
          ]
        }
      ]
    },
    {
      "cell_type": "markdown",
      "source": [
        "6.Make an OrderedDict called fancy from the same pairs listed in 5 and print it. Did it print in the\n",
        "same order as plain?\n",
        "\n",
        "Ans: To create an OrderedDict called fancy from the same key-value pairs as listed in question 5 and print it, you can use the collections module. Here's an example:"
      ],
      "metadata": {
        "id": "22ykkxJv5q_q"
      }
    },
    {
      "cell_type": "code",
      "source": [
        "from collections import OrderedDict\n",
        "\n",
        "fancy = OrderedDict([('a', 1), ('b', 2), ('c', 3)])\n",
        "print(fancy)\n"
      ],
      "metadata": {
        "colab": {
          "base_uri": "https://localhost:8080/"
        },
        "id": "dKA8Y1PL5oWn",
        "outputId": "e3197399-8584-45e3-8c08-522e22bdfe71"
      },
      "execution_count": 12,
      "outputs": [
        {
          "output_type": "stream",
          "name": "stdout",
          "text": [
            "OrderedDict([('a', 1), ('b', 2), ('c', 3)])\n"
          ]
        }
      ]
    },
    {
      "cell_type": "markdown",
      "source": [
        "The output will be in the same order as you defined the key-value pairs: OrderedDict([('a', 1), ('b', 2), ('c', 3)]).\n",
        "\n",
        "Unlike a regular dictionary, an OrderedDict remembers the order in which the items were inserted. So when you print it, the order of the items will be preserved."
      ],
      "metadata": {
        "id": "eY6m9B5d6HUp"
      }
    },
    {
      "cell_type": "markdown",
      "source": [
        "7. Make a default dictionary called dict_of_lists and pass it the argument list. Make the list\n",
        "dict_of_lists[&#39;a&#39;] and append the value &#39;something for a&#39; to it in one assignment. Print\n",
        "dict_of_lists[&#39;a&#39;].\n",
        "\n",
        "Ans: To create a defaultdict called dict_of_lists and append a value to the list associated with the key 'a', you can use the collections module. Here's an example:"
      ],
      "metadata": {
        "id": "8Uo5ivZW6Ky0"
      }
    },
    {
      "cell_type": "code",
      "source": [
        "from collections import defaultdict\n",
        "\n",
        "dict_of_lists = defaultdict(list)\n",
        "dict_of_lists['a'].append('something for a')\n",
        "\n",
        "print(dict_of_lists['a'])\n"
      ],
      "metadata": {
        "colab": {
          "base_uri": "https://localhost:8080/"
        },
        "id": "-XEHLwuu5zkb",
        "outputId": "5ce846b2-6e36-4e44-8b8a-385d5acd7513"
      },
      "execution_count": 13,
      "outputs": [
        {
          "output_type": "stream",
          "name": "stdout",
          "text": [
            "['something for a']\n"
          ]
        }
      ]
    },
    {
      "cell_type": "code",
      "source": [],
      "metadata": {
        "id": "Xuh-cYKY6Ppz"
      },
      "execution_count": null,
      "outputs": []
    }
  ]
}