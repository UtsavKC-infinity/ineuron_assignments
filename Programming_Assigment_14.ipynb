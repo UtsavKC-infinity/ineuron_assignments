{
  "nbformat": 4,
  "nbformat_minor": 0,
  "metadata": {
    "colab": {
      "provenance": []
    },
    "kernelspec": {
      "name": "python3",
      "display_name": "Python 3"
    },
    "language_info": {
      "name": "python"
    }
  },
  "cells": [
    {
      "cell_type": "code",
      "execution_count": 1,
      "metadata": {
        "colab": {
          "base_uri": "https://localhost:8080/"
        },
        "id": "jtVyvVsUwPHe",
        "outputId": "b6dc9e57-cb25-4276-b9d7-270c4140bf29"
      },
      "outputs": [
        {
          "output_type": "stream",
          "name": "stdout",
          "text": [
            "0\n",
            "7\n",
            "14\n",
            "21\n",
            "28\n",
            "35\n",
            "42\n",
            "49\n"
          ]
        }
      ],
      "source": [
        "#Define a class with a generator which can iterate the numbers, which are divisible by\n",
        "#7, between a given range 0 and n.\n",
        "class DivisibleBySevenGenerator:\n",
        "    def __init__(self, n):\n",
        "        self.n = n\n",
        "\n",
        "    def divisible_by_seven(self):\n",
        "        for num in range(self.n + 1):\n",
        "            if num % 7 == 0:\n",
        "                yield num\n",
        "\n",
        "# Example usage:\n",
        "n = 50\n",
        "generator = DivisibleBySevenGenerator(n)\n",
        "\n",
        "for num in generator.divisible_by_seven():\n",
        "    print(num)\n"
      ]
    },
    {
      "cell_type": "code",
      "source": [
        "#Write a program to compute the frequency of the words from the input. The output\n",
        "#should output after sorting the key alphanumerically.\n",
        "from collections import defaultdict\n",
        "\n",
        "def word_frequency(input_string):\n",
        "    frequency = defaultdict(int)\n",
        "\n",
        "    # Split input into words\n",
        "    words = input_string.split()\n",
        "\n",
        "    # Count the frequency of each word\n",
        "    for word in words:\n",
        "        frequency[word] += 1\n",
        "\n",
        "    # Sort the keys alphanumerically\n",
        "    sorted_keys = sorted(frequency.keys())\n",
        "\n",
        "    # Print the word frequency\n",
        "    for key in sorted_keys:\n",
        "        print(f\"{key}: {frequency[key]}\")\n",
        "\n",
        "# Example usage:\n",
        "input_string = input(\"Enter a sentence: \")\n",
        "word_frequency(input_string)\n"
      ],
      "metadata": {
        "colab": {
          "base_uri": "https://localhost:8080/"
        },
        "id": "Fl_U1znVwhrK",
        "outputId": "ebf22be2-f65d-405e-c9c8-0164f3e57069"
      },
      "execution_count": 2,
      "outputs": [
        {
          "output_type": "stream",
          "name": "stdout",
          "text": [
            "Enter a sentence: New to Python or choosing between Python 2 and Python 3? Read Python 2 or Python 3.\n",
            "2: 2\n",
            "3.: 1\n",
            "3?: 1\n",
            "New: 1\n",
            "Python: 5\n",
            "Read: 1\n",
            "and: 1\n",
            "between: 1\n",
            "choosing: 1\n",
            "or: 2\n",
            "to: 1\n"
          ]
        }
      ]
    },
    {
      "cell_type": "code",
      "source": [
        "#Define a class Person and its two child classes: Male and Female. All classes have a\n",
        "#method &quot;getGender&quot; which can print &quot;Male&quot; for Male class and &quot;Female&quot; for Female\n",
        "#class.\n",
        "class Person:\n",
        "    def getGender(self):\n",
        "        pass\n",
        "\n",
        "class Male(Person):\n",
        "    def getGender(self):\n",
        "        print(\"Male\")\n",
        "\n",
        "class Female(Person):\n",
        "    def getGender(self):\n",
        "        print(\"Female\")\n",
        "\n",
        "# Example usage:\n",
        "person1 = Male()\n",
        "person1.getGender()  # Output: \"Male\"\n",
        "\n",
        "person2 = Female()\n",
        "person2.getGender()  # Output: \"Female\"\n"
      ],
      "metadata": {
        "colab": {
          "base_uri": "https://localhost:8080/"
        },
        "id": "phDIsdT3wu-3",
        "outputId": "5c643685-cc58-42b6-9cc2-7e68977023e8"
      },
      "execution_count": 3,
      "outputs": [
        {
          "output_type": "stream",
          "name": "stdout",
          "text": [
            "Male\n",
            "Female\n"
          ]
        }
      ]
    },
    {
      "cell_type": "code",
      "source": [
        "#Please write a program to generate all sentences where subject is in [&quot;I&quot;, &quot;You&quot;] and\n",
        "#verb is in [&quot;Play&quot;, &quot;Love&quot;] and the object is in [&quot;Hockey&quot;,&quot;Football&quot;].\n",
        "subjects = [\"I\", \"You\"]\n",
        "verbs = [\"Play\", \"Love\"]\n",
        "objects = [\"Hockey\", \"Football\"]\n",
        "\n",
        "sentences = []\n",
        "\n",
        "for subject in subjects:\n",
        "    for verb in verbs:\n",
        "        for obj in objects:\n",
        "            sentence = f\"{subject} {verb} {obj}.\"\n",
        "            sentences.append(sentence)\n",
        "\n",
        "# Print all generated sentences\n",
        "for sentence in sentences:\n",
        "    print(sentence)\n"
      ],
      "metadata": {
        "colab": {
          "base_uri": "https://localhost:8080/"
        },
        "id": "5yUQgZ_vw9zO",
        "outputId": "585eb9bf-c3c2-4adb-a857-325453f5837a"
      },
      "execution_count": 4,
      "outputs": [
        {
          "output_type": "stream",
          "name": "stdout",
          "text": [
            "I Play Hockey.\n",
            "I Play Football.\n",
            "I Love Hockey.\n",
            "I Love Football.\n",
            "You Play Hockey.\n",
            "You Play Football.\n",
            "You Love Hockey.\n",
            "You Love Football.\n"
          ]
        }
      ]
    },
    {
      "cell_type": "code",
      "source": [
        "#Please write a program to compress and decompress the string &quot;hello world!hello\n",
        "#world!hello world!hello world!&quot;.\n",
        "import gzip\n",
        "\n",
        "def compress_string(string):\n",
        "    compressed_data = gzip.compress(string.encode())\n",
        "    return compressed_data\n",
        "\n",
        "def decompress_string(compressed_data):\n",
        "    decompressed_string = gzip.decompress(compressed_data).decode()\n",
        "    return decompressed_string\n",
        "\n",
        "# Example usage:\n",
        "original_string = \"hello world!hello world!hello world!hello world!\"\n",
        "\n",
        "compressed_data = compress_string(original_string)\n",
        "print(\"Compressed data:\", compressed_data)\n",
        "\n",
        "decompressed_string = decompress_string(compressed_data)\n",
        "print(\"Decompressed string:\", decompressed_string)\n"
      ],
      "metadata": {
        "colab": {
          "base_uri": "https://localhost:8080/"
        },
        "id": "68lO8qPUxGqM",
        "outputId": "c0c9e7cb-2364-4938-c459-414fda4df787"
      },
      "execution_count": 5,
      "outputs": [
        {
          "output_type": "stream",
          "name": "stdout",
          "text": [
            "Compressed data: b'\\x1f\\x8b\\x08\\x00\\xccm\\x7fd\\x02\\xff\\xcbH\\xcd\\xc9\\xc9W(\\xcf/\\xcaIQ\\xcc \\x82\\r\\x00\\xd3\\xe6\\xcf\\xae0\\x00\\x00\\x00'\n",
            "Decompressed string: hello world!hello world!hello world!hello world!\n"
          ]
        }
      ]
    },
    {
      "cell_type": "code",
      "source": [
        "#Please write a binary search function which searches an item in a sorted list. The\n",
        "#function should return the index of element to be searched in the list.\n",
        "def binary_search(arr, target):\n",
        "    left = 0\n",
        "    right = len(arr) - 1\n",
        "\n",
        "    while left <= right:\n",
        "        mid = (left + right) // 2\n",
        "\n",
        "        if arr[mid] == target:\n",
        "            return mid\n",
        "        elif arr[mid] < target:\n",
        "            left = mid + 1\n",
        "        else:\n",
        "            right = mid - 1\n",
        "\n",
        "    return -1  # Item not found\n",
        "\n",
        "# Example usage:\n",
        "sorted_list = [1, 3, 5, 7, 9, 11, 13, 15]\n",
        "target = 9\n",
        "\n",
        "index = binary_search(sorted_list, target)\n",
        "print(\"Index of\", target, \"in the list:\", index)\n"
      ],
      "metadata": {
        "colab": {
          "base_uri": "https://localhost:8080/"
        },
        "id": "r_TGLUxLxOVF",
        "outputId": "e37896f0-27b3-4510-bc92-8f82f7db9414"
      },
      "execution_count": 6,
      "outputs": [
        {
          "output_type": "stream",
          "name": "stdout",
          "text": [
            "Index of 9 in the list: 4\n"
          ]
        }
      ]
    },
    {
      "cell_type": "code",
      "source": [],
      "metadata": {
        "id": "p0e3bWiPxV6q"
      },
      "execution_count": null,
      "outputs": []
    }
  ]
}