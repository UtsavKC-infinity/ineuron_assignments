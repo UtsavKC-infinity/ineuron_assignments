{
  "nbformat": 4,
  "nbformat_minor": 0,
  "metadata": {
    "colab": {
      "provenance": []
    },
    "kernelspec": {
      "name": "python3",
      "display_name": "Python 3"
    },
    "language_info": {
      "name": "python"
    }
  },
  "cells": [
    {
      "cell_type": "markdown",
      "source": [
        "\t\t\t\t\tQues.no.1.Ans\n",
        "\n",
        "a) * = manthematical operators for multiplication\n",
        "\n",
        "b) 'hello' = string\n",
        "\n",
        "c) -87.8 = (-ve) integer\n",
        "\n",
        "d) - = mathematical operator for subtraction\n",
        "\n",
        "e) / = mathematical operator for division\n",
        "\n",
        "f) + = mathematical operator for addition\n",
        "\n",
        "g) 6 = integer value\n"
      ],
      "metadata": {
        "id": "B9d4UZsjUra_"
      }
    },
    {
      "cell_type": "markdown",
      "source": [
        "\t\t\t\t\tQues.no.2.Ans\n",
        "\n",
        "The differnce between string and variables are given in below points:\n",
        "\n",
        "1) String are one of the data types which are used to represent the alphabetic values which are present in between of \n",
        "single or double quotes. In other hand, variables are the place where we store our data and that data might be of\n",
        "any type\n",
        "\n",
        "2)String can be still display by print function even we did not assign it to the variables but if we try to print the variables without \n",
        "without storing any value  then it will print the null values.\n",
        "\n",
        "3)String will not remain last forever if it does not declare inside the variables so variables are used to keep the record of data\n",
        "through out the program . So string value relie on varaibels to get store and reuse the same kind of value further more in entire \n",
        "program\n",
        "\n",
        "4)There is no any certain convention for the string data type if it define in between of quotes but to decalre varibales we shuould\n",
        "folloe certain convention like never start variable name with number and try to avoid to use sign, symbol and never begin your \n",
        "variable first letter with capital becasuse it will could casue error\n",
        "\n",
        "5)Exmaple of String : \"Hello World\". Exmaple of Variabels :  display_output = \"Hello World\"\n",
        "\n"
      ],
      "metadata": {
        "id": "gzFMY0zsU5xm"
      }
    },
    {
      "cell_type": "markdown",
      "source": [
        "\t\t\tQues.no.3.Ans\n",
        "\n",
        "The three different data types are:\n",
        "\n",
        "1)integer\n",
        "\n",
        "Integer are the one of the data type in python which will contain only the non decimal valeus like 1,2,3,4,5 etc. \n",
        "\n",
        "We use integer values for the mathematical operations like addition, subtraction, multiplication etc. Python is dynamically typed langauge so we don't need to declare varaible type like int a = 2, so we can decalre it just by a = 2.\n",
        "\n",
        "2) float\n",
        "\n",
        "Float are one of the data type in python which will contain the decimal values like 1.1,2.5 etc. Flot are just like the integer but in here we also count the number that come after the decimal values. We also use float to do verious mathematical calculations.\n",
        "\n",
        "3) boolean \n",
        "\n",
        "Boolean are one of the data type in python which will represnt true and false value. The value that we obtain from boolean data type will come from the execution of certain conditon provide by the programmer. We can store the boolean values in variabelsalso. Eg: is_true = True\n",
        "\n"
      ],
      "metadata": {
        "id": "DrBvDrLVVe21"
      }
    },
    {
      "cell_type": "markdown",
      "source": [
        "\n",
        "\t\t\tQues.no.4.Ans\n",
        "\n",
        "Expression are made up of by following ways:\n",
        "\n",
        "a) a+b \n",
        "\n",
        "b) (2*5)+3 \n",
        "\n",
        "As we know that expression are the piece of code that produced a value so all the expression which we write in our program to \n",
        "evalute some result after successfully execution of expression.\n"
      ],
      "metadata": {
        "id": "XDI2KTCdV9Wm"
      }
    },
    {
      "cell_type": "markdown",
      "source": [
        "\n",
        "\t\t\tQues.no.5.Ans\n",
        "\n",
        "The defference between expression and statment are listed below in points:\n",
        "\n",
        "1) from the example spam = 10. In where we can see that spam and 10 are the expression and when both spam and 10 come togther like spam = 10 than it is a statement.\n",
        "\n",
        "2)An expression is any word or group of words or symbols that is a value but statment is a group of expressions and/or statements that you design to carry out a task or an action\n",
        "\n",
        "\n"
      ],
      "metadata": {
        "id": "zNjzUFO0WJF3"
      }
    },
    {
      "cell_type": "markdown",
      "source": [
        "\n",
        "\t\t\tQues.no.6.Ans\n",
        "\n",
        "The variable bacon will contain 23 value in it.\n"
      ],
      "metadata": {
        "id": "RaG08pCcWWJ4"
      }
    },
    {
      "cell_type": "code",
      "source": [
        "num = 22\n",
        "num+=1\n",
        "print(num)"
      ],
      "metadata": {
        "colab": {
          "base_uri": "https://localhost:8080/"
        },
        "id": "fI0xcXmpWb-J",
        "outputId": "9363feb7-8fc5-4956-fe0c-053632d37897"
      },
      "execution_count": 1,
      "outputs": [
        {
          "output_type": "stream",
          "name": "stdout",
          "text": [
            "23\n"
          ]
        }
      ]
    },
    {
      "cell_type": "markdown",
      "source": [],
      "metadata": {
        "id": "nF-8VaYnWmju"
      }
    },
    {
      "cell_type": "markdown",
      "source": [
        "\t\t\tQues.no.7.Ans\n",
        "\n",
        "The value of 'spam' + 'spamspam' will give us the string value result which is spamspamspam i.e 'spam' + 'spamspam' => spamspamspam"
      ],
      "metadata": {
        "id": "0spfkOsdWqhZ"
      }
    },
    {
      "cell_type": "code",
      "source": [
        "print ('spam' + 'spamspam')"
      ],
      "metadata": {
        "colab": {
          "base_uri": "https://localhost:8080/"
        },
        "id": "vG2o_rV5Wxy6",
        "outputId": "13f7be3f-6220-41a3-aa9a-e514f335d8c5"
      },
      "execution_count": 2,
      "outputs": [
        {
          "output_type": "stream",
          "name": "stdout",
          "text": [
            "spamspamspam\n"
          ]
        }
      ]
    },
    {
      "cell_type": "markdown",
      "source": [
        "\t\t\tQues.no.8.Ans\n",
        "Egg is valid varaible name because variable name begin with the english alaphabet word like a,b,c,d etc. But 100 is not valid\n",
        "variable name because 100 begin with the numeric value which is the bad way to declare the varibale.\n",
        "\n"
      ],
      "metadata": {
        "id": "GzTA7PAQW4Q1"
      }
    },
    {
      "cell_type": "markdown",
      "source": [
        "            \n",
        "\t\t\tQues.no.9.Ans\n",
        "\n",
        "We can use int() function to get the integer value , float() function to get the float value and str() function to ger the string \n",
        "value.\n",
        "\n"
      ],
      "metadata": {
        "id": "d8lnO7HvXAm3"
      }
    },
    {
      "cell_type": "markdown",
      "source": [
        "\n",
        "\t\t\tQues.no.10.Ans\n",
        "\n",
        "We cannot concatenate string type to integer type because it create the TypeError condition. So in order to avoid these case \n",
        "we should use str() function in order print integer as a string.\n",
        "\n"
      ],
      "metadata": {
        "id": "G70mgQ2VXIhx"
      }
    },
    {
      "cell_type": "code",
      "source": [
        "print(\"I have eaten \"+ str(55) +\" burritos\")"
      ],
      "metadata": {
        "colab": {
          "base_uri": "https://localhost:8080/"
        },
        "id": "H7a_WgOfXP1i",
        "outputId": "89c64f1d-5685-4936-b9c2-2125d96a5567"
      },
      "execution_count": 3,
      "outputs": [
        {
          "output_type": "stream",
          "name": "stdout",
          "text": [
            "I have eaten 55 burritos\n"
          ]
        }
      ]
    }
  ]
}
