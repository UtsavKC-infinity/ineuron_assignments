{
  "nbformat": 4,
  "nbformat_minor": 0,
  "metadata": {
    "colab": {
      "provenance": []
    },
    "kernelspec": {
      "name": "python3",
      "display_name": "Python 3"
    },
    "language_info": {
      "name": "python"
    }
  },
  "cells": [
    {
      "cell_type": "markdown",
      "source": [
        "1. What advantages do Excel spreadsheets have over CSV spreadsheets?\n",
        "\n",
        "Ans: Excel spreadsheets have several advantages over CSV (Comma-Separated Values) spreadsheets:\n",
        "\n",
        "a)Formatting: Excel allows you to apply formatting options such as bold, italic, color, borders, and cell alignment to enhance the visual appearance of data. CSV files, on the other hand, are plain text files and do not support formatting.\n",
        "\n",
        "b)Formulas and Functions: Excel provides a wide range of built-in formulas and functions that allow you to perform complex calculations, mathematical operations, data analysis, and more. CSV files are simply text files and do not have built-in formula support.\n",
        "\n",
        "c)Multiple Sheets and Workbooks: Excel allows you to work with multiple sheets within a single workbook and multiple workbooks simultaneously. This makes it easier to organize and manage large amounts of data. CSV files are typically single-sheet and standalone files.\n",
        "\n",
        "d)Data Validation: Excel provides data validation features that allow you to define rules and restrictions on data entry, ensuring data integrity and consistency. This includes options like drop-down lists, data validation rules, and custom error messages. CSV files do not have built-in data validation capabilities."
      ],
      "metadata": {
        "id": "DjTIR_X2sXaC"
      }
    },
    {
      "cell_type": "markdown",
      "source": [
        "2.What do you pass to csv.reader() and csv.writer() to create reader and writer objects?\n",
        "\n",
        "Ans: To create reader and writer objects using the csv module in Python, you pass a file object to the csv.reader() and csv.writer() functions"
      ],
      "metadata": {
        "id": "I-mkuS5msrkb"
      }
    },
    {
      "cell_type": "markdown",
      "source": [
        "3. What modes do File objects for reader and writer objects need to be opened in?\n",
        "\n",
        "Ans: For reader and writer objects in the csv module, the File objects need to be opened in the following modes:\n",
        "\n",
        "1) Reader object:\n",
        "\n",
        "The File object used with csv.reader() needs to be opened in read mode ('r') or text mode ('rt').\n",
        "\n",
        "2) Writer object:\n",
        "\n",
        "The File object used with csv.writer() needs to be opened in write mode ('w') or text mode ('wt').\n",
        "It's important to note that if the file already exists, opening it in write mode will overwrite the existing content. If you want to append to an existing file, you can use append mode ('a') or text append mode ('at').\n",
        "\n"
      ],
      "metadata": {
        "id": "RXcEDokOtEWm"
      }
    },
    {
      "cell_type": "markdown",
      "source": [
        "4. What method takes a list argument and writes it to a CSV file?\n",
        "\n",
        "Ans: The writerow() method is used to write a single row (represented as a list) to a CSV file using a csv.writer object. To write multiple rows, you can repeatedly call the writerow() method for each row."
      ],
      "metadata": {
        "id": "VTPqMYvytfZ7"
      }
    },
    {
      "cell_type": "markdown",
      "source": [
        "5. What do the keyword arguments delimiter and line terminator do?\n",
        "\n",
        "Ans: The keyword arguments delimiter and line_terminator are used in the csv.writer object to specify the formatting options for the CSV file.\n",
        "\n",
        "1) delimiter: This argument specifies the character or string that separates the fields (columns) within a row in the CSV file. By default, the delimiter is a comma (,), but you can override it by providing a different character or string. For example, setting delimiter=';' would use a semicolon as the delimiter instead of a comma.\n",
        "\n",
        "2) line_terminator: This argument specifies the character or string used to terminate each row in the CSV file. It determines how the rows are separated from each other. By default, the line terminator is the newline character ('\\n'), but you can customize it by providing a different character or string. For example, setting line_terminator='\\r\\n' would use a carriage return followed by a newline as the line terminator."
      ],
      "metadata": {
        "id": "6JERM7RMtxkI"
      }
    },
    {
      "cell_type": "markdown",
      "source": [
        "6. What function takes a string of JSON data and returns a Python data structure?\n",
        "\n",
        "Ans: The function that takes a string of JSON data and returns a Python data structure is called json.loads(). \n"
      ],
      "metadata": {
        "id": "hZJt4n0zuEmW"
      }
    },
    {
      "cell_type": "markdown",
      "source": [
        "7. What function takes a Python data structure and returns a string of JSON data?\n",
        "\n",
        "Ans: The function that takes a Python data structure and returns a string of JSON data is called json.dumps()"
      ],
      "metadata": {
        "id": "UYe6JZXruNZt"
      }
    }
  ]
}