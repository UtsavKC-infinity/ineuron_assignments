{
  "nbformat": 4,
  "nbformat_minor": 0,
  "metadata": {
    "colab": {
      "provenance": []
    },
    "kernelspec": {
      "name": "python3",
      "display_name": "Python 3"
    },
    "language_info": {
      "name": "python"
    }
  },
  "cells": [
    {
      "cell_type": "markdown",
      "source": [
        "1. What exactly is []?\n",
        "\n",
        "Ans: Big bracket which is represented by [], is used to define the list in the python. It is not mendatory always to assign variable with these [] bracket indentation because in python we also represent the list by using list() method which is inbuilt method in python. Using list() method is the good practice whenever we want to use the list in our program."
      ],
      "metadata": {
        "id": "0fa0ViL-oLls"
      }
    },
    {
      "cell_type": "markdown",
      "source": [
        "2. In a list of values stored in a variable called spam, how would you assign the value &#39;hello&#39; as the\n",
        "third value? (Assume [2, 4, 6, 8, 10] are in spam.)\n",
        "\n",
        "Ans: I will use insert() method in these case because insert() method help us to enter the value in the specified index which is choose by us so it not insert the element to the last just like append method. \n",
        "\n"
      ],
      "metadata": {
        "id": "PBsXC1ZEplcH"
      }
    },
    {
      "cell_type": "code",
      "execution_count": 25,
      "metadata": {
        "colab": {
          "base_uri": "https://localhost:8080/"
        },
        "id": "cP7wKS3eoKy9",
        "outputId": "128c9761-1a60-46ec-dda1-22afb8700b0e"
      },
      "outputs": [
        {
          "output_type": "stream",
          "name": "stdout",
          "text": [
            "[2, 4, 6, 'hello', 8, 10]\n"
          ]
        }
      ],
      "source": [
        "spam = [2,4,6,8,10]\n",
        "spam.insert(3,'hello')\n",
        "print(spam)"
      ]
    },
    {
      "cell_type": "markdown",
      "source": [
        "Let&#39;s pretend the spam includes the list [&#39;a&#39;, &#39;b&#39;, &#39;c&#39;, &#39;d&#39;] for the next three queries."
      ],
      "metadata": {
        "id": "dejPjqsKrZFw"
      }
    },
    {
      "cell_type": "code",
      "source": [
        "spam.extend(['a', 'b', 'c', 'd'])\n",
        "spam"
      ],
      "metadata": {
        "colab": {
          "base_uri": "https://localhost:8080/"
        },
        "id": "ZbNNb7ScsUWp",
        "outputId": "52e45e9e-2427-420f-a7e5-f9c58d9a34fe"
      },
      "execution_count": 26,
      "outputs": [
        {
          "output_type": "execute_result",
          "data": {
            "text/plain": [
              "[2, 4, 6, 'hello', 8, 10, 'a', 'b', 'c', 'd']"
            ]
          },
          "metadata": {},
          "execution_count": 26
        }
      ]
    },
    {
      "cell_type": "markdown",
      "source": [
        "3. What is the value of spam[int(int(&#39;3&#39; * 2) / 11)]?\n",
        "\n",
        "Ans : \n",
        "\n",
        "      spam[int(int(&#39;3&#39; * 2) / 11)]\n",
        "\n",
        "      spam[int(int('33')/11)]\n",
        "\n",
        "      spam[int(33/11)]\n",
        "\n",
        "      spam[3]\n",
        "\n",
        "      from index 3 we will get 'hello' from the spam"
      ],
      "metadata": {
        "id": "NF2bnbyCtHc7"
      }
    },
    {
      "cell_type": "code",
      "source": [
        "spam[int(int('3' * 2) / 11)]"
      ],
      "metadata": {
        "colab": {
          "base_uri": "https://localhost:8080/",
          "height": 35
        },
        "id": "6fDeK0nBs-IN",
        "outputId": "759ab592-a380-417d-f362-e9cd38df34ab"
      },
      "execution_count": 27,
      "outputs": [
        {
          "output_type": "execute_result",
          "data": {
            "text/plain": [
              "'hello'"
            ],
            "application/vnd.google.colaboratory.intrinsic+json": {
              "type": "string"
            }
          },
          "metadata": {},
          "execution_count": 27
        }
      ]
    },
    {
      "cell_type": "markdown",
      "source": [
        "4.What is the value of spam[-1]?\n",
        "\n",
        "Ans: -1 is the negative index so which indicate the last element of the list. So whatever elemenet we have in last index of the list then that element will print. So in our case , we will get \"d\"."
      ],
      "metadata": {
        "id": "6V26E95xuMAj"
      }
    },
    {
      "cell_type": "code",
      "source": [
        "spam[-1]"
      ],
      "metadata": {
        "colab": {
          "base_uri": "https://localhost:8080/",
          "height": 35
        },
        "id": "S-_sPD8dt1T9",
        "outputId": "2d12a333-4275-4efe-e43a-a5641486477b"
      },
      "execution_count": 28,
      "outputs": [
        {
          "output_type": "execute_result",
          "data": {
            "text/plain": [
              "'d'"
            ],
            "application/vnd.google.colaboratory.intrinsic+json": {
              "type": "string"
            }
          },
          "metadata": {},
          "execution_count": 28
        }
      ]
    },
    {
      "cell_type": "markdown",
      "source": [
        "5.What is the value of spam[:2]?\n",
        "\n",
        "Ans: spam[:2] is the slicing of index so in here the element from 0 to 1 element will print but 2 index element  will not print because python consider 2 as a end point of the slicing so end point only be the barrier point and it get exclude during slicing. \n",
        "\n",
        "spam[:2] => [2,4]"
      ],
      "metadata": {
        "id": "UMaaeSGau64l"
      }
    },
    {
      "cell_type": "code",
      "source": [
        "spam[:2]"
      ],
      "metadata": {
        "colab": {
          "base_uri": "https://localhost:8080/"
        },
        "id": "4izaRzk7u3Gp",
        "outputId": "be281f52-41a2-413e-f87b-2a5f31541eec"
      },
      "execution_count": 30,
      "outputs": [
        {
          "output_type": "execute_result",
          "data": {
            "text/plain": [
              "[2, 4, 6, 'hello', 8, 10, 'a', 'b', 'c', 'd']"
            ]
          },
          "metadata": {},
          "execution_count": 30
        }
      ]
    },
    {
      "cell_type": "markdown",
      "source": [
        "6.Let&#39;s pretend bacon has the list [3.14, &#39;cat,&#39; 11, &#39;cat,&#39; True] for the next three questions.\n"
      ],
      "metadata": {
        "id": "Mr2b97pTwu7M"
      }
    },
    {
      "cell_type": "code",
      "source": [
        "bacon = [3.14, 'cat', 11, 'cat', True]\n"
      ],
      "metadata": {
        "id": "vVin1x78wbRN"
      },
      "execution_count": 39,
      "outputs": []
    },
    {
      "cell_type": "markdown",
      "source": [
        "6. What is the value of bacon.index(&#39;cat&#39;)?\n",
        "\n",
        "Ans: The value of bacon.index(&#39;cat&#39;) is 1 because only the first occurance of element will print which is present in the list and searching of element always go from left to right when we use the index() method."
      ],
      "metadata": {
        "id": "mJhQ5FRkxCjO"
      }
    },
    {
      "cell_type": "code",
      "source": [
        "bacon.index('cat')"
      ],
      "metadata": {
        "colab": {
          "base_uri": "https://localhost:8080/"
        },
        "id": "6-1GzNLkw4Dk",
        "outputId": "5384b9e7-47f7-459c-b2c1-09413ba4f030"
      },
      "execution_count": 40,
      "outputs": [
        {
          "output_type": "execute_result",
          "data": {
            "text/plain": [
              "1"
            ]
          },
          "metadata": {},
          "execution_count": 40
        }
      ]
    },
    {
      "cell_type": "markdown",
      "source": [
        "7. How does bacon.append(99) change the look of the list value in bacon?\n",
        "\n",
        "Ans: It will just add the 99 as the last element of the list and after adding the 99 it will also increase the length of the list."
      ],
      "metadata": {
        "id": "-NhPmtptx6Fw"
      }
    },
    {
      "cell_type": "code",
      "source": [
        "bacon.append(99)\n",
        "print(bacon)"
      ],
      "metadata": {
        "colab": {
          "base_uri": "https://localhost:8080/"
        },
        "id": "GD4miuFhyTKi",
        "outputId": "78961774-e493-4b7d-98f4-bc897d4ff3b1"
      },
      "execution_count": 41,
      "outputs": [
        {
          "output_type": "stream",
          "name": "stdout",
          "text": [
            "[3.14, 'cat', 11, 'cat', True, 99]\n"
          ]
        }
      ]
    },
    {
      "cell_type": "markdown",
      "source": [
        "8. How does bacon.remove(&#39;cat&#39;) change the look of the list in bacon?\n",
        "\n",
        "Ans: bacon.remove('cat') will remove the 'cat' element of the index 1 from the list becasue remove() method is used to remove the element permanently from the list so while removing element first remove rement search the element from left to right then whenever the element found it will remove and the list will again rearrange after removing the element. If there any copy of that element present in the list then it will not delted becasue remove() method only delte element which come first."
      ],
      "metadata": {
        "id": "BCpKvl0syo72"
      }
    },
    {
      "cell_type": "code",
      "source": [
        "bacon.remove(\"cat\")\n",
        "bacon"
      ],
      "metadata": {
        "colab": {
          "base_uri": "https://localhost:8080/"
        },
        "id": "fPfY5tfIyiWZ",
        "outputId": "fbae4297-9f0c-4fca-f6e6-9697b4b623b7"
      },
      "execution_count": 42,
      "outputs": [
        {
          "output_type": "execute_result",
          "data": {
            "text/plain": [
              "[3.14, 11, 'cat', True, 99]"
            ]
          },
          "metadata": {},
          "execution_count": 42
        }
      ]
    },
    {
      "cell_type": "markdown",
      "source": [
        "9. What are the list concatenation and list replication operators?\n",
        "\n",
        "Ans: For the list concatenation we use '+' operator which main goal is to add the new list to the existing list but it is not permanent in nature.\n",
        "\n",
        "      Eg: A=[1,2,3]\n",
        "          A = A + [4,5,6]\n",
        "          print(A) \n",
        "\n",
        "          o/p: [1,2,3,4,5,6]\n",
        "\n",
        "\n",
        "\n",
        "For the list replication operators we use \"*\" sign which main goal is to replicate the value of the given list and which will prent the duplicates value of the element in the list.\n",
        "\n",
        "\n",
        "      Eg: A=[1,2,3]\n",
        "          A = A * 2\n",
        "          print(A)\n",
        "\n",
        "          o/p: [1,2,3,1,2,3]"
      ],
      "metadata": {
        "id": "tGZ73y0Ez2l7"
      }
    },
    {
      "cell_type": "markdown",
      "source": [
        "10. What is difference between the list methods append() and insert()?\n",
        "\n",
        "Ans: \n",
        "\n",
        "1.   append() method is used to add the element in the last index of the list whereas insert() method is used to insert the element in the user provided index  \n",
        "2.   append() method only take the object i.e append(object) in it whereas insert() method  take index alog with object i.e insert(index, object)\n",
        "\n",
        "\n",
        "        append example: \n",
        "\n",
        "        A = [1,2,3]\n",
        "        A.append([\"h\",\"i\"])\n",
        "        print(A)\n",
        "\n",
        "        o/p : [1,2,3,[\"h\",\"i\"]]\n",
        "\n",
        "        insert() example:\n",
        "\n",
        "        A = [1,2,3]\n",
        "        A.insert(0,[\"h\",\"i])\n",
        "        print(A)\n",
        "\n",
        "        o/p : [[\"h\",\"i\"],1,2,3]\n",
        "\n"
      ],
      "metadata": {
        "id": "-D0PXriD1aq8"
      }
    },
    {
      "cell_type": "markdown",
      "source": [
        "11. What are the two methods for removing items from a list?\n",
        "\n",
        "And : Three/Two method are:\n",
        "\n",
        "\n",
        "1.   remove() : to reomove single element \n",
        "\n",
        "2.   del list_name[index] : to remove element by using the index\n",
        "\n",
        "3. clear() : to remove all the elements\n",
        "\n"
      ],
      "metadata": {
        "id": "mmZFpVmE4Oci"
      }
    },
    {
      "cell_type": "markdown",
      "source": [
        "12. Describe how list values and string values are identical.\n",
        "\n",
        "Ans: list values and string values are identical and that are described in below points:\n",
        "\n",
        "\n",
        "\n",
        "1.   we can iterate through list as well as string values\n",
        "2.   we can accessing the element through the index of the element\n",
        "3. string and list both are objects in python\n",
        "4. we can use method like count() in both list and string\n",
        "\n"
      ],
      "metadata": {
        "id": "BOGdFHNz5WDQ"
      }
    },
    {
      "cell_type": "markdown",
      "source": [
        "13. What&#39;s the difference between tuples and lists?\n",
        "\n",
        "Ans: The difference between tuples and lists are:\n",
        "\n",
        "\n",
        "1.   tuples are immutable i.e we cannot remove element or modify element in nature but list are mutable in nature i.e we can remove or modify the element \n",
        "2.   tuples are represented by \"()\" whereas list are represented by \"[]\"\n",
        "3. We use tuple in such case when we don't want to change our data strucute and neither we want to add some element on it but we use list everytime because list is dynamic in nature so we can perform any actions in list\n",
        "\n"
      ],
      "metadata": {
        "id": "LpsXjiHn7B_m"
      }
    },
    {
      "cell_type": "markdown",
      "source": [
        "14. How do you type a tuple value that only contains the integer 42?\n",
        "\n",
        "Ans: We can use type() method in these case i.e if tuple have only contain 42 integer and there is no any other data types elements expect of 42 and there is no seperation of element by comma \",\" so in such case python think the number inside bracket as a whole data type even though it is in tuple\n",
        "\n",
        "\n",
        "      example: A = (42)\n",
        "              print(type(A))\n",
        "\n",
        "              o/p : integer"
      ],
      "metadata": {
        "id": "vm99tzvR9CJW"
      }
    },
    {
      "cell_type": "code",
      "source": [
        "A = (42)\n",
        "print(type(A))"
      ],
      "metadata": {
        "colab": {
          "base_uri": "https://localhost:8080/"
        },
        "id": "OIET5F5P8Mfl",
        "outputId": "33a6b971-1d0f-4541-f0fe-ded23617d01d"
      },
      "execution_count": 84,
      "outputs": [
        {
          "output_type": "stream",
          "name": "stdout",
          "text": [
            "<class 'int'>\n"
          ]
        }
      ]
    },
    {
      "cell_type": "markdown",
      "source": [
        "15. How do you get a list value&#39;s tuple form? How do you get a tuple value&#39;s list form?\n",
        "\n",
        "Ans: \n",
        "1.   We can get list value to tuple form by using tuple() mehtod in where we declare list  object inside tuple() method .\n",
        "2.   We can get tuple value to list form by using the list() method in where we declare the tuple object inside the list() method\n",
        "\n"
      ],
      "metadata": {
        "id": "ZhebSdeY_8bo"
      }
    },
    {
      "cell_type": "code",
      "source": [
        "#tuple to list conversion\n",
        "A = (1,2,3)\n",
        "A = list(A)\n",
        "print(A , type(A))\n",
        "\n",
        "print(\"*\"*20)\n",
        "\n",
        "# list to tuple conversion\n",
        "B = [1,2,3]\n",
        "B = tuple(B)\n",
        "print(B, type(B))"
      ],
      "metadata": {
        "colab": {
          "base_uri": "https://localhost:8080/"
        },
        "id": "nL9QcapY-Abr",
        "outputId": "8632d8dd-9c15-474f-c949-d8d185ac92d0"
      },
      "execution_count": 90,
      "outputs": [
        {
          "output_type": "stream",
          "name": "stdout",
          "text": [
            "[1, 2, 3] <class 'list'>\n",
            "********************\n",
            "(1, 2, 3) <class 'tuple'>\n"
          ]
        }
      ]
    },
    {
      "cell_type": "markdown",
      "source": [
        "16. Variables that &quot;contain&quot; list values are not necessarily lists themselves. Instead, what do they\n",
        "contain?\n",
        "\n",
        "Ans: Variables that \"contain\" list values actually contain references to the list values. In other words, a variable does not contain the list itself, but rather it contains a reference to the location in memory where the list is stored. This is true for variables that contain any type of complex object, not just lists. When you create a list and assign it to a variable, you are creating a reference to the list, not a copy of the list."
      ],
      "metadata": {
        "id": "eExL75N0BW6-"
      }
    },
    {
      "cell_type": "markdown",
      "source": [
        "17. How do you distinguish between copy.copy() and copy.deepcopy()?\n",
        "\n",
        "Ans: \n",
        "\n",
        "1.   The copy() function creates a shallow copy of an object. This means that it creates a new object with a new reference to the same data as the original object. If the original object contains references to other objects, the copy will also contain references to the same objects as the original. Any changes made to the original object or the objects it refers to will be reflected in the copy. \n",
        "2.   The deepcopy() function, on the other hand, creates a deep copy of an object. This means that it creates a new object with a new reference to a new set of data that is a copy of the original object's data. If the original object contains references to other objects, the copy will contain copies of those objects as well, rather than references to the same objects. Any changes made to the original object or the objects it refers to will not be reflected in the copy.\n",
        "\n"
      ],
      "metadata": {
        "id": "LKkpnYZ8DLui"
      }
    },
    {
      "cell_type": "code",
      "source": [],
      "metadata": {
        "id": "tfsrmag3Bncn"
      },
      "execution_count": null,
      "outputs": []
    }
  ]
}