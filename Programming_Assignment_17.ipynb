{
  "nbformat": 4,
  "nbformat_minor": 0,
  "metadata": {
    "colab": {
      "provenance": []
    },
    "kernelspec": {
      "name": "python3",
      "display_name": "Python 3"
    },
    "language_info": {
      "name": "python"
    }
  },
  "cells": [
    {
      "cell_type": "markdown",
      "source": [
        "Question1. Create a function that takes three arguments a, b, c and returns the sum of the\n",
        "numbers that are evenly divided by c from the range a, b inclusive."
      ],
      "metadata": {
        "id": "K57VKN6X2azD"
      }
    },
    {
      "cell_type": "code",
      "execution_count": 2,
      "metadata": {
        "colab": {
          "base_uri": "https://localhost:8080/"
        },
        "id": "u24VlGRf2Xv1",
        "outputId": "5d694c8e-7a2e-4378-f420-c72051eeb982"
      },
      "outputs": [
        {
          "output_type": "stream",
          "name": "stdout",
          "text": [
            "Enter the value of a: 1\n",
            "Enter the value of b: 10\n",
            "Enter the value of c: 20\n",
            "Sum of numbers divisible by 20 from 1 to 10 : 0\n"
          ]
        }
      ],
      "source": [
        "def sum_numbers_divisible_by_c(a, b, c):\n",
        "    total = 0\n",
        "\n",
        "    for num in range(a, b+1):\n",
        "        if num % c == 0:\n",
        "            total += num\n",
        "\n",
        "    return total\n",
        "\n",
        "# Example usage:\n",
        "a = int(input(\"Enter the value of a: \"))\n",
        "b = int(input(\"Enter the value of b: \"))\n",
        "c = int(input(\"Enter the value of c: \"))\n",
        "\n",
        "result = sum_numbers_divisible_by_c(a, b, c)\n",
        "print(\"Sum of numbers divisible by\", c, \"from\", a, \"to\", b, \":\", result)\n"
      ]
    },
    {
      "cell_type": "markdown",
      "source": [
        "Question2. Create a function that returns True if a given inequality expression is correct and\n",
        "False otherwise.\n",
        "\n"
      ],
      "metadata": {
        "id": "n0PJH5-72rpb"
      }
    },
    {
      "cell_type": "code",
      "source": [
        "def correct_signs(expression):\n",
        "    return eval(expression)\n",
        "\n",
        "# Examples:\n",
        "print(correct_signs(\"3 < 7 < 11\"))  # Output: True\n",
        "print(correct_signs(\"13 > 44 > 33 > 1\"))  # Output: False\n",
        "print(correct_signs(\"1 < 2 < 6 < 9 > 3\"))  # Output: True\n"
      ],
      "metadata": {
        "colab": {
          "base_uri": "https://localhost:8080/"
        },
        "id": "lU2ZOXtO2gYr",
        "outputId": "b82dfddb-731f-41ba-8638-a28054e7606d"
      },
      "execution_count": 3,
      "outputs": [
        {
          "output_type": "stream",
          "name": "stdout",
          "text": [
            "True\n",
            "False\n",
            "True\n"
          ]
        }
      ]
    },
    {
      "cell_type": "markdown",
      "source": [
        "Question3. Create a function that replaces all the vowels in a string with a specified character.\n"
      ],
      "metadata": {
        "id": "6n-cgHc4210Z"
      }
    },
    {
      "cell_type": "code",
      "source": [
        "def replace_vowels(string, replacement):\n",
        "    vowels = 'aeiouAEIOU'\n",
        "    replaced_string = \"\"\n",
        "\n",
        "    for char in string:\n",
        "        if char in vowels:\n",
        "            replaced_string += replacement\n",
        "        else:\n",
        "            replaced_string += char\n",
        "\n",
        "    return replaced_string\n",
        "\n",
        "# Examples:\n",
        "print(replace_vowels(\"the aardvark\", \"#\"))  # Output: \"th# ##rdv#rk\"\n",
        "print(replace_vowels(\"minnie mouse\", \"?\"))  # Output: \"m?nn?? m??s?\"\n",
        "print(replace_vowels(\"shakespeare\", \"*\"))  # Output: \"sh*k*sp**r*\"\n"
      ],
      "metadata": {
        "colab": {
          "base_uri": "https://localhost:8080/"
        },
        "id": "PkLNXO9c2xny",
        "outputId": "1dbadcea-821f-4ddd-cb65-302e23cce784"
      },
      "execution_count": 4,
      "outputs": [
        {
          "output_type": "stream",
          "name": "stdout",
          "text": [
            "th# ##rdv#rk\n",
            "m?nn?? m??s?\n",
            "sh*k*sp**r*\n"
          ]
        }
      ]
    },
    {
      "cell_type": "markdown",
      "source": [
        "Question4. Write a function that calculates the factorial of a number recursively.\n"
      ],
      "metadata": {
        "id": "C5Oi_IK63Eqz"
      }
    },
    {
      "cell_type": "code",
      "source": [
        "def factorial(n):\n",
        "    if n == 0 or n == 1:\n",
        "        return 1\n",
        "    else:\n",
        "        return n * factorial(n - 1)\n",
        "\n",
        "# Examples:\n",
        "print(factorial(5))  # Output: 120\n",
        "print(factorial(3))  # Output: 6\n",
        "print(factorial(1))  # Output: 1\n",
        "print(factorial(0))  # Output: 1\n"
      ],
      "metadata": {
        "colab": {
          "base_uri": "https://localhost:8080/"
        },
        "id": "_NI-KkdD2-1d",
        "outputId": "75db9af9-dedc-4750-cc1d-eea1c2f82811"
      },
      "execution_count": 6,
      "outputs": [
        {
          "output_type": "stream",
          "name": "stdout",
          "text": [
            "120\n",
            "6\n",
            "1\n",
            "1\n"
          ]
        }
      ]
    },
    {
      "cell_type": "markdown",
      "source": [
        "Question 5\n",
        "Hamming distance is the number of characters that differ between two strings.\n",
        "To illustrate:\n",
        "String1: &quot;abcbba&quot;\n",
        "String2: &quot;abcbda&quot;\n",
        "Hamming Distance: 1 - &quot;b&quot; vs. &quot;d&quot; is the only difference.\n",
        "Create a function that computes the hamming distance between two strings.\n"
      ],
      "metadata": {
        "id": "LtRiWADe3NFz"
      }
    },
    {
      "cell_type": "code",
      "source": [
        "def hamming_distance(str1, str2):\n",
        "    if len(str1) != len(str2):\n",
        "        raise ValueError(\"Strings must have the same length.\")\n",
        "\n",
        "    distance = 0\n",
        "    for char1, char2 in zip(str1, str2):\n",
        "        if char1 != char2:\n",
        "            distance += 1\n",
        "\n",
        "    return distance\n",
        "\n",
        "# Examples:\n",
        "print(hamming_distance(\"abcde\", \"bcdef\"))  # Output: 5\n",
        "print(hamming_distance(\"abcde\", \"abcde\"))  # Output: 0\n",
        "print(hamming_distance(\"strong\", \"strung\"))  # Output: 1\n"
      ],
      "metadata": {
        "colab": {
          "base_uri": "https://localhost:8080/"
        },
        "id": "Hw3e7jLJ3DTR",
        "outputId": "bed3fe4e-ccd9-423b-c85e-4a2fb66c72e7"
      },
      "execution_count": 7,
      "outputs": [
        {
          "output_type": "stream",
          "name": "stdout",
          "text": [
            "5\n",
            "0\n",
            "1\n"
          ]
        }
      ]
    },
    {
      "cell_type": "code",
      "source": [],
      "metadata": {
        "id": "SqfykokK3WTK"
      },
      "execution_count": null,
      "outputs": []
    }
  ]
}