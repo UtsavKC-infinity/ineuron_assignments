{
  "nbformat": 4,
  "nbformat_minor": 0,
  "metadata": {
    "colab": {
      "provenance": []
    },
    "kernelspec": {
      "name": "python3",
      "display_name": "Python 3"
    },
    "language_info": {
      "name": "python"
    }
  },
  "cells": [
    {
      "cell_type": "markdown",
      "source": [
        "1. Create an assert statement that throws an AssertionError if the variable spam is a negative\n",
        "integer.\n",
        "\n",
        "Ans: an example of an assert statement that throws an AssertionError if the variable spam is a negative integer:\n",
        "\n"
      ],
      "metadata": {
        "id": "KtqgKI1YmHMM"
      }
    },
    {
      "cell_type": "code",
      "execution_count": null,
      "metadata": {
        "id": "Lq_xGhkymDhV"
      },
      "outputs": [],
      "source": [
        "spam = -5\n",
        "\n",
        "assert spam >= 0, \"spam should not be a negative integer.\"\n"
      ]
    },
    {
      "cell_type": "markdown",
      "source": [
        "2. Write an assert statement that triggers an AssertionError if the variables eggs and bacon contain\n",
        "strings that are the same as each other, even if their cases are different (that is, &#39;hello&#39; and &#39;hello&#39; are\n",
        "considered the same, and &#39;goodbye&#39; and &#39;GOODbye&#39; are also considered the same).\n",
        "\n",
        "Ans: an example of an assert statement that triggers an AssertionError if the variables eggs and bacon contain strings that are the same as each other, even if their cases are different:"
      ],
      "metadata": {
        "id": "amv_kdFQmWc6"
      }
    },
    {
      "cell_type": "code",
      "source": [
        "eggs = \"Hello\"\n",
        "bacon = \"hello\"\n",
        "\n",
        "assert eggs.lower() != bacon.lower(), \"eggs and bacon should not be the same.\"\n",
        "\n"
      ],
      "metadata": {
        "colab": {
          "base_uri": "https://localhost:8080/",
          "height": 218
        },
        "id": "A0jMsyZUmgZG",
        "outputId": "9e88d84a-8502-4e71-9647-143d4c79d56e"
      },
      "execution_count": 2,
      "outputs": [
        {
          "output_type": "error",
          "ename": "AssertionError",
          "evalue": "ignored",
          "traceback": [
            "\u001b[0;31m---------------------------------------------------------------------------\u001b[0m",
            "\u001b[0;31mAssertionError\u001b[0m                            Traceback (most recent call last)",
            "\u001b[0;32m<ipython-input-2-de2e8353ea2e>\u001b[0m in \u001b[0;36m<cell line: 4>\u001b[0;34m()\u001b[0m\n\u001b[1;32m      2\u001b[0m \u001b[0mbacon\u001b[0m \u001b[0;34m=\u001b[0m \u001b[0;34m\"hello\"\u001b[0m\u001b[0;34m\u001b[0m\u001b[0;34m\u001b[0m\u001b[0m\n\u001b[1;32m      3\u001b[0m \u001b[0;34m\u001b[0m\u001b[0m\n\u001b[0;32m----> 4\u001b[0;31m \u001b[0;32massert\u001b[0m \u001b[0meggs\u001b[0m\u001b[0;34m.\u001b[0m\u001b[0mlower\u001b[0m\u001b[0;34m(\u001b[0m\u001b[0;34m)\u001b[0m \u001b[0;34m!=\u001b[0m \u001b[0mbacon\u001b[0m\u001b[0;34m.\u001b[0m\u001b[0mlower\u001b[0m\u001b[0;34m(\u001b[0m\u001b[0;34m)\u001b[0m\u001b[0;34m,\u001b[0m \u001b[0;34m\"eggs and bacon should not be the same.\"\u001b[0m\u001b[0;34m\u001b[0m\u001b[0;34m\u001b[0m\u001b[0m\n\u001b[0m\u001b[1;32m      5\u001b[0m \u001b[0;34m\u001b[0m\u001b[0m\n",
            "\u001b[0;31mAssertionError\u001b[0m: eggs and bacon should not be the same."
          ]
        }
      ]
    },
    {
      "cell_type": "markdown",
      "source": [
        "3. Create an assert statement that throws an AssertionError every time.\n",
        "\n",
        "Ans: To create an assert statement that throws an AssertionError every time, you can simply use the assert keyword followed by a condition that is always evaluated as False. Here's an example:"
      ],
      "metadata": {
        "id": "g5kuElvjm8JV"
      }
    },
    {
      "cell_type": "code",
      "source": [
        "assert False, \"This is an AssertionError.\"\n"
      ],
      "metadata": {
        "colab": {
          "base_uri": "https://localhost:8080/",
          "height": 166
        },
        "id": "eMeCx7JKmp9v",
        "outputId": "f56031e2-6811-407a-ccd5-1afe1b47f1b0"
      },
      "execution_count": 3,
      "outputs": [
        {
          "output_type": "error",
          "ename": "AssertionError",
          "evalue": "ignored",
          "traceback": [
            "\u001b[0;31m---------------------------------------------------------------------------\u001b[0m",
            "\u001b[0;31mAssertionError\u001b[0m                            Traceback (most recent call last)",
            "\u001b[0;32m<ipython-input-3-72e318f5d161>\u001b[0m in \u001b[0;36m<cell line: 1>\u001b[0;34m()\u001b[0m\n\u001b[0;32m----> 1\u001b[0;31m \u001b[0;32massert\u001b[0m \u001b[0;32mFalse\u001b[0m\u001b[0;34m,\u001b[0m \u001b[0;34m\"This is an AssertionError.\"\u001b[0m\u001b[0;34m\u001b[0m\u001b[0;34m\u001b[0m\u001b[0m\n\u001b[0m",
            "\u001b[0;31mAssertionError\u001b[0m: This is an AssertionError."
          ]
        }
      ]
    },
    {
      "cell_type": "markdown",
      "source": [
        "4. What are the two lines that must be present in your software in order to call logging.debug()?\n",
        "\n",
        "Ans: To call logging.debug() in your software, you need to include two lines:\n",
        "\n",
        "1)Import the logging module\n",
        "\n",
        "2)Configure the logging level and basic configuration"
      ],
      "metadata": {
        "id": "EZmTo9xCnH8J"
      }
    },
    {
      "cell_type": "markdown",
      "source": [
        "5. What are the two lines that your program must have in order to have logging.debug() send a\n",
        "logging message to a file named programLog.txt?\n",
        "\n",
        "Ans: To send logging.debug() messages to a file named programLog.txt, you need to include the following two lines in your program:\n",
        "\n",
        "1)Import the logging module\n",
        "\n",
        "2)Configure the logging level and file handler"
      ],
      "metadata": {
        "id": "yAmAbvwwnen8"
      }
    },
    {
      "cell_type": "markdown",
      "source": [
        "6. What are the five levels of logging?\n",
        "\n",
        "Ans: The five levels of logging in Python, in increasing order of severity, are:\n",
        "\n",
        "1)DEBUG: Detailed information, typically used for debugging purposes.\n",
        "\n",
        "2)INFO: General information about the program's execution.\n",
        "\n",
        "3)WARNING: Indicates a potential issue or a situation that could cause problems in the future.\n",
        "\n",
        "4)ERROR: Indicates a more severe problem or error that occurred during the program's execution.\n",
        "\n",
        "5)CRITICAL: Indicates a critical error or problem that may result in the program's termination."
      ],
      "metadata": {
        "id": "evuhdD2Jnxss"
      }
    },
    {
      "cell_type": "markdown",
      "source": [
        "7. What line of code would you add to your software to disable all logging messages?\n",
        "\n",
        "Ans:To disable all logging messages in your software, you can add the following line of code:\n",
        "\n",
        "        logging.disable(logging.CRITICAL)"
      ],
      "metadata": {
        "id": "d3RmB0gfn_EA"
      }
    },
    {
      "cell_type": "markdown",
      "source": [
        "8.Why is using logging messages better than using print() to display the same message?\n",
        "\n",
        "Ans:  logging provides a more robust and flexible approach to handling output and logging messages compared to print(). It offers better control, configurability, and maintainability of logs, making it a preferred choice for professional software development."
      ],
      "metadata": {
        "id": "4_P8STUGoUON"
      }
    },
    {
      "cell_type": "markdown",
      "source": [
        "9. What are the differences between the Step Over, Step In, and Step Out buttons in the debugger?\n",
        "\n",
        "Ans: the Step Over button executes the current line and moves to the next line, the Step In button enters a function call and allows you to debug inside the called function, and the Step Out button executes the remaining lines of the current function and returns to the calling function. These buttons provide control over program execution during debugging, allowing you to analyze the behavior of your code in detail."
      ],
      "metadata": {
        "id": "0JDIvv1pofC9"
      }
    },
    {
      "cell_type": "markdown",
      "source": [
        "10.After you click Continue, when will the debugger stop ?\n",
        "\n",
        "Ans: after clicking Continue, the debugger will continue running the program until it reaches the end, encounters a breakpoint, encounters an exception/error, or is manually paused/interrupted.\n"
      ],
      "metadata": {
        "id": "KSbKJ-9Moqhm"
      }
    },
    {
      "cell_type": "markdown",
      "source": [
        "11. What is the concept of a breakpoint?\n",
        "\n",
        "Ans: In the context of debugging, a breakpoint is a specific point in your code where you want the debugger to pause the execution of the program. It allows you to examine the program's state, variables, and step through the code line by line to analyze its behavior and troubleshoot issues."
      ],
      "metadata": {
        "id": "xZt-PtTTo3Ya"
      }
    },
    {
      "cell_type": "code",
      "source": [],
      "metadata": {
        "id": "nik7iAHVoFqu"
      },
      "execution_count": null,
      "outputs": []
    }
  ]
}