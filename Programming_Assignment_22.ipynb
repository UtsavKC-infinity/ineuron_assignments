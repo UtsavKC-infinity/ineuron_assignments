{
  "nbformat": 4,
  "nbformat_minor": 0,
  "metadata": {
    "colab": {
      "provenance": []
    },
    "kernelspec": {
      "name": "python3",
      "display_name": "Python 3"
    },
    "language_info": {
      "name": "python"
    }
  },
  "cells": [
    {
      "cell_type": "markdown",
      "source": [
        "Create a function that takes three parameters where:\n",
        " x is the start of the range (inclusive).\n",
        " y is the end of the range (inclusive).\n",
        " n is the divisor to be checked against.\n",
        "Return an ordered list with numbers in the range that are divisible by the third parameter n.\n",
        "Return an empty list if there are no numbers that are divisible by n.\n"
      ],
      "metadata": {
        "id": "FNRIAxDx9VFC"
      }
    },
    {
      "cell_type": "code",
      "execution_count": 1,
      "metadata": {
        "colab": {
          "base_uri": "https://localhost:8080/"
        },
        "id": "msIlTGhd9Ugr",
        "outputId": "51dd3f4f-df34-4321-e2d7-8ad1311c4d9f"
      },
      "outputs": [
        {
          "output_type": "stream",
          "name": "stdout",
          "text": [
            "[3, 6, 9]\n",
            "[8]\n",
            "[]\n"
          ]
        }
      ],
      "source": [
        "def list_operation(x, y, n):\n",
        "    return [num for num in range(x, y+1) if num % n == 0]\n",
        "\n",
        "# Examples:\n",
        "print(list_operation(1, 10, 3))  # Output: [3, 6, 9]\n",
        "print(list_operation(7, 9, 2))  # Output: [8]\n",
        "print(list_operation(15, 20, 7))  # Output: []\n"
      ]
    },
    {
      "cell_type": "markdown",
      "source": [
        "Create a function that takes in two lists and returns True if the second list follows the first list\n",
        "by one element, and False otherwise. In other words, determine if the second list is the first\n",
        "list shifted to the right by 1.\n"
      ],
      "metadata": {
        "id": "teaQEO6c9gvL"
      }
    },
    {
      "cell_type": "code",
      "source": [
        "def simon_says(list1, list2):\n",
        "    return list1[:-1] == list2[1:]\n",
        "\n",
        "# Examples:\n",
        "print(simon_says([1, 2], [5, 1]))  # Output: True\n",
        "print(simon_says([1, 2], [5, 5]))  # Output: False\n",
        "print(simon_says([1, 2, 3, 4, 5], [0, 1, 2, 3, 4]))  # Output: True\n",
        "print(simon_says([1, 2, 3, 4, 5], [5, 5, 1, 2, 3]))  # Output: False\n"
      ],
      "metadata": {
        "colab": {
          "base_uri": "https://localhost:8080/"
        },
        "id": "kB-_Y5R39avz",
        "outputId": "bd6a00a1-f3d6-4958-86aa-71e973db00bb"
      },
      "execution_count": 2,
      "outputs": [
        {
          "output_type": "stream",
          "name": "stdout",
          "text": [
            "True\n",
            "False\n",
            "True\n",
            "False\n"
          ]
        }
      ]
    },
    {
      "cell_type": "markdown",
      "source": [
        "A group of friends have decided to start a secret society. The name will be the first letter of\n",
        "each of their names, sorted in alphabetical order.\n",
        "Create a function that takes in a list of names and returns the name of the secret society.\n"
      ],
      "metadata": {
        "id": "zQzDR9BL9pG3"
      }
    },
    {
      "cell_type": "code",
      "source": [
        "def society_name(names):\n",
        "    return ''.join(sorted([name[0] for name in names]))\n",
        "\n",
        "# Examples:\n",
        "print(society_name([\"Adam\", \"Sarah\", \"Malcolm\"]))  # Output: \"AMS\"\n",
        "print(society_name([\"Harry\", \"Newt\", \"Luna\", \"Cho\"]))  # Output: \"CHLN\"\n",
        "print(society_name([\"Phoebe\", \"Chandler\", \"Rachel\", \"Ross\", \"Monica\", \"Joey\"]))  # Output: \"CCJMPR\"\n"
      ],
      "metadata": {
        "colab": {
          "base_uri": "https://localhost:8080/"
        },
        "id": "n1Ql5fpS9kag",
        "outputId": "ad702f49-5ea3-4c2c-ddee-ceed10266a72"
      },
      "execution_count": 3,
      "outputs": [
        {
          "output_type": "stream",
          "name": "stdout",
          "text": [
            "AMS\n",
            "CHLN\n",
            "CJMPRR\n"
          ]
        }
      ]
    },
    {
      "cell_type": "markdown",
      "source": [
        "An isogram is a word that has no duplicate letters. Create a function that takes a string and\n",
        "returns either True or False depending on whether or not it&#39;s an &quot;isogram&quot;.\n"
      ],
      "metadata": {
        "id": "StXicw1_9w0V"
      }
    },
    {
      "cell_type": "code",
      "source": [
        "def is_isogram(string):\n",
        "    string = string.lower()  # Convert the string to lowercase\n",
        "    unique_chars = set(string)  # Get the unique characters in the string\n",
        "    return len(string) == len(unique_chars)\n",
        "\n",
        "# Examples:\n",
        "print(is_isogram(\"Algorism\"))  # Output: True\n",
        "print(is_isogram(\"PasSword\"))  # Output: False\n",
        "print(is_isogram(\"Consecutive\"))  # Output: False\n"
      ],
      "metadata": {
        "colab": {
          "base_uri": "https://localhost:8080/"
        },
        "id": "0HA5ZkID9sPF",
        "outputId": "3def66e4-ba7a-4e78-ee2d-6154795fa0a8"
      },
      "execution_count": 4,
      "outputs": [
        {
          "output_type": "stream",
          "name": "stdout",
          "text": [
            "True\n",
            "False\n",
            "False\n"
          ]
        }
      ]
    },
    {
      "cell_type": "markdown",
      "source": [
        "Create a function that takes a string and returns True or False, depending on whether the\n",
        "characters are in order or not.\n"
      ],
      "metadata": {
        "id": "QIa4BmDU94Ze"
      }
    },
    {
      "cell_type": "code",
      "source": [
        "def is_in_order(string):\n",
        "    sorted_string = ''.join(sorted(string))  # Sort the characters in the string\n",
        "    return string == sorted_string\n",
        "\n",
        "# Examples:\n",
        "print(is_in_order(\"abc\"))  # Output: True\n",
        "print(is_in_order(\"edabit\"))  # Output: False\n",
        "print(is_in_order(\"123\"))  # Output: True\n",
        "print(is_in_order(\"xyzz\"))  # Output: True\n"
      ],
      "metadata": {
        "colab": {
          "base_uri": "https://localhost:8080/"
        },
        "id": "wsLO9AXF9z0E",
        "outputId": "6f23b75f-0490-4b17-fb01-06e2ee80e5bc"
      },
      "execution_count": 5,
      "outputs": [
        {
          "output_type": "stream",
          "name": "stdout",
          "text": [
            "True\n",
            "False\n",
            "True\n",
            "True\n"
          ]
        }
      ]
    },
    {
      "cell_type": "code",
      "source": [],
      "metadata": {
        "id": "z9K7WAd497Fo"
      },
      "execution_count": null,
      "outputs": []
    }
  ]
}