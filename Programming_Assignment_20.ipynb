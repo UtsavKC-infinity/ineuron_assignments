{
  "nbformat": 4,
  "nbformat_minor": 0,
  "metadata": {
    "colab": {
      "provenance": []
    },
    "kernelspec": {
      "name": "python3",
      "display_name": "Python 3"
    },
    "language_info": {
      "name": "python"
    }
  },
  "cells": [
    {
      "cell_type": "markdown",
      "source": [
        "Create a function that takes a list of strings and integers, and filters out the list so that it\n",
        "returns a list of integers only.\n",
        "\n"
      ],
      "metadata": {
        "id": "sOBEyBfe6zRY"
      }
    },
    {
      "cell_type": "code",
      "execution_count": 1,
      "metadata": {
        "colab": {
          "base_uri": "https://localhost:8080/"
        },
        "id": "nIv1lFS96wqX",
        "outputId": "1a8f00f1-b95b-4545-d8e4-25fa8434fb09"
      },
      "outputs": [
        {
          "output_type": "stream",
          "name": "stdout",
          "text": [
            "[1, 2, 3, 4]\n",
            "[0, 1729]\n",
            "[]\n"
          ]
        }
      ],
      "source": [
        "def filter_list(lst):\n",
        "    return [num for num in lst if isinstance(num, int)]\n",
        "\n",
        "# Examples:\n",
        "print(filter_list([1, 2, 3, \"a\", \"b\", 4]))  # Output: [1, 2, 3, 4]\n",
        "print(filter_list([\"A\", 0, \"Edabit\", 1729, \"Python\", \"1729\"]))  # Output: [0, 1729]\n",
        "print(filter_list([\"Nothing\", \"here\"]))  # Output: []\n"
      ]
    },
    {
      "cell_type": "markdown",
      "source": [
        "Given a list of numbers, create a function which returns the list but with each element&#39;s\n",
        "index in the list added to itself. This means you add 0 to the number at index 0, add 1 to the\n",
        "number at index 1, etc...\n"
      ],
      "metadata": {
        "id": "nzxi7bwM67gW"
      }
    },
    {
      "cell_type": "code",
      "source": [
        "def add_indexes(lst):\n",
        "    return [num + index for index, num in enumerate(lst)]\n",
        "\n",
        "# Examples:\n",
        "print(add_indexes([0, 0, 0, 0, 0]))  # Output: [0, 1, 2, 3, 4]\n",
        "print(add_indexes([1, 2, 3, 4, 5]))  # Output: [1, 3, 5, 7, 9]\n",
        "print(add_indexes([5, 4, 3, 2, 1]))  # Output: [5, 5, 5, 5, 5]\n"
      ],
      "metadata": {
        "colab": {
          "base_uri": "https://localhost:8080/"
        },
        "id": "CtjLvYpn64Mg",
        "outputId": "4ad2a1a1-2acf-4cb2-8022-96a0d0ae9a2c"
      },
      "execution_count": 2,
      "outputs": [
        {
          "output_type": "stream",
          "name": "stdout",
          "text": [
            "[0, 1, 2, 3, 4]\n",
            "[1, 3, 5, 7, 9]\n",
            "[5, 5, 5, 5, 5]\n"
          ]
        }
      ]
    },
    {
      "cell_type": "markdown",
      "source": [
        "Create a function that takes the height and radius of a cone as arguments and returns the\n",
        "volume of the cone rounded to the nearest hundredth. See the resources tab for the formula."
      ],
      "metadata": {
        "id": "65DDfQsV7Dv4"
      }
    },
    {
      "cell_type": "code",
      "source": [
        "import math\n",
        "\n",
        "def cone_volume(height, radius):\n",
        "    volume = (1 / 3) * math.pi * radius**2 * height\n",
        "    return round(volume, 2)\n",
        "\n",
        "# Examples:\n",
        "print(cone_volume(3, 2))  # Output: 12.57\n",
        "print(cone_volume(5, 1.5))  # Output: 11.78\n",
        "print(cone_volume(10, 4))  # Output: 167.55\n"
      ],
      "metadata": {
        "colab": {
          "base_uri": "https://localhost:8080/"
        },
        "id": "D923tC787BXO",
        "outputId": "8a5ed6ab-36f4-4f4f-b4ea-66ee0d138a1d"
      },
      "execution_count": 3,
      "outputs": [
        {
          "output_type": "stream",
          "name": "stdout",
          "text": [
            "12.57\n",
            "11.78\n",
            "167.55\n"
          ]
        }
      ]
    },
    {
      "cell_type": "markdown",
      "source": [
        "This Triangular Number Sequence is generated from a pattern of dots that form a triangle.\n",
        "The first 5 numbers of the sequence, or dots, are:\n",
        "1, 3, 6, 10, 15\n",
        "This means that the first triangle has just one dot, the second one has three dots, the third one\n",
        "has 6 dots and so on.\n",
        "Write a function that gives the number of dots with its corresponding triangle number of the\n",
        "sequence.\n",
        "\n"
      ],
      "metadata": {
        "id": "FeX1_iN87Nma"
      }
    },
    {
      "cell_type": "code",
      "source": [
        "def triangle(n):\n",
        "    dots = (n * (n + 1)) // 2\n",
        "    return dots\n",
        "\n",
        "# Examples:\n",
        "print(triangle(1))    # Output: 1\n",
        "print(triangle(6))    # Output: 21\n",
        "print(triangle(215))  # Output: 23220\n"
      ],
      "metadata": {
        "colab": {
          "base_uri": "https://localhost:8080/"
        },
        "id": "NgHKRYq47Ho7",
        "outputId": "d44f1e39-7ac5-42fb-b3c7-9b58a0485e30"
      },
      "execution_count": 4,
      "outputs": [
        {
          "output_type": "stream",
          "name": "stdout",
          "text": [
            "1\n",
            "21\n",
            "23220\n"
          ]
        }
      ]
    },
    {
      "cell_type": "markdown",
      "source": [
        "Create a function that takes a list of numbers between 1 and 10 (excluding one number) and\n",
        "returns the missing number."
      ],
      "metadata": {
        "id": "cN-4ib8u7V6L"
      }
    },
    {
      "cell_type": "code",
      "source": [
        "def missing_num(lst):\n",
        "    n = 10  # Total numbers in the range (1 to 10)\n",
        "    total_sum = (n * (n + 1)) // 2  # Sum of all numbers from 1 to 10\n",
        "    list_sum = sum(lst)  # Sum of the given list\n",
        "    missing_number = total_sum - list_sum\n",
        "    return missing_number\n",
        "\n",
        "# Examples:\n",
        "print(missing_num([1, 2, 3, 4, 6, 7, 8, 9, 10]))  # Output: 5\n",
        "print(missing_num([7, 2, 3, 6, 5, 9, 1, 4, 8]))  # Output: 10\n",
        "print(missing_num([10, 5, 1, 2, 4, 6, 8, 3, 9]))  # Output: 7\n"
      ],
      "metadata": {
        "colab": {
          "base_uri": "https://localhost:8080/"
        },
        "id": "AbvKDAy27Q3J",
        "outputId": "6d6e931e-dbc9-40ef-95f1-b5a9d16c7552"
      },
      "execution_count": 5,
      "outputs": [
        {
          "output_type": "stream",
          "name": "stdout",
          "text": [
            "5\n",
            "10\n",
            "7\n"
          ]
        }
      ]
    },
    {
      "cell_type": "code",
      "source": [],
      "metadata": {
        "id": "lm1He-5V7Z7Q"
      },
      "execution_count": null,
      "outputs": []
    }
  ]
}