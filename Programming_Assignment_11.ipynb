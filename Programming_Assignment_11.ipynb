{
  "nbformat": 4,
  "nbformat_minor": 0,
  "metadata": {
    "colab": {
      "provenance": []
    },
    "kernelspec": {
      "name": "python3",
      "display_name": "Python 3"
    },
    "language_info": {
      "name": "python"
    }
  },
  "cells": [
    {
      "cell_type": "code",
      "execution_count": 1,
      "metadata": {
        "colab": {
          "base_uri": "https://localhost:8080/"
        },
        "id": "TQZk3NnZrF0N",
        "outputId": "c3f2022f-cfdc-41c5-ac4c-cc95a3ab6927"
      },
      "outputs": [
        {
          "output_type": "stream",
          "name": "stdout",
          "text": [
            "Words greater than length 5: ['banana', 'orange']\n"
          ]
        }
      ],
      "source": [
        "#1. Write a Python program to find words which are greater than given length k?\n",
        "def find_words_greater_than_length(words, k):\n",
        "    result = []\n",
        "    for word in words:\n",
        "        if len(word) > k:\n",
        "            result.append(word)\n",
        "    return result\n",
        "\n",
        "# Test the function\n",
        "word_list = [\"apple\", \"banana\", \"kiwi\", \"orange\", \"grape\", \"pear\"]\n",
        "k = 5\n",
        "words_greater_than_k = find_words_greater_than_length(word_list, k)\n",
        "print(f\"Words greater than length {k}: {words_greater_than_k}\")\n"
      ]
    },
    {
      "cell_type": "code",
      "source": [
        "#2. Write a Python program for removing i-th character from a string?\n",
        "def remove_character(string, i):\n",
        "    if i < 0 or i >= len(string):\n",
        "        return string\n",
        "    return string[:i] + string[i+1:]\n",
        "\n",
        "# Test the function\n",
        "input_string = \"Hello, World!\"\n",
        "index = 7\n",
        "updated_string = remove_character(input_string, index)\n",
        "print(\"Updated string:\", updated_string)\n"
      ],
      "metadata": {
        "colab": {
          "base_uri": "https://localhost:8080/"
        },
        "id": "o8qdk1skrMBk",
        "outputId": "43b63019-a2a6-494b-e463-a25785334586"
      },
      "execution_count": 2,
      "outputs": [
        {
          "output_type": "stream",
          "name": "stdout",
          "text": [
            "Updated string: Hello, orld!\n"
          ]
        }
      ]
    },
    {
      "cell_type": "code",
      "source": [
        "#3. Write a Python program to split and join a string?\n",
        "def split_and_join(string, delimiter):\n",
        "    words = string.split(delimiter)\n",
        "    return \" \".join(words)\n",
        "\n",
        "# Test the function\n",
        "input_string = \"Hello,World!How are you?\"\n",
        "delimiter = \",\"\n",
        "joined_string = split_and_join(input_string, delimiter)\n",
        "print(\"Joined string:\", joined_string)\n"
      ],
      "metadata": {
        "colab": {
          "base_uri": "https://localhost:8080/"
        },
        "id": "GOgq4gThrV2Z",
        "outputId": "0e601f12-dcb8-4c2d-b852-86774b898fdd"
      },
      "execution_count": 3,
      "outputs": [
        {
          "output_type": "stream",
          "name": "stdout",
          "text": [
            "Joined string: Hello World!How are you?\n"
          ]
        }
      ]
    },
    {
      "cell_type": "code",
      "source": [
        "#4. Write a Python to check if a given string is binary string or not?\n",
        "def is_binary_string(string):\n",
        "    for char in string:\n",
        "        if char != '0' and char != '1':\n",
        "            return False\n",
        "    return True\n",
        "\n",
        "# Test the function\n",
        "input_string = \"101010101\"\n",
        "is_binary = is_binary_string(input_string)\n",
        "if is_binary:\n",
        "    print(\"The string is a binary string.\")\n",
        "else:\n",
        "    print(\"The string is not a binary string.\")\n"
      ],
      "metadata": {
        "colab": {
          "base_uri": "https://localhost:8080/"
        },
        "id": "JcGQBbhhrdK_",
        "outputId": "923f4f5f-6230-4f5f-f21f-c4712ed557cf"
      },
      "execution_count": 4,
      "outputs": [
        {
          "output_type": "stream",
          "name": "stdout",
          "text": [
            "The string is a binary string.\n"
          ]
        }
      ]
    },
    {
      "cell_type": "code",
      "source": [
        "#5. Write a Python program to find uncommon words from two Strings?\n",
        "def find_uncommon_words(string1, string2):\n",
        "    words1 = set(string1.split())\n",
        "    words2 = set(string2.split())\n",
        "    uncommon_words = words1.symmetric_difference(words2)\n",
        "    return uncommon_words\n",
        "\n",
        "# Test the function\n",
        "string1 = \"Hello there! How are you?\"\n",
        "string2 = \"Hi! How is it going?\"\n",
        "uncommon_words = find_uncommon_words(string1, string2)\n",
        "print(\"Uncommon words:\", uncommon_words)\n"
      ],
      "metadata": {
        "colab": {
          "base_uri": "https://localhost:8080/"
        },
        "id": "S4V-DJY2rkBU",
        "outputId": "0793ebe3-cbdc-40ac-d192-23de0454411e"
      },
      "execution_count": 5,
      "outputs": [
        {
          "output_type": "stream",
          "name": "stdout",
          "text": [
            "Uncommon words: {'is', 'it', 'Hi!', 'you?', 'Hello', 'are', 'there!', 'going?'}\n"
          ]
        }
      ]
    },
    {
      "cell_type": "code",
      "source": [
        "#6. Write a Python to find all duplicate characters in string?\n",
        "def find_duplicate_characters(string):\n",
        "    duplicate_chars = []\n",
        "    for char in string:\n",
        "        if string.count(char) > 1 and char not in duplicate_chars:\n",
        "            duplicate_chars.append(char)\n",
        "    return duplicate_chars\n",
        "\n",
        "# Test the function\n",
        "input_string = \"Hello, World!\"\n",
        "duplicate_chars = find_duplicate_characters(input_string)\n",
        "print(\"Duplicate characters:\", duplicate_chars)\n"
      ],
      "metadata": {
        "colab": {
          "base_uri": "https://localhost:8080/"
        },
        "id": "cGRuiJcIrrK6",
        "outputId": "d0ed4537-1967-421d-f8bb-35e08296d2c3"
      },
      "execution_count": 6,
      "outputs": [
        {
          "output_type": "stream",
          "name": "stdout",
          "text": [
            "Duplicate characters: ['l', 'o']\n"
          ]
        }
      ]
    },
    {
      "cell_type": "code",
      "source": [
        "#7. Write a Python Program to check if a string contains any special character?\n",
        "import re\n",
        "\n",
        "def contains_special_character(string):\n",
        "    pattern = re.compile('[^a-zA-Z0-9]')\n",
        "    match = pattern.search(string)\n",
        "    return match is not None\n",
        "\n",
        "# Test the function\n",
        "input_string = \"Hello, World!\"\n",
        "contains_special = contains_special_character(input_string)\n",
        "if contains_special:\n",
        "    print(\"The string contains special character(s).\")\n",
        "else:\n",
        "    print(\"The string does not contain any special character.\")\n"
      ],
      "metadata": {
        "colab": {
          "base_uri": "https://localhost:8080/"
        },
        "id": "VtuqAYJpry-B",
        "outputId": "433281b6-3a68-42af-c79c-caca43608a76"
      },
      "execution_count": 7,
      "outputs": [
        {
          "output_type": "stream",
          "name": "stdout",
          "text": [
            "The string contains special character(s).\n"
          ]
        }
      ]
    },
    {
      "cell_type": "code",
      "source": [],
      "metadata": {
        "id": "F_tFy1Xsr45y"
      },
      "execution_count": null,
      "outputs": []
    }
  ]
}