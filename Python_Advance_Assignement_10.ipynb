{
  "nbformat": 4,
  "nbformat_minor": 0,
  "metadata": {
    "colab": {
      "provenance": []
    },
    "kernelspec": {
      "name": "python3",
      "display_name": "Python 3"
    },
    "language_info": {
      "name": "python"
    }
  },
  "cells": [
    {
      "cell_type": "markdown",
      "source": [
        "Q1. What is the difference between _ _ getattr_ _ and _ _getattribute_ _?\n",
        "\n",
        "Ans: Both __getattr__ and __getattribute__ are special methods in Python classes that are used to customize attribute access.\n",
        "\n",
        "the main difference between _ _ getattr _ _ and _ _ getattribute _ _ lies in when they are invoked and how they interact with attribute access. _ _ getattr _ _ is called only when the requested attribute is not found, while _ _ getattribute _ _ is called for every attribute access and has the potential to intercept and override attribute access behavior.\n",
        "\n"
      ],
      "metadata": {
        "id": "FYlw4vdT9njY"
      }
    },
    {
      "cell_type": "markdown",
      "source": [
        "Q2. What is the difference between properties and descriptors?\n",
        "\n",
        "Ans:\n",
        "Properties and descriptors are both mechanisms in Python for defining managed attributes, allowing custom behavior to be associated with attribute access, assignment, and deletion.\n",
        "\n",
        "The main difference is, properties are a high-level interface for defining managed attributes, while descriptors provide a lower-level protocol for implementing custom behavior associated with attribute access. Properties are often simpler and more convenient to use for basic cases, while descriptors offer more flexibility and control for advanced use cases."
      ],
      "metadata": {
        "id": "sPzIXhN1-H8h"
      }
    },
    {
      "cell_type": "markdown",
      "source": [
        "Q3. What are the key differences in functionality between _ _ getattr _ _ and _ _ getattribute _ _, as well as\n",
        "properties and descriptors?\n",
        "\n",
        "Ans:The key difference is _ _ getattr _ _ and _ _ getattribute _ _  provide different ways to customize attribute access, with _ _ getattr _ _ being invoked for non-existent attributes and _ _ getattribute _ _ being called for all attribute accesses. Similarly, properties and descriptors offer different levels of abstraction and flexibility for defining managed attributes, with properties being simpler and descriptors providing more control and customization options. The choice between these mechanisms depends on the specific requirements and complexity of the attribute behavior you want to implement."
      ],
      "metadata": {
        "id": "0JNNh3Fs-b7Q"
      }
    },
    {
      "cell_type": "code",
      "execution_count": null,
      "metadata": {
        "id": "VFPvANOY9m2Y"
      },
      "outputs": [],
      "source": []
    }
  ]
}