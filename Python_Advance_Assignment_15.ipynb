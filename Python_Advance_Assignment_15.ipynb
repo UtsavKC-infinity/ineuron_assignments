{
  "nbformat": 4,
  "nbformat_minor": 0,
  "metadata": {
    "colab": {
      "provenance": []
    },
    "kernelspec": {
      "name": "python3",
      "display_name": "Python 3"
    },
    "language_info": {
      "name": "python"
    }
  },
  "cells": [
    {
      "cell_type": "markdown",
      "source": [
        "1. What are the new features added in Python 3.8 version?\n",
        "\n",
        "Ans: Python 3.8 introduced several new features and improvements. Some of the key additions in Python 3.8 include:\n",
        "\n",
        "1. Assignment Expressions (The Walrus Operator):\n",
        "\n",
        " - Introduced the assignment expression operator :=, also known as the \"walrus operator.\"\n",
        "\n",
        " - Allows assignment and assignment expression within an expression, making code more concise.\n",
        "\n",
        "  Example:\n",
        "  \n",
        "  if (n := len(my_list)) > 10:\n",
        "\n",
        "\n",
        "2. Positional-only Parameters:\n",
        "\n",
        "  - The ability to specify positional-only parameters in function definitions using the / syntax.\n",
        "\n",
        "  - Parameters before the / can only be passed positionally, not as keyword arguments.\n",
        "\n",
        "  Example:\n",
        "  \n",
        "  def func(a, b, /, c, d):\n",
        "\n",
        "3. f-strings Support '=' specifier:\n",
        "\n",
        "  - Added the = specifier to f-strings, which displays the expression and its value.\n",
        "\n",
        "\n",
        "    Example: f'{expr=}'\n",
        "\n",
        "4. Syntax Warning for Missing Parentheses in Exception Cause:\n",
        "\n",
        "  - Raises a syntax warning when the parentheses are omitted in an exception cause.\n",
        "\n",
        "  - Example: raise ValueError from cause\n",
        "\n",
        "5. Parallel Filesystem Cache for Compiled Bytecode:\n",
        "\n",
        "  - Introduced a parallel filesystem cache for compiled bytecode files (.pyc).\n",
        "  - Improves performance by reducing contention on the cache when running multiple Python processes.\n",
        "\n",
        "6. New Features in the typing Module:\n",
        "\n",
        "  - Added new features and improvements to the typing module for type hinting and static analysis.\n",
        "  - Example: typing.final to indicate a final variable or method.\n",
        "\n",
        "7. New Modules and Functions:\n",
        "\n",
        "  - Added new modules and functions, including math.dist(), math.isqrt(), statistics.fmean(), and statistics.geometric_mean().\n",
        "\n",
        "8. Optimizations and Performance Improvements:\n",
        "\n",
        "  - Various optimizations and performance improvements, including optimizations in the interpreter, libraries, and built-in functions.\n",
        "\n",
        "  These are some of the notable features introduced in Python 3.8. Python 3.8 also includes many other improvements, optimizations, and bug fixes. It's always a good idea to refer to the official Python documentation or release notes for a comprehensive list of changes in each Python version.\n",
        "\n",
        "\n",
        "\n",
        "\n"
      ],
      "metadata": {
        "id": "pREltBMTePEP"
      }
    },
    {
      "cell_type": "markdown",
      "source": [
        "2. What is monkey patching in Python?\n",
        "\n",
        "  Ans:\n",
        "  Monkey patching in Python refers to the practice of modifying or extending code at runtime, typically by dynamically changing or replacing attributes, methods, or functions of classes or modules. The term \"monkey patching\" comes from the idea of a monkey messing with code.\n",
        "\n",
        "  Monkey patching allows developers to alter the behavior of existing code without directly modifying its source code. It can be useful in various scenarios, such as fixing bugs in third-party libraries, adding new features to existing code, or temporarily modifying behavior for testing purposes. However, it should be used judiciously and with caution, as it can lead to unexpected behavior and maintenance issues if overused or applied incorrectly."
      ],
      "metadata": {
        "id": "Byu8-PXRfpz8"
      }
    },
    {
      "cell_type": "markdown",
      "source": [
        "3. What is the difference between a shallow copy and deep copy?\n",
        "\n",
        "  Ans :  Modifying the nested list in the shallow copy affects the original list because they share references to the same nested objects. However, modifying the nested list in the deep copy does not affect the original list because the deep copy creates independent copies of both the original list and its nested lists."
      ],
      "metadata": {
        "id": "jbFOSaCOf8dh"
      }
    },
    {
      "cell_type": "markdown",
      "source": [
        "4. What is the maximum possible length of an identifier?\n",
        "\n",
        "    Ans: In Python, the maximum possible length of an identifier (i.e., variable names, function names, class names, etc.) is implementation-dependent. However, according to the Python Language Reference, the limit for identifiers is at least 255 characters."
      ],
      "metadata": {
        "id": "KCf7QylmgShb"
      }
    },
    {
      "cell_type": "markdown",
      "source": [
        "5. What is generator comprehension?\n",
        "\n",
        "  Ans:\n",
        "Generator comprehension, also known as generator expression, is a concise and memory-efficient way to create generator objects in Python. It provides a compact syntax for generating values dynamically without storing them all in memory at once, similar to list comprehension but with parentheses () instead of square brackets [].\n",
        "\n",
        "  Generator comprehensions are particularly useful when dealing with large datasets or potentially infinite sequences, as they generate values lazily, producing one value at a time as requested."
      ],
      "metadata": {
        "id": "MT1Bzp5BgfvI"
      }
    },
    {
      "cell_type": "code",
      "execution_count": null,
      "metadata": {
        "id": "b0eYdkPneOfY"
      },
      "outputs": [],
      "source": []
    }
  ]
}