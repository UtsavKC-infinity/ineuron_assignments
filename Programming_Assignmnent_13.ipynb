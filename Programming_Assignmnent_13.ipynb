{
  "nbformat": 4,
  "nbformat_minor": 0,
  "metadata": {
    "colab": {
      "provenance": []
    },
    "kernelspec": {
      "name": "python3",
      "display_name": "Python 3"
    },
    "language_info": {
      "name": "python"
    }
  },
  "cells": [
    {
      "cell_type": "code",
      "execution_count": 1,
      "metadata": {
        "colab": {
          "base_uri": "https://localhost:8080/"
        },
        "id": "TQFMZmPqt-iA",
        "outputId": "55145ce9-668b-4585-fe01-8a1f11fe26fc"
      },
      "outputs": [
        {
          "output_type": "stream",
          "name": "stdout",
          "text": [
            "Enter the comma-separated sequence of values for D: 100,150,180\n",
            "Output: 18,22,24\n"
          ]
        }
      ],
      "source": [
        "#Write a program that calculates and prints the value according to the given formula:\n",
        "import math\n",
        "\n",
        "def calculate_values(input_sequence, C, H):\n",
        "    values = []\n",
        "    for D in input_sequence:\n",
        "        Q = math.sqrt((2 * C * int(D)) / H)\n",
        "        values.append(round(Q))\n",
        "    return values\n",
        "\n",
        "# Test the program\n",
        "input_sequence = input(\"Enter the comma-separated sequence of values for D: \").split(\",\")\n",
        "C = 50\n",
        "H = 30\n",
        "\n",
        "result = calculate_values(input_sequence, C, H)\n",
        "print(\"Output:\", \",\".join(str(value) for value in result))\n"
      ]
    },
    {
      "cell_type": "code",
      "source": [
        "#Write a program which takes 2 digits, X,Y as input and generates a 2-dimensional array. The\n",
        "#element value in the i-th row and j-th column of the array should be i*j.\n",
        "def generate_2d_array(X, Y):\n",
        "    array_2d = [[0 for j in range(Y)] for i in range(X)]\n",
        "    for i in range(X):\n",
        "        for j in range(Y):\n",
        "            array_2d[i][j] = i * j\n",
        "    return array_2d\n",
        "\n",
        "# Test the program\n",
        "X, Y = map(int, input(\"Enter two digits (comma-separated): \").split(\",\"))\n",
        "\n",
        "result = generate_2d_array(X, Y)\n",
        "print(\"Output:\", result)\n"
      ],
      "metadata": {
        "colab": {
          "base_uri": "https://localhost:8080/"
        },
        "id": "Iy-lEBvfuJsB",
        "outputId": "9ae82699-66fe-46d4-a3d4-6ca56d0c3c5e"
      },
      "execution_count": 3,
      "outputs": [
        {
          "output_type": "stream",
          "name": "stdout",
          "text": [
            "Enter two digits (comma-separated): 3,5\n",
            "Output: [[0, 0, 0, 0, 0], [0, 1, 2, 3, 4], [0, 2, 4, 6, 8]]\n"
          ]
        }
      ]
    },
    {
      "cell_type": "code",
      "source": [
        "#Write a program that accepts a comma separated sequence of words as input and prints the\n",
        "#words in a comma-separated sequence after sorting them alphabetically.\n",
        "\n",
        "def sort_words(input_sequence):\n",
        "    words = input_sequence.split(\",\")\n",
        "    sorted_words = sorted(words)\n",
        "    return sorted_words\n",
        "\n",
        "# Test the program\n",
        "input_sequence = input(\"Enter a comma-separated sequence of words: \")\n",
        "\n",
        "result = sort_words(input_sequence)\n",
        "output = \",\".join(result)\n",
        "print(\"Output:\", output)\n"
      ],
      "metadata": {
        "colab": {
          "base_uri": "https://localhost:8080/"
        },
        "id": "ntzMPvEUujvH",
        "outputId": "38d65855-7d97-4d9b-e846-4b712626ae18"
      },
      "execution_count": 4,
      "outputs": [
        {
          "output_type": "stream",
          "name": "stdout",
          "text": [
            "Enter a comma-separated sequence of words: without,hello,bag,world\n",
            "Output: bag,hello,without,world\n"
          ]
        }
      ]
    },
    {
      "cell_type": "code",
      "source": [
        "#Write a program that accepts a sequence of whitespace separated words as input and prints\n",
        "#the words after removing all duplicate words and sorting them alphanumerically.\n",
        "def remove_duplicates_and_sort(input_sequence):\n",
        "    words = input_sequence.split()\n",
        "    unique_words = list(set(words))\n",
        "    sorted_words = sorted(unique_words)\n",
        "    return sorted_words\n",
        "\n",
        "# Test the program\n",
        "input_sequence = input(\"Enter a sequence of whitespace-separated words: \")\n",
        "\n",
        "result = remove_duplicates_and_sort(input_sequence)\n",
        "output = \" \".join(result)\n",
        "print(\"Output:\", output)\n",
        "\n"
      ],
      "metadata": {
        "colab": {
          "base_uri": "https://localhost:8080/"
        },
        "id": "ROerRd_FvBAH",
        "outputId": "0b6bc5c8-4410-4db9-f6b5-35523481e6e6"
      },
      "execution_count": 5,
      "outputs": [
        {
          "output_type": "stream",
          "name": "stdout",
          "text": [
            "Enter a sequence of whitespace-separated words: hello world and practice makes perfect and hello world again\n",
            "Output: again and hello makes perfect practice world\n"
          ]
        }
      ]
    },
    {
      "cell_type": "code",
      "source": [
        "#Write a program that accepts a sentence and calculate the number of letters and digits.\n",
        "def count_letters_digits(sentence):\n",
        "    letters = 0\n",
        "    digits = 0\n",
        "    for char in sentence:\n",
        "        if char.isalpha():\n",
        "            letters += 1\n",
        "        elif char.isdigit():\n",
        "            digits += 1\n",
        "    return letters\n",
        "\n",
        "# Test the program\n",
        "sentence = input(\"Enter a sentence: \")\n",
        "\n",
        "letter_count = count_letters_digits(sentence)\n",
        "print(\"LETTERS\", letter_count)\n"
      ],
      "metadata": {
        "colab": {
          "base_uri": "https://localhost:8080/"
        },
        "id": "ypq4EpqDvRxI",
        "outputId": "fa13cf19-7734-4705-96d8-375dc034b835"
      },
      "execution_count": 6,
      "outputs": [
        {
          "output_type": "stream",
          "name": "stdout",
          "text": [
            "Enter a sentence: hello world! 123\n",
            "LETTERS 10\n"
          ]
        }
      ]
    },
    {
      "cell_type": "code",
      "source": [
        "#A website requires the users to input username and password to register. Write a program to\n",
        "#check the validity of password input by users.\n",
        "import re\n",
        "\n",
        "def check_password_validity(password):\n",
        "    if len(password) < 6 or len(password) > 12:\n",
        "        return False\n",
        "    if not re.search(\"[a-z]\", password):\n",
        "        return False\n",
        "    if not re.search(\"[0-9]\", password):\n",
        "        return False\n",
        "    if not re.search(\"[A-Z]\", password):\n",
        "        return False\n",
        "    if not re.search(\"[$#@]\", password):\n",
        "        return False\n",
        "    return True\n",
        "\n",
        "# Test the program\n",
        "passwords = input(\"Enter comma-separated passwords: \").split(\",\")\n",
        "\n",
        "valid_passwords = []\n",
        "for password in passwords:\n",
        "    if check_password_validity(password):\n",
        "        valid_passwords.append(password)\n",
        "\n",
        "output = \",\".join(valid_passwords)\n",
        "print(\"Valid passwords:\", output)\n",
        "\n"
      ],
      "metadata": {
        "colab": {
          "base_uri": "https://localhost:8080/"
        },
        "id": "k-ftcmytvgqy",
        "outputId": "6eed46d1-b395-4969-f40f-1a43a70ea953"
      },
      "execution_count": 7,
      "outputs": [
        {
          "output_type": "stream",
          "name": "stdout",
          "text": [
            "Enter comma-separated passwords: ABd1234@1,a F1#,2w3E*,2We3345\n",
            "Valid passwords: ABd1234@1\n"
          ]
        }
      ]
    },
    {
      "cell_type": "code",
      "source": [],
      "metadata": {
        "id": "wfVGfxBsvvb2"
      },
      "execution_count": null,
      "outputs": []
    }
  ]
}