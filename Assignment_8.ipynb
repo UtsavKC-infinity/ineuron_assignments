{
  "nbformat": 4,
  "nbformat_minor": 0,
  "metadata": {
    "colab": {
      "provenance": []
    },
    "kernelspec": {
      "name": "python3",
      "display_name": "Python 3"
    },
    "language_info": {
      "name": "python"
    }
  },
  "cells": [
    {
      "cell_type": "markdown",
      "source": [
        "1. Is the Python Standard Library included with PyInputPlus?\n",
        "\n",
        "Ans:  PyInputPlus is not part of the Python Standard Library. It is an additional third-party library that provides extended input validation and handling capabilities for user input in Python programs. PyInputPlus simplifies the process of getting input from users and provides features like automatic conversion of input to specific data types, input validation, and retry prompts."
      ],
      "metadata": {
        "id": "JLSBv6cpf4ct"
      }
    },
    {
      "cell_type": "markdown",
      "source": [
        "2. Why is PyInputPlus commonly imported with import pyinputplus as pypi?\n",
        "\n",
        "Ans: PyInputPlus is commonly imported with the alias pypi (import pyinputplus as pypi) for brevity and convenience. Using a shorter alias makes it easier and quicker to reference the PyInputPlus library in code."
      ],
      "metadata": {
        "id": "zX6TLkfdgMnD"
      }
    },
    {
      "cell_type": "markdown",
      "source": [
        "3. How do you distinguish between inputInt() and inputFloat()?\n",
        "\n",
        "Ans: \n",
        "In PyInputPlus, inputInt() and inputFloat() are two different functions used to handle user input for integers and floats, respectively. They are used to validate and retrieve input from the user and ensure that the input is of the expected type.\n",
        "\n",
        "Here's how you can distinguish between inputInt() and inputFloat():\n",
        "\n",
        "1)inputInt(): This function is used to obtain input from the user and ensure that the input is an integer. If the user enters a non-integer value, or if the entered value cannot be converted to an integer, inputInt() will reprompt the user until a valid integer is provided. It returns the validated integer value.\n",
        "\n",
        "2)inputFloat(): This function is used to obtain input from the user and ensure that the input is a floating-point number. Similar to inputInt(), if the user enters a non-float value or an input that cannot be converted to a float, inputFloat() will continue to reprompt the user until a valid float is provided. It returns the validated float value.\n"
      ],
      "metadata": {
        "id": "3EQ39KLMgaN_"
      }
    },
    {
      "cell_type": "markdown",
      "source": [
        "4. Using PyInputPlus, how do you ensure that the user enters a whole number between 0 and 99?\n",
        "\n",
        "Ans: To ensure that the user enters a whole number between 0 and 99 using PyInputPlus, you can utilize the inputInt() function along with the min and max parameters to set the acceptable range."
      ],
      "metadata": {
        "id": "LK3dnrOrgxWa"
      }
    },
    {
      "cell_type": "markdown",
      "source": [
        "5. What is transferred to the keyword arguments allowRegexes and blockRegexes?\n",
        "\n",
        "Ans: The keyword arguments allowRegexes and blockRegexes in PyInputPlus functions are used to specify regular expressions patterns that either allow or block certain input values.\n",
        "\n",
        "By using the allowRegexes and blockRegexes keyword arguments, you can customize the allowed or blocked input patterns according to your specific requirements and validation rules."
      ],
      "metadata": {
        "id": "RpyJdFK3g9i2"
      }
    },
    {
      "cell_type": "markdown",
      "source": [
        "6. If a blank input is entered three times, what does inputStr(limit=3) do?\n",
        "\n",
        "Ans: If a blank input is entered three times consecutively and the inputStr(limit=3) function is used, the function will raise a ValidationException.\n",
        "\n",
        "The limit parameter in inputStr() specifies the maximum number of attempts the user has to provide valid input. In this case, since limit=3, the user will have three attempts to provide valid input before a ValidationException is raised.\n",
        "\n"
      ],
      "metadata": {
        "id": "Aa-aDEkuhRdO"
      }
    },
    {
      "cell_type": "markdown",
      "source": [
        "7. If blank input is entered three times, what does inputStr(limit=3, default=&#39;hello&#39;) do?\n",
        "\n",
        "Ans: If a blank input is entered three times consecutively and the inputStr(limit=3, default='hello') function is used, the function will return the default value 'hello' instead of raising a ValidationException."
      ],
      "metadata": {
        "id": "5kffYOamhbb9"
      }
    },
    {
      "cell_type": "code",
      "execution_count": null,
      "metadata": {
        "id": "vFsaGEIAf33v"
      },
      "outputs": [],
      "source": []
    }
  ]
}