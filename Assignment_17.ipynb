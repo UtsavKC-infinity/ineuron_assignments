{
  "nbformat": 4,
  "nbformat_minor": 0,
  "metadata": {
    "colab": {
      "provenance": []
    },
    "kernelspec": {
      "name": "python3",
      "display_name": "Python 3"
    },
    "language_info": {
      "name": "python"
    }
  },
  "cells": [
    {
      "cell_type": "markdown",
      "source": [
        "1. Assign the value 7 to the variable guess_me. Then, write the conditional tests (if, else, and elif) to\n",
        "print the string &#39;too low&#39; if guess_me is less than 7, &#39;too high&#39; if greater than 7, and &#39;just right&#39; if equal\n",
        "to 7.\n",
        "\n",
        "Ans: Here's the code that assigns the value 7 to the variable guess_me and then uses conditional tests to determine if it's too low, too high, or just right:"
      ],
      "metadata": {
        "id": "vphLj9f6zDX8"
      }
    },
    {
      "cell_type": "code",
      "execution_count": 1,
      "metadata": {
        "colab": {
          "base_uri": "https://localhost:8080/"
        },
        "id": "1GIDvvIKzCd8",
        "outputId": "7f995ca2-5e59-4fd0-ba1c-7e13e46c4d1c"
      },
      "outputs": [
        {
          "output_type": "stream",
          "name": "stdout",
          "text": [
            "just right\n"
          ]
        }
      ],
      "source": [
        "guess_me = 7\n",
        "\n",
        "if guess_me < 7:\n",
        "    print('too low')\n",
        "elif guess_me > 7:\n",
        "    print('too high')\n",
        "else:\n",
        "    print('just right')\n"
      ]
    },
    {
      "cell_type": "markdown",
      "source": [
        "2. Assign the value 7 to the variable guess_me and the value 1 to the variable start. Write a while\n",
        "loop that compares start with guess_me. Print too low if start is less than guess me. If start equals\n",
        "guess_me, print &#39;found it!&#39; and exit the loop. If start is greater than guess_me, print &#39;oops&#39; and exit\n",
        "the loop. Increment start at the end of the loop.\n",
        "\n",
        "Ans: Here's the code that assigns the values 7 and 1 to the variables guess_me and start, respectively. It uses a while loop to compare start with guess_me and performs the desired actions based on the comparison:"
      ],
      "metadata": {
        "id": "8E2q_m4VzSVr"
      }
    },
    {
      "cell_type": "code",
      "source": [
        "guess_me = 7\n",
        "start = 1\n",
        "\n",
        "while True:\n",
        "    if start < guess_me:\n",
        "        print('too low')\n",
        "    elif start == guess_me:\n",
        "        print('found it!')\n",
        "        break\n",
        "    else:\n",
        "        print('oops')\n",
        "        break\n",
        "    start += 1\n"
      ],
      "metadata": {
        "colab": {
          "base_uri": "https://localhost:8080/"
        },
        "id": "-F8t3nobzNOG",
        "outputId": "cb4707bc-9fce-4dfe-d52e-0c0989f64dc4"
      },
      "execution_count": 2,
      "outputs": [
        {
          "output_type": "stream",
          "name": "stdout",
          "text": [
            "too low\n",
            "too low\n",
            "too low\n",
            "too low\n",
            "too low\n",
            "too low\n",
            "found it!\n"
          ]
        }
      ]
    },
    {
      "cell_type": "markdown",
      "source": [
        "3. Print the following values of the list [3, 2, 1, 0] using a for loop.\n",
        "\n",
        "Ans: You can use a for loop to iterate over the list [3, 2, 1, 0] and print each value. Here's the code:"
      ],
      "metadata": {
        "id": "VT1PlRJLzie3"
      }
    },
    {
      "cell_type": "code",
      "source": [
        "my_list = [3, 2, 1, 0]\n",
        "\n",
        "for num in my_list:\n",
        "    print(num)\n"
      ],
      "metadata": {
        "colab": {
          "base_uri": "https://localhost:8080/"
        },
        "id": "-aLm-RuDzYja",
        "outputId": "7cb64eec-5680-4cda-e86c-f6214ed28c78"
      },
      "execution_count": 3,
      "outputs": [
        {
          "output_type": "stream",
          "name": "stdout",
          "text": [
            "3\n",
            "2\n",
            "1\n",
            "0\n"
          ]
        }
      ]
    },
    {
      "cell_type": "markdown",
      "source": [
        "4. Use a list comprehension to make a list of the even numbers in range(10)\n",
        "\n",
        "Ans: use a list comprehension to create a list of even numbers in the range from 0 to 9 (range(10)). Here's the code:"
      ],
      "metadata": {
        "id": "s2g-3_Hizp3W"
      }
    },
    {
      "cell_type": "code",
      "source": [
        "even_numbers = [num for num in range(10) if num % 2 == 0]\n",
        "print(even_numbers)"
      ],
      "metadata": {
        "colab": {
          "base_uri": "https://localhost:8080/"
        },
        "id": "W3LLIzYuzo9N",
        "outputId": "c2a89522-211a-4649-a9c9-5c54f1d71ce1"
      },
      "execution_count": 5,
      "outputs": [
        {
          "output_type": "stream",
          "name": "stdout",
          "text": [
            "[0, 2, 4, 6, 8]\n"
          ]
        }
      ]
    },
    {
      "cell_type": "markdown",
      "source": [
        "5. Use a dictionary comprehension to create the dictionary squares. Use range(10) to return the\n",
        "keys, and use the square of each key as its value.\n",
        "\n",
        "Ans: \n",
        "We can use a dictionary comprehension to create the dictionary squares, where the keys are the numbers from 0 to 9 (range(10)) and the values are the squares of the keys. Here's the code:"
      ],
      "metadata": {
        "id": "2mE-FbrKz_tj"
      }
    },
    {
      "cell_type": "code",
      "source": [
        "squares = {num: num ** 2 for num in range(10)}\n",
        "print(squares)"
      ],
      "metadata": {
        "colab": {
          "base_uri": "https://localhost:8080/"
        },
        "id": "WkXN6uLzz5QW",
        "outputId": "c0b2dd04-e166-4a99-90b2-6907b3d1a3e9"
      },
      "execution_count": 7,
      "outputs": [
        {
          "output_type": "stream",
          "name": "stdout",
          "text": [
            "{0: 0, 1: 1, 2: 4, 3: 9, 4: 16, 5: 25, 6: 36, 7: 49, 8: 64, 9: 81}\n"
          ]
        }
      ]
    },
    {
      "cell_type": "markdown",
      "source": [
        "6. Construct the set odd from the odd numbers in the range using a set comprehension (10).\n",
        "\n",
        "Ans: \n",
        "To construct a set called odd containing the odd numbers in the range from 0 to 9, you can use a set comprehension. Here's the code:"
      ],
      "metadata": {
        "id": "Vb5C0oAB0Qlx"
      }
    },
    {
      "cell_type": "code",
      "source": [
        "odd = {num for num in range(10) if num % 2 != 0}\n",
        "odd"
      ],
      "metadata": {
        "colab": {
          "base_uri": "https://localhost:8080/"
        },
        "id": "0ELc6oqX0IVS",
        "outputId": "e4138719-ce15-40cd-ee95-441ae27c0244"
      },
      "execution_count": 8,
      "outputs": [
        {
          "output_type": "execute_result",
          "data": {
            "text/plain": [
              "{1, 3, 5, 7, 9}"
            ]
          },
          "metadata": {},
          "execution_count": 8
        }
      ]
    },
    {
      "cell_type": "markdown",
      "source": [
        "7. Use a generator comprehension to return the string &#39;Got &#39; and a number for the numbers in\n",
        "range(10). Iterate through this by using a for loop.\n",
        "\n",
        "Ans: We can use a generator comprehension to generate a sequence of strings combining the string \"Got \" with each number in the range(10). Here's the code:"
      ],
      "metadata": {
        "id": "rTnJJkaf0bRB"
      }
    },
    {
      "cell_type": "code",
      "source": [
        "generator = (\"Got \" + str(num) for num in range(10))\n",
        "for item in generator:\n",
        "    print(item)\n"
      ],
      "metadata": {
        "colab": {
          "base_uri": "https://localhost:8080/"
        },
        "id": "kXBRb__t0XZt",
        "outputId": "68d581cf-3abe-4a04-bad3-74b2a1776277"
      },
      "execution_count": 9,
      "outputs": [
        {
          "output_type": "stream",
          "name": "stdout",
          "text": [
            "Got 0\n",
            "Got 1\n",
            "Got 2\n",
            "Got 3\n",
            "Got 4\n",
            "Got 5\n",
            "Got 6\n",
            "Got 7\n",
            "Got 8\n",
            "Got 9\n"
          ]
        }
      ]
    },
    {
      "cell_type": "markdown",
      "source": [
        "8. Define a function called good that returns the list [&#39;Harry&#39;, &#39;Ron&#39;, &#39;Hermione&#39;].\n",
        "\n",
        "Ans:  a function called good that returns the list ['Harry', 'Ron', 'Hermione'] using the following code:"
      ],
      "metadata": {
        "id": "7zkJO03C0ofa"
      }
    },
    {
      "cell_type": "code",
      "source": [
        "def good():\n",
        "    return ['Harry', 'Ron', 'Hermione']\n",
        "name = good()\n",
        "print(name)"
      ],
      "metadata": {
        "colab": {
          "base_uri": "https://localhost:8080/"
        },
        "id": "UjyI4Zs00h7d",
        "outputId": "0f8f9baa-8484-4d10-8687-d4129606670d"
      },
      "execution_count": 10,
      "outputs": [
        {
          "output_type": "stream",
          "name": "stdout",
          "text": [
            "['Harry', 'Ron', 'Hermione']\n"
          ]
        }
      ]
    },
    {
      "cell_type": "markdown",
      "source": [
        "9. Define a generator function called get_odds that returns the odd numbers from range(10). Use a\n",
        "for loop to find and print the third value returned.\n",
        "\n",
        "Ans: a generator function called get_odds that returns the odd numbers from range(10) using the following code:"
      ],
      "metadata": {
        "id": "tzmKNRQt021x"
      }
    },
    {
      "cell_type": "code",
      "source": [
        "def get_odds():\n",
        "    for num in range(1, 10, 2):\n",
        "        yield num\n"
      ],
      "metadata": {
        "id": "5orRvUXe0xBN"
      },
      "execution_count": 11,
      "outputs": []
    },
    {
      "cell_type": "code",
      "source": [
        "odds = get_odds()\n",
        "count = 1\n",
        "for num in odds:\n",
        "    if count == 3:\n",
        "        print(num)\n",
        "        break\n",
        "    count += 1\n"
      ],
      "metadata": {
        "colab": {
          "base_uri": "https://localhost:8080/"
        },
        "id": "H9QcRqaM0-Zm",
        "outputId": "9769366a-2070-49f5-fb09-60164fc0d1a9"
      },
      "execution_count": 13,
      "outputs": [
        {
          "output_type": "stream",
          "name": "stdout",
          "text": [
            "5\n"
          ]
        }
      ]
    },
    {
      "cell_type": "markdown",
      "source": [
        "10. Define an exception called OopsException. Raise this exception to see what happens. Then write\n",
        "the code to catch this exception and print &#39;Caught an oops&#39;.\n",
        "\n",
        "Ans:  an exception called OopsException by creating a custom exception class in Python. Here's an example:"
      ],
      "metadata": {
        "id": "rnwQmddc1N0F"
      }
    },
    {
      "cell_type": "code",
      "source": [
        "class OopsException(Exception):\n",
        "    pass\n",
        "try:\n",
        "    raise OopsException\n",
        "except OopsException:\n",
        "    print('Caught an oops')"
      ],
      "metadata": {
        "colab": {
          "base_uri": "https://localhost:8080/"
        },
        "id": "1DAdI7Hx1EKv",
        "outputId": "5f8e2d3a-fb69-40ff-e78b-d68656c8508b"
      },
      "execution_count": 18,
      "outputs": [
        {
          "output_type": "stream",
          "name": "stdout",
          "text": [
            "Caught an oops\n"
          ]
        }
      ]
    },
    {
      "cell_type": "markdown",
      "source": [
        "11. Use zip() to make a dictionary called movies that pairs these lists: titles = [&#39;Creature of Habit&#39;,\n",
        "&#39;Crewel Fate&#39;] and plots = [&#39;A nun turns into a monster&#39;, &#39;A haunted yarn shop&#39;].\n",
        "\n",
        "Ans:  use the zip() function along with list comprehension to create a dictionary called movies by pairing the titles and plots lists. Here's an example:"
      ],
      "metadata": {
        "id": "s4ayHk5A1lUk"
      }
    },
    {
      "cell_type": "code",
      "source": [
        "titles = ['Creature of Habit', 'Crewel Fate']\n",
        "plots = ['A nun turns into a monster', 'A haunted yarn shop']\n",
        "\n",
        "movies = {title: plot for title, plot in zip(titles, plots)}\n",
        "print(movies)"
      ],
      "metadata": {
        "colab": {
          "base_uri": "https://localhost:8080/"
        },
        "id": "6eFwknO31Uuq",
        "outputId": "740fe284-c790-4f4f-bca1-e99247a4e068"
      },
      "execution_count": 20,
      "outputs": [
        {
          "output_type": "stream",
          "name": "stdout",
          "text": [
            "{'Creature of Habit': 'A nun turns into a monster', 'Crewel Fate': 'A haunted yarn shop'}\n"
          ]
        }
      ]
    }
  ]
}