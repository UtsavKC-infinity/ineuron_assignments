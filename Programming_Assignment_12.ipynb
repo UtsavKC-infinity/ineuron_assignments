{
  "nbformat": 4,
  "nbformat_minor": 0,
  "metadata": {
    "colab": {
      "provenance": []
    },
    "kernelspec": {
      "name": "python3",
      "display_name": "Python 3"
    },
    "language_info": {
      "name": "python"
    }
  },
  "cells": [
    {
      "cell_type": "code",
      "execution_count": 1,
      "metadata": {
        "colab": {
          "base_uri": "https://localhost:8080/"
        },
        "id": "nHd19Zc9sdCk",
        "outputId": "fc57ed36-7a22-48f3-db4b-da962e35804f"
      },
      "outputs": [
        {
          "output_type": "stream",
          "name": "stdout",
          "text": [
            "Unique values: [1, 2, 3]\n"
          ]
        }
      ],
      "source": [
        "#1. Write a Python program to Extract Unique values dictionary values?\n",
        "def extract_unique_values(dictionary):\n",
        "    unique_values = set(dictionary.values())\n",
        "    return list(unique_values)\n",
        "\n",
        "# Test the function\n",
        "input_dict = {'a': 1, 'b': 2, 'c': 1, 'd': 3, 'e': 2}\n",
        "unique_values = extract_unique_values(input_dict)\n",
        "print(\"Unique values:\", unique_values)\n"
      ]
    },
    {
      "cell_type": "code",
      "source": [
        "#2. Write a Python program to find the sum of all items in a dictionary?\n",
        "def sum_dictionary_items(dictionary):\n",
        "    return sum(dictionary.values())\n",
        "\n",
        "# Test the function\n",
        "input_dict = {'a': 5, 'b': 10, 'c': 15}\n",
        "total_sum = sum_dictionary_items(input_dict)\n",
        "print(\"Sum of dictionary items:\", total_sum)\n"
      ],
      "metadata": {
        "colab": {
          "base_uri": "https://localhost:8080/"
        },
        "id": "UOn7VxnrsgL0",
        "outputId": "e243284e-0cdf-4f6f-e143-c3125a11690b"
      },
      "execution_count": 2,
      "outputs": [
        {
          "output_type": "stream",
          "name": "stdout",
          "text": [
            "Sum of dictionary items: 30\n"
          ]
        }
      ]
    },
    {
      "cell_type": "code",
      "source": [
        "#3. Write a Python program to Merging two Dictionaries?\n",
        "def merge_dictionaries(dict1, dict2):\n",
        "    merged_dict = {**dict1, **dict2}\n",
        "    return merged_dict\n",
        "\n",
        "# Test the function\n",
        "dict1 = {'a': 1, 'b': 2}\n",
        "dict2 = {'c': 3, 'd': 4}\n",
        "merged_dict = merge_dictionaries(dict1, dict2)\n",
        "print(\"Merged dictionary:\", merged_dict)\n"
      ],
      "metadata": {
        "colab": {
          "base_uri": "https://localhost:8080/"
        },
        "id": "nQrpsHN1swIA",
        "outputId": "e007d984-d961-47f4-c004-fc277a853db4"
      },
      "execution_count": 3,
      "outputs": [
        {
          "output_type": "stream",
          "name": "stdout",
          "text": [
            "Merged dictionary: {'a': 1, 'b': 2, 'c': 3, 'd': 4}\n"
          ]
        }
      ]
    },
    {
      "cell_type": "code",
      "source": [
        "#4. Write a Python program to convert key-values list to flat dictionary?\n",
        "def convert_to_flat_dictionary(key_value_list):\n",
        "    flat_dict = {}\n",
        "    for item in key_value_list:\n",
        "        key = item[0]\n",
        "        value = item[1]\n",
        "        flat_dict[key] = value\n",
        "    return flat_dict\n",
        "\n",
        "# Test the function\n",
        "key_value_list = [('a', 1), ('b', 2), ('c', 3), ('d', 4)]\n",
        "flat_dictionary = convert_to_flat_dictionary(key_value_list)\n",
        "print(\"Flat dictionary:\", flat_dictionary)\n"
      ],
      "metadata": {
        "colab": {
          "base_uri": "https://localhost:8080/"
        },
        "id": "5hblE1aNs1vA",
        "outputId": "67ecc132-9007-4c6f-d0d4-c294d39edda8"
      },
      "execution_count": 4,
      "outputs": [
        {
          "output_type": "stream",
          "name": "stdout",
          "text": [
            "Flat dictionary: {'a': 1, 'b': 2, 'c': 3, 'd': 4}\n"
          ]
        }
      ]
    },
    {
      "cell_type": "code",
      "source": [
        "#5. Write a Python program to insertion at the beginning in OrderedDict?\n",
        "from collections import OrderedDict\n",
        "\n",
        "def insert_at_beginning(ordered_dict, key, value):\n",
        "    ordered_dict[key] = value\n",
        "    ordered_dict.move_to_end(key, last=False)\n",
        "\n",
        "# Test the program\n",
        "ordered_dict = OrderedDict([('a', 1), ('b', 2), ('c', 3)])\n",
        "print(\"Original OrderedDict:\", ordered_dict)\n",
        "\n",
        "# Perform insertion at the beginning\n",
        "insert_at_beginning(ordered_dict, 'd', 4)\n",
        "print(\"OrderedDict after insertion:\", ordered_dict)\n"
      ],
      "metadata": {
        "colab": {
          "base_uri": "https://localhost:8080/"
        },
        "id": "OflIcAKes8d7",
        "outputId": "2dcc2008-cce9-4934-b891-981cf2b35a2a"
      },
      "execution_count": 5,
      "outputs": [
        {
          "output_type": "stream",
          "name": "stdout",
          "text": [
            "Original OrderedDict: OrderedDict([('a', 1), ('b', 2), ('c', 3)])\n",
            "OrderedDict after insertion: OrderedDict([('d', 4), ('a', 1), ('b', 2), ('c', 3)])\n"
          ]
        }
      ]
    },
    {
      "cell_type": "code",
      "source": [
        "#6. Write a Python program to check order of character in string using OrderedDict()?\n",
        "from collections import OrderedDict\n",
        "\n",
        "def check_order_of_characters(string, pattern):\n",
        "    char_dict = OrderedDict.fromkeys(string)\n",
        "    pattern_index = 0\n",
        "\n",
        "    for char in char_dict:\n",
        "        if char == pattern[pattern_index]:\n",
        "            pattern_index += 1\n",
        "        if pattern_index == len(pattern):\n",
        "            return True\n",
        "\n",
        "    return False\n",
        "\n",
        "# Test the program\n",
        "input_string = \"Hello, World!\"\n",
        "input_pattern = \"loW\"\n",
        "order_check = check_order_of_characters(input_string, input_pattern)\n",
        "\n",
        "if order_check:\n",
        "    print(\"The order of characters in the string matches the pattern.\")\n",
        "else:\n",
        "    print(\"The order of characters in the string does not match the pattern.\")\n"
      ],
      "metadata": {
        "colab": {
          "base_uri": "https://localhost:8080/"
        },
        "id": "fjO1WbJ-tECf",
        "outputId": "83bfca25-bc2d-4349-c085-1ecc919f9448"
      },
      "execution_count": 6,
      "outputs": [
        {
          "output_type": "stream",
          "name": "stdout",
          "text": [
            "The order of characters in the string matches the pattern.\n"
          ]
        }
      ]
    },
    {
      "cell_type": "code",
      "source": [
        "#7. Write a Python program to sort Python Dictionaries by Key or Value?\n",
        "def sort_dictionary(dictionary, by_key=True):\n",
        "    sorted_dict = {}\n",
        "    if by_key:\n",
        "        sorted_keys = sorted(dictionary.keys())\n",
        "        for key in sorted_keys:\n",
        "            sorted_dict[key] = dictionary[key]\n",
        "    else:\n",
        "        sorted_items = sorted(dictionary.items(), key=lambda x: x[1])\n",
        "        for item in sorted_items:\n",
        "            sorted_dict[item[0]] = item[1]\n",
        "    return sorted_dict\n",
        "\n",
        "# Test the program\n",
        "input_dict = {'c': 3, 'a': 1, 'b': 2}\n",
        "sorted_by_key = sort_dictionary(input_dict, by_key=True)\n",
        "print(\"Sorted by key:\", sorted_by_key)\n",
        "\n",
        "sorted_by_value = sort_dictionary(input_dict, by_key=False)\n",
        "print(\"Sorted by value:\", sorted_by_value)\n"
      ],
      "metadata": {
        "colab": {
          "base_uri": "https://localhost:8080/"
        },
        "id": "u-wZI9UhtME6",
        "outputId": "869306c5-e734-437f-cc02-72aaffd299db"
      },
      "execution_count": 7,
      "outputs": [
        {
          "output_type": "stream",
          "name": "stdout",
          "text": [
            "Sorted by key: {'a': 1, 'b': 2, 'c': 3}\n",
            "Sorted by value: {'a': 1, 'b': 2, 'c': 3}\n"
          ]
        }
      ]
    },
    {
      "cell_type": "code",
      "source": [],
      "metadata": {
        "id": "FPW60BNOtSNt"
      },
      "execution_count": null,
      "outputs": []
    }
  ]
}