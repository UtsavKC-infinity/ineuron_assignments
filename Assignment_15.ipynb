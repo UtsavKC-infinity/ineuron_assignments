{
  "nbformat": 4,
  "nbformat_minor": 0,
  "metadata": {
    "colab": {
      "provenance": []
    },
    "kernelspec": {
      "name": "python3",
      "display_name": "Python 3"
    },
    "language_info": {
      "name": "python"
    }
  },
  "cells": [
    {
      "cell_type": "markdown",
      "source": [
        "1.How many seconds are in an hour? Use the interactive interpreter as a calculator and multiply the\n",
        "number of seconds in a minute (60) by the number of minutes in an hour (also 60).\n",
        "\n",
        "Ans: To calculate the number of seconds in an hour, you can multiply the number of seconds in a minute (60) by the number of minutes in an hour (60) using the interactive interpreter. Here's how you can do it:\n"
      ],
      "metadata": {
        "id": "b-kOS83zxrJi"
      }
    },
    {
      "cell_type": "code",
      "execution_count": 2,
      "metadata": {
        "colab": {
          "base_uri": "https://localhost:8080/"
        },
        "id": "cgN2IqgUxhZh",
        "outputId": "f6bdb7cf-af10-4330-f8d6-b2bf18f13825"
      },
      "outputs": [
        {
          "output_type": "execute_result",
          "data": {
            "text/plain": [
              "3600"
            ]
          },
          "metadata": {},
          "execution_count": 2
        }
      ],
      "source": [
        "seconds_in_minute = 60\n",
        "minutes_in_hour = 60\n",
        "seconds_in_hour = seconds_in_minute * minutes_in_hour\n",
        "seconds_in_hour\n"
      ]
    },
    {
      "cell_type": "markdown",
      "source": [
        "2. Assign the result from the previous task (seconds in an hour) to a variable called\n",
        "seconds_per_hour.\n",
        "\n",
        "Ans: To assign the result from the previous task (seconds in an hour) to a variable called seconds_per_hour, you can use the following code:"
      ],
      "metadata": {
        "id": "Iq6kjt0px57u"
      }
    },
    {
      "cell_type": "code",
      "source": [
        "seconds_per_hour = 3600\n"
      ],
      "metadata": {
        "id": "hF9hNmnWxxuo"
      },
      "execution_count": 3,
      "outputs": []
    },
    {
      "cell_type": "markdown",
      "source": [
        "3. How many seconds do you think there are in a day? Make use of the variables seconds per hour\n",
        "and minutes per hour.\n",
        "\n",
        "Ans: To calculate the number of seconds in a day, we need to consider the number of seconds per hour and the number of hours in a day.\n",
        "\n",
        "We already assigned the value of 3600 to the variable seconds_per_hour, which represents the number of seconds in an hour.\n",
        "\n",
        "There are 24 hours in a day. So, we can calculate the number of seconds in a day by multiplying the number of hours in a day by the number of seconds per hour.\n",
        "\n",
        "Using the interactive interpreter as a calculator, we can perform this calculation:"
      ],
      "metadata": {
        "id": "PUvjmnhTyFmR"
      }
    },
    {
      "cell_type": "code",
      "source": [
        "seconds_per_hour * 24"
      ],
      "metadata": {
        "colab": {
          "base_uri": "https://localhost:8080/"
        },
        "id": "ZLirDTQmyBeD",
        "outputId": "edc8f02a-35ff-43c2-c9cd-3df57ce61709"
      },
      "execution_count": 6,
      "outputs": [
        {
          "output_type": "execute_result",
          "data": {
            "text/plain": [
              "86400"
            ]
          },
          "metadata": {},
          "execution_count": 6
        }
      ]
    },
    {
      "cell_type": "markdown",
      "source": [
        "4. Calculate seconds per day again, but this time save the result in a variable called seconds_per_day\n",
        "\n",
        "Ans: To calculate the number of seconds in a day, we can multiply the seconds_per_hour variable by the number of hours in a day (24). Here's how you can do it and save the result in a variable called seconds_per_day:"
      ],
      "metadata": {
        "id": "YIt45z7eyYLm"
      }
    },
    {
      "cell_type": "code",
      "source": [
        "seconds_per_day = seconds_per_hour * 24\n"
      ],
      "metadata": {
        "id": "V0euinG_yPZO"
      },
      "execution_count": 7,
      "outputs": []
    },
    {
      "cell_type": "markdown",
      "source": [
        "5. Divide seconds_per_day by seconds_per_hour. Use floating-point (/) division.\n",
        "\n",
        "ans: To divide seconds_per_day by seconds_per_hour, you can use the floating-point division operator (/). Here's how you can perform the division:"
      ],
      "metadata": {
        "id": "DZ4LSdl1yxwO"
      }
    },
    {
      "cell_type": "code",
      "source": [
        "result = seconds_per_day / seconds_per_hour\n",
        "result\n"
      ],
      "metadata": {
        "colab": {
          "base_uri": "https://localhost:8080/"
        },
        "id": "LG5eoyDgytU0",
        "outputId": "d7852e1d-b356-43f8-87bc-c63746e44ee9"
      },
      "execution_count": 11,
      "outputs": [
        {
          "output_type": "execute_result",
          "data": {
            "text/plain": [
              "24.0"
            ]
          },
          "metadata": {},
          "execution_count": 11
        }
      ]
    },
    {
      "cell_type": "markdown",
      "source": [
        "6. Divide seconds_per_day by seconds_per_hour, using integer (//) division. Did this number agree\n",
        "with the floating-point value from the previous question, aside from the final .0?\n",
        "\n",
        "Ans: To divide seconds_per_day by seconds_per_hour using integer division, you can use the integer division operator (//). Here's how you can perform the division:"
      ],
      "metadata": {
        "id": "lUNmRd9Fy7ur"
      }
    },
    {
      "cell_type": "code",
      "source": [
        "result = seconds_per_day // seconds_per_hour\n",
        "result\n"
      ],
      "metadata": {
        "colab": {
          "base_uri": "https://localhost:8080/"
        },
        "id": "XsaXAD6Ty2y7",
        "outputId": "b44c5d61-b7b7-4928-ad68-61f1b55fdb26"
      },
      "execution_count": 10,
      "outputs": [
        {
          "output_type": "execute_result",
          "data": {
            "text/plain": [
              "24"
            ]
          },
          "metadata": {},
          "execution_count": 10
        }
      ]
    },
    {
      "cell_type": "markdown",
      "source": [
        " when dividing seconds_per_day by seconds_per_hour using integer division, the result will be a whole number representing the number of whole hours in a day. This value will be the same as the whole number part of the floating-point division result, without the fractional part. The presence of the final .0 in the floating-point result indicates that it's a floating-point number. So this number is not agree with the floating-point value from the previous question\n",
        " "
      ],
      "metadata": {
        "id": "3dKDidA4zXFS"
      }
    },
    {
      "cell_type": "markdown",
      "source": [
        "7. Write a generator, genPrimes, that returns the sequence of prime numbers on successive calls to\n",
        "its next() method: 2, 3, 5, 7, 11, ...\n",
        "\n",
        "Ans:  an example implementation of the genPrimes generator that generates prime numbers on successive calls to its next() method:"
      ],
      "metadata": {
        "id": "owoYrVsSzcIt"
      }
    },
    {
      "cell_type": "code",
      "source": [
        "def genPrimes():\n",
        "    primes = []  # List to store prime numbers\n",
        "    num = 2  # Start with the first prime number\n",
        "    \n",
        "    while True:\n",
        "        # Check if the current number is prime\n",
        "        if all(num % prime != 0 for prime in primes):\n",
        "            primes.append(num)\n",
        "            yield num  # Yield the prime number\n",
        "        \n",
        "        num += 1  # Move to the next number\n",
        "\n",
        "# Create an instance of the generator\n",
        "primes_generator = genPrimes()\n",
        "\n",
        "# Print the first 5 prime numbers\n",
        "for _ in range(5):\n",
        "    print(next(primes_generator))\n"
      ],
      "metadata": {
        "colab": {
          "base_uri": "https://localhost:8080/"
        },
        "id": "SDx4-usLzDFE",
        "outputId": "d7a6491e-b5cb-4247-8202-e214ddea34c3"
      },
      "execution_count": 12,
      "outputs": [
        {
          "output_type": "stream",
          "name": "stdout",
          "text": [
            "2\n",
            "3\n",
            "5\n",
            "7\n",
            "11\n"
          ]
        }
      ]
    },
    {
      "cell_type": "code",
      "source": [],
      "metadata": {
        "id": "sIJtmS6m0F3t"
      },
      "execution_count": null,
      "outputs": []
    }
  ]
}