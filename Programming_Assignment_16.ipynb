{
  "nbformat": 4,
  "nbformat_minor": 0,
  "metadata": {
    "colab": {
      "provenance": []
    },
    "kernelspec": {
      "name": "python3",
      "display_name": "Python 3"
    },
    "language_info": {
      "name": "python"
    }
  },
  "cells": [
    {
      "cell_type": "markdown",
      "source": [
        "Write a function that stutters a word as if someone is struggling to read it. The\n",
        "first two letters are repeated twice with an ellipsis ... and space after each, and then the\n",
        "word is pronounced with a question mark ?."
      ],
      "metadata": {
        "id": "sqIBW7Y-06It"
      }
    },
    {
      "cell_type": "code",
      "execution_count": 3,
      "metadata": {
        "colab": {
          "base_uri": "https://localhost:8080/"
        },
        "id": "_fKJvKzo003t",
        "outputId": "e09021ee-4cd0-486c-dad6-78047e786092"
      },
      "outputs": [
        {
          "output_type": "stream",
          "name": "stdout",
          "text": [
            "Enter a word: incridible\n",
            "Stuttered word: in... in... incridible?\n"
          ]
        }
      ],
      "source": [
        "def stutter(word):\n",
        "    stuttered_word = word[:2] + \"... \"\n",
        "    stuttered_word += word[:2] + \"... \"\n",
        "    stuttered_word += word + \"?\"ib\n",
        "\n",
        "    return stuttered_word\n",
        "\n",
        "# Example usage:\n",
        "word = input(\"Enter a word: \")\n",
        "\n",
        "stuttered = stutter(word)\n",
        "print(\"Stuttered word:\", stuttered)\n"
      ]
    },
    {
      "cell_type": "markdown",
      "source": [
        "Question 2.Create a function that takes an angle in radians and returns the corresponding\n",
        "angle in degrees rounded to one decimal place.\n"
      ],
      "metadata": {
        "id": "EFny_Nyt1LdV"
      }
    },
    {
      "cell_type": "code",
      "source": [
        "import math\n",
        "\n",
        "def radians_to_degrees(angle_rad):\n",
        "    angle_deg = math.degrees(angle_rad)\n",
        "    return round(angle_deg, 1)\n",
        "\n",
        "# Example usage:\n",
        "angle_rad = float(input(\"Enter an angle in radians: \"))\n",
        "\n",
        "angle_deg = radians_to_degrees(angle_rad)\n",
        "print(\"Angle in degrees:\", angle_deg)\n"
      ],
      "metadata": {
        "colab": {
          "base_uri": "https://localhost:8080/"
        },
        "id": "S09-uGcb0-jp",
        "outputId": "29bb4c5c-0b24-4f15-efae-e8ac87a8816e"
      },
      "execution_count": 2,
      "outputs": [
        {
          "output_type": "stream",
          "name": "stdout",
          "text": [
            "Enter an angle in radians: 1\n",
            "Angle in degrees: 57.3\n"
          ]
        }
      ]
    },
    {
      "cell_type": "markdown",
      "source": [],
      "metadata": {
        "id": "b6g34J4k1QPc"
      }
    },
    {
      "cell_type": "markdown",
      "source": [
        "Question 3. In this challenge, establish if a given integer num is a Curzon number. If 1 plus\n",
        "2 elevated to num is exactly divisible by 1 plus 2 multiplied by num, then num is a Curzon\n",
        "number.\n",
        "Given a non-negative integer num, implement a function that returns True if num is a Curzon\n",
        "number, or False otherwise."
      ],
      "metadata": {
        "id": "sLlz68DS1Znb"
      }
    },
    {
      "cell_type": "code",
      "source": [
        "def is_curzon(num):\n",
        "    numerator = 2 ** num + 1\n",
        "    denominator = 2 * num + 1\n",
        "\n",
        "    if numerator % denominator == 0:\n",
        "        return True\n",
        "    else:\n",
        "        return False\n",
        "\n",
        "# Examples:\n",
        "print(is_curzon(5))  # Output: True\n",
        "print(is_curzon(10))  # Output: False\n",
        "print(is_curzon(14))  # Output: True\n",
        "\n"
      ],
      "metadata": {
        "colab": {
          "base_uri": "https://localhost:8080/"
        },
        "id": "0bDqAvEZ1QBA",
        "outputId": "069ffcaa-37ba-4a80-a4d5-a833af4465ff"
      },
      "execution_count": 4,
      "outputs": [
        {
          "output_type": "stream",
          "name": "stdout",
          "text": [
            "True\n",
            "False\n",
            "True\n"
          ]
        }
      ]
    },
    {
      "cell_type": "markdown",
      "source": [
        "Question 4.Given the side length x find the area of a hexagon."
      ],
      "metadata": {
        "id": "WvDgomou1tqG"
      }
    },
    {
      "cell_type": "code",
      "source": [
        "import math\n",
        "\n",
        "def calculate_hexagon_area(x):\n",
        "    area = (3 * math.sqrt(3) * x**2) / 2\n",
        "    return area\n",
        "\n",
        "# Example usage:\n",
        "side_length = float(input(\"Enter the side length of the hexagon: \"))\n",
        "\n",
        "area = calculate_hexagon_area(side_length)\n",
        "print(\"Area of the hexagon:\", area)\n"
      ],
      "metadata": {
        "colab": {
          "base_uri": "https://localhost:8080/"
        },
        "id": "-u9H4uKa1h7z",
        "outputId": "b2ab0c21-f173-4390-df7c-d50f6fe3d6da"
      },
      "execution_count": 5,
      "outputs": [
        {
          "output_type": "stream",
          "name": "stdout",
          "text": [
            "Enter the side length of the hexagon: 1\n",
            "Area of the hexagon: 2.598076211353316\n"
          ]
        }
      ]
    },
    {
      "cell_type": "markdown",
      "source": [
        "Question 5. Create a function that returns a base-2 (binary) representation of a base-10\n",
        "(decimal) string number. To convert is simple: ((2) means base-2 and (10) means base-10)\n",
        "010101001(2) = 1 + 8 + 32 + 128.\n",
        "Going from right to left, the value of the most right bit is 1, now from that every bit to the left\n",
        "will be x2 the value, value of an 8 bit binary numbers are (256, 128, 64, 32, 16, 8, 4, 2, 1).\n"
      ],
      "metadata": {
        "id": "WNtr6bLN15gw"
      }
    },
    {
      "cell_type": "code",
      "source": [
        "def binary(decimal):\n",
        "    binary_rep = \"\"\n",
        "\n",
        "    while decimal > 0:\n",
        "        remainder = decimal % 2\n",
        "        binary_rep = str(remainder) + binary_rep\n",
        "        decimal = decimal // 2\n",
        "\n",
        "    return binary_rep\n",
        "\n",
        "# Examples:\n",
        "print(binary(1))  # Output: \"1\"\n",
        "print(binary(5))  # Output: \"101\"\n",
        "print(binary(10))  # Output: \"1010\"\n"
      ],
      "metadata": {
        "colab": {
          "base_uri": "https://localhost:8080/"
        },
        "id": "1oAcBwWZ1ywz",
        "outputId": "1178c43d-6a3e-450f-ea96-f5e062568066"
      },
      "execution_count": 6,
      "outputs": [
        {
          "output_type": "stream",
          "name": "stdout",
          "text": [
            "1\n",
            "101\n",
            "1010\n"
          ]
        }
      ]
    },
    {
      "cell_type": "code",
      "source": [],
      "metadata": {
        "id": "cjK9qRbR19hX"
      },
      "execution_count": null,
      "outputs": []
    }
  ]
}