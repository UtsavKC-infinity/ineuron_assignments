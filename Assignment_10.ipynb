{
  "nbformat": 4,
  "nbformat_minor": 0,
  "metadata": {
    "colab": {
      "provenance": []
    },
    "kernelspec": {
      "name": "python3",
      "display_name": "Python 3"
    },
    "language_info": {
      "name": "python"
    }
  },
  "cells": [
    {
      "cell_type": "markdown",
      "source": [
        "1. How do you distinguish between shutil.copy() and shutil.copytree()?\n",
        "\n",
        "Ans: We can understand them in follwing points:\n",
        "\n",
        "1)Use shutil.copy() to copy a single file from source to destination.\n",
        "\n",
        "2)Use shutil.copytree() to copy an entire directory (including all files and subdirectories) from source to destination."
      ],
      "metadata": {
        "id": "oMZ3LHv-kePw"
      }
    },
    {
      "cell_type": "markdown",
      "source": [
        "2. What function is used to rename files??\n",
        "\n",
        "Ans: The function used to rename files in Python is os.rename() from the os module."
      ],
      "metadata": {
        "id": "j4zkE0l_kxXL"
      }
    },
    {
      "cell_type": "markdown",
      "source": [
        "3. What is the difference between the delete functions in the send2trash and shutil modules?\n",
        "\n",
        "Ans: The send2trash module moves files or directories to the trash or recycle bin, providing a way to recover them if needed but \n",
        "the shutil module's deletion functions (shutil.rmtree() and os.remove()) permanently delete files or directories from the file system."
      ],
      "metadata": {
        "id": "52nWDU0qk41r"
      }
    },
    {
      "cell_type": "markdown",
      "source": [
        "4.ZipFile objects have a close() method just like File objects’ close() method. What ZipFile method is\n",
        "equivalent to File objects’ open() method?\n",
        "\n",
        "Ans: The equivalent method in ZipFile objects to File objects' open() method is the ZipFile() constructor itself"
      ],
      "metadata": {
        "id": "wLrUpACOlMr5"
      }
    },
    {
      "cell_type": "markdown",
      "source": [
        "5. Create a programme that searches a folder tree for files with a certain file extension (such as .pdf\n",
        "or .jpg). Copy these files from whatever location they are in to a new folder.\n",
        "\n",
        "Ans: code is in below shell:"
      ],
      "metadata": {
        "id": "V4vFUbUtlbkA"
      }
    },
    {
      "cell_type": "code",
      "execution_count": 1,
      "metadata": {
        "id": "Kb3KTBTIkdao"
      },
      "outputs": [],
      "source": [
        "import os\n",
        "import shutil\n",
        "\n",
        "def search_and_copy_files(source_folder, destination_folder, file_extension):\n",
        "    # Create the destination folder if it doesn't exist\n",
        "    if not os.path.exists(destination_folder):\n",
        "        os.makedirs(destination_folder)\n",
        "\n",
        "    # Walk through the source folder and its subdirectories\n",
        "    for root, dirs, files in os.walk(source_folder):\n",
        "        for file in files:\n",
        "            # Check if the file has the specified file extension\n",
        "            if file.endswith(file_extension):\n",
        "                source_path = os.path.join(root, file)\n",
        "                destination_path = os.path.join(destination_folder, file)\n",
        "                \n",
        "                # Copy the file to the destination folder\n",
        "                shutil.copy2(source_path, destination_path)\n",
        "                print(f\"Copied {source_path} to {destination_path}\")\n",
        "\n",
        "# Example usage:\n",
        "source_folder = \"/path/to/source/folder\"\n",
        "destination_folder = \"/path/to/destination/folder\"\n",
        "file_extension = \".pdf\"\n",
        "\n",
        "search_and_copy_files(source_folder, destination_folder, file_extension)\n"
      ]
    },
    {
      "cell_type": "code",
      "source": [],
      "metadata": {
        "id": "E-Es5KBdln5y"
      },
      "execution_count": null,
      "outputs": []
    }
  ]
}