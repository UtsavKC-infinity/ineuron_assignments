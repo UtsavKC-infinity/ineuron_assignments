{
  "nbformat": 4,
  "nbformat_minor": 0,
  "metadata": {
    "colab": {
      "provenance": []
    },
    "kernelspec": {
      "name": "python3",
      "display_name": "Python 3"
    },
    "language_info": {
      "name": "python"
    }
  },
  "cells": [
    {
      "cell_type": "markdown",
      "source": [
        "\n",
        "1. Write a Python Program to Find LCM?\n",
        "\n",
        "\n"
      ],
      "metadata": {
        "id": "_qQhnunMBjLD"
      }
    },
    {
      "cell_type": "code",
      "execution_count": 8,
      "metadata": {
        "colab": {
          "base_uri": "https://localhost:8080/"
        },
        "id": "9PwmyRabBOIu",
        "outputId": "436690e1-83d8-48c9-eb52-67288367b11f"
      },
      "outputs": [
        {
          "output_type": "stream",
          "name": "stdout",
          "text": [
            "20 and 28 have the LCM of 140\n"
          ]
        }
      ],
      "source": [
        "def LCM(num1,num2):\n",
        "  max_num = max(num1,num2)\n",
        "  while True:\n",
        "    if (max_num % num1 == 0 and max_num % num2 == 0):\n",
        "        break\n",
        "    max_num += 1\n",
        "  return f\"{num1} and {num2} have the LCM of {max_num}\"\n",
        "lcm_value = LCM(20,28)\n",
        "print(lcm_value)"
      ]
    },
    {
      "cell_type": "markdown",
      "source": [
        "2. Write a Python Program to Find HCF?"
      ],
      "metadata": {
        "id": "A7DLJdRfXQGg"
      }
    },
    {
      "cell_type": "code",
      "source": [
        "def HCF(num1,num2):\n",
        "  min_num = min(num1,num2)\n",
        "  hcf = 0\n",
        "  for i in range(1,min_num+1):\n",
        "    if (num1 % i == 0 and num2 % i == 0):\n",
        "      hcf = i\n",
        "    \n",
        "  return f\"HCF of {num1} and {num2} is {hcf}\"\n",
        "\n",
        "user_input_one = int(input(\"Enter the number one: \"))\n",
        "user_input_two = int(input(\"Enter the number two: \"))\n",
        "hcf_value = HCF(user_input_one,user_input_two)\n",
        "print(hcf_value)\n",
        "       \n"
      ],
      "metadata": {
        "colab": {
          "base_uri": "https://localhost:8080/"
        },
        "id": "pPUnBwZLVgR9",
        "outputId": "b182cbbd-09f0-4548-d724-1b41312987c9"
      },
      "execution_count": 94,
      "outputs": [
        {
          "output_type": "stream",
          "name": "stdout",
          "text": [
            "Enter the number one: 24\n",
            "Enter the number two: 60\n",
            "HCF of 24 and 60 is 12\n"
          ]
        }
      ]
    },
    {
      "cell_type": "markdown",
      "source": [
        "3. Write a Python Program to Convert Decimal to Binary, Octal and Hexadecimal?"
      ],
      "metadata": {
        "id": "5ZSrbM39cUmV"
      }
    },
    {
      "cell_type": "code",
      "source": [
        "def decimalToBinary(numbers):\n",
        "  temp = numbers\n",
        "  binary_number = \"\"\n",
        "  while temp>0:\n",
        "    remainder = temp%2\n",
        "    binary_number += str(remainder)\n",
        "    temp //= 2\n",
        "  return f\"binary number of {numbers} is {binary_number[::-1]}\"\n",
        "\n",
        "decimal_number = int(input(\"Enter the number : \"))\n",
        "print(decimalToBinary(decimal_number))"
      ],
      "metadata": {
        "colab": {
          "base_uri": "https://localhost:8080/"
        },
        "id": "44RtzTWTajZZ",
        "outputId": "10e12743-81bd-4145-f120-5876b6e2fca2"
      },
      "execution_count": 95,
      "outputs": [
        {
          "output_type": "stream",
          "name": "stdout",
          "text": [
            "Enter the number : 153\n",
            "binary number of 153 is 10011001\n"
          ]
        }
      ]
    },
    {
      "cell_type": "code",
      "source": [
        "user_input_num = int(input(\"Enter the number : \"))\n",
        "num = user_input_num\n",
        "count = 0\n",
        "decimal_number = 0\n",
        "# conversion of octal number to decimal\n",
        "while num>0:\n",
        "  rem = num % 10\n",
        "  decimal_number += (rem * (8**count))\n",
        "  num //= 10\n",
        "  count += 1\n",
        "\n",
        "# conversion of decimal number to hexadecimal number\n",
        "hexadecimal_number = \"\"\n",
        "while decimal_number>0:\n",
        "  rem = decimal_number % 16\n",
        "  if rem > 9 :\n",
        "    rem = hex(rem)\n",
        "  hexadecimal_number += str(rem)\n",
        "  decimal_number //= 16\n",
        "\n",
        "print(hexadecimal_number[::-1].replace(\"x0\",\"\") + f\" is the hexadecimal number of {user_input_num}\")\n",
        "\n",
        "\n",
        "  "
      ],
      "metadata": {
        "colab": {
          "base_uri": "https://localhost:8080/"
        },
        "id": "KfbhtARRdziH",
        "outputId": "69ccd068-8f0a-4db7-d578-ca1581ee2a65"
      },
      "execution_count": 96,
      "outputs": [
        {
          "output_type": "stream",
          "name": "stdout",
          "text": [
            "Enter the number : 5123\n",
            "a53 is the hexadecimal number of 5123\n"
          ]
        }
      ]
    },
    {
      "cell_type": "markdown",
      "source": [
        "4. Write a Python Program To Find ASCII value of a character?"
      ],
      "metadata": {
        "id": "_B7u42AipSne"
      }
    },
    {
      "cell_type": "code",
      "source": [
        "user_input = input(\"Enter the sentence : \")\n",
        "temp = user_input.replace(\" \",\"\")\n",
        "char_dict = dict()\n",
        "for char in temp:\n",
        "  char_dict[char] = ord(char)\n",
        "print(char_dict)"
      ],
      "metadata": {
        "colab": {
          "base_uri": "https://localhost:8080/"
        },
        "id": "H4utAsP_jv_O",
        "outputId": "e72b5815-17a3-4827-e660-500d36e77fdb"
      },
      "execution_count": 97,
      "outputs": [
        {
          "output_type": "stream",
          "name": "stdout",
          "text": [
            "Enter the sentence : Into the WilD\n",
            "{'I': 73, 'n': 110, 't': 116, 'o': 111, 'h': 104, 'e': 101, 'W': 87, 'i': 105, 'l': 108, 'D': 68}\n"
          ]
        }
      ]
    },
    {
      "cell_type": "markdown",
      "source": [
        "5. Write a Python Program to Make a Simple Calculator with 4 basic mathematical operations?"
      ],
      "metadata": {
        "id": "2HsGNKTFrATn"
      }
    },
    {
      "cell_type": "code",
      "source": [
        "import math\n",
        "\n",
        "def calculator(*numbers):\n",
        "  value1 , value2 ,*other = numbers\n",
        "\n",
        "  sum_of_numbers = value1 + value2 + sum(other)\n",
        "  print(f\"Sum of n numbers is {sum_of_numbers}\")\n",
        "  print(\"*\"*20)\n",
        "\n",
        "  mul_of_numbers = value1 * value2\n",
        "  print(f\"Multiplication of numbers is {mul_of_numbers}\")\n",
        "  print(\"*\"*20)\n",
        "\n",
        "  print(f\"Log of {value2} is {math.log10(value2)}\")\n",
        "  print(\"*\"*20)\n",
        "\n",
        "  print(f\"Square root of {other[1]} is {math.sqrt(other[1])}\")\n",
        "\n",
        "calculator(1,12,3,4,6,7)\n"
      ],
      "metadata": {
        "colab": {
          "base_uri": "https://localhost:8080/"
        },
        "id": "oavg13rGqc-A",
        "outputId": "c5fd8cf0-305f-4622-ae64-cdfd8ba6ea26"
      },
      "execution_count": 98,
      "outputs": [
        {
          "output_type": "stream",
          "name": "stdout",
          "text": [
            "Sum of n numbers is 33\n",
            "********************\n",
            "Multiplication of numbers is 12\n",
            "********************\n",
            "Log of 12 is 1.0791812460476249\n",
            "********************\n",
            "Square root of 4 is 2.0\n"
          ]
        }
      ]
    }
  ]
}