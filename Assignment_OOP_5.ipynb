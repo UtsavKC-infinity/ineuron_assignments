{
  "nbformat": 4,
  "nbformat_minor": 0,
  "metadata": {
    "colab": {
      "provenance": []
    },
    "kernelspec": {
      "name": "python3",
      "display_name": "Python 3"
    },
    "language_info": {
      "name": "python"
    }
  },
  "cells": [
    {
      "cell_type": "markdown",
      "source": [
        "Q1. What is the meaning of multiple inheritance?\n",
        "\n",
        "Ans: Multiple inheritance refers to a feature in object-oriented programming where a class can inherit characteristics and behaviors from more than one parent class. In other words, a class can have multiple base classes from which it inherits."
      ],
      "metadata": {
        "id": "xtEHHt8MZFxh"
      }
    },
    {
      "cell_type": "markdown",
      "source": [
        "Q2. What is the concept of delegation?\n",
        "\n",
        "Ans: The concept of delegation in object-oriented programming refers to a design pattern where an object forwards or delegates responsibility for a particular task to another object. Instead of performing the task itself, the delegating object relies on the delegated object to handle it.\n",
        "\n",
        "Delegation is a way to achieve code reuse and modularity by distributing responsibilities among objects."
      ],
      "metadata": {
        "id": "CPaz9ICqZORT"
      }
    },
    {
      "cell_type": "markdown",
      "source": [
        "Q3. What is the concept of composition?\n",
        "\n",
        "Ans: The concept of composition in object-oriented programming refers to a design principle where objects are combined or composed of other objects as part of their internal structure. It enables the creation of complex objects by assembling simpler objects, forming a \"has-a\" relationship."
      ],
      "metadata": {
        "id": "sdI0mdBrZaCc"
      }
    },
    {
      "cell_type": "markdown",
      "source": [
        "Q4. What are bound methods and how do we use them?\n",
        "\n",
        "Ans: Bound methods are methods that are associated with a specific instance of a class. When a method is accessed through an instance of a class, it becomes a bound method, which is essentially the method bound to that instance. Bound methods automatically receive the instance as the first argument (conventionally named self), allowing them to access and manipulate the instance's attributes and behavior.\n",
        "\n",
        "To use bound methods, you typically define methods within a class, and when you create an instance of that class, the methods become bound methods associated with that instance. You can then invoke the bound methods on the instance, and they will have access to the instance's attributes and can perform operations specific to that instance."
      ],
      "metadata": {
        "id": "X3Ir1WUIZnNm"
      }
    },
    {
      "cell_type": "markdown",
      "source": [
        "Q5. What is the purpose of pseudoprivate attributes?\n",
        "\n",
        "Ans: In Python, pseudoprivate attributes are a convention used to indicate that an attribute or method is intended to be private and should not be accessed or modified directly outside of the class.\n",
        "\n",
        "The purpose of pseudoprivate attributes is to encourage encapsulation and information hiding, which are important principles in object-oriented programming. By marking certain attributes as pseudoprivate, you signal to other developers that these attributes are not intended to be accessed directly from outside the class."
      ],
      "metadata": {
        "id": "fpSDZ8i8Z6sR"
      }
    },
    {
      "cell_type": "code",
      "execution_count": null,
      "metadata": {
        "id": "FMg-I0n4ZFLO"
      },
      "outputs": [],
      "source": []
    }
  ]
}