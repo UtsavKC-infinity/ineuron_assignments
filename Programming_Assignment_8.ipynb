{
  "nbformat": 4,
  "nbformat_minor": 0,
  "metadata": {
    "colab": {
      "provenance": []
    },
    "kernelspec": {
      "name": "python3",
      "display_name": "Python 3"
    },
    "language_info": {
      "name": "python"
    }
  },
  "cells": [
    {
      "cell_type": "code",
      "execution_count": 1,
      "metadata": {
        "colab": {
          "base_uri": "https://localhost:8080/"
        },
        "id": "Xuj84xRKma4g",
        "outputId": "b573607b-bb5c-4f21-b508-bbb58f0d24c8"
      },
      "outputs": [
        {
          "output_type": "stream",
          "name": "stdout",
          "text": [
            "[10, 10, 10]\n",
            "[10, 10, 10]\n",
            "[10, 10, 10]\n"
          ]
        }
      ],
      "source": [
        "#1. Write a Python Program to Add Two Matrices?\n",
        "def add_matrices(matrix1, matrix2):\n",
        "    rows = len(matrix1)\n",
        "    columns = len(matrix1[0])\n",
        "\n",
        "    # Create a new matrix to store the result\n",
        "    result = [[0 for _ in range(columns)] for _ in range(rows)]\n",
        "\n",
        "    # Perform element-wise addition\n",
        "    for i in range(rows):\n",
        "        for j in range(columns):\n",
        "            result[i][j] = matrix1[i][j] + matrix2[i][j]\n",
        "\n",
        "    return result\n",
        "matrix1 = [[1, 2, 3],\n",
        "           [4, 5, 6],\n",
        "           [7, 8, 9]]\n",
        "\n",
        "matrix2 = [[9, 8, 7],\n",
        "           [6, 5, 4],\n",
        "           [3, 2, 1]]\n",
        "\n",
        "result = add_matrices(matrix1, matrix2)\n",
        "\n",
        "for row in result:\n",
        "    print(row)\n"
      ]
    },
    {
      "cell_type": "code",
      "source": [
        "#2. Write a Python Program to Multiply Two Matrices?\n",
        "def multiply_matrices(matrix1, matrix2):\n",
        "    rows1 = len(matrix1)\n",
        "    cols1 = len(matrix1[0])\n",
        "    cols2 = len(matrix2[0])\n",
        "\n",
        "    # Create a new matrix to store the result\n",
        "    result = [[0 for _ in range(cols2)] for _ in range(rows1)]\n",
        "\n",
        "    # Perform matrix multiplication\n",
        "    for i in range(rows1):\n",
        "        for j in range(cols2):\n",
        "            for k in range(cols1):\n",
        "                result[i][j] += matrix1[i][k] * matrix2[k][j]\n",
        "\n",
        "    return result\n",
        "\n",
        "# Test the function\n",
        "matrix1 = [[1, 2],\n",
        "           [3, 4]]\n",
        "\n",
        "matrix2 = [[5, 6],\n",
        "           [7, 8]]\n",
        "\n",
        "result = multiply_matrices(matrix1, matrix2)\n",
        "\n",
        "# Print the result\n",
        "for row in result:\n",
        "    print(row)\n"
      ],
      "metadata": {
        "colab": {
          "base_uri": "https://localhost:8080/"
        },
        "id": "dDhM6_E8mmU3",
        "outputId": "f26db270-71be-44d3-8b1d-330772835079"
      },
      "execution_count": 2,
      "outputs": [
        {
          "output_type": "stream",
          "name": "stdout",
          "text": [
            "[19, 22]\n",
            "[43, 50]\n"
          ]
        }
      ]
    },
    {
      "cell_type": "code",
      "source": [
        "#3. Write a Python Program to Transpose a Matrix?def transpose_matrix(matrix):\n",
        "def transpose_matrix(matrix):\n",
        "    rows = len(matrix)\n",
        "    cols = len(matrix[0])\n",
        "\n",
        "    # Create a new matrix to store the transpose\n",
        "    transpose = [[0 for _ in range(rows)] for _ in range(cols)]\n",
        "\n",
        "    # Perform matrix transposition\n",
        "    for i in range(rows):\n",
        "        for j in range(cols):\n",
        "            transpose[j][i] = matrix[i][j]\n",
        "\n",
        "    return transpose\n",
        "\n",
        "# Test the function\n",
        "matrix = [[1, 2, 3],\n",
        "          [4, 5, 6],\n",
        "          [7, 8, 9]]\n",
        "\n",
        "transposed_matrix = transpose_matrix(matrix)\n",
        "\n",
        "# Print the transposed matrix\n",
        "for row in transposed_matrix:\n",
        "    print(row)\n"
      ],
      "metadata": {
        "colab": {
          "base_uri": "https://localhost:8080/"
        },
        "id": "-SrCGZgrm4Y-",
        "outputId": "a2183577-459f-4c16-f7c2-e45e0c178daa"
      },
      "execution_count": 5,
      "outputs": [
        {
          "output_type": "stream",
          "name": "stdout",
          "text": [
            "[1, 4, 7]\n",
            "[2, 5, 8]\n",
            "[3, 6, 9]\n"
          ]
        }
      ]
    },
    {
      "cell_type": "code",
      "source": [
        "#4. Write a Python Program to Sort Words in Alphabetic Order?\n",
        "def sort_words_alphabetically(sentence):\n",
        "    words = sentence.split()  # Split the sentence into individual words\n",
        "    sorted_words = sorted(words)  # Sort the words alphabetically\n",
        "    sorted_sentence = ' '.join(sorted_words)  # Join the sorted words into a sentence\n",
        "\n",
        "    return sorted_sentence\n",
        "\n",
        "# Test the function\n",
        "sentence = \"Python program to sort words in alphabetical order\"\n",
        "sorted_sentence = sort_words_alphabetically(sentence)\n",
        "print(\"Original sentence:\", sentence)\n",
        "print(\"Sorted sentence:\", sorted_sentence)\n"
      ],
      "metadata": {
        "colab": {
          "base_uri": "https://localhost:8080/"
        },
        "id": "0nKxt5R8nB5u",
        "outputId": "639f710a-2c8a-46ed-f4a5-f0775857b783"
      },
      "execution_count": 6,
      "outputs": [
        {
          "output_type": "stream",
          "name": "stdout",
          "text": [
            "Original sentence: Python program to sort words in alphabetical order\n",
            "Sorted sentence: Python alphabetical in order program sort to words\n"
          ]
        }
      ]
    },
    {
      "cell_type": "code",
      "source": [
        "#5. Write a Python Program to Remove Punctuation From a String?\n",
        "import string\n",
        "\n",
        "def remove_punctuation(input_string):\n",
        "    # Create a translation table with punctuation characters mapped to None\n",
        "    translator = str.maketrans('', '', string.punctuation)\n",
        "    # Use the translation table to remove punctuation from the input string\n",
        "    no_punct = input_string.translate(translator)\n",
        "    return no_punct\n",
        "\n",
        "# Test the function\n",
        "input_string = \"Hello, World! This is an example string.\"\n",
        "result = remove_punctuation(input_string)\n",
        "print(\"Input string:\", input_string)\n",
        "print(\"String without punctuation:\", result)\n"
      ],
      "metadata": {
        "colab": {
          "base_uri": "https://localhost:8080/"
        },
        "id": "WJAVkpIRnWjz",
        "outputId": "4c77f9fe-3ce0-4530-e69b-31d98ed10de9"
      },
      "execution_count": 7,
      "outputs": [
        {
          "output_type": "stream",
          "name": "stdout",
          "text": [
            "Input string: Hello, World! This is an example string.\n",
            "String without punctuation: Hello World This is an example string\n"
          ]
        }
      ]
    },
    {
      "cell_type": "code",
      "source": [],
      "metadata": {
        "id": "93U7fPb9ndyx"
      },
      "execution_count": null,
      "outputs": []
    }
  ]
}