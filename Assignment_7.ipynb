{
  "nbformat": 4,
  "nbformat_minor": 0,
  "metadata": {
    "colab": {
      "provenance": []
    },
    "kernelspec": {
      "name": "python3",
      "display_name": "Python 3"
    },
    "language_info": {
      "name": "python"
    }
  },
  "cells": [
    {
      "cell_type": "markdown",
      "source": [
        "1. What is the name of the feature responsible for generating Regex objects?\n",
        "\n",
        "Ans: The feature responsible for generating Regex objects in Python is the re module, which provides support for regular expressions."
      ],
      "metadata": {
        "id": "_xp94E4MSfiF"
      }
    },
    {
      "cell_type": "markdown",
      "source": [
        "2. Why do raw strings often appear in Regex objects?\n",
        "\n",
        "Ans: \n",
        "Raw strings are often used in Regex objects because they treat backslashes (\\) as literal characters rather than escape characters. Regular expressions often contain many backslashes, which are used to specify special characters or sequences. By using raw strings (prefixing the string with r), backslashes are not treated as escape characters, simplifying the representation of regular expressions and avoiding the need for excessive escaping."
      ],
      "metadata": {
        "id": "aX7YDrV_Smcz"
      }
    },
    {
      "cell_type": "markdown",
      "source": [
        "3. What is the return value of the search() method?\n",
        "\n",
        "Ans: The return value of the search() method in regular expressions is an object of the re.Match class. This object represents the first occurrence of a pattern within a string that matches the regular expression. If a match is found, you can access information about the match using various methods and attributes of the re.Match object. If no match is found, the search() method returns None."
      ],
      "metadata": {
        "id": "FZwknQ2PSvig"
      }
    },
    {
      "cell_type": "markdown",
      "source": [
        "4. From a Match item, how do you get the actual strings that match the pattern?\n",
        "\n",
        "Ans: \n",
        "To get the actual strings that match the pattern from a Match object, you can use the group() method. The group() method returns the specific substring that matched the pattern."
      ],
      "metadata": {
        "id": "tsP8tUtPS3ov"
      }
    },
    {
      "cell_type": "code",
      "execution_count": 1,
      "metadata": {
        "colab": {
          "base_uri": "https://localhost:8080/"
        },
        "id": "4rPT5NCjSJm3",
        "outputId": "86d91433-f9db-4518-904b-026b932f5862"
      },
      "outputs": [
        {
          "output_type": "stream",
          "name": "stdout",
          "text": [
            "Hello\n"
          ]
        }
      ],
      "source": [
        "import re\n",
        "\n",
        "text = \"Hello, World!\"\n",
        "\n",
        "# Match the word \"Hello\" in the text\n",
        "match = re.search(r\"Hello\", text)\n",
        "\n",
        "if match:\n",
        "    # Get the matched substring\n",
        "    matched_string = match.group()\n",
        "    print(matched_string)  # Output: Hello"
      ]
    },
    {
      "cell_type": "markdown",
      "source": [
        "5. In the regex which created from the r&#39;(\\d\\d\\d)-(\\d\\d\\d-\\d\\d\\d\\d)&#39;, what does group zero cover?\n",
        "Group 2? Group 1?\n",
        "\n",
        "Ans: \n",
        "In the regex pattern r'(\\d\\d\\d)-(\\d\\d\\d-\\d\\d\\d\\d)', the groups are defined using parentheses. Let's break down the groups:\n",
        "\n",
        "1)Group 0 (or group zero): It covers the entire matched substring. In this case, it covers the entire pattern (\\d\\d\\d)-(\\d\\d\\d-\\d\\d\\d\\d).\n",
        "\n",
        "2)Group 1: It covers the first capturing group (\\d\\d\\d). This group captures a sequence of three digits.\n",
        "\n",
        "3)Group 2: It covers the second capturing group (\\d\\d\\d-\\d\\d\\d\\d). This group captures a sequence of three digits followed by a hyphen and then another sequence of four digits."
      ],
      "metadata": {
        "id": "DDCusjmtTGMg"
      }
    },
    {
      "cell_type": "code",
      "source": [
        "import re\n",
        "\n",
        "text = \"Phone number: 123-456-7890\"\n",
        "\n",
        "# Match the phone number pattern and capture groups\n",
        "match = re.search(r'(\\d\\d\\d)-(\\d\\d\\d-\\d\\d\\d\\d)', text)\n",
        "\n",
        "if match:\n",
        "    # Group 0: Entire matched substring\n",
        "    print(\"Group 0:\", match.group(0))  \n",
        "\n",
        "    # Group 1: First capturing group\n",
        "    print(\"Group 1:\", match.group(1))  \n",
        "\n",
        "    # Group 2: Second capturing group\n",
        "    print(\"Group 2:\", match.group(2))  \n"
      ],
      "metadata": {
        "colab": {
          "base_uri": "https://localhost:8080/"
        },
        "id": "bqj6O_whTFW8",
        "outputId": "9a28db0e-19fc-425e-a11b-f6a0dac1ae07"
      },
      "execution_count": 2,
      "outputs": [
        {
          "output_type": "stream",
          "name": "stdout",
          "text": [
            "Group 0: 123-456-7890\n",
            "Group 1: 123\n",
            "Group 2: 456-7890\n"
          ]
        }
      ]
    },
    {
      "cell_type": "markdown",
      "source": [
        "6. In standard expression syntax, parentheses and intervals have distinct meanings. How can you tell\n",
        "a regex that you want it to fit real parentheses and periods?\n",
        "\n",
        "Ans: \n",
        "To tell a regex that you want to match literal parentheses and periods instead of using their special meanings in regular expression syntax, you can use the backslash \\ to escape them. The backslash \\ is used to indicate that the following character should be treated as a literal character and not as a special metacharacter.\n",
        "\n",
        "Here are the escape sequences for parentheses and periods:\n",
        "\n",
        "\\( and \\): Matches literal parentheses.\n",
        "\n",
        "\\.: Matches a literal period.\n",
        "\n",
        "For example, if you want to match the string \"(example.com)\", including the parentheses and the period, you can use the following regex:"
      ],
      "metadata": {
        "id": "ZgaGuScZTdCC"
      }
    },
    {
      "cell_type": "code",
      "source": [
        "import re\n",
        "\n",
        "text = \"(example.com)\"\n",
        "\n",
        "# Match literal parentheses and period\n",
        "match = re.search(r'\\(example\\.com\\)', text)\n",
        "\n",
        "if match:\n",
        "    print(\"Match found:\", match.group(0))\n"
      ],
      "metadata": {
        "colab": {
          "base_uri": "https://localhost:8080/"
        },
        "id": "s421myzzTZnM",
        "outputId": "aa62bb8c-fd24-4d52-ccd8-581aed72e4a7"
      },
      "execution_count": 3,
      "outputs": [
        {
          "output_type": "stream",
          "name": "stdout",
          "text": [
            "Match found: (example.com)\n"
          ]
        }
      ]
    },
    {
      "cell_type": "markdown",
      "source": [
        "7. The findall() method returns a string list or a list of string tuples. What causes it to return one of\n",
        "the two options?\n",
        "\n",
        "Ans: The findall() method in regular expressions returns different types of results depending on the pattern used in the regex:\n",
        "\n",
        "If the regex pattern contains no capturing groups (parentheses), findall() returns a list of strings. Each element in the list represents a complete match of the pattern.\n",
        "\n",
        "If the regex pattern contains one or more capturing groups, findall() returns a list of tuples. Each tuple corresponds to a match of the entire pattern, and each element of the tuple represents a captured group."
      ],
      "metadata": {
        "id": "dM6lEZ6GTt7z"
      }
    },
    {
      "cell_type": "markdown",
      "source": [
        "8. In standard expressions, what does the '|' character mean?\n",
        "\n",
        "Ans: In standard regular expressions, the '|' character (pipe) is used to denote the logical OR operation. It allows you to specify multiple alternative patterns, and the regular expression engine will match any of the patterns."
      ],
      "metadata": {
        "id": "6hqvIni4UAV9"
      }
    },
    {
      "cell_type": "markdown",
      "source": [
        "9. In regular expressions, what does the character stand for?\n",
        "\n",
        "Ans: In regular expressions, the . character (dot) is a special metacharacter that represents any character except a newline. It matches any single character in the input string, except for newline characters."
      ],
      "metadata": {
        "id": "aF0MmaFMULaL"
      }
    },
    {
      "cell_type": "markdown",
      "source": [
        "10.In regular expressions, what is the difference between the + and * characters?\n",
        "\n",
        "Ans: + matches one or more occurrences, while * matches zero or more occurrences. The main difference is that + requires at least one occurrence of the preceding element, while * allows for zero occurrences as well."
      ],
      "metadata": {
        "id": "JHvnA0c0UVlj"
      }
    },
    {
      "cell_type": "markdown",
      "source": [
        "11. What is the difference between {4} and {4,5} in regular expression?\n",
        "\n",
        "Ans: 1) {4} matches exactly four occurrences, while {4,5} matches between four and five occurrences."
      ],
      "metadata": {
        "id": "oqUVkIzCUiQE"
      }
    },
    {
      "cell_type": "markdown",
      "source": [
        "12. What do you mean by the \\d, \\w, and \\s shorthand character classes signify in regular\n",
        "expressions?\n",
        "\n",
        "Ans: In regular expressions, the shorthand character classes \\d, \\w, and \\s have the following meanings:\n",
        "\n",
        "1) \\d:\n",
        "\n",
        "Matches any digit character (0-9).\n",
        "Equivalent to the character class [0-9].\n",
        "Example: The pattern r\"\\d\\d\\d\" matches any three consecutive digits.\n",
        "\n",
        "2) \\w:\n",
        "\n",
        "Matches any alphanumeric character (a-z, A-Z, 0-9) and underscore (_).\n",
        "Equivalent to the character class [a-zA-Z0-9_].\n",
        "Example: The pattern r\"\\w+\" matches one or more consecutive alphanumeric characters or underscores.\n",
        "\n",
        "3) \\s:\n",
        "\n",
        "Matches any whitespace character (space, tab, newline).\n",
        "Equivalent to the character class [\\t\\n\\r\\f\\v ].\n",
        "Example: The pattern r\"\\s+\" matches one or more consecutive whitespace characters.\n",
        "These shorthand character classes provide a convenient way to match commonly used character groups in regular expressions.\n",
        "\n",
        "\n",
        "\n",
        "\n",
        "\n",
        "\n"
      ],
      "metadata": {
        "id": "ViuA4FijUzw2"
      }
    },
    {
      "cell_type": "markdown",
      "source": [
        "13. What do means by \\D, \\W, and \\S shorthand character classes signify in regular expressions?\n",
        "\n",
        "Ans: In regular expressions, the shorthand character classes \\D, \\W, and \\S have the following meanings:\n",
        "\n",
        "1)\\D:\n",
        "\n",
        "Matches any non-digit character.\n",
        "Equivalent to the negated character class [^0-9].\n",
        "Example: The pattern r\"\\D+\" matches one or more consecutive non-digit characters.\n",
        "\n",
        "2)\\W:\n",
        "\n",
        "Matches any non-alphanumeric character (excluding underscore).\n",
        "Equivalent to the negated character class [^a-zA-Z0-9_].\n",
        "Example: The pattern r\"\\W+\" matches one or more consecutive non-alphanumeric characters.\n",
        "\n",
        "3)\\S:\n",
        "\n",
        "Matches any non-whitespace character.\n",
        "Equivalent to the negated character class [^\\t\\n\\r\\f\\v ].\n",
        "Example: The pattern r\"\\S+\" matches one or more consecutive non-whitespace characters.\n",
        "These shorthand character classes provide a convenient way to match characters that are not included in specific character groups in regular expressions."
      ],
      "metadata": {
        "id": "GiCMU9vjVFGV"
      }
    },
    {
      "cell_type": "markdown",
      "source": [
        "14. What is the difference between .*? and .*?\n",
        "\n",
        "Ans: .*? performs a non-greedy match, while .* performs a greedy match. The presence of the ? makes the quantifier non-greedy, causing it to match as little as possible."
      ],
      "metadata": {
        "id": "CpCWTsAhVTsC"
      }
    },
    {
      "cell_type": "markdown",
      "source": [
        "15. What is the syntax for matching both numbers and lowercase letters with a character class?\n",
        "\n",
        "Ans: To match both numbers and lowercase letters using a character class in regular expressions, you can use the following syntax:\n",
        "\n",
        "    [0-9a-z]\n"
      ],
      "metadata": {
        "id": "L04_qA2HVfn2"
      }
    },
    {
      "cell_type": "markdown",
      "source": [
        "16. What is the procedure for making a normal expression in regax case insensitive?\n",
        "\n",
        "Ans:To make a regular expression case insensitive in Python, you can use the re.IGNORECASE flag or the re.I flag. This flag enables case-insensitive matching when used with the regular expression functions in the re module.\n",
        "\n",
        "Here's the procedure to make a regular expression case insensitive:\n",
        "\n",
        "1)Import the re module: import re\n",
        "\n",
        "2)efine your regular expression pattern.\n",
        "\n",
        "3)Use the re.IGNORECASE flag or re.I flag as the second argument when calling the appropriate re function (re.match(), re.search(), re.findall(), etc.).\n",
        "\n"
      ],
      "metadata": {
        "id": "NIxbPHEwV2NR"
      }
    },
    {
      "cell_type": "markdown",
      "source": [
        "17. What does the . character normally match? What does it match if re.DOTALL is passed as 2nd\n",
        "argument in re.compile()?\n",
        "\n",
        "Ans: In a regular expression, the . (dot) character normally matches any character except a newline character (\\n). It matches any single character in the input string.\n",
        "\n",
        "However, if you pass re.DOTALL or re.S as the second argument when compiling the regular expression pattern using re.compile(), then the . (dot) character will match any character including newline characters."
      ],
      "metadata": {
        "id": "YT7u0nmqWFO2"
      }
    },
    {
      "cell_type": "markdown",
      "source": [
        "18. If numReg = re.compile(r&#39;\\d+&#39;), what will numRegex.sub(&#39;X&#39;, &#39;11 drummers, 10 pipers, five rings, 4\n",
        "hen&#39;) return?\n",
        "\n",
        "Ans: The numRegex.sub('X', '11 drummers, 10 pipers, five rings, 4 hen') statement will return the string 'X drummers, X pipers, five rings, X hen'.\n",
        "\n",
        "The sub() method of a compiled regular expression (numRegex in this case) is used to substitute occurrences of the pattern in a string with a specified replacement. In this case, the pattern r'\\d+' matches one or more digits.\n",
        "\n",
        "By calling numRegex.sub('X', '11 drummers, 10 pipers, five rings, 4 hen'), all occurrences of one or more digits in the input string are replaced with the character 'X'. Therefore, the resulting string will have all the numeric values replaced with 'X', while the other parts of the string remain unchanged."
      ],
      "metadata": {
        "id": "cm0v1031WQgj"
      }
    },
    {
      "cell_type": "markdown",
      "source": [
        "19. What does passing re.VERBOSE as the 2nd argument to re.compile() allow to do?\n",
        "\n",
        "Ans: Passing re.VERBOSE as the second argument to re.compile() allows you to add whitespace and comments to the regular expression pattern for better readability.\n",
        "\n",
        "By default, in a regular expression pattern, whitespace characters are significant and contribute to the pattern matching. However, when re.VERBOSE flag is used, whitespace characters (excluding those within character classes) are ignored, allowing you to add spaces, line breaks, and comments to make the pattern more readable and organized."
      ],
      "metadata": {
        "id": "1yyZH-63Wbcj"
      }
    },
    {
      "cell_type": "markdown",
      "source": [
        "20. How would you write a regex that match a number with comma for every three digits? It must\n",
        "match the given following:\n",
        "&#39;42&#39;\n",
        "&#39;1,234&#39;\n",
        "&#39;6,368,745&#39;\n",
        "\n",
        "Ans: You can write a regex pattern to match a number with commas for every three digits using the following pattern:"
      ],
      "metadata": {
        "id": "27_CIt23Wge0"
      }
    },
    {
      "cell_type": "code",
      "source": [
        "import re\n",
        "\n",
        "pattern = re.compile(r'^\\d{1,3}(,\\d{3})*$')\n",
        "\n",
        "strings = ['42', '1,234', '6,368,745']\n",
        "\n",
        "for string in strings:\n",
        "    if pattern.match(string):\n",
        "        print(f\"Matched: {string}\")\n",
        "    else:\n",
        "        print(f\"Not matched: {string}\")\n"
      ],
      "metadata": {
        "colab": {
          "base_uri": "https://localhost:8080/"
        },
        "id": "fmIh5HVEVnWA",
        "outputId": "6defc3b1-a842-4c88-daa1-291b3095f502"
      },
      "execution_count": 5,
      "outputs": [
        {
          "output_type": "stream",
          "name": "stdout",
          "text": [
            "Matched: 42\n",
            "Matched: 1,234\n",
            "Matched: 6,368,745\n"
          ]
        }
      ]
    },
    {
      "cell_type": "code",
      "source": [],
      "metadata": {
        "id": "0LMqq0HIWqvK"
      },
      "execution_count": null,
      "outputs": []
    }
  ]
}