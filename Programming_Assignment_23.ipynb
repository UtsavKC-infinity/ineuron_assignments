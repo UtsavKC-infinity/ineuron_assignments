{
  "nbformat": 4,
  "nbformat_minor": 0,
  "metadata": {
    "colab": {
      "provenance": []
    },
    "kernelspec": {
      "name": "python3",
      "display_name": "Python 3"
    },
    "language_info": {
      "name": "python"
    }
  },
  "cells": [
    {
      "cell_type": "markdown",
      "source": [
        "Create a function that takes a number as an argument and returns True or False depending\n",
        "on whether the number is symmetrical or not. A number is symmetrical when it is the same as\n",
        "its reverse.\n"
      ],
      "metadata": {
        "id": "2asLVvxf-Sk4"
      }
    },
    {
      "cell_type": "code",
      "execution_count": 1,
      "metadata": {
        "colab": {
          "base_uri": "https://localhost:8080/"
        },
        "id": "BAfrYiEY-SAk",
        "outputId": "3f4408a0-f1a0-473e-8092-628a03d26561"
      },
      "outputs": [
        {
          "output_type": "stream",
          "name": "stdout",
          "text": [
            "True\n",
            "False\n",
            "True\n",
            "False\n",
            "True\n"
          ]
        }
      ],
      "source": [
        "def is_symmetrical(num):\n",
        "    num_str = str(num)  # Convert the number to a string\n",
        "    return num_str == num_str[::-1]\n",
        "\n",
        "# Examples:\n",
        "print(is_symmetrical(7227))  # Output: True\n",
        "print(is_symmetrical(12567))  # Output: False\n",
        "print(is_symmetrical(44444444))  # Output: True\n",
        "print(is_symmetrical(9939))  # Output: False\n",
        "print(is_symmetrical(1112111))  # Output: True\n"
      ]
    },
    {
      "cell_type": "markdown",
      "source": [
        "Given a string of numbers separated by a comma and space, return the product of the\n",
        "numbers.\n"
      ],
      "metadata": {
        "id": "bf_ylx3o-bif"
      }
    },
    {
      "cell_type": "code",
      "source": [
        "def multiply_nums(nums):\n",
        "    num_list = nums.split(\", \")  # Split the string by comma and space to get a list of numbers\n",
        "    product = 1\n",
        "    for num in num_list:\n",
        "        product *= int(num)  # Multiply each number in the list\n",
        "    return product\n",
        "\n",
        "# Examples:\n",
        "print(multiply_nums(\"2, 3\"))  # Output: 6\n",
        "print(multiply_nums(\"1, 2, 3, 4\"))  # Output: 24\n",
        "print(multiply_nums(\"54, 75, 453, 0\"))  # Output: 0\n",
        "print(multiply_nums(\"10, -2\"))  # Output: -20\n"
      ],
      "metadata": {
        "colab": {
          "base_uri": "https://localhost:8080/"
        },
        "id": "wOwdS_XX-Wmh",
        "outputId": "f402b208-194b-422b-be2d-216cb5054570"
      },
      "execution_count": 2,
      "outputs": [
        {
          "output_type": "stream",
          "name": "stdout",
          "text": [
            "6\n",
            "24\n",
            "0\n",
            "-20\n"
          ]
        }
      ]
    },
    {
      "cell_type": "markdown",
      "source": [
        "Create a function that squares every digit of a number.\n"
      ],
      "metadata": {
        "id": "ey7TVkcB-kjS"
      }
    },
    {
      "cell_type": "code",
      "source": [
        "def square_digits(num):\n",
        "    result = \"\"\n",
        "    for digit in str(num):\n",
        "        square = int(digit) ** 2\n",
        "        result += str(square)\n",
        "    return int(result)\n",
        "\n",
        "# Examples:\n",
        "print(square_digits(9119))  # Output: 811181\n",
        "print(square_digits(2483))  # Output: 416649\n",
        "print(square_digits(3212))  # Output: 9414\n"
      ],
      "metadata": {
        "colab": {
          "base_uri": "https://localhost:8080/"
        },
        "id": "hOUQrgrH-gdQ",
        "outputId": "9d701328-d9a5-4371-be72-241b299dea76"
      },
      "execution_count": 3,
      "outputs": [
        {
          "output_type": "stream",
          "name": "stdout",
          "text": [
            "811181\n",
            "416649\n",
            "9414\n"
          ]
        }
      ]
    },
    {
      "cell_type": "markdown",
      "source": [
        "Create a function that sorts a list and removes all duplicate items from it.\n",
        "Examples\n",
        "setify([1, 3, 3, 5, 5]) ➞ [1, 3, 5]\n",
        "setify([4, 4, 4, 4]) ➞ [4]\n",
        "setify([5, 7, 8, 9, 10, 15]) ➞ [5, 7, 8, 9, 10, 15]\n",
        "setify([3, 3, 3, 2, 1]) ➞ [1, 2, 3]"
      ],
      "metadata": {
        "id": "K5Hiyu7c-rOa"
      }
    },
    {
      "cell_type": "code",
      "source": [
        "def setify(lst):\n",
        "    return sorted(list(set(lst)))\n",
        "\n",
        "# Examples:\n",
        "print(setify([1, 3, 3, 5, 5]))  # Output: [1, 3, 5]\n",
        "print(setify([4, 4, 4, 4]))  # Output: [4]\n",
        "print(setify([5, 7, 8, 9, 10, 15]))  # Output: [5, 7, 8, 9\n"
      ],
      "metadata": {
        "colab": {
          "base_uri": "https://localhost:8080/"
        },
        "id": "DMw75SL5-nHF",
        "outputId": "f1e9811f-8139-497b-aced-4a1196de848c"
      },
      "execution_count": 4,
      "outputs": [
        {
          "output_type": "stream",
          "name": "stdout",
          "text": [
            "[1, 3, 5]\n",
            "[4]\n",
            "[5, 7, 8, 9, 10, 15]\n"
          ]
        }
      ]
    },
    {
      "cell_type": "markdown",
      "source": [
        "Create a function that returns the mean of all digits."
      ],
      "metadata": {
        "id": "QtpmNM44-w-j"
      }
    },
    {
      "cell_type": "code",
      "source": [
        "def mean(num):\n",
        "    digits = [int(digit) for digit in str(num)]\n",
        "    return sum(digits) // len(digits)\n",
        "\n",
        "# Examples:\n",
        "print(mean(42))  # Output: 3\n",
        "print(mean(12345))  # Output: 3\n",
        "print(mean(666))  # Output: 6\n",
        "\n"
      ],
      "metadata": {
        "colab": {
          "base_uri": "https://localhost:8080/"
        },
        "id": "OBZQpNpj-t0x",
        "outputId": "7ae122e0-edee-4920-92bf-d2b77e46d550"
      },
      "execution_count": 7,
      "outputs": [
        {
          "output_type": "stream",
          "name": "stdout",
          "text": [
            "3\n",
            "3\n",
            "6\n"
          ]
        }
      ]
    },
    {
      "cell_type": "code",
      "source": [],
      "metadata": {
        "id": "USWREFbM-zrE"
      },
      "execution_count": null,
      "outputs": []
    }
  ]
}