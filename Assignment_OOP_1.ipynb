{
  "nbformat": 4,
  "nbformat_minor": 0,
  "metadata": {
    "colab": {
      "provenance": []
    },
    "kernelspec": {
      "name": "python3",
      "display_name": "Python 3"
    },
    "language_info": {
      "name": "python"
    }
  },
  "cells": [
    {
      "cell_type": "markdown",
      "source": [
        "Q1. What is the purpose of Python&#39;s OOP?\n",
        "\n",
        "Ans: The purpose of Python's Object-Oriented Programming (OOP) is to provide a programming paradigm that allows developers to structure their code in a way that models real-world objects and their interactions. OOP is based on the concept of objects, which are instances of classes.\n",
        "\n",
        "The main objectives of OOP in Python are:\n",
        "\n",
        "1) Modularity and code organization: OOP helps in breaking down complex problems into smaller, more manageable parts. Classes and objects encapsulate data and behavior, making the code modular and easier to understand, maintain, and reuse.\n",
        "\n",
        "2) Abstraction and encapsulation: OOP promotes abstraction by allowing the definition of classes that abstract away the complexity of implementation details, providing a simplified interface to interact with objects. Encapsulation ensures that the internal state and behavior of an object are hidden from the outside world, and only specific methods (functions) defined in the class can access and modify the object's state.\n",
        "\n",
        "3) Inheritance and code reuse: Inheritance is a key concept in OOP that allows the creation of new classes based on existing classes. Through inheritance, a new class (called a subclass or derived class) can inherit the attributes and methods of an existing class (called a superclass or base class). This enables code reuse, as the subclass can add or modify behavior without duplicating code.\n",
        "\n",
        "4) Polymorphism and interface standardization: Polymorphism allows objects of different classes to be treated as interchangeable entities if they share a common interface. This enables writing more flexible and generic code that can work with various objects without the need for explicit type checking.\n",
        "\n",
        "Overall, the purpose of Python's OOP is to provide a structured and modular approach to software development, enhancing code organization, reusability, and maintainability. It aligns programming with real-world concepts, making it easier to design and implement complex systems.\n",
        "\n",
        "\n",
        "\n",
        "\n",
        "\n",
        "\n"
      ],
      "metadata": {
        "id": "hI26yHKXcYhs"
      }
    },
    {
      "cell_type": "markdown",
      "source": [
        "Q2. Where does an inheritance search look for an attribute?\n",
        "\n",
        "Ans: In Python, when an attribute is accessed on an object, the inheritance search (also known as attribute resolution or attribute lookup) follows a specific order called the Method Resolution Order (MRO) to determine where to look for the attribute. The MRO defines the sequence in which Python checks for attributes in a class hierarchy.\n",
        "\n",
        "the inheritance search looks for an attribute first in the instance itself, then in the instance's class, followed by the superclasses in the order of inheritance, and finally in the built-in types and object class if necessary."
      ],
      "metadata": {
        "id": "fGgy3bGdcmeT"
      }
    },
    {
      "cell_type": "markdown",
      "source": [
        "Q3. How do you distinguish between a class object and an instance object?\n",
        "\n",
        "Ans: the class object represents the overall class definition, while the instance object represents a specific occurrence or realization of that class. The class object defines the structure and behavior, while the instance object has its own unique state and can interact with the class's behavior through instance methods and variables."
      ],
      "metadata": {
        "id": "VO7OScoOc97l"
      }
    },
    {
      "cell_type": "markdown",
      "source": [
        "Q4. What makes the first argument in a class’s method function special?\n",
        "\n",
        "Ans: In Python, the first argument in a class's method function is conventionally named self, although you can choose any valid variable name. The self parameter holds a reference to the instance of the class on which the method is being called. \n",
        "\n",
        " the first argument (conventionally named self) in a class's method function is special because it binds the method to the instance, allows access to instance variables and methods, distinguishes between class and instance levels, and is automatically passed when calling the method on an instance.\n",
        "\n",
        "\n",
        "\n",
        "\n"
      ],
      "metadata": {
        "id": "S8FkUvWKdGZM"
      }
    },
    {
      "cell_type": "markdown",
      "source": [
        "Q5. What is the purpose of the _ _ _init_ _ _ method?\n",
        "\n",
        "Ans: \n",
        "The _ _ _init_ _ _ method, also known as the initializer or constructor method, is a special method in Python classes. It is automatically called when an instance of the class is created. The purpose of the _ _ _init_ _ _ method is to initialize the state of the newly created instance."
      ],
      "metadata": {
        "id": "cmm6jB8HdTOT"
      }
    },
    {
      "cell_type": "markdown",
      "source": [
        "Q6. What is the process for creating a class instance?\n",
        "\n",
        "Ans: To create a class instance in Python, you follow a simple process involving the following steps:\n",
        "\n",
        "1)Define the Class: Start by defining the class that serves as the blueprint or template for the instances you want to create. The class defines the structure and behavior of the objects that will be instantiated based on it. It typically includes attributes (variables) and methods (functions) that define the class's properties and actions.\n",
        "\n",
        "2)Instantiate the Class: To create an instance of the class, use the class name followed by parentheses. This invokes the class's constructor method (__init__) and allocates memory to store the instance. You can assign the instance to a variable, allowing you to access and manipulate it later.\n",
        "\n",
        "3)Provide Initialization Values (Optional): If the class's constructor method (__init__) accepts arguments, provide the required values within the parentheses when instantiating the class. These values will be passed to the __init__ method and used to initialize the instance's state. The number and type of arguments should match the constructor method's parameter list.\n",
        "\n",
        "4)Access and Use the Instance: Once the instance is created, you can access its attributes and invoke its methods using dot notation (instance_name.attribute_name or instance_name.method_name()). This allows you to interact with the instance and perform operations based on the class's defined behavior."
      ],
      "metadata": {
        "id": "2DFG1k1bdrtO"
      }
    },
    {
      "cell_type": "code",
      "source": [
        "class Car:\n",
        "    def __init__(self, make, model, year):\n",
        "        self.make = make\n",
        "        self.model = model\n",
        "        self.year = year\n",
        "\n",
        "    def start_engine(self):\n",
        "        print(\"Engine started.\")\n",
        "\n",
        "# Create an instance of the Car class\n",
        "my_car = Car(\"Toyota\", \"Camry\", 2022)\n",
        "\n",
        "# Access instance attributes\n",
        "print(my_car.make)    # Output: Toyota\n",
        "print(my_car.model)   # Output: Camry\n",
        "print(my_car.year)    # Output: 2022\n",
        "\n",
        "# Invoke instance method\n",
        "my_car.start_engine()  # Output: Engine started.\n"
      ],
      "metadata": {
        "colab": {
          "base_uri": "https://localhost:8080/"
        },
        "id": "F6-NkWUde5vY",
        "outputId": "be7d7e24-ae19-4c11-a9bc-912c04a40311"
      },
      "execution_count": 2,
      "outputs": [
        {
          "output_type": "stream",
          "name": "stdout",
          "text": [
            "Toyota\n",
            "Camry\n",
            "2022\n",
            "Engine started.\n"
          ]
        }
      ]
    },
    {
      "cell_type": "markdown",
      "source": [
        "Q7. What is the process for creating a class?\n",
        "\n",
        "Ans: \n",
        "To create a class in Python, you follow a straightforward process involving the following steps:\n",
        "\n",
        "1)Define the Class: Start by using the class keyword followed by the name of the class you want to create. The class name should follow Python naming conventions (typically using CamelCase with the first letter capitalized). Inside the class block, you define the attributes (variables) and methods (functions) that make up the class's structure and behavior.\n",
        "\n",
        "2)Define Class Attributes and Methods: Within the class block, define the attributes and methods that characterize the class. Attributes represent the data or state associated with the class, while methods define the actions or behavior that the class can perform. You can define both class-level attributes/methods (shared among all instances) and instance-level attributes/methods (specific to each instance).\n",
        "\n",
        "3)(Optional) Define the Constructor Method: If you want to initialize the initial state of each instance, define a special method called the constructor method, named __init__. This method is automatically called when an instance is created and allows you to set up the instance's initial attributes.\n",
        "\n",
        "4)(Optional) Define Other Methods and Attributes: Define additional methods and attributes as needed, depending on the desired behavior of the class. These methods can perform various actions, interact with the class's attributes, or provide other functionalities."
      ],
      "metadata": {
        "id": "qatWIOTheQed"
      }
    },
    {
      "cell_type": "code",
      "source": [
        "class Rectangle:\n",
        "    def __init__(self, length, width):\n",
        "        self.length = length\n",
        "        self.width = width\n",
        "\n",
        "    def calculate_area(self):\n",
        "        return self.length * self.width\n",
        "\n",
        "    def calculate_perimeter(self):\n",
        "        return 2 * (self.length + self.width)\n",
        "\n",
        "# Create an instance of the Rectangle class\n",
        "my_rectangle = Rectangle(5, 3)\n",
        "\n",
        "# Access instance attributes\n",
        "print(my_rectangle.length)      \n",
        "print(my_rectangle.width)       \n",
        "\n",
        "# Invoke instance methods\n",
        "area = my_rectangle.calculate_area()\n",
        "print(area)                     \n",
        "\n",
        "perimeter = my_rectangle.calculate_perimeter()\n",
        "print(perimeter)                \n"
      ],
      "metadata": {
        "colab": {
          "base_uri": "https://localhost:8080/"
        },
        "id": "122_K8uqepBg",
        "outputId": "083cf253-bb01-4f59-a479-5d101ad19a6e"
      },
      "execution_count": 1,
      "outputs": [
        {
          "output_type": "stream",
          "name": "stdout",
          "text": [
            "5\n",
            "3\n",
            "15\n",
            "16\n"
          ]
        }
      ]
    },
    {
      "cell_type": "markdown",
      "source": [
        "Q8. How would you define the superclasses of a class?\n",
        "\n",
        "Ans: In Python, you can define the superclasses of a class by specifying them in the class definition. Superclasses, also known as base classes or parent classes, are the classes from which a class inherits attributes and methods."
      ],
      "metadata": {
        "id": "Aty52qSoeeA_"
      }
    },
    {
      "cell_type": "code",
      "execution_count": null,
      "metadata": {
        "id": "vwlAGmsfcX-O"
      },
      "outputs": [],
      "source": []
    }
  ]
}