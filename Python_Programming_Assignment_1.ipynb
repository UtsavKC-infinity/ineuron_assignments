{
  "nbformat": 4,
  "nbformat_minor": 0,
  "metadata": {
    "colab": {
      "provenance": [],
      "toc_visible": true
    },
    "kernelspec": {
      "name": "python3",
      "display_name": "Python 3"
    },
    "language_info": {
      "name": "python"
    }
  },
  "cells": [
    {
      "cell_type": "markdown",
      "source": [
        " Ques.no.1.Ans"
      ],
      "metadata": {
        "id": "P0zLpTwuYXQV"
      }
    },
    {
      "cell_type": "code",
      "execution_count": 1,
      "metadata": {
        "colab": {
          "base_uri": "https://localhost:8080/"
        },
        "id": "aeTy2hafYNx8",
        "outputId": "67ff668b-66ca-4081-89ec-32687a671efd"
      },
      "outputs": [
        {
          "output_type": "stream",
          "name": "stdout",
          "text": [
            "Hello Python\n"
          ]
        }
      ],
      "source": [
        "print(\"Hello Python\")"
      ]
    },
    {
      "cell_type": "markdown",
      "source": [
        "Ques.no.2.Ans\n"
      ],
      "metadata": {
        "id": "VIt6f4myYV95"
      }
    },
    {
      "cell_type": "code",
      "source": [
        "num1 = 2\n",
        "num2 = 4\n",
        "add = num1 + num2\n",
        "division = num2/num1\n",
        "print(f\"addition of {num1} + {num2} is {add}\")\n",
        "print(f\"division of {num2} / {num1} is {division}\")"
      ],
      "metadata": {
        "colab": {
          "base_uri": "https://localhost:8080/"
        },
        "id": "l33i71RQYSqK",
        "outputId": "edfd45d9-2575-4124-8fd8-fddb8a9cb885"
      },
      "execution_count": 2,
      "outputs": [
        {
          "output_type": "stream",
          "name": "stdout",
          "text": [
            "addition of 2 + 4 is 6\n",
            "division of 4 / 2 is 2.0\n"
          ]
        }
      ]
    },
    {
      "cell_type": "markdown",
      "source": [
        "Ques.no.3.Ans\n",
        "\n"
      ],
      "metadata": {
        "id": "y_D1l_WRZF8g"
      }
    },
    {
      "cell_type": "code",
      "source": [
        "base = 5\n",
        "height = 10\n",
        "area_of_triangle = 1/2*(base*height)\n",
        "print(f\"Area of triangle is {area_of_triangle}\")"
      ],
      "metadata": {
        "colab": {
          "base_uri": "https://localhost:8080/"
        },
        "id": "qAORb4POZJET",
        "outputId": "7aaba7fd-24f2-4127-d157-d01570d03abb"
      },
      "execution_count": 3,
      "outputs": [
        {
          "output_type": "stream",
          "name": "stdout",
          "text": [
            "Area of triangle is 25.0\n"
          ]
        }
      ]
    },
    {
      "cell_type": "markdown",
      "source": [
        "Ques.no.4.Ans"
      ],
      "metadata": {
        "id": "ghpDHVrrZyYg"
      }
    },
    {
      "cell_type": "code",
      "source": [
        "a = 2\n",
        "b = 3\n",
        "print(f\"a : {a} , b: {b}\")\n",
        "c = 0\n",
        "c = a\n",
        "a = b\n",
        "b = c\n",
        "print(f\"a : {a} , b: {b}\")"
      ],
      "metadata": {
        "colab": {
          "base_uri": "https://localhost:8080/"
        },
        "id": "5Jo1DUHMZuG4",
        "outputId": "1acd664d-c2c6-40ca-c569-f5eb125f7be1"
      },
      "execution_count": 4,
      "outputs": [
        {
          "output_type": "stream",
          "name": "stdout",
          "text": [
            "a : 2 , b: 3\n",
            "a : 3 , b: 2\n"
          ]
        }
      ]
    },
    {
      "cell_type": "markdown",
      "source": [
        "Ques.no.5.Ans"
      ],
      "metadata": {
        "id": "KN85m26daZ7k"
      }
    },
    {
      "cell_type": "code",
      "source": [
        "import random \n",
        "print (f\"random number from 0 to 9 is {random.randint(0,9)}\")"
      ],
      "metadata": {
        "colab": {
          "base_uri": "https://localhost:8080/"
        },
        "id": "TxZUB3mgab-L",
        "outputId": "420cab71-3009-475e-89e1-3745b9440640"
      },
      "execution_count": 7,
      "outputs": [
        {
          "output_type": "stream",
          "name": "stdout",
          "text": [
            "random number from 0 to 9 is 3\n"
          ]
        }
      ]
    }
  ]
}