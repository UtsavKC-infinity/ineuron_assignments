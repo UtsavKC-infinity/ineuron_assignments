{
  "nbformat": 4,
  "nbformat_minor": 0,
  "metadata": {
    "colab": {
      "provenance": []
    },
    "kernelspec": {
      "name": "python3",
      "display_name": "Python 3"
    },
    "language_info": {
      "name": "python"
    }
  },
  "cells": [
    {
      "cell_type": "markdown",
      "source": [
        "1. Why are functions advantageous to have in your programs?\n",
        "\n",
        "Ans: The advantages of functions are listed below in points:\n",
        "\n",
        "\n",
        "\n",
        "1.   Function are the reuseable piece of code so these statement tell us about that the function are really helpful to write code once and use it to multiple times\n",
        "2.   Functions makes our code look much cleaner and optimized because after using functions in our code the unwanted duplication of code will remove\n",
        "3.In a single Program, we can call Python functions anywhere and also call multiple times\n",
        "4.With the help of Functions, we can break our program into smaller and modular chunks. So, when our program grows larger and larger, functions help us to make it more organized and manageable.\n",
        "\n",
        "\n",
        "\n"
      ],
      "metadata": {
        "id": "2w73PJ9bYNwM"
      }
    },
    {
      "cell_type": "markdown",
      "source": [
        "2. When does the code in a function run: when it&#39;s specified or when it&#39;s called?\n",
        "\n",
        "Ans: We can studied above process in following points:\n",
        "\n",
        "\n",
        "1.   Function are created first before it goes to exection and for the creation we can see below format:\n",
        "\n",
        "            def function_name(a):\n",
        "                return a \n",
        "\n",
        "2.   When the creating of function is done then we call the function for the execution below lines of the created function by just calling the function name.\n",
        "If created function need some parameter then we assign the arguments for those parameter in our calling function.\n",
        "\n",
        "          print(function_name(\"hello\"))\n",
        "\n",
        "\n"
      ],
      "metadata": {
        "id": "1nAwJCGVbBgR"
      }
    },
    {
      "cell_type": "markdown",
      "source": [
        "#3. What statement creates a function?\n",
        "\n",
        "Ans: We use def keyword and function_name along with small brackets and colon to create a function. Inside the function we write some code  and from the result of code we generally return result from the function.\n",
        "We can be more clear from the example:"
      ],
      "metadata": {
        "id": "x4JYxvaKfEfi"
      }
    },
    {
      "cell_type": "code",
      "source": [
        "def Remove_Space(word):\n",
        "  return word.replace(\" \",\"\")\n",
        "print(Remove_Space(\"Hello World !\"))"
      ],
      "metadata": {
        "colab": {
          "base_uri": "https://localhost:8080/"
        },
        "id": "LckUVFUNecvt",
        "outputId": "88114cd3-8d32-4118-f50c-70ef69c1817e"
      },
      "execution_count": null,
      "outputs": [
        {
          "output_type": "stream",
          "name": "stdout",
          "text": [
            "HelloWorld!\n"
          ]
        }
      ]
    },
    {
      "cell_type": "markdown",
      "source": [
        "#4. What is the difference between a function and a function call?\n",
        "\n",
        "Ans: The difference between a function and a function call are in below points:\n",
        "\n",
        "\n",
        "\n",
        "1.   We cannot call the function if the function is not created first so function is created first  and the calling of function will happen.\n",
        "2.   Function will not get execute itself if we don't call the function so after creation of function we must call it for the execution\n",
        "3. We can use the keyword arguments like **kwargs and non keyword arguments like *args in the function as a parameter but we cannot use them in a function call.\n",
        "\n",
        "\n",
        "\n",
        "\n",
        "\n",
        "\n",
        "\n"
      ],
      "metadata": {
        "id": "y-6zB3omgaMB"
      }
    },
    {
      "cell_type": "markdown",
      "source": [
        "#5. How many global scopes are there in a Python program? How many local scopes?\n",
        "\n",
        "Ans: \n",
        "\n",
        "Global Scopes:\n",
        "\n",
        "There’s only one global Python scope per program execution. This scope remains in existence until the program terminates and all its names are forgotten. Otherwise, the next time you were to run the program, the names would remember their values from the previous run.\n",
        "\n",
        "In a Python program, there is typically only one global scope. However, in the case of executing modules as the main program, each module has its own global scope.\n",
        "\n",
        "It is important to note that Python also allows nested scopes, where a nested block of code can access variables defined in the enclosing scope, but cannot modify them. Additionally, Python also has a built-in module called builtins that provides a default global scope containing many built-in functions and objects.\n",
        "\n",
        "Similiary inside the function block if we want to use global variables to do some arthematic operation and after the opeation perform if we want to assign same variable to that global variable then in such case we may face some error and that error is about UnboundlocalError so in such case to avoid such error we should decalare global varaible by using global keyword before doing some operation and reassignment to it.\n",
        "\n",
        "        Example:\n",
        "        a = 10\n",
        "        def test1():\n",
        "            global a\n",
        "            a = a + 5\n",
        "            print(a)\n",
        "            \n",
        "        test1()\n",
        "\n",
        "\n",
        "\n",
        "\n",
        "Local Scopes:\n",
        "\n",
        "The number of local scopes in a Python program is not fixed and it varies depending on the execution flow of the program. Each time a function is called, a new local scope is created to hold the function's variables and arguments. Each function call will create a new local scope, and these scopes are nested within the global scope. Similarly, a new local scope is created whenever a block of code is entered, such as within a for loop or an if statement, that also nested within the enclosing scope.\n",
        "\n",
        "In summary, The number of local scopes in a Python program depends on the number of functions called and the number of blocks entered during the execution of the program.\n",
        "\n",
        "\n",
        "            Example:\n",
        "\n",
        "            a = 100 #global variable\n",
        "            def func_one():\n",
        "              print(f\"a = {a} is the value from global \")\n",
        "              b = 10 #local variable\n",
        "              b = b + 10\n",
        "              return b\n",
        "\n",
        "            c = func_one()\n",
        "            print(c)\n",
        "\n",
        "            def func_two():\n",
        "                global c\n",
        "                c = c + 10\n",
        "                return c\n",
        "            d = func_two()\n",
        "            print(d)\n",
        "\n"
      ],
      "metadata": {
        "id": "7hP9dDDHjXKx"
      }
    },
    {
      "cell_type": "markdown",
      "source": [
        "#6. What happens to variables in a local scope when the function call returns?\n",
        "\n",
        "Ans: When a function call returns, the local scope that was created for that function call is destroyed, along with all of the variables and arguments that were defined within that scope. This is known as the scope being \"popped\" from the stack of active scopes.\n",
        "\n",
        "Any variables that were defined within the local scope are not accessible outside of the function, and their values are not retained after the function call has returned. If a return value is desired, the function should be designed to explicitly return the desired value or values.\n",
        "\n",
        "It's important to note that, if a variable defined in a local scope references an object, the object itself will not be destroyed and any change made to the object will be still available after the scope is destroyed, unless the variable is reassigned or the object is mutable.\n",
        "\n",
        "Also, if the variable is defined in global scope, it will still be available after the function call has returned.\n",
        "\n",
        "\n",
        "\n"
      ],
      "metadata": {
        "id": "0LK3mLkNxkGa"
      }
    },
    {
      "cell_type": "markdown",
      "source": [
        "#7. What is the concept of a return value? Is it possible to have a return value in an expression?\n",
        "\n",
        "Ans:A return value is a value that is returned by a function when it is called. A return statement is used in a function to specify the value or values that should be returned to the caller of the function. The return statement terminates the execution of the function and passes control back to the caller, along with the return value.\n",
        "\n",
        "For example, the following function takes two arguments, multiplies them and returns the result:\n",
        "\n",
        "        def multiply(x, y):\n",
        "            result = x * y\n",
        "            return result\n",
        "        \n",
        "        #It's possible to call this function and capture the returned \n",
        "          value in a variable:\n",
        "\n",
        "        result = multiply(2, 3)\n",
        "        print(result) #6\n",
        "\n",
        "\n",
        "It's also possible to have a return value in an expression, which is a combination of values, variables, and operators that evaluates to a single value. For example, a function can return the result of an arithmetic operation, or the concatenation of two strings, like:\n",
        "\n",
        "\n",
        "        Example:\n",
        "\n",
        "        def add_and_multiply(x, y):\n",
        "            return x + y, x * y\n",
        "\n",
        "        result = add_and_multiply(2, 3)\n",
        "        print(result) #(5, 6)\n",
        "\n",
        "In this case, the function returns a tuple with two values, the addition and the multiplication of the two arguments.\n",
        "\n",
        "It's also possible to return None explicitly or by default if a function doesn't contain a return statement."
      ],
      "metadata": {
        "id": "IXql3kf0yHQQ"
      }
    },
    {
      "cell_type": "markdown",
      "source": [
        "#8. If a function does not have a return statement, what is the return value of a call to that function?\n",
        "\n",
        "And: If a function does not have a return statement, the return value of a call to that function is None.\n",
        "In python when a function encounters return statement or the end of the function, it returns an implicit None if no value is returned.\n",
        "\n",
        "For example, consider this function:\n",
        "\n",
        "        Example:\n",
        "\n",
        "        def do_nothing():\n",
        "            print(\"I'm doing nothing\")\n",
        "\n",
        "        #This function doesn't have an explicit return statement, so if we call it:\n",
        "\n",
        "        result = do_nothing()\n",
        "        print(result) #None\n",
        "\n",
        "It will return None, and if you are not capturing the returned value it will be ignored.\n",
        "\n",
        "It's good practice to be explicit about the return value and make it clear in the function's documentation or by adding a return statement with the appropriate value."
      ],
      "metadata": {
        "id": "DntiK0mMzYEq"
      }
    },
    {
      "cell_type": "markdown",
      "source": [
        "#9. How do you make a function variable refer to the global variable?\n",
        "\n",
        "Ans: In Python, a function can access global variables by default, but if you want to reassign a global variable inside a function, you need to use the global keyword to indicate that you want to refer to the global variable, rather than creating a new local variable with the same name."
      ],
      "metadata": {
        "id": "RQirDW2B0R89"
      }
    },
    {
      "cell_type": "markdown",
      "source": [
        "#10. What is the data type of None?\n",
        "\n",
        "Ans: In Python, None is a special value that represents the absence of a value or a null value. It is an instance of the built-in NoneType class, which is a singleton and has only one value, represented by the None keyword."
      ],
      "metadata": {
        "id": "agVDtdha0oKY"
      }
    },
    {
      "cell_type": "markdown",
      "source": [
        "#11. What does the sentence import areallyourpetsnamederic do?\n",
        "\n",
        "Ans: The sentence import areallyourpetsnamederic is attempting to import a Python module with the name \"areallyourpetsnamederic\". This module would need to be located in a directory that is in the Python's module search path (sys.path) for the import statement to succeed.\n",
        "\n",
        "If there is no such module exist in the python path, it would raise an ImportError, saying \"No module named 'areallyourpetsnamederic'\".\n",
        "\n",
        "It's important to note that this import statement is not a standard library or a common module and it could be a custom module created by someone, but without more context it is hard to say what it does or what are its functions. This import statement would have any effect only if there is a module with that name available in the python path."
      ],
      "metadata": {
        "id": "YtFinZCP1EMZ"
      }
    },
    {
      "cell_type": "markdown",
      "source": [
        "#12. If you had a bacon() feature in a spam module, what would you call it after importing spam?\n",
        "\n",
        "Ans: If you have a function called bacon() within a module called spam, you would call it by referencing the module name followed by the function name, separated by a dot (.) operator.\n",
        "\n",
        "For example, you would call the bacon() function by using the following syntax after importing the spam module:\n",
        "\n",
        "\n",
        "\n",
        "      Example:\n",
        "\n",
        "      import spam\n",
        "      spam.bacon()\n",
        "\n",
        "      #Alternatively, you can use the from keyword to import the function specifically from the module and use it directly:\n",
        "\n",
        "      from spam import bacon\n",
        "      bacon()\n",
        "\n"
      ],
      "metadata": {
        "id": "WQHIviwX1Y9n"
      }
    },
    {
      "cell_type": "markdown",
      "source": [
        "13. What can you do to save a programme from crashing if it encounters an error?\n",
        "\n",
        "Ans: There are several ways to prevent a program from crashing if it encounters an error:\n",
        "\n",
        "\n",
        "\n",
        "1.   Use try and except statements: You can use the try and except statements to catch specific exceptions and handle them gracefully. This allows you to provide a fallback behavior for the program when an exception is encountered. For example\n",
        "\n",
        "            try:\n",
        "                    # code that might raise an exception\n",
        "            except ExceptionType:\n",
        "                    # code to handle the exception\n",
        "\n",
        "2.Using try and finally statement: The finally statement allows you to define a block of code that will be executed no matter whether an error occurs or not. This way, you can include cleanup code that will run even if an error occurs, ensuring that your program does not crash.\n",
        "\n",
        "\n",
        "        example:\n",
        "\n",
        "              try:\n",
        "                    # some code that might raise an exception\n",
        "              finally:\n",
        "                    # code that will be executed no matter what\n",
        "\n",
        "\n",
        "3.Using try and else statement: The else statement allows you to define a block of code to be executed if no exception is raised in the try block. This can be useful if you want to have separate code paths for normal execution and error handling.\n",
        "\n",
        "        example:\n",
        "\n",
        "              try:\n",
        "                  # some code that might raise an exception\n",
        "              except ExceptionType:\n",
        "                  # code to handle the exception\n",
        "              else:\n",
        "                  # code that will be executed if no exception was raised\n",
        "\n",
        "4.Using a logging system: A logging system allows you to write log messages to a file or another output, which can be useful for debugging and identifying errors. This way, you can keep track of what the program is doing even when it crashes and understand why the crash occurred.\n",
        "\n",
        "        example:\n",
        "\n",
        "                import logging\n",
        "                logging.basicConfig(filename='example.log', level=logging.DEBUG)\n",
        "                logging.debug('This message should go to the log file')\n",
        "\n",
        "\n",
        "By using one or more of these techniques, you can save your program from crashing when it encounters an error and make it more robust and reliable.\n",
        "\n"
      ],
      "metadata": {
        "id": "I73fbUXQ2B_C"
      }
    },
    {
      "cell_type": "markdown",
      "source": [
        "#14. What is the purpose of the try clause? What is the purpose of the except clause?\n",
        "\n",
        "Ans: The try clause is used to define a block of code that may raise an exception. The code within the try block is executed, and if an exception is raised, the code within the corresponding except block is executed.\n",
        "\n",
        "The purpose of the try clause is to enclose a block of code that may raise an exception, and to allow the program to continue executing even if an exception is raised. If an exception occurs within the try block, the interpreter will look for an appropriate except block to handle the exception.\n",
        "\n",
        "The except clause is used to handle exceptions that are raised within the try block. The except clause defines the type of exception that it will handle, and provides a block of code to be executed when that exception occurs. The code within the except block is executed and the program continues to execute after the block.\n",
        "\n",
        "The purpose of the except clause is to provide a way to handle exceptions that occur within the try block in a controlled way. It allows you to catch specific types of exceptions and take appropriate action, such as displaying an error message, logging the error, or providing a default value. This way, the program can continue to execute even if an exception occurs, instead of crashing.\n",
        "\n",
        "\n",
        "\n",
        "\n"
      ],
      "metadata": {
        "id": "aqgQny5C3-Ix"
      }
    }
  ]
}