{
  "nbformat": 4,
  "nbformat_minor": 0,
  "metadata": {
    "colab": {
      "provenance": []
    },
    "kernelspec": {
      "name": "python3",
      "display_name": "Python 3"
    },
    "language_info": {
      "name": "python"
    }
  },
  "cells": [
    {
      "cell_type": "markdown",
      "source": [
        "1. Add the current date to the text file today.txt as a string.\n",
        "\n",
        "Ans: To add the current date to the text file \"today.txt\" as a string, you can use the following Python code:"
      ],
      "metadata": {
        "id": "E_ObdKpTEgJX"
      }
    },
    {
      "cell_type": "code",
      "execution_count": 1,
      "metadata": {
        "id": "KH3bkd6pEfbs"
      },
      "outputs": [],
      "source": [
        "from datetime import date\n",
        "\n",
        "# Get the current date\n",
        "current_date = date.today()\n",
        "\n",
        "# Open the file in append mode and write the current date\n",
        "with open(\"today.txt\", \"a\") as file:\n",
        "    file.write(str(current_date))\n",
        "    file.write(\"\\n\")\n"
      ]
    },
    {
      "cell_type": "markdown",
      "source": [
        "2. Read the text file today.txt into the string today_string\n",
        "\n",
        "Ans:\n",
        "To read the contents of the text file \"today.txt\" into a string, you can use the following Python code:"
      ],
      "metadata": {
        "id": "qnSeU0r8EuTM"
      }
    },
    {
      "cell_type": "code",
      "source": [
        "with open(\"today.txt\", \"r\") as file:\n",
        "    today_string = file.read()\n",
        "\n",
        "print(today_string)\n"
      ],
      "metadata": {
        "colab": {
          "base_uri": "https://localhost:8080/"
        },
        "id": "77E3ie-EEwIZ",
        "outputId": "28adb1a4-8d25-4ae4-f654-602d83120e89"
      },
      "execution_count": 2,
      "outputs": [
        {
          "output_type": "stream",
          "name": "stdout",
          "text": [
            "2023-06-07\n",
            "\n"
          ]
        }
      ]
    },
    {
      "cell_type": "markdown",
      "source": [
        "3. Parse the date from today_string.\n",
        "\n",
        "Ans: To parse the date from the today_string obtained in the previous step, you can use the datetime module in Python. Here's an example of how you can parse the date:"
      ],
      "metadata": {
        "id": "j-YF_W_qEuJ2"
      }
    },
    {
      "cell_type": "code",
      "source": [
        "from datetime import datetime\n",
        "\n",
        "date_format = \"%Y-%m-%d\"  # Assuming the date format in \"today.txt\" is YYYY-MM-DD\n",
        "parsed_date = datetime.strptime(today_string.strip(), date_format).date()\n",
        "\n",
        "print(parsed_date)\n"
      ],
      "metadata": {
        "colab": {
          "base_uri": "https://localhost:8080/"
        },
        "id": "w1YdVDn7Ek0i",
        "outputId": "f7f5e24b-76bc-47ea-84a8-327aa60ad5eb"
      },
      "execution_count": 3,
      "outputs": [
        {
          "output_type": "stream",
          "name": "stdout",
          "text": [
            "2023-06-07\n"
          ]
        }
      ]
    },
    {
      "cell_type": "markdown",
      "source": [
        "4. List the files in your current directory\n",
        "\n",
        "Ans: \n",
        "To list the files in the current directory using Python, you can use the os module. Here's an example:"
      ],
      "metadata": {
        "id": "De-drEpJFDh4"
      }
    },
    {
      "cell_type": "code",
      "source": [
        "import os\n",
        "\n",
        "# Get the list of files in the current directory\n",
        "files = os.listdir()\n",
        "\n",
        "# Print the file names\n",
        "for file in files:\n",
        "    print(file)\n"
      ],
      "metadata": {
        "colab": {
          "base_uri": "https://localhost:8080/"
        },
        "id": "M6CuLWKrE90l",
        "outputId": "c777f7fb-cca1-443b-f407-a6b4a4cad8a0"
      },
      "execution_count": 4,
      "outputs": [
        {
          "output_type": "stream",
          "name": "stdout",
          "text": [
            ".config\n",
            "today.txt\n",
            "sample_data\n"
          ]
        }
      ]
    },
    {
      "cell_type": "markdown",
      "source": [
        "5. Create a list of all of the files in your parent directory (minimum five files should be available).\n",
        "\n",
        "Ans: To create a list of all the files in the parent directory, you can use the os module in Python. Here's an example:"
      ],
      "metadata": {
        "id": "Se2ekNO9FLbZ"
      }
    },
    {
      "cell_type": "code",
      "source": [
        "import os\n",
        "\n",
        "# Get the parent directory path\n",
        "parent_dir = os.path.abspath('..')\n",
        "\n",
        "# Get the list of files in the parent directory\n",
        "files = os.listdir(parent_dir)\n",
        "\n",
        "# Filter out directories and keep only files\n",
        "files = [file for file in files if os.path.isfile(os.path.join(parent_dir, file))]\n",
        "\n",
        "# Print the file names\n",
        "for file in files:\n",
        "    print(file)\n"
      ],
      "metadata": {
        "colab": {
          "base_uri": "https://localhost:8080/"
        },
        "id": "795CdhL4FHr_",
        "outputId": "ea807a43-f580-45b2-b059-4594df88d700"
      },
      "execution_count": 5,
      "outputs": [
        {
          "output_type": "stream",
          "name": "stdout",
          "text": [
            ".dockerenv\n",
            "NGC-DL-CONTAINER-LICENSE\n"
          ]
        }
      ]
    },
    {
      "cell_type": "markdown",
      "source": [
        "6. Use multiprocessing to create three separate processes. Make each one wait a random number of\n",
        "seconds between one and five, print the current time, and then exit.\n",
        "\n",
        "Ans:  an example that demonstrates using the multiprocessing module to create three separate processes:"
      ],
      "metadata": {
        "id": "p0EKt6jqFQmC"
      }
    },
    {
      "cell_type": "code",
      "source": [
        "import multiprocessing\n",
        "import random\n",
        "import time\n",
        "from datetime import datetime\n",
        "\n",
        "def process_func():\n",
        "    wait_time = random.randint(1, 5)\n",
        "    time.sleep(wait_time)\n",
        "    current_time = datetime.now().strftime(\"%H:%M:%S\")\n",
        "    print(f\"Process {multiprocessing.current_process().name}: Current time is {current_time}\")\n",
        "\n",
        "if __name__ == \"__main__\":\n",
        "    processes = []\n",
        "    \n",
        "    for i in range(3):\n",
        "        p = multiprocessing.Process(target=process_func, name=f\"Process-{i+1}\")\n",
        "        processes.append(p)\n",
        "        p.start()\n",
        "\n",
        "    for p in processes:\n",
        "        p.join()\n"
      ],
      "metadata": {
        "colab": {
          "base_uri": "https://localhost:8080/"
        },
        "id": "xxU3mZ1_FPoM",
        "outputId": "746026d8-660c-4786-af2b-c25a27538ddf"
      },
      "execution_count": 6,
      "outputs": [
        {
          "output_type": "stream",
          "name": "stdout",
          "text": [
            "Process Process-2: Current time is 04:20:23\n",
            "Process Process-1: Current time is 04:20:26\n",
            "Process Process-3: Current time is 04:20:27\n"
          ]
        }
      ]
    },
    {
      "cell_type": "markdown",
      "source": [
        "7. Create a date object of your day of birth.\n",
        "\n",
        "Ans: To create a date object representing your date of birth, you can use the datetime module in Python. Here's an example:"
      ],
      "metadata": {
        "id": "fc7kJWLkFePa"
      }
    },
    {
      "cell_type": "code",
      "source": [
        "from datetime import date\n",
        "\n",
        "birth_date = date(1997, 8, 18)  \n",
        "print(birth_date)\n"
      ],
      "metadata": {
        "colab": {
          "base_uri": "https://localhost:8080/"
        },
        "id": "4I7ITl5NFZUv",
        "outputId": "1baafb6a-7d88-4888-ee2a-e509317f2d54"
      },
      "execution_count": 14,
      "outputs": [
        {
          "output_type": "stream",
          "name": "stdout",
          "text": [
            "1997-08-18\n"
          ]
        }
      ]
    },
    {
      "cell_type": "markdown",
      "source": [
        "8. What day of the week was your day of birth?\n",
        "\n",
        "Ans: \n",
        "To determine the day of the week for a given date, including your day of birth, you can use the strftime method of the date object in Python. Here's an example:"
      ],
      "metadata": {
        "id": "jwi05XtWFkKf"
      }
    },
    {
      "cell_type": "code",
      "source": [
        "from datetime import date\n",
        "day_of_week = birth_date.strftime('%A')\n",
        "print(day_of_week)\n"
      ],
      "metadata": {
        "colab": {
          "base_uri": "https://localhost:8080/"
        },
        "id": "xkyv7p-vFjOD",
        "outputId": "d9aaea4c-1e22-4952-bd5f-90f88eb9da39"
      },
      "execution_count": 15,
      "outputs": [
        {
          "output_type": "stream",
          "name": "stdout",
          "text": [
            "Monday\n"
          ]
        }
      ]
    },
    {
      "cell_type": "markdown",
      "source": [
        "9. When will you be (or when were you) 10,000 days old?\n",
        "\n",
        "Ans: \n",
        "To calculate the date when you will be or when you were 10,000 days old, you can use the timedelta class from the datetime module in Python. Here's an example:"
      ],
      "metadata": {
        "id": "x6pE9LgiF8xE"
      }
    },
    {
      "cell_type": "code",
      "source": [
        "from datetime import date, timedelta\n",
        "days_to_add = timedelta(days=10000)\n",
        "future_date = birth_date + days_to_add\n",
        "\n",
        "print(future_date)\n"
      ],
      "metadata": {
        "colab": {
          "base_uri": "https://localhost:8080/"
        },
        "id": "1de05jhiFyTY",
        "outputId": "c9e74590-2acb-44c5-ae3f-c675d72f0a17"
      },
      "execution_count": 16,
      "outputs": [
        {
          "output_type": "stream",
          "name": "stdout",
          "text": [
            "2025-01-03\n"
          ]
        }
      ]
    },
    {
      "cell_type": "code",
      "source": [],
      "metadata": {
        "id": "xJZbFY0EGB51"
      },
      "execution_count": null,
      "outputs": []
    }
  ]
}