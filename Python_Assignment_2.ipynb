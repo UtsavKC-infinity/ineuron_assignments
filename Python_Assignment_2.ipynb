{
  "nbformat": 4,
  "nbformat_minor": 0,
  "metadata": {
    "colab": {
      "provenance": []
    },
    "kernelspec": {
      "name": "python3",
      "display_name": "Python 3"
    },
    "language_info": {
      "name": "python"
    }
  },
  "cells": [
    {
      "cell_type": "markdown",
      "source": [
        "                                Ques.no.1.Ans\n",
        "The two values of the boolean data type are True and False. We can evalute  the boolean value  by using some conditional operator like 10>5 , 10==10 , 10<20 , 20 != 10 and we can directly also assign boolean value by using assignment operator to varaible like  is_true = True.\n"
      ],
      "metadata": {
        "id": "MG4T0mffM4O5"
      }
    },
    {
      "cell_type": "markdown",
      "source": [
        "                            Ques.no.2.Ans\n",
        "The three different types of Boolean operators are:\n",
        "1) and\n",
        "2) or\n",
        "3) not"
      ],
      "metadata": {
        "id": "bqNATK9nNZhW"
      }
    },
    {
      "cell_type": "markdown",
      "source": [
        "                  Ques.no.3.Ans\n",
        "1) and operator table:\n",
        "\n",
        "1.   True and True => True\n",
        "2.   True and False => False\n",
        "3.   False and True => False\n",
        "4.   False and False => False\n",
        "\n",
        "2) or operator table:\n",
        "1.   True or True => True\n",
        "2.   True or False => True\n",
        "3.   False or True => True\n",
        "4.   False or False => False\n",
        "\n",
        "3) not operator table:\n",
        "1. \t True => False\n",
        "2.   False => True"
      ],
      "metadata": {
        "id": "fUCq01OaOri4"
      }
    },
    {
      "cell_type": "markdown",
      "source": [
        "              Ques.no.4.Ans\n",
        "\n",
        "1.\t(5 > 4) and (3 == 5) . It gives False value.\n",
        "2.\tnot (5 > 4). It gives False value.\n",
        "3.\t(5>4) or (3 == 5). It gives True value.\n",
        "4.\tnot ((5 > 4) or (3 == 5)). It gives False value.\n",
        "5.\t(True and True) and (True == False). It gives False value\n",
        "6.\t(not False) or (not True). It gives True value."
      ],
      "metadata": {
        "id": "AAlVMrmPQQ6w"
      }
    },
    {
      "cell_type": "markdown",
      "source": [
        "          Ques.no.5.Ans\n",
        "The six comparison operators are:\n",
        "1.\tgreater than (>)\n",
        "2.\tgreater than equal to (>=)\n",
        "3.\tless than (<)\n",
        "4.\tless than equal to (<=)\n",
        "5.\tequal to (==)\n",
        "6.\tnot equal to (!=)"
      ],
      "metadata": {
        "id": "aLwMoPT6Qh8x"
      }
    },
    {
      "cell_type": "markdown",
      "source": [
        "      Ques.no.6.Ans\n",
        "\n",
        "The difference between equal to and assignment operator is that the equal to operator use two equal operator sign i.e \"==\" but assignment operator only use one equal to sign. Equal to operator is used to conditions checking wheres assignment operator is used to assign value to the variable.\n",
        "\n",
        "Condition for equal to operator:\n",
        "\n",
        "  -use to compare two values and variables.\n",
        "\n",
        "  Eg : 10==10 , \"RAM\" ==  \"RAM\"\n",
        "\n",
        "Condition for assignment operator:\n",
        "\n",
        "  -use to assign value to variables\n",
        "  \n",
        "  Eg: user_name = \"RAM\"\n",
        "\n"
      ],
      "metadata": {
        "id": "MZZJDcc5QpEO"
      }
    },
    {
      "cell_type": "markdown",
      "source": [
        "            Ques.no.7.Ans\n",
        "\n",
        "After successfully execution of code we will obtain:\n",
        "\n",
        "ham\n",
        "\n",
        "spam\n",
        "\n",
        "spam"
      ],
      "metadata": {
        "id": "haMHSyIORFNb"
      }
    },
    {
      "cell_type": "markdown",
      "source": [
        "        Ques.no.8.Ans\n",
        "\n"
      ],
      "metadata": {
        "id": "9O1Z-dXNRAP5"
      }
    },
    {
      "cell_type": "code",
      "source": [
        "spam = int(input(\"Enter the number: \"))\n",
        "if spam == 1:\n",
        "    print(\"hello\")\n",
        "elif spam == 2:\n",
        "    print(\"Howdy\")\n",
        "else:\n",
        "    print(\"Greetings!\")"
      ],
      "metadata": {
        "colab": {
          "base_uri": "https://localhost:8080/"
        },
        "id": "s2NGmhQuRT9-",
        "outputId": "88a13dbd-a825-4624-aadd-f8260b2d4bbf"
      },
      "execution_count": 1,
      "outputs": [
        {
          "output_type": "stream",
          "name": "stdout",
          "text": [
            "Enter the number: 1\n",
            "hello\n"
          ]
        }
      ]
    },
    {
      "cell_type": "markdown",
      "source": [],
      "metadata": {
        "id": "O76jINUpRbGt"
      }
    },
    {
      "cell_type": "markdown",
      "source": [
        "          Ques.no.9.Ans\n",
        "\n",
        "If my programme is stuck in an endless loop , i will use \"ctl + c\" key to terminate the endless loop situation.\n"
      ],
      "metadata": {
        "id": "Zb_WBhINRdZn"
      }
    },
    {
      "cell_type": "markdown",
      "source": [
        "      Ques.no.10.Ans\n",
        "\n",
        "The difference between break and continue is given below in points:\n",
        "1.\tbreak keyword is use to help the program to get  terminate from running loop whereas continue keyword is use to escape particular condition without terminating the loop\n",
        "2.\tthe stament which is write below the break keyword will not execute once the break keyword execute but in continue keyword whatever the statement we write in below of continue keyword will execute by avoiding the conditions where we write continue keyword\n",
        "3.\tbreak keyword minimize the risk of getting infinte loop condition but in case of continue keyword infinite loop may occur .\n",
        "\n"
      ],
      "metadata": {
        "id": "FZchK6DxRrGO"
      }
    },
    {
      "cell_type": "markdown",
      "source": [
        "                Ques.no.11.Ans\n",
        "\n",
        "  In a for loop, the difference between range(10), range(0, 10), and range(0, 10, 1)  are:\n",
        "1.\trange(10) => in this build in function , only the end index is define upto which the loop will run . Even though there is no start index but by default python will iterate the objects from 0 index to last index which is 9 in our case \n",
        "2.\trange(0,10) => in here , loop will run upto 0 index to 9 index i.e range(start from, end to). \n",
        "3.\trange(0,10,1) => in here, we can see range(start from, end to, step) which means our loop will run from 0 index and it will end when it reach to 9 index and while loop run from 0 to 9 , it will jump step 1 in every attempt of iteration."
      ],
      "metadata": {
        "id": "FceI9FsLSAOO"
      }
    },
    {
      "cell_type": "markdown",
      "source": [
        "                  \t\t\t\t\tQues.no.12.Ans\n",
        "\n"
      ],
      "metadata": {
        "id": "eFj7fSA-SPEP"
      }
    },
    {
      "cell_type": "markdown",
      "source": [
        "  Print 1 to 10 using for loop is :"
      ],
      "metadata": {
        "id": "Pq-mTLGpSwos"
      }
    },
    {
      "cell_type": "code",
      "source": [
        "\tfor n in range(0, 10):\n",
        "    \t\tprint(n+1)"
      ],
      "metadata": {
        "colab": {
          "base_uri": "https://localhost:8080/"
        },
        "id": "cG9enELJS02s",
        "outputId": "44689a45-d3e3-43bf-e0af-1290b2d69a20"
      },
      "execution_count": 2,
      "outputs": [
        {
          "output_type": "stream",
          "name": "stdout",
          "text": [
            "1\n",
            "2\n",
            "3\n",
            "4\n",
            "5\n",
            "6\n",
            "7\n",
            "8\n",
            "9\n",
            "10\n"
          ]
        }
      ]
    },
    {
      "cell_type": "markdown",
      "source": [
        "Print 1 to 10 using while loop is :"
      ],
      "metadata": {
        "id": "pwqRB1D6S-NX"
      }
    },
    {
      "cell_type": "code",
      "source": [
        "\tn = 0\n",
        "\twhile n < 10:\n",
        "    \t\tprint(n+1)\n",
        "    \t\tn += 1"
      ],
      "metadata": {
        "colab": {
          "base_uri": "https://localhost:8080/"
        },
        "id": "axTe5cx0TBOh",
        "outputId": "b4fc39d8-c36b-423e-842f-cea65c43c7f3"
      },
      "execution_count": 3,
      "outputs": [
        {
          "output_type": "stream",
          "name": "stdout",
          "text": [
            "1\n",
            "2\n",
            "3\n",
            "4\n",
            "5\n",
            "6\n",
            "7\n",
            "8\n",
            "9\n",
            "10\n"
          ]
        }
      ]
    },
    {
      "cell_type": "markdown",
      "source": [
        "\t\t\t\t\tQues.no.13.Ans\n",
        "\n",
        "If I had a function named bacon() inside a module named spam, I would call it after importing spam which is possbile  by using the name of the module as a prefix, followed by the name of the function"
      ],
      "metadata": {
        "id": "GLx8W8frTIgM"
      }
    }
  ]
}