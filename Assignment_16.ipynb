{
  "nbformat": 4,
  "nbformat_minor": 0,
  "metadata": {
    "colab": {
      "provenance": []
    },
    "kernelspec": {
      "name": "python3",
      "display_name": "Python 3"
    },
    "language_info": {
      "name": "python"
    }
  },
  "cells": [
    {
      "cell_type": "markdown",
      "source": [
        "1. Create a list called years_list, starting with the year of your birth, and each year thereafter until\n",
        "the year of your fifth birthday. For example, if you were born in 1980. the list would be years_list =\n",
        "[1980, 1981, 1982, 1983, 1984, 1985].\n"
      ],
      "metadata": {
        "id": "gkhUinFh1SoC"
      }
    },
    {
      "cell_type": "code",
      "execution_count": 1,
      "metadata": {
        "colab": {
          "base_uri": "https://localhost:8080/"
        },
        "id": "yN0MgIVs1NHg",
        "outputId": "fc60cba5-0335-453b-883a-753dd4fa62bb"
      },
      "outputs": [
        {
          "output_type": "stream",
          "name": "stdout",
          "text": [
            "[1997, 1998, 1999, 2000, 2001, 2002]\n"
          ]
        }
      ],
      "source": [
        "birth_year = 1997  \n",
        "years_list = [year for year in range(birth_year, birth_year + 6)]\n",
        "print(years_list)\n"
      ]
    },
    {
      "cell_type": "markdown",
      "source": [
        "2. In which year in years_list was your third birthday? Remember, you were 0 years of age for your\n",
        "first year.\n",
        "\n",
        "Ans: If we assume that years_list contains the years from your birth until your fifth birthday, where you were 0 years of age for your first year, then your third birthday would occur in the third year of years_list.\n",
        "\n",
        "To find the year of your third birthday, you can access the element at index 2 in the years_list. Here's an example:"
      ],
      "metadata": {
        "id": "u4UCB7ZC1rZR"
      }
    },
    {
      "cell_type": "code",
      "source": [
        "third_birthday_year = years_list[2]\n",
        "print(third_birthday_year)"
      ],
      "metadata": {
        "colab": {
          "base_uri": "https://localhost:8080/"
        },
        "id": "VZK_aOhw1Yd9",
        "outputId": "6dfe93b3-2e7e-424d-8dc1-30d15ac14130"
      },
      "execution_count": 2,
      "outputs": [
        {
          "output_type": "stream",
          "name": "stdout",
          "text": [
            "1999\n"
          ]
        }
      ]
    },
    {
      "cell_type": "markdown",
      "source": [
        "3.In the years list, which year were you the oldest?\n",
        "\n",
        "Ans: To determine the year when you were the oldest in the years_list, you need to find the maximum value in the list. The maximum value represents the highest year in the list, which corresponds to when you were the oldest.\n",
        "\n",
        "Here's an example of how you can find the year when you were the oldest in the years_list:"
      ],
      "metadata": {
        "id": "mMjsx-UX1709"
      }
    },
    {
      "cell_type": "code",
      "source": [
        "oldest_year = max(years_list)\n",
        "print(oldest_year)"
      ],
      "metadata": {
        "colab": {
          "base_uri": "https://localhost:8080/"
        },
        "id": "ypOP2HOj13YQ",
        "outputId": "89cd8c77-00a3-4f23-ff5f-ea4204d62282"
      },
      "execution_count": 3,
      "outputs": [
        {
          "output_type": "stream",
          "name": "stdout",
          "text": [
            "2002\n"
          ]
        }
      ]
    },
    {
      "cell_type": "markdown",
      "source": [
        "4. Make a list called things with these three strings as elements: &quot;mozzarella&quot;, &quot;cinderella&quot;,\n",
        "&quot;salmonella&quot;.\n",
        "\n",
        "Ans: To create a list called things with the given strings as elements, you can simply assign the strings to the list. Here's an example:"
      ],
      "metadata": {
        "id": "JxVLSU_p2Khd"
      }
    },
    {
      "cell_type": "code",
      "source": [
        "things = [\"mozzarella\", \"cinderella\", \"salmonella\"]\n",
        "print(things)\n"
      ],
      "metadata": {
        "colab": {
          "base_uri": "https://localhost:8080/"
        },
        "id": "alWT_vHd2Fh1",
        "outputId": "31ea01b7-b5e4-47cd-c7a3-fc4840def49d"
      },
      "execution_count": 6,
      "outputs": [
        {
          "output_type": "stream",
          "name": "stdout",
          "text": [
            "['mozzarella', 'cinderella', 'salmonella']\n"
          ]
        }
      ]
    },
    {
      "cell_type": "markdown",
      "source": [
        "5. Capitalize the element in things that refers to a person and then print the list. Did it change the\n",
        "element in the list?\n",
        "\n",
        "Ans: To capitalize the element in things that refers to a person, you can use the capitalize() method. Here's an example:"
      ],
      "metadata": {
        "id": "V-7imu2E2Zh_"
      }
    },
    {
      "cell_type": "code",
      "source": [
        "things[1] = things[1].capitalize()\n",
        "print(things)\n"
      ],
      "metadata": {
        "colab": {
          "base_uri": "https://localhost:8080/"
        },
        "id": "nwK4_t6v2Tgu",
        "outputId": "2aed3e9e-6b51-4188-cf72-bf29e3ebbfbf"
      },
      "execution_count": 5,
      "outputs": [
        {
          "output_type": "stream",
          "name": "stdout",
          "text": [
            "['mozzarella', 'Cinderella', 'salmonella']\n"
          ]
        }
      ]
    },
    {
      "cell_type": "markdown",
      "source": [
        "In the above code, the capitalize() method is called on the element at index 1 (\"cinderella\") to capitalize the first letter. The modified list is then printed. As you can see, the element \"cinderella\" has been changed to \"Cinderella\" in the list."
      ],
      "metadata": {
        "id": "_x0jWAyg2ulH"
      }
    },
    {
      "cell_type": "markdown",
      "source": [
        "6. Make a surprise list with the elements &quot;Groucho,&quot; &quot;Chico,&quot; and &quot;Harpo.&quot;\n",
        "\n",
        "Ans: \n",
        "To create a surprise list with the elements \"Groucho,\" \"Chico,\" and \"Harpo,\" you can simply assign these values to a list. Here's an example:"
      ],
      "metadata": {
        "id": "q6Opy9172wF8"
      }
    },
    {
      "cell_type": "code",
      "source": [
        "surprise = [\"Groucho\", \"Chico\", \"Harpo\"]\n",
        "print(surprise)\n"
      ],
      "metadata": {
        "colab": {
          "base_uri": "https://localhost:8080/"
        },
        "id": "u96WncXR2fUX",
        "outputId": "5f8183ea-8f3a-4ccb-df6a-8f750b93060f"
      },
      "execution_count": 7,
      "outputs": [
        {
          "output_type": "stream",
          "name": "stdout",
          "text": [
            "['Groucho', 'Chico', 'Harpo']\n"
          ]
        }
      ]
    },
    {
      "cell_type": "markdown",
      "source": [
        "7. Lowercase the last element of the surprise list, reverse it, and then capitalize it.\n",
        "\n",
        "Ans: To perform the requested operations on the last element of the surprise list (lowercase, reverse, capitalize), you can use the following code:"
      ],
      "metadata": {
        "id": "lHuuKyst3AmU"
      }
    },
    {
      "cell_type": "code",
      "source": [
        "surprise[-1] = surprise[-1].lower()[::-1].capitalize()\n",
        "print(surprise)\n"
      ],
      "metadata": {
        "colab": {
          "base_uri": "https://localhost:8080/"
        },
        "id": "N60ou0up29Co",
        "outputId": "d00c456c-a53d-4ddd-b704-068ef773336c"
      },
      "execution_count": 8,
      "outputs": [
        {
          "output_type": "stream",
          "name": "stdout",
          "text": [
            "['Groucho', 'Chico', 'Oprah']\n"
          ]
        }
      ]
    },
    {
      "cell_type": "markdown",
      "source": [
        "8. Make an English-to-French dictionary called e2f and print it. Here are your starter words: dog is\n",
        "chien, cat is chat, and walrus is morse.\n",
        "\n",
        "Ans: To create an English-to-French dictionary called e2f and print it, you can use the following code:"
      ],
      "metadata": {
        "id": "A6sErM1V3U4d"
      }
    },
    {
      "cell_type": "code",
      "source": [
        "e2f = {'dog': 'chien', 'cat': 'chat', 'walrus': 'morse'}\n",
        "print(e2f)\n"
      ],
      "metadata": {
        "colab": {
          "base_uri": "https://localhost:8080/"
        },
        "id": "LJSp-e9t3G2X",
        "outputId": "8deaf3fc-2f74-4953-ea20-d50bc9767e5f"
      },
      "execution_count": 2,
      "outputs": [
        {
          "output_type": "stream",
          "name": "stdout",
          "text": [
            "{'dog': 'chien', 'cat': 'chat', 'walrus': 'morse'}\n"
          ]
        }
      ]
    },
    {
      "cell_type": "markdown",
      "source": [
        "9. Write the French word for walrus in your three-word dictionary e2f.\n",
        "\n",
        "Ans: The French word for \"walrus\" in the dictionary e2f is \"morse\"."
      ],
      "metadata": {
        "id": "v5-PEKAJ3hpC"
      }
    },
    {
      "cell_type": "code",
      "source": [
        "e2f['walrus']"
      ],
      "metadata": {
        "colab": {
          "base_uri": "https://localhost:8080/",
          "height": 35
        },
        "id": "wUlPnq9x3bR_",
        "outputId": "fef8c349-d992-48fa-ea9c-2c5e7cbe7ebf"
      },
      "execution_count": 4,
      "outputs": [
        {
          "output_type": "execute_result",
          "data": {
            "text/plain": [
              "'morse'"
            ],
            "application/vnd.google.colaboratory.intrinsic+json": {
              "type": "string"
            }
          },
          "metadata": {},
          "execution_count": 4
        }
      ]
    },
    {
      "cell_type": "markdown",
      "source": [
        "10. Make a French-to-English dictionary called f2e from e2f. Use the items method.\n",
        "\n",
        "Ans: Here's how you can create the French-to-English dictionary f2e from the existing English-to-French dictionary e2f using the items() method:"
      ],
      "metadata": {
        "id": "9iDf1Ztow93F"
      }
    },
    {
      "cell_type": "code",
      "source": [
        "e2f = {'dog': 'chien', 'cat': 'chat', 'walrus': 'morse'}\n",
        "\n",
        "# Create the French-to-English dictionary f2e\n",
        "f2e = {value: key for key, value in e2f.items()}\n",
        "\n",
        "# Print the French-to-English dictionary\n",
        "print(f2e)\n"
      ],
      "metadata": {
        "colab": {
          "base_uri": "https://localhost:8080/"
        },
        "id": "XjuPyosWwnma",
        "outputId": "350447a2-2028-45da-899f-a19cc4c52fc5"
      },
      "execution_count": 5,
      "outputs": [
        {
          "output_type": "stream",
          "name": "stdout",
          "text": [
            "{'chien': 'dog', 'chat': 'cat', 'morse': 'walrus'}\n"
          ]
        }
      ]
    },
    {
      "cell_type": "markdown",
      "source": [
        "11. Print the English version of the French word chien using f2e.\n",
        "\n",
        "Ans: \n",
        "To print the English version of the French word \"chien\" using the f2e dictionary, you can simply access the value corresponding to the key \"chien\". Here's the code:"
      ],
      "metadata": {
        "id": "Jo3oAZ_NxVWC"
      }
    },
    {
      "cell_type": "code",
      "source": [
        "print(f2e['chien'])"
      ],
      "metadata": {
        "colab": {
          "base_uri": "https://localhost:8080/"
        },
        "id": "_iaN60irxO1S",
        "outputId": "39302738-8511-4e8b-d344-32b3dc725c17"
      },
      "execution_count": 6,
      "outputs": [
        {
          "output_type": "stream",
          "name": "stdout",
          "text": [
            "dog\n"
          ]
        }
      ]
    },
    {
      "cell_type": "markdown",
      "source": [
        "12. Make and print a set of English words from the keys in e2f.\n",
        "\n",
        "Ans: \n",
        "To create and print a set of English words from the keys in the e2f dictionary, you can use the set() function to convert the keys into a set. Here's the code:"
      ],
      "metadata": {
        "id": "b3eb3gL2xjcA"
      }
    },
    {
      "cell_type": "code",
      "source": [
        "# Create a set of English words from the keys in e2f\n",
        "english_words = set(e2f.keys())\n",
        "\n",
        "# Print the set of English words\n",
        "print(english_words)"
      ],
      "metadata": {
        "colab": {
          "base_uri": "https://localhost:8080/"
        },
        "id": "0EN_y0SJxir7",
        "outputId": "c02373c4-236a-4044-d10a-8c7fae0a499b"
      },
      "execution_count": 7,
      "outputs": [
        {
          "output_type": "stream",
          "name": "stdout",
          "text": [
            "{'dog', 'cat', 'walrus'}\n"
          ]
        }
      ]
    },
    {
      "cell_type": "markdown",
      "source": [
        "13. Make a multilevel dictionary called life. Use these strings for the topmost keys: &#39;animals&#39;, &#39;plants&#39;,\n",
        "and &#39;other&#39;. Make the &#39;animals&#39; key refer to another dictionary with the keys &#39;cats&#39;, &#39;octopi&#39;, and\n",
        "&#39;emus&#39;. Make the &#39;cats&#39; key refer to a list of strings with the values &#39;Henri&#39;, &#39;Grumpy&#39;, and &#39;Lucy&#39;.\n",
        "Make all the other keys refer to empty dictionaries.\n",
        "\n",
        "Ans: \n",
        "Here's the code to create the multilevel dictionary life as described:\n"
      ],
      "metadata": {
        "id": "E2iG-UeKx6Ki"
      }
    },
    {
      "cell_type": "code",
      "source": [
        "life = {\n",
        "    'animals': {\n",
        "        'cats': ['Henri', 'Grumpy', 'Lucy'],\n",
        "        'octopi': {},\n",
        "        'emus': {}\n",
        "    },\n",
        "    'plants': {},\n",
        "    'other': {}\n",
        "}\n",
        "\n",
        "print(life)\n"
      ],
      "metadata": {
        "colab": {
          "base_uri": "https://localhost:8080/"
        },
        "id": "TYs5A8lmxyRN",
        "outputId": "4caabe0b-b1c5-4510-ace1-c0fa0cb46398"
      },
      "execution_count": 8,
      "outputs": [
        {
          "output_type": "stream",
          "name": "stdout",
          "text": [
            "{'animals': {'cats': ['Henri', 'Grumpy', 'Lucy'], 'octopi': {}, 'emus': {}}, 'plants': {}, 'other': {}}\n"
          ]
        }
      ]
    },
    {
      "cell_type": "markdown",
      "source": [
        "14. Print the top-level keys of life.\n",
        "\n",
        "Ans: To print the top-level keys of the life dictionary, you can use the keys() method. Here's the code:"
      ],
      "metadata": {
        "id": "lk9cqy8ByHwA"
      }
    },
    {
      "cell_type": "code",
      "source": [
        "top_level_keys = life.keys()\n",
        "print(top_level_keys)"
      ],
      "metadata": {
        "colab": {
          "base_uri": "https://localhost:8080/"
        },
        "id": "2VaJjaVUyALH",
        "outputId": "31df9688-feb3-4edd-e597-7be1f2871441"
      },
      "execution_count": 9,
      "outputs": [
        {
          "output_type": "stream",
          "name": "stdout",
          "text": [
            "dict_keys(['animals', 'plants', 'other'])\n"
          ]
        }
      ]
    },
    {
      "cell_type": "markdown",
      "source": [
        "15. Print the keys for life[&#39;animals&#39;].\n",
        "\n",
        "Ans: To print the keys for life['animals'], you can access the nested dictionary using the key 'animals' and then use the keys() method. Here's the code:"
      ],
      "metadata": {
        "id": "RwlytJVbyVL1"
      }
    },
    {
      "cell_type": "code",
      "source": [
        "animal_keys = life['animals'].keys()\n",
        "print(animal_keys)"
      ],
      "metadata": {
        "colab": {
          "base_uri": "https://localhost:8080/"
        },
        "id": "o47vodM9yQVJ",
        "outputId": "0209f6c6-9941-473b-e122-75ae29c77d96"
      },
      "execution_count": 10,
      "outputs": [
        {
          "output_type": "stream",
          "name": "stdout",
          "text": [
            "dict_keys(['cats', 'octopi', 'emus'])\n"
          ]
        }
      ]
    },
    {
      "cell_type": "markdown",
      "source": [
        "16. Print the values for life[&#39;animals&#39;][&#39;cats&#39;]\n",
        "\n",
        "Ans:To print the values for life['animals']['cats'], you can access the nested dictionary using the keys 'animals' and 'cats', and then print the corresponding list of strings. Here's the code:"
      ],
      "metadata": {
        "id": "3y9WXrm8yfHX"
      }
    },
    {
      "cell_type": "code",
      "source": [
        "cat_values = life['animals']['cats']\n",
        "print(cat_values)"
      ],
      "metadata": {
        "colab": {
          "base_uri": "https://localhost:8080/"
        },
        "id": "FZvkmWmQybpC",
        "outputId": "6aabeaef-353c-4440-a791-092037400877"
      },
      "execution_count": 11,
      "outputs": [
        {
          "output_type": "stream",
          "name": "stdout",
          "text": [
            "['Henri', 'Grumpy', 'Lucy']\n"
          ]
        }
      ]
    },
    {
      "cell_type": "code",
      "source": [],
      "metadata": {
        "id": "_-cgl2oWynXd"
      },
      "execution_count": null,
      "outputs": []
    }
  ]
}