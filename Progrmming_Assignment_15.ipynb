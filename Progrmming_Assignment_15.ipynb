{
  "nbformat": 4,
  "nbformat_minor": 0,
  "metadata": {
    "colab": {
      "provenance": []
    },
    "kernelspec": {
      "name": "python3",
      "display_name": "Python 3"
    },
    "language_info": {
      "name": "python"
    }
  },
  "cells": [
    {
      "cell_type": "code",
      "execution_count": 1,
      "metadata": {
        "colab": {
          "base_uri": "https://localhost:8080/"
        },
        "id": "dRVe7u0VyXpC",
        "outputId": "75bd9622-4dac-443c-fcd9-1bea88e6e235"
      },
      "outputs": [
        {
          "output_type": "stream",
          "name": "stdout",
          "text": [
            "Enter the value of n: 100\n",
            "Numbers divisible by 5 and 7 between 0 and 100 : 0, 35, 70\n"
          ]
        }
      ],
      "source": [
        "#Please write a program using generator to print the numbers which can be divisible by 5 and\n",
        "#7 between 0 and n in comma separated form while n is input by console.\n",
        "def divisible_by_five_and_seven(n):\n",
        "    for num in range(n + 1):\n",
        "        if num % 5 == 0 and num % 7 == 0:\n",
        "            yield str(num)\n",
        "\n",
        "# Example usage:\n",
        "n = int(input(\"Enter the value of n: \"))\n",
        "\n",
        "numbers = divisible_by_five_and_seven(n)\n",
        "result = \", \".join(numbers)\n",
        "\n",
        "print(\"Numbers divisible by 5 and 7 between 0 and\", n, \":\", result)\n"
      ]
    },
    {
      "cell_type": "code",
      "source": [
        "#Please write a program using generator to print the even numbers between 0 and n in comma\n",
        "#separated form while n is input by console.\n",
        "def even_numbers(n):\n",
        "    for num in range(n + 1):\n",
        "        if num % 2 == 0:\n",
        "            yield str(num)\n",
        "\n",
        "# Example usage:\n",
        "n = int(input(\"Enter the value of n: \"))\n",
        "\n",
        "numbers = even_numbers(n)\n",
        "result = \", \".join(numbers)\n",
        "\n",
        "print(\"Even numbers between 0 and\", n, \":\", result)\n",
        "\n"
      ],
      "metadata": {
        "colab": {
          "base_uri": "https://localhost:8080/"
        },
        "id": "uh5gbQFTyhId",
        "outputId": "231827ca-898a-40b4-9825-caf1d8a776ec"
      },
      "execution_count": 2,
      "outputs": [
        {
          "output_type": "stream",
          "name": "stdout",
          "text": [
            "Enter the value of n: 10\n",
            "Even numbers between 0 and 10 : 0, 2, 4, 6, 8, 10\n"
          ]
        }
      ]
    },
    {
      "cell_type": "code",
      "source": [
        "#The Fibonacci Sequence is computed based on the following formula:\n",
        "def fibonacci_sequence(n):\n",
        "    sequence = [0, 1]  # Initialize the sequence with the first two elements\n",
        "\n",
        "    # Compute the Fibonacci sequence using list comprehension\n",
        "    sequence += [sequence[i - 1] + sequence[i - 2] for i in range(2, n + 1)]\n",
        "\n",
        "    return sequence\n",
        "\n",
        "# Example usage:\n",
        "n = int(input(\"Enter the value of n: \"))\n",
        "\n",
        "sequence = fibonacci_sequence(n)\n",
        "result = \", \".join(map(str, sequence))\n",
        "\n",
        "print(\"Fibonacci Sequence up to\", n, \":\", result)\n",
        "\n"
      ],
      "metadata": {
        "colab": {
          "base_uri": "https://localhost:8080/"
        },
        "id": "UOe1h9wmyt5r",
        "outputId": "e26cfb92-b16c-48d2-e2f7-f6d785f19f49"
      },
      "execution_count": 15,
      "outputs": [
        {
          "output_type": "stream",
          "name": "stdout",
          "text": [
            "Enter the value of n: 2\n",
            "Fibonacci Sequence up to 2 : 0, 1, 1\n"
          ]
        }
      ]
    },
    {
      "cell_type": "code",
      "source": [
        "#Assuming that we have some email addresses in the &quot;username@companyname.com&quot; format,\n",
        "#please write program to print the user name of a given email address. Both user names and\n",
        "#company names are composed of letters only.\n",
        "def extract_username(email):\n",
        "    username = email.split('@')[0]\n",
        "    return username\n",
        "\n",
        "# Example usage:\n",
        "email = input(\"Enter an email address: \")\n",
        "\n",
        "username = extract_username(email)\n",
        "print(\"Username:\", username)\n"
      ],
      "metadata": {
        "colab": {
          "base_uri": "https://localhost:8080/"
        },
        "id": "0quv16dRy9Cv",
        "outputId": "5bac7d20-6d5c-403d-88fd-3641bf7af00b"
      },
      "execution_count": 16,
      "outputs": [
        {
          "output_type": "stream",
          "name": "stdout",
          "text": [
            "Enter an email address: john@google.com\n",
            "Username: john\n"
          ]
        }
      ]
    },
    {
      "cell_type": "code",
      "source": [
        "#Define a class named Shape and its subclass Square. The Square class has an init function\n",
        "#which takes a length as argument. Both classes have a area function which can print the area\n",
        "#of the shape where Shape&#39;s area is 0 by default.\n",
        "class Shape:\n",
        "    def __init__(self):\n",
        "        self.area = 0\n",
        "    \n",
        "    def calculate_area(self):\n",
        "        print(\"Area of the shape:\", self.area)\n",
        "\n",
        "\n",
        "class Square(Shape):\n",
        "    def __init__(self, length):\n",
        "        super().__init__()\n",
        "        self.length = length\n",
        "        self.area = self.length ** 2\n",
        "\n",
        "\n",
        "# Example usage:\n",
        "shape = Shape()\n",
        "shape.calculate_area()  # Output: Area of the shape: 0\n",
        "\n",
        "square = Square(5)\n",
        "square.calculate_area()  # Output: Area of the shape: 25\n"
      ],
      "metadata": {
        "colab": {
          "base_uri": "https://localhost:8080/"
        },
        "id": "gSZkA3Zs0E3E",
        "outputId": "12ef713b-3a03-453c-93c5-9b8b8a00c909"
      },
      "execution_count": 17,
      "outputs": [
        {
          "output_type": "stream",
          "name": "stdout",
          "text": [
            "Area of the shape: 0\n",
            "Area of the shape: 25\n"
          ]
        }
      ]
    },
    {
      "cell_type": "code",
      "source": [],
      "metadata": {
        "id": "30_6mbLC0Rwr"
      },
      "execution_count": null,
      "outputs": []
    }
  ]
}