{
  "nbformat": 4,
  "nbformat_minor": 0,
  "metadata": {
    "colab": {
      "private_outputs": true,
      "provenance": []
    },
    "kernelspec": {
      "name": "python3",
      "display_name": "Python 3"
    },
    "language_info": {
      "name": "python"
    },
    "gpuClass": "standard"
  },
  "cells": [
    {
      "cell_type": "markdown",
      "source": [
        "1. Write a Python Program to Find the Factorial of a Number?"
      ],
      "metadata": {
        "id": "s45VDY7mHpZp"
      }
    },
    {
      "cell_type": "code",
      "execution_count": null,
      "metadata": {
        "id": "aUz2Ih4dHgaC"
      },
      "outputs": [],
      "source": [
        "number = int(input(\"Enter the number : \"))\n",
        "factorial_of_num = 1\n",
        "for num in range(1,number+1):\n",
        "  factorial_of_num *= num\n",
        "print(f\"Factorial of {number} is {factorial_of_num}.\")\n"
      ]
    },
    {
      "cell_type": "markdown",
      "source": [
        "2. Write a Python Program to Display the multiplication Table?"
      ],
      "metadata": {
        "id": "UzaF8hHIJI--"
      }
    },
    {
      "cell_type": "code",
      "source": [
        "number = int(input(\"Enter the number : \"))\n",
        "for num in range(1,11):\n",
        "  print(f\"{number} X {num} = {number*num}\")"
      ],
      "metadata": {
        "id": "itQnaRdIIUP3"
      },
      "execution_count": null,
      "outputs": []
    },
    {
      "cell_type": "code",
      "source": [],
      "metadata": {
        "id": "tIv7UrwcKb5W"
      },
      "execution_count": null,
      "outputs": []
    },
    {
      "cell_type": "markdown",
      "source": [
        "3. Write a Python Program to Print the Fibonacci sequence?"
      ],
      "metadata": {
        "id": "xvTM20oWKDcc"
      }
    },
    {
      "cell_type": "code",
      "source": [
        "range_of_squence = int(input(\"Enter the number : \"))\n",
        "first_number = 0\n",
        "second_number = 1\n",
        "fibonacci_sequence = [0, 1]\n",
        "for i in range(1, range_of_squence):\n",
        "    sum_of_numbers = first_number + second_number\n",
        "    fibonacci_sequence.append(sum_of_numbers)\n",
        "    first_number = second_number\n",
        "    second_number = sum_of_numbers\n",
        "print(f\"fibinacci_sequence : {fibonacci_sequence}\")"
      ],
      "metadata": {
        "id": "1ZTln0t4Jv_R"
      },
      "execution_count": null,
      "outputs": []
    },
    {
      "cell_type": "markdown",
      "source": [
        "4. Write a Python Program to Check Armstrong Number?"
      ],
      "metadata": {
        "id": "lwJnHEIhhdg9"
      }
    },
    {
      "cell_type": "code",
      "source": [
        "user_input_number = int(input(\"Enter the number: \"))\n",
        "temp = user_input_number\n",
        "order = len(str(temp))\n",
        "sum = 0\n",
        "for i in range(1,order+1):\n",
        "  remove_digit = temp % 10\n",
        "  sum += remove_digit**order\n",
        "  temp//=10\n",
        "if (sum == user_input_number):\n",
        "  print(f\"{sum} is the Armstrong Number\")"
      ],
      "metadata": {
        "id": "B-0T8TUFfwBz"
      },
      "execution_count": null,
      "outputs": []
    },
    {
      "cell_type": "markdown",
      "source": [
        "5. Write a Python Program to Find Armstrong Number in an Interval?"
      ],
      "metadata": {
        "id": "m5t6cxM_7kx8"
      }
    },
    {
      "cell_type": "code",
      "source": [
        "start_point = int(input(\"enter the start point : \"))\n",
        "end_point = int(input(\"enter the end point : \"))\n",
        "for number in  range(start_point , end_point+1):\n",
        "  temp = number \n",
        "  order = len(str(temp))\n",
        "  sum = 0\n",
        "  while temp > 0:\n",
        "    digit = temp % 10\n",
        "    sum += digit ** order\n",
        "    temp //= 10\n",
        "  if sum == number :\n",
        "    print(number)\n"
      ],
      "metadata": {
        "id": "QpcfXGck38XS"
      },
      "execution_count": null,
      "outputs": []
    },
    {
      "cell_type": "markdown",
      "source": [
        "6. Write a Python Program to Find the Sum of Natural Numbers?"
      ],
      "metadata": {
        "id": "WNIFNO7M8nPp"
      }
    },
    {
      "cell_type": "code",
      "source": [
        "n_number = int(input(\"Enter the number : \"))\n",
        "sum = 0 \n",
        "count = 1\n",
        "while count < n_number:\n",
        "  sum += count\n",
        "  count += 1\n",
        "print(f\"{sum} is the sum of n-natural number of {n_number}\")\n"
      ],
      "metadata": {
        "id": "cjgSh1YP8eZY"
      },
      "execution_count": null,
      "outputs": []
    },
    {
      "cell_type": "code",
      "source": [],
      "metadata": {
        "id": "qpwBnxjn9pLW"
      },
      "execution_count": null,
      "outputs": []
    }
  ]
}