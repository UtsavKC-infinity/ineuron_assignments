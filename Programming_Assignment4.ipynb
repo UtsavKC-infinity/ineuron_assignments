{
  "nbformat": 4,
  "nbformat_minor": 0,
  "metadata": {
    "colab": {
      "provenance": []
    },
    "kernelspec": {
      "name": "python3",
      "display_name": "Python 3"
    },
    "language_info": {
      "name": "python"
    },
    "gpuClass": "standard"
  },
  "cells": [
    {
      "cell_type": "markdown",
      "source": [
        "1. Write a Python Program to Find the Factorial of a Number?"
      ],
      "metadata": {
        "id": "s45VDY7mHpZp"
      }
    },
    {
      "cell_type": "code",
      "execution_count": 2,
      "metadata": {
        "id": "aUz2Ih4dHgaC",
        "colab": {
          "base_uri": "https://localhost:8080/"
        },
        "outputId": "cb45ed37-e407-46db-b97d-04498c21d5b1"
      },
      "outputs": [
        {
          "output_type": "stream",
          "name": "stdout",
          "text": [
            "Enter the number : 12\n",
            "Factorial of 12 is 479001600.\n"
          ]
        }
      ],
      "source": [
        "number = int(input(\"Enter the number : \"))\n",
        "factorial_of_num = 1\n",
        "for num in range(1,number+1):\n",
        "  factorial_of_num *= num\n",
        "print(f\"Factorial of {number} is {factorial_of_num}.\")\n"
      ]
    },
    {
      "cell_type": "markdown",
      "source": [
        "2. Write a Python Program to Display the multiplication Table?"
      ],
      "metadata": {
        "id": "UzaF8hHIJI--"
      }
    },
    {
      "cell_type": "code",
      "source": [
        "number = int(input(\"Enter the number : \"))\n",
        "for num in range(1,11):\n",
        "  print(f\"{number} X {num} = {number*num}\")"
      ],
      "metadata": {
        "id": "itQnaRdIIUP3",
        "colab": {
          "base_uri": "https://localhost:8080/"
        },
        "outputId": "297d6e61-eeeb-4852-e5d6-8e6f24839841"
      },
      "execution_count": 3,
      "outputs": [
        {
          "output_type": "stream",
          "name": "stdout",
          "text": [
            "Enter the number : 12\n",
            "12 X 1 = 12\n",
            "12 X 2 = 24\n",
            "12 X 3 = 36\n",
            "12 X 4 = 48\n",
            "12 X 5 = 60\n",
            "12 X 6 = 72\n",
            "12 X 7 = 84\n",
            "12 X 8 = 96\n",
            "12 X 9 = 108\n",
            "12 X 10 = 120\n"
          ]
        }
      ]
    },
    {
      "cell_type": "markdown",
      "source": [
        "3. Write a Python Program to Print the Fibonacci sequence?"
      ],
      "metadata": {
        "id": "xvTM20oWKDcc"
      }
    },
    {
      "cell_type": "code",
      "source": [
        "range_of_squence = int(input(\"Enter the number : \"))\n",
        "first_number = 0\n",
        "second_number = 1\n",
        "fibonacci_sequence = [0, 1]\n",
        "for i in range(1, range_of_squence):\n",
        "    sum_of_numbers = first_number + second_number\n",
        "    fibonacci_sequence.append(sum_of_numbers)\n",
        "    first_number = second_number\n",
        "    second_number = sum_of_numbers\n",
        "print(f\"fibinacci_sequence : {fibonacci_sequence}\")"
      ],
      "metadata": {
        "id": "1ZTln0t4Jv_R",
        "colab": {
          "base_uri": "https://localhost:8080/"
        },
        "outputId": "71525152-e04d-49f1-fd71-ef3405c17c6b"
      },
      "execution_count": 4,
      "outputs": [
        {
          "output_type": "stream",
          "name": "stdout",
          "text": [
            "Enter the number : 15\n",
            "fibinacci_sequence : [0, 1, 1, 2, 3, 5, 8, 13, 21, 34, 55, 89, 144, 233, 377, 610]\n"
          ]
        }
      ]
    },
    {
      "cell_type": "markdown",
      "source": [
        "4. Write a Python Program to Check Armstrong Number?"
      ],
      "metadata": {
        "id": "lwJnHEIhhdg9"
      }
    },
    {
      "cell_type": "code",
      "source": [
        "user_input_number = int(input(\"Enter the number: \"))\n",
        "temp = user_input_number\n",
        "order = len(str(temp))\n",
        "sum = 0\n",
        "for i in range(1,order+1):\n",
        "  remove_digit = temp % 10\n",
        "  sum += remove_digit**order\n",
        "  temp//=10\n",
        "if (sum == user_input_number):\n",
        "  print(f\"{sum} is the Armstrong Number\")"
      ],
      "metadata": {
        "id": "B-0T8TUFfwBz",
        "colab": {
          "base_uri": "https://localhost:8080/"
        },
        "outputId": "533e9fa6-678e-43f7-9a35-4b888398ebf5"
      },
      "execution_count": 5,
      "outputs": [
        {
          "output_type": "stream",
          "name": "stdout",
          "text": [
            "Enter the number: 407\n",
            "407 is the Armstrong Number\n"
          ]
        }
      ]
    },
    {
      "cell_type": "markdown",
      "source": [
        "5. Write a Python Program to Find Armstrong Number in an Interval?"
      ],
      "metadata": {
        "id": "m5t6cxM_7kx8"
      }
    },
    {
      "cell_type": "code",
      "source": [
        "start_point = int(input(\"enter the start point : \"))\n",
        "end_point = int(input(\"enter the end point : \"))\n",
        "for number in  range(start_point , end_point+1):\n",
        "  temp = number \n",
        "  order = len(str(temp))\n",
        "  sum = 0\n",
        "  while temp > 0:\n",
        "    digit = temp % 10\n",
        "    sum += digit ** order\n",
        "    temp //= 10\n",
        "  if sum == number :\n",
        "    print(number)\n"
      ],
      "metadata": {
        "id": "QpcfXGck38XS",
        "colab": {
          "base_uri": "https://localhost:8080/"
        },
        "outputId": "4783502b-0fa7-4391-bc8d-763280f7d502"
      },
      "execution_count": 6,
      "outputs": [
        {
          "output_type": "stream",
          "name": "stdout",
          "text": [
            "enter the start point : 100\n",
            "enter the end point : 5000\n",
            "153\n",
            "370\n",
            "371\n",
            "407\n",
            "1634\n"
          ]
        }
      ]
    },
    {
      "cell_type": "markdown",
      "source": [
        "6. Write a Python Program to Find the Sum of Natural Numbers?"
      ],
      "metadata": {
        "id": "WNIFNO7M8nPp"
      }
    },
    {
      "cell_type": "code",
      "source": [
        "n_number = int(input(\"Enter the number : \"))\n",
        "sum = 0 \n",
        "count = 1\n",
        "while count < n_number+1:\n",
        "  sum += count\n",
        "  count += 1\n",
        "print(f\"{sum} is the sum of n-natural number of {n_number}\")\n"
      ],
      "metadata": {
        "id": "cjgSh1YP8eZY",
        "colab": {
          "base_uri": "https://localhost:8080/"
        },
        "outputId": "cd358ba1-4470-4a80-82c4-f0c01516c8ed"
      },
      "execution_count": 20,
      "outputs": [
        {
          "output_type": "stream",
          "name": "stdout",
          "text": [
            "Enter the number : 555\n",
            "154290 is the sum of n-natural number of 555\n"
          ]
        }
      ]
    },
    {
      "cell_type": "code",
      "source": [],
      "metadata": {
        "id": "shsfJedH-7IE"
      },
      "execution_count": null,
      "outputs": []
    }
  ]
}