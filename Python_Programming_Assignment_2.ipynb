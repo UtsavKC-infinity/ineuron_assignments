{
  "nbformat": 4,
  "nbformat_minor": 0,
  "metadata": {
    "colab": {
      "provenance": [],
      "toc_visible": true
    },
    "kernelspec": {
      "name": "python3",
      "display_name": "Python 3"
    },
    "language_info": {
      "name": "python"
    }
  },
  "cells": [
    {
      "cell_type": "markdown",
      "source": [
        "Ques.no.1.Ans"
      ],
      "metadata": {
        "id": "LsdmZ8xReOb7"
      }
    },
    {
      "cell_type": "code",
      "source": [
        "km = int(input(\"Enter the value: \"))\n",
        "mile = km * 0.62137119;\n",
        "print (f\"{km} kilometers is equal to {mile} miles\")"
      ],
      "metadata": {
        "colab": {
          "base_uri": "https://localhost:8080/"
        },
        "id": "9O59WOP_eQxz",
        "outputId": "f3e58b98-013f-4e95-f77d-f20c5ac3a7f9"
      },
      "execution_count": 1,
      "outputs": [
        {
          "output_type": "stream",
          "name": "stdout",
          "text": [
            "Enter the value: 2\n",
            "2 kilometers is equal to 1.24274238 miles\n"
          ]
        }
      ]
    },
    {
      "cell_type": "markdown",
      "source": [
        "Ques.no.2.Ans"
      ],
      "metadata": {
        "id": "4boZNxuzfFFs"
      }
    },
    {
      "cell_type": "code",
      "source": [
        "celsius = float(input(\"Enter the degree you want to measure: \"))\n",
        "fahrenheit = (celsius * 1.8 ) + 32\n",
        "print(f\"{celsius} O'C is equal to {fahrenheit} O'F \")"
      ],
      "metadata": {
        "colab": {
          "base_uri": "https://localhost:8080/"
        },
        "id": "ziwWdosLe6Mw",
        "outputId": "5822c02e-465f-40ad-e46a-7b1f35e73fb8"
      },
      "execution_count": 4,
      "outputs": [
        {
          "output_type": "stream",
          "name": "stdout",
          "text": [
            "Enter the degree you want to measure: 12\n",
            "12.0 O'C is equal to 53.6 O'F \n"
          ]
        }
      ]
    },
    {
      "cell_type": "markdown",
      "source": [
        "Ques.no.3.Ans"
      ],
      "metadata": {
        "id": "6e60BurWgUrK"
      }
    },
    {
      "cell_type": "code",
      "source": [
        "import calendar\n",
        "\n",
        "yy = int(input(\"Enter the year: \"))\n",
        "mm = int(input(\"Enter the month: \"))\n",
        "for month in range (0,mm):\n",
        "  print(calendar.month(yy,month+1))"
      ],
      "metadata": {
        "colab": {
          "base_uri": "https://localhost:8080/"
        },
        "id": "LxhSqKbgf3E2",
        "outputId": "d16f3c90-409c-4b11-f42c-12188e1fc2dc"
      },
      "execution_count": 9,
      "outputs": [
        {
          "output_type": "stream",
          "name": "stdout",
          "text": [
            "Enter the year: 2022\n",
            "Enter the month: 12\n",
            "    January 2022\n",
            "Mo Tu We Th Fr Sa Su\n",
            "                1  2\n",
            " 3  4  5  6  7  8  9\n",
            "10 11 12 13 14 15 16\n",
            "17 18 19 20 21 22 23\n",
            "24 25 26 27 28 29 30\n",
            "31\n",
            "\n",
            "   February 2022\n",
            "Mo Tu We Th Fr Sa Su\n",
            "    1  2  3  4  5  6\n",
            " 7  8  9 10 11 12 13\n",
            "14 15 16 17 18 19 20\n",
            "21 22 23 24 25 26 27\n",
            "28\n",
            "\n",
            "     March 2022\n",
            "Mo Tu We Th Fr Sa Su\n",
            "    1  2  3  4  5  6\n",
            " 7  8  9 10 11 12 13\n",
            "14 15 16 17 18 19 20\n",
            "21 22 23 24 25 26 27\n",
            "28 29 30 31\n",
            "\n",
            "     April 2022\n",
            "Mo Tu We Th Fr Sa Su\n",
            "             1  2  3\n",
            " 4  5  6  7  8  9 10\n",
            "11 12 13 14 15 16 17\n",
            "18 19 20 21 22 23 24\n",
            "25 26 27 28 29 30\n",
            "\n",
            "      May 2022\n",
            "Mo Tu We Th Fr Sa Su\n",
            "                   1\n",
            " 2  3  4  5  6  7  8\n",
            " 9 10 11 12 13 14 15\n",
            "16 17 18 19 20 21 22\n",
            "23 24 25 26 27 28 29\n",
            "30 31\n",
            "\n",
            "     June 2022\n",
            "Mo Tu We Th Fr Sa Su\n",
            "       1  2  3  4  5\n",
            " 6  7  8  9 10 11 12\n",
            "13 14 15 16 17 18 19\n",
            "20 21 22 23 24 25 26\n",
            "27 28 29 30\n",
            "\n",
            "     July 2022\n",
            "Mo Tu We Th Fr Sa Su\n",
            "             1  2  3\n",
            " 4  5  6  7  8  9 10\n",
            "11 12 13 14 15 16 17\n",
            "18 19 20 21 22 23 24\n",
            "25 26 27 28 29 30 31\n",
            "\n",
            "    August 2022\n",
            "Mo Tu We Th Fr Sa Su\n",
            " 1  2  3  4  5  6  7\n",
            " 8  9 10 11 12 13 14\n",
            "15 16 17 18 19 20 21\n",
            "22 23 24 25 26 27 28\n",
            "29 30 31\n",
            "\n",
            "   September 2022\n",
            "Mo Tu We Th Fr Sa Su\n",
            "          1  2  3  4\n",
            " 5  6  7  8  9 10 11\n",
            "12 13 14 15 16 17 18\n",
            "19 20 21 22 23 24 25\n",
            "26 27 28 29 30\n",
            "\n",
            "    October 2022\n",
            "Mo Tu We Th Fr Sa Su\n",
            "                1  2\n",
            " 3  4  5  6  7  8  9\n",
            "10 11 12 13 14 15 16\n",
            "17 18 19 20 21 22 23\n",
            "24 25 26 27 28 29 30\n",
            "31\n",
            "\n",
            "   November 2022\n",
            "Mo Tu We Th Fr Sa Su\n",
            "    1  2  3  4  5  6\n",
            " 7  8  9 10 11 12 13\n",
            "14 15 16 17 18 19 20\n",
            "21 22 23 24 25 26 27\n",
            "28 29 30\n",
            "\n",
            "   December 2022\n",
            "Mo Tu We Th Fr Sa Su\n",
            "          1  2  3  4\n",
            " 5  6  7  8  9 10 11\n",
            "12 13 14 15 16 17 18\n",
            "19 20 21 22 23 24 25\n",
            "26 27 28 29 30 31\n",
            "\n"
          ]
        }
      ]
    },
    {
      "cell_type": "markdown",
      "source": [
        "Ques.no.4.Ans"
      ],
      "metadata": {
        "id": "XK6awb8ziF14"
      }
    },
    {
      "cell_type": "code",
      "source": [
        "import math\n",
        "\n",
        "a = int(input(\"Enter the value of a: \"))\n",
        "b = int(input(\"Enter the value of b: \"))\n",
        "c = int(input(\"Enter the value of c: \"))\n",
        "quad_1 = b**2-(4*a*c)\n",
        "quad_2 = 2*a\n",
        "# value for the +ve sign of x\n",
        "positive_value_of_x = (-(b) + math.sqrt(quad_1))/quad_2\n",
        "# value for the +ve sign of x\n",
        "negative_value_of_x= (-(b) - math.sqrt(quad_1))/quad_2\n",
        "print(f\"the value of quadratic equation is {int(positive_value_of_x), int(negative_value_of_x)}\")\n",
        "\n",
        "\n",
        "\n",
        "\n"
      ],
      "metadata": {
        "colab": {
          "base_uri": "https://localhost:8080/"
        },
        "id": "lA5oQCAIgty4",
        "outputId": "89906320-8481-49dc-9baf-5756aaf0582b"
      },
      "execution_count": 20,
      "outputs": [
        {
          "output_type": "stream",
          "name": "stdout",
          "text": [
            "Enter the value of a: 1\n",
            "Enter the value of b: -6\n",
            "Enter the value of c: 5\n",
            "the value of quadratic equation is (5, 1)\n"
          ]
        }
      ]
    },
    {
      "cell_type": "markdown",
      "source": [
        "Ques.no.5.Ans"
      ],
      "metadata": {
        "id": "q05M5UTUndv2"
      }
    },
    {
      "cell_type": "code",
      "source": [
        "num1 = int(input(\"Enter the num1 :\"))\n",
        "num2 = int(input(\"Enter the num2 :\"))\n",
        "print(f\"num1 = {num1}, num2 = {num2}\")\n",
        "num1 = num1 - num2\n",
        "num2 = num1 + num2\n",
        "num1 = num2 - num1\n",
        "print(f\"num1 = {int(num1)}, num2 = {int(num2)}\")"
      ],
      "metadata": {
        "colab": {
          "base_uri": "https://localhost:8080/"
        },
        "id": "FBKz3eSskHgO",
        "outputId": "347b742c-3d05-43da-8f34-9f663ab794aa"
      },
      "execution_count": 42,
      "outputs": [
        {
          "output_type": "stream",
          "name": "stdout",
          "text": [
            "Enter the num1 :8\n",
            "Enter the num2 :15\n",
            "num1 = 8, num2 = 15\n",
            "num1 = 15, num2 = 8\n"
          ]
        }
      ]
    },
    {
      "cell_type": "code",
      "source": [],
      "metadata": {
        "id": "vilCfuizq2Ad"
      },
      "execution_count": null,
      "outputs": []
    }
  ]
}