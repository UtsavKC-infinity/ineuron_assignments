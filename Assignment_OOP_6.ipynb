{
  "nbformat": 4,
  "nbformat_minor": 0,
  "metadata": {
    "colab": {
      "provenance": []
    },
    "kernelspec": {
      "name": "python3",
      "display_name": "Python 3"
    },
    "language_info": {
      "name": "python"
    }
  },
  "cells": [
    {
      "cell_type": "markdown",
      "source": [
        "Q1. Describe three applications for exception processing.\n",
        "\n",
        "Ans: Exception processing in Python is a crucial aspect of error handling and allows programmers to handle unexpected or exceptional situations that may occur during the execution of a program. Here are three common applications for exception processing in Python:\n",
        "\n",
        "1) Error Handling\n",
        "\n",
        "2) Input Validation\n",
        "\n",
        "3) Resource Management\n",
        "\n",
        "Q2. What happens if you don&#39;t do something extra to treat an exception?\n",
        "\n",
        "Ans:\n",
        "If you don't handle or treat an exception in your code, it will result in an unhandled exception, which can have several consequences:\n",
        "\n",
        "1) Program Termination\n",
        "2)Error Message\n",
        "3)Data corruption and inconsistency\n",
        "4)Unintended Consequences\n",
        "\n",
        "Q3. What are your options for recovering from an exception in your script?\n",
        "Ans:\n",
        "When an exception occurs in your Python script, you have several options for recovering from it and continuing the execution of your program. Here are some common approaches:\n",
        "\n",
        "1)Exception Handling with try-except\n",
        "\n",
        "2)Logging and Error Reporting\n",
        "\n",
        "3)Retry Mechanisms\n",
        "\n",
        "4)Graceful Exit\n",
        "\n",
        "Q4. Describe two methods for triggering exceptions in your script.\n",
        "\n",
        "Ans:\n",
        "In Python, you can intentionally trigger exceptions in your script using various methods. Here are two commonly used methods for triggering exceptions:\n",
        "\n",
        "1)raise Statement :  The raise statement allows you to explicitly raise an exception at any point in your code.You can use it to signal exceptional conditions or errors based on specific conditions or criteria. The raise statement is followed by an instance of an exception class or an exception object.\n",
        "\n",
        "2)Built-in Exceptions: Python provides a range of built-in exceptions that you can use to trigger specific types of exceptions. These exceptions are classes defined in the Python standard library. You can raise them using the raise statement with or without arguments.\n",
        "\n",
        "Q5. Identify two methods for specifying actions to be executed at termination time, regardless of\n",
        "whether or not an exception exists.\n",
        "\n",
        "Ans: In Python, you can specify actions to be executed at termination time, regardless of whether or not an exception exists, using the following methods:\n",
        "\n",
        "1)Using the try-finally Statement\n",
        "\n",
        "2)Using the atexit Module"
      ],
      "metadata": {
        "id": "doJGUbR7vO3O"
      }
    },
    {
      "cell_type": "code",
      "execution_count": null,
      "metadata": {
        "id": "btLtWdIrvOQt"
      },
      "outputs": [],
      "source": []
    }
  ]
}