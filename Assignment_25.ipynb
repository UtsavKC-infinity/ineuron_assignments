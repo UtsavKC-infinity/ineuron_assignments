{
  "nbformat": 4,
  "nbformat_minor": 0,
  "metadata": {
    "colab": {
      "provenance": []
    },
    "kernelspec": {
      "name": "python3",
      "display_name": "Python 3"
    },
    "language_info": {
      "name": "python"
    }
  },
  "cells": [
    {
      "cell_type": "markdown",
      "source": [
        "1) . What is the difference between enclosing a list comprehension in square brackets and\n",
        "parentheses?\n"
      ],
      "metadata": {
        "id": "rP2kHIkFAqrH"
      }
    },
    {
      "cell_type": "markdown",
      "source": [
        "Ans: 1)Square brackets ([]): When you enclose a list comprehension in square brackets, it creates a list object. The list comprehension evaluates the expression and generates a list based on the specified criteria. For example:"
      ],
      "metadata": {
        "id": "Xr_FVUeAAdEl"
      }
    },
    {
      "cell_type": "code",
      "execution_count": 1,
      "metadata": {
        "colab": {
          "base_uri": "https://localhost:8080/"
        },
        "id": "e4FIl9rWAcKW",
        "outputId": "8a67bbe6-c908-4635-9b7f-522f36c35dad"
      },
      "outputs": [
        {
          "output_type": "stream",
          "name": "stdout",
          "text": [
            "[0, 1, 2, 3, 4]\n"
          ]
        }
      ],
      "source": [
        "my_list = [x for x in range(5)]\n",
        "print(my_list)\n"
      ]
    },
    {
      "cell_type": "markdown",
      "source": [
        "2)Parentheses (()): When you enclose a list comprehension in parentheses, it creates a generator object. The generator comprehension behaves similarly to a list comprehension but generates the elements on-the-fly as they are needed, rather than creating the entire list at once. This can be more memory-efficient when working with large data sets or when you don't need to access all the elements of the list at once. For example:"
      ],
      "metadata": {
        "id": "T1kvVCZDAxtG"
      }
    },
    {
      "cell_type": "code",
      "source": [
        "my_generator = (x for x in range(5))\n",
        "print(my_generator)\n"
      ],
      "metadata": {
        "colab": {
          "base_uri": "https://localhost:8080/"
        },
        "id": "n_ItM-uyAo5n",
        "outputId": "accc69bb-3a0a-4055-d8b3-7b7e385badba"
      },
      "execution_count": 2,
      "outputs": [
        {
          "output_type": "stream",
          "name": "stdout",
          "text": [
            "<generator object <genexpr> at 0x7f77e01edd90>\n"
          ]
        }
      ]
    },
    {
      "cell_type": "markdown",
      "source": [
        "2) What is the relationship between generators and iterators?\n",
        "\n",
        "Ans: generators are a special type of iterator that allows you to generate a sequence of values using the yield keyword. They simplify the process of creating iterators by handling the state and iteration logic for you. While iterators can be implemented manually using the iterator protocol, generators provide a more concise and readable way to achieve the same result."
      ],
      "metadata": {
        "id": "xNrjBkZ8A-GZ"
      }
    },
    {
      "cell_type": "code",
      "source": [
        "def my_generator():\n",
        "    yield 1\n",
        "    yield 2\n",
        "    yield 3\n",
        "\n",
        "# Creating a generator object\n",
        "gen = my_generator()\n",
        "\n",
        "# Iterating over the generator\n",
        "for num in gen:\n",
        "    print(num)\n",
        "\n"
      ],
      "metadata": {
        "colab": {
          "base_uri": "https://localhost:8080/"
        },
        "id": "T-ICYxr_A4jB",
        "outputId": "8a420c09-f45f-446e-e838-a1c8b8cb17da"
      },
      "execution_count": 4,
      "outputs": [
        {
          "output_type": "stream",
          "name": "stdout",
          "text": [
            "1\n",
            "2\n",
            "3\n"
          ]
        }
      ]
    },
    {
      "cell_type": "markdown",
      "source": [
        "3) What are the signs that a function is a generator function?\n",
        "\n",
        "Ans: In Python, there are several signs that indicate a function is a generator function:\n",
        "\n",
        "1)Use of the yield keyword: Generator functions use the yield keyword instead of the return keyword to yield values one at a time. When a generator function encounters a yield statement, it temporarily suspends its execution, saves its internal state, and returns the yielded value. This allows the function to be iterated over and resumed later.\n",
        "\n",
        "2)Function definition: The function definition of a generator function is similar to a regular function, but it includes the yield keyword. The presence of yield within the function is what distinguishes it as a generator function. Here's an example:\n",
        "\n"
      ],
      "metadata": {
        "id": "D3S3PbKtBPk5"
      }
    },
    {
      "cell_type": "code",
      "source": [
        "def my_generator():\n",
        "    yield 1\n",
        "    yield 2\n",
        "    yield 3\n"
      ],
      "metadata": {
        "id": "fvHWyP62BKRx"
      },
      "execution_count": 5,
      "outputs": []
    },
    {
      "cell_type": "markdown",
      "source": [
        "3)Iteration using for loop or next(): Generator functions can be iterated over using a for loop or by manually calling the next() function on the generator object. Each iteration or call to next() resumes the execution of the generator function and yields the next value. The iteration continues until the generator function completes or encounters a return statement."
      ],
      "metadata": {
        "id": "bKk5hEuwBpS-"
      }
    },
    {
      "cell_type": "code",
      "source": [
        "gen = my_generator()\n",
        "\n",
        "for num in gen:\n",
        "    print(num)\n"
      ],
      "metadata": {
        "colab": {
          "base_uri": "https://localhost:8080/"
        },
        "id": "irNHnLcABjWO",
        "outputId": "197e6414-64a6-4b26-d7fc-21895dc4e1d0"
      },
      "execution_count": 6,
      "outputs": [
        {
          "output_type": "stream",
          "name": "stdout",
          "text": [
            "1\n",
            "2\n",
            "3\n"
          ]
        }
      ]
    },
    {
      "cell_type": "markdown",
      "source": [
        "In end , the presence of the yield keyword, the function definition, the creation of a generator object, and the ability to iterate over the function using for loops or next() are the signs that indicate a function is a generator function."
      ],
      "metadata": {
        "id": "t7YprngpBwcN"
      }
    },
    {
      "cell_type": "markdown",
      "source": [
        "4) What is the purpose of a yield statement?\n",
        "\n",
        "Ans: The yield statement is a powerful tool for creating generators that provide a more memory-efficient and efficient way to generate large sequences or calculate values on-the-fly. It allows you to generate values incrementally, reducing memory usage and enabling lazy evaluation."
      ],
      "metadata": {
        "id": "odhBh6ZyB2vr"
      }
    },
    {
      "cell_type": "markdown",
      "source": [
        "5) What is the relationship between map calls and list comprehensions? Make a comparison and\n",
        "contrast between the two.\n",
        "\n",
        "Ans: map calls and list comprehensions offer similar functionality for transforming iterables, but they differ in syntax, output format, and flexibility. Map calls provide more flexibility with complex functions, while list comprehensions offer concise syntax for simple transformations and direct list output."
      ],
      "metadata": {
        "id": "of1fXXK-B_0s"
      }
    },
    {
      "cell_type": "code",
      "source": [],
      "metadata": {
        "id": "ZEamzmviBrwZ"
      },
      "execution_count": null,
      "outputs": []
    }
  ]
}