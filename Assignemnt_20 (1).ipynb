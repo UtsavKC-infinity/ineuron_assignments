{
  "nbformat": 4,
  "nbformat_minor": 0,
  "metadata": {
    "colab": {
      "provenance": []
    },
    "kernelspec": {
      "name": "python3",
      "display_name": "Python 3"
    },
    "language_info": {
      "name": "python"
    }
  },
  "cells": [
    {
      "cell_type": "markdown",
      "source": [
        "1. Set the variable test1 to the string &#39;This is a test of the emergency text system,&#39; and save test1 to a\n",
        "file named test.txt.\n",
        "\n",
        "Ans: To set the variable test1 to the given string and save it to a file named test.txt, you can use the following code:"
      ],
      "metadata": {
        "id": "mlMFUEUSArom"
      }
    },
    {
      "cell_type": "code",
      "execution_count": 1,
      "metadata": {
        "id": "vg_AFf_zAqi-"
      },
      "outputs": [],
      "source": [
        "test1 = 'This is a test of the emergency text system,'\n",
        "\n",
        "with open('test.txt', 'w') as file:\n",
        "    file.write(test1)\n"
      ]
    },
    {
      "cell_type": "markdown",
      "source": [
        "2. Read the contents of the file test.txt into the variable test2. Is there a difference between test 1\n",
        "and test 2?\n",
        "\n",
        "Ans: To read the contents of the file test.txt into the variable test2, you can use the following code:\n"
      ],
      "metadata": {
        "id": "2N9HO7EcA6zL"
      }
    },
    {
      "cell_type": "code",
      "source": [
        "with open('test.txt', 'r') as file:\n",
        "    test2 = file.read()\n"
      ],
      "metadata": {
        "id": "KxckUpSmA0kE"
      },
      "execution_count": 2,
      "outputs": []
    },
    {
      "cell_type": "code",
      "source": [
        "if test1 == test2:\n",
        "    print(\"There is no difference between test1 and test2.\")\n",
        "else:\n",
        "    print(\"There is a difference between test1 and test2.\")\n"
      ],
      "metadata": {
        "colab": {
          "base_uri": "https://localhost:8080/"
        },
        "id": "q0MyGmK9BCZL",
        "outputId": "af0ae8d9-02e8-44be-8655-2fd8b1053899"
      },
      "execution_count": 3,
      "outputs": [
        {
          "output_type": "stream",
          "name": "stdout",
          "text": [
            "There is no difference between test1 and test2.\n"
          ]
        }
      ]
    },
    {
      "cell_type": "markdown",
      "source": [
        "3. Create a CSV file called books.csv by using these lines:\n",
        "\n",
        "title,author,year\n",
        "The Weirdstone of Brisingamen,Alan Garner,1960\n",
        "\n",
        "Perdido Street Station,China Miéville,2000\n",
        "\n",
        "Thud!,Terry Pratchett,2005\n",
        "\n",
        "The Spellman Files,Lisa Lutz,2007\n",
        "\n",
        "Small Gods,Terry Pratchett,1992\n",
        "\n",
        "Ans: To create a CSV file called books.csv with the given lines, you can use the following code:"
      ],
      "metadata": {
        "id": "P9iFBX7sBROT"
      }
    },
    {
      "cell_type": "code",
      "source": [
        "import csv\n",
        "\n",
        "lines = [\n",
        "    ['title', 'author', 'year'],\n",
        "    ['The Weirdstone of Brisingamen', 'Alan Garner', '1960'],\n",
        "    ['Perdido Street Station', 'China Miéville', '2000'],\n",
        "    ['Thud!', 'Terry Pratchett', '2005'],\n",
        "    ['The Spellman Files', 'Lisa Lutz', '2007'],\n",
        "    ['Small Gods', 'Terry Pratchett', '1992']\n",
        "]\n",
        "\n",
        "with open('books.csv', 'w', newline='') as file:\n",
        "    writer = csv.writer(file)\n",
        "    writer.writerows(lines)\n",
        "\n",
        "print(\"books.csv has been created.\")\n"
      ],
      "metadata": {
        "colab": {
          "base_uri": "https://localhost:8080/"
        },
        "id": "IwcUqYD_BG27",
        "outputId": "2cdd0d08-87a5-489a-f11c-7865faec36b2"
      },
      "execution_count": 5,
      "outputs": [
        {
          "output_type": "stream",
          "name": "stdout",
          "text": [
            "books.csv has been created.\n"
          ]
        }
      ]
    },
    {
      "cell_type": "markdown",
      "source": [
        "4. Use the sqlite3 module to create a SQLite database called books.db, and a table called books with\n",
        "these fields: title (text), author (text), and year (integer).\n",
        "\n",
        "Ans: To create a SQLite database called books.db with a table named books having fields title (text), author (text), and year (integer), you can use the following code:"
      ],
      "metadata": {
        "id": "zpmxZ75ZBk9z"
      }
    },
    {
      "cell_type": "code",
      "source": [
        "import sqlite3\n",
        "\n",
        "# Create a connection to the database (or connect to an existing one)\n",
        "conn = sqlite3.connect('books.db')\n",
        "\n",
        "# Create a cursor object to interact with the database\n",
        "cursor = conn.cursor()\n",
        "\n",
        "# Create the books table\n",
        "cursor.execute('''\n",
        "    CREATE TABLE IF NOT EXISTS books (\n",
        "        title TEXT,\n",
        "        author TEXT,\n",
        "        year INTEGER\n",
        "    )\n",
        "''')\n",
        "\n",
        "# Commit the changes and close the connection\n",
        "conn.commit()\n",
        "conn.close()\n",
        "\n",
        "print(\"books.db database and books table have been created.\")\n"
      ],
      "metadata": {
        "colab": {
          "base_uri": "https://localhost:8080/"
        },
        "id": "6uGEFuuRBXMw",
        "outputId": "f0dc207b-7322-4073-d556-ba62cac79504"
      },
      "execution_count": 6,
      "outputs": [
        {
          "output_type": "stream",
          "name": "stdout",
          "text": [
            "books.db database and books table have been created.\n"
          ]
        }
      ]
    },
    {
      "cell_type": "markdown",
      "source": [
        "5. Read books.csv and insert its data into the book table.\n",
        "\n",
        "Ans: To read the data from the books.csv file and insert it into the books table in the books.db database, you can use the following code:"
      ],
      "metadata": {
        "id": "sKK8QsaaBtWk"
      }
    },
    {
      "cell_type": "code",
      "source": [
        "import csv\n",
        "import sqlite3\n",
        "\n",
        "# Open the CSV file\n",
        "with open('books.csv', 'r') as file:\n",
        "    # Create a connection to the database\n",
        "    conn = sqlite3.connect('books.db')\n",
        "    cursor = conn.cursor()\n",
        "\n",
        "    # Read the CSV file\n",
        "    csv_reader = csv.reader(file)\n",
        "\n",
        "    # Skip the header row\n",
        "    next(csv_reader)\n",
        "\n",
        "    # Insert data into the books table\n",
        "    for row in csv_reader:\n",
        "        title, author, year = row\n",
        "        cursor.execute('INSERT INTO books (title, author, year) VALUES (?, ?, ?)', (title, author, year))\n",
        "\n",
        "    # Commit the changes and close the connection\n",
        "    conn.commit()\n",
        "    conn.close()\n",
        "\n",
        "print(\"Data from books.csv has been inserted into the books table.\")\n"
      ],
      "metadata": {
        "colab": {
          "base_uri": "https://localhost:8080/"
        },
        "id": "7b87kDqeBpNx",
        "outputId": "793024d2-49e3-40bf-a7cc-52e58f7274b1"
      },
      "execution_count": 7,
      "outputs": [
        {
          "output_type": "stream",
          "name": "stdout",
          "text": [
            "Data from books.csv has been inserted into the books table.\n"
          ]
        }
      ]
    },
    {
      "cell_type": "markdown",
      "source": [
        "6. Select and print the title column from the book table in alphabetical order.\n",
        "\n",
        "Ans: To select and print the title column from the books table in alphabetical order, you can use the following code:"
      ],
      "metadata": {
        "id": "3Q6rYeNyB4dV"
      }
    },
    {
      "cell_type": "code",
      "source": [
        "import sqlite3\n",
        "\n",
        "# Create a connection to the database\n",
        "conn = sqlite3.connect('books.db')\n",
        "cursor = conn.cursor()\n",
        "\n",
        "# Select the title column from the books table in alphabetical order\n",
        "cursor.execute('SELECT title FROM books ORDER BY title ASC')\n",
        "\n",
        "# Fetch all the rows\n",
        "rows = cursor.fetchall()\n",
        "\n",
        "# Print the title column\n",
        "for row in rows:\n",
        "    print(row[0])\n",
        "\n",
        "# Close the connection\n",
        "conn.close()\n"
      ],
      "metadata": {
        "colab": {
          "base_uri": "https://localhost:8080/"
        },
        "id": "ZstkB6qaBx5_",
        "outputId": "9cf767df-8e3a-48e5-bc9a-493089a96716"
      },
      "execution_count": 8,
      "outputs": [
        {
          "output_type": "stream",
          "name": "stdout",
          "text": [
            "Perdido Street Station\n",
            "Small Gods\n",
            "The Spellman Files\n",
            "The Weirdstone of Brisingamen\n",
            "Thud!\n"
          ]
        }
      ]
    },
    {
      "cell_type": "markdown",
      "source": [
        "7. From the book table, select and print all columns in the order of publication.\n",
        "\n",
        "Ans: To select and print all columns from the books table in the order of publication, you can use the following code:"
      ],
      "metadata": {
        "id": "PF5_pz9uCBhY"
      }
    },
    {
      "cell_type": "code",
      "source": [
        "import sqlite3\n",
        "\n",
        "# Create a connection to the database\n",
        "conn = sqlite3.connect('books.db')\n",
        "cursor = conn.cursor()\n",
        "\n",
        "# Select all columns from the books table ordered by year\n",
        "cursor.execute('SELECT * FROM books ORDER BY year')\n",
        "\n",
        "# Fetch all the rows\n",
        "rows = cursor.fetchall()\n",
        "\n",
        "# Print all columns\n",
        "for row in rows:\n",
        "    print(row)\n",
        "\n",
        "# Close the connection\n",
        "conn.close()\n"
      ],
      "metadata": {
        "colab": {
          "base_uri": "https://localhost:8080/"
        },
        "id": "uR-1hdO0B9PN",
        "outputId": "e13fa8b6-6a67-40de-d7f9-fd338cfede1d"
      },
      "execution_count": 10,
      "outputs": [
        {
          "output_type": "stream",
          "name": "stdout",
          "text": [
            "('The Weirdstone of Brisingamen', 'Alan Garner', 1960)\n",
            "('Small Gods', 'Terry Pratchett', 1992)\n",
            "('Perdido Street Station', 'China Miéville', 2000)\n",
            "('Thud!', 'Terry Pratchett', 2005)\n",
            "('The Spellman Files', 'Lisa Lutz', 2007)\n"
          ]
        }
      ]
    },
    {
      "cell_type": "markdown",
      "source": [
        "8. Use the sqlalchemy module to connect to the sqlite3 database books.db that you just made in\n",
        "exercise 6.\n",
        "\n",
        "Ans: To connect to the SQLite database books.db using the SQLAlchemy module, you can use the following code:"
      ],
      "metadata": {
        "id": "_8WaTA-WCKyW"
      }
    },
    {
      "cell_type": "code",
      "source": [
        "from sqlalchemy import create_engine\n",
        "\n",
        "# Create the database engine\n",
        "engine = create_engine('sqlite:///books.db')\n",
        "\n",
        "# Connect to the database\n",
        "conn = engine.connect()\n",
        "\n",
        "# Perform database operations...\n",
        "\n",
        "# Close the connection\n",
        "conn.close()\n"
      ],
      "metadata": {
        "id": "7Jy7tTVqCGe6"
      },
      "execution_count": 11,
      "outputs": []
    },
    {
      "cell_type": "markdown",
      "source": [
        "9. Install the Redis server and the Python redis library (pip install redis) on your computer. Create a\n",
        "Redis hash called test with the fields count (1) and name (&#39;Fester Bestertester&#39;). Print all the fields for\n",
        "test.\n",
        "\n",
        "Ans: We should follow below commands:\n",
        "\n"
      ],
      "metadata": {
        "id": "4indbnUACyQj"
      }
    },
    {
      "cell_type": "code",
      "source": [
        "pip install redis\n"
      ],
      "metadata": {
        "colab": {
          "base_uri": "https://localhost:8080/"
        },
        "id": "0wK2fnTnCvOi",
        "outputId": "569fe0ca-926d-459f-b7bc-bb18ecb10ce1"
      },
      "execution_count": 17,
      "outputs": [
        {
          "output_type": "stream",
          "name": "stdout",
          "text": [
            "Looking in indexes: https://pypi.org/simple, https://us-python.pkg.dev/colab-wheels/public/simple/\n",
            "Requirement already satisfied: redis in /usr/local/lib/python3.10/dist-packages (4.5.5)\n",
            "Requirement already satisfied: async-timeout>=4.0.2 in /usr/local/lib/python3.10/dist-packages (from redis) (4.0.2)\n"
          ]
        }
      ]
    },
    {
      "cell_type": "code",
      "source": [
        "import redis\n",
        "\n",
        "# Connect to the Redis server\n",
        "r = redis.Redis()\n",
        "\n",
        "# Set the hash fields\n",
        "r.hset(\"test\", \"count\", 1)\n",
        "r.hset(\"test\", \"name\", \"Fester Bestertester\")\n",
        "\n",
        "# Get all the fields and their values for the \"test\" hash\n",
        "fields = r.hgetall(\"test\")\n",
        "\n",
        "# Print the fields and their values\n",
        "for field, value in fields.items():\n",
        "    print(f\"{field.decode()}: {value.decode()}\")\n"
      ],
      "metadata": {
        "id": "DpNe9yJGDBrb"
      },
      "execution_count": null,
      "outputs": []
    },
    {
      "cell_type": "markdown",
      "source": [
        "10. Increment the count field of test and print it.\n",
        "\n",
        "Ans: "
      ],
      "metadata": {
        "id": "nJfcl45LDlw-"
      }
    },
    {
      "cell_type": "code",
      "source": [
        "import redis\n",
        "\n",
        "# Connect to the Redis server\n",
        "r = redis.Redis()\n",
        "\n",
        "# Increment the count field of the \"test\" hash\n",
        "r.hset(\"test\", \"count\", 1)\n",
        "\n",
        "# Get the updated count value\n",
        "count = r.hgetall(\"test\", \"count\")\n",
        "\n",
        "# Print the updated count\n",
        "print(f\"Updated count: {count.decode()}\")\n"
      ],
      "metadata": {
        "id": "ezxq4rnIDuqZ"
      },
      "execution_count": null,
      "outputs": []
    }
  ]
}