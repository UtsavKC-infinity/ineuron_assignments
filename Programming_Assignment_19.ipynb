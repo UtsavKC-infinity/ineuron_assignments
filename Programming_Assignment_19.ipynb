{
  "nbformat": 4,
  "nbformat_minor": 0,
  "metadata": {
    "colab": {
      "provenance": []
    },
    "kernelspec": {
      "name": "python3",
      "display_name": "Python 3"
    },
    "language_info": {
      "name": "python"
    }
  },
  "cells": [
    {
      "cell_type": "markdown",
      "source": [
        "Create a function that takes a string and returns a string in which each character is repeated\n",
        "once.\n"
      ],
      "metadata": {
        "id": "9Ca_4LA75yIM"
      }
    },
    {
      "cell_type": "code",
      "execution_count": 1,
      "metadata": {
        "colab": {
          "base_uri": "https://localhost:8080/"
        },
        "id": "RYXEz_9W5vus",
        "outputId": "ab8436a9-0ada-4c02-cfcf-ff20b255e70e"
      },
      "outputs": [
        {
          "output_type": "stream",
          "name": "stdout",
          "text": [
            "SSttrriinngg\n",
            "HHeelllloo  WWoorrlldd!!\n",
            "11223344!!__  \n"
          ]
        }
      ],
      "source": [
        "def double_char(string):\n",
        "    doubled_string = \"\"\n",
        "    for char in string:\n",
        "        doubled_string += char * 2\n",
        "    return doubled_string\n",
        "\n",
        "# Examples:\n",
        "print(double_char(\"String\"))  # Output: \"SSttrriinngg\"\n",
        "print(double_char(\"Hello World!\"))  # Output: \"HHeelllloo  WWoorrlldd!!\"\n",
        "print(double_char(\"1234!_ \"))  # Output: \"11223344!!__  \"\n"
      ]
    },
    {
      "cell_type": "markdown",
      "source": [
        "Create a function that reverses a boolean value and returns the string &quot;boolean expected&quot;\n",
        "if another variable type is given.\n"
      ],
      "metadata": {
        "id": "0EiO09oe59Xy"
      }
    },
    {
      "cell_type": "code",
      "source": [
        "def reverse(arg):\n",
        "    if isinstance(arg, bool):\n",
        "        return not arg\n",
        "    else:\n",
        "        return \"boolean expected\"\n",
        "\n",
        "# Examples:\n",
        "print(reverse(True))  # Output: False\n",
        "print(reverse(False))  # Output: True\n",
        "print(reverse(0))  # Output: \"boolean expected\"\n",
        "print(reverse(None))  # Output: \"boolean expected\"\n"
      ],
      "metadata": {
        "colab": {
          "base_uri": "https://localhost:8080/"
        },
        "id": "21xSpsW4536H",
        "outputId": "ec6f83fd-5fc8-42b0-a77f-c7b617fdefc7"
      },
      "execution_count": 2,
      "outputs": [
        {
          "output_type": "stream",
          "name": "stdout",
          "text": [
            "False\n",
            "True\n",
            "boolean expected\n",
            "boolean expected\n"
          ]
        }
      ]
    },
    {
      "cell_type": "markdown",
      "source": [
        "Create a function that returns the thickness (in meters) of a piece of paper after folding it n\n",
        "number of times. The paper starts off with a thickness of 0.5mm.\n"
      ],
      "metadata": {
        "id": "HapD4sma6GJy"
      }
    },
    {
      "cell_type": "code",
      "source": [
        "def num_layers(n):\n",
        "    thickness_mm = 0.5 * (2 ** n)\n",
        "    thickness_m = thickness_mm / 1000\n",
        "    return \"{:.3f}m\".format(thickness_m)\n",
        "\n",
        "# Examples:\n",
        "print(num_layers(1))  # Output: \"0.001m\"\n",
        "print(num_layers(4))  # Output: \"0.008m\"\n",
        "print(num_layers(21))  # Output: \"1048.576m\"\n"
      ],
      "metadata": {
        "colab": {
          "base_uri": "https://localhost:8080/"
        },
        "id": "y7PdxZKl6BKd",
        "outputId": "07d6b2fb-d083-4caf-e4be-7a8214414897"
      },
      "execution_count": 3,
      "outputs": [
        {
          "output_type": "stream",
          "name": "stdout",
          "text": [
            "0.001m\n",
            "0.008m\n",
            "1048.576m\n"
          ]
        }
      ]
    },
    {
      "cell_type": "markdown",
      "source": [
        "Create a function that takes a single string as argument and returns an ordered list containing\n",
        "the indices of all capital letters in the string.\n"
      ],
      "metadata": {
        "id": "L1H97Cne6QOX"
      }
    },
    {
      "cell_type": "code",
      "source": [
        "def index_of_caps(word):\n",
        "    indices = []\n",
        "    for i, char in enumerate(word):\n",
        "        if char.isupper():\n",
        "            indices.append(i)\n",
        "    return indices\n",
        "\n",
        "# Examples:\n",
        "print(index_of_caps(\"eDaBiT\"))  # Output: [1, 3, 5]\n",
        "print(index_of_caps(\"eQuINoX\"))  # Output: [1, 3, 4, 6]\n",
        "print(index_of_caps(\"determine\"))  # Output: []\n",
        "print(index_of_caps(\"STRIKE\"))  # Output: [0, 1, 2, 3, 4, 5]\n",
        "print(index_of_caps(\"sUn\"))  # Output: [1]\n"
      ],
      "metadata": {
        "colab": {
          "base_uri": "https://localhost:8080/"
        },
        "id": "BFsgPi9h6KK1",
        "outputId": "87b39b18-8a68-49cc-e40d-1743c8497385"
      },
      "execution_count": 4,
      "outputs": [
        {
          "output_type": "stream",
          "name": "stdout",
          "text": [
            "[1, 3, 5]\n",
            "[1, 3, 4, 6]\n",
            "[]\n",
            "[0, 1, 2, 3, 4, 5]\n",
            "[1]\n"
          ]
        }
      ]
    },
    {
      "cell_type": "markdown",
      "source": [
        "Using list comprehensions, create a function that finds all even numbers from 1 to the given\n",
        "number."
      ],
      "metadata": {
        "id": "oqoSdEQf6X2B"
      }
    },
    {
      "cell_type": "code",
      "source": [
        "def find_even_nums(n):\n",
        "    return [num for num in range(1, n + 1) if num % 2 == 0]\n",
        "\n",
        "# Examples:\n",
        "print(find_even_nums(8))  # Output: [2, 4, 6, 8]\n",
        "print(find_even_nums(4))  # Output: [2, 4]\n",
        "print(find_even_nums(2))  # Output: [2]\n"
      ],
      "metadata": {
        "colab": {
          "base_uri": "https://localhost:8080/"
        },
        "id": "wBk_TbH16TEF",
        "outputId": "a7dbc09d-d1c3-44a2-c218-44a7ebe0c89e"
      },
      "execution_count": 5,
      "outputs": [
        {
          "output_type": "stream",
          "name": "stdout",
          "text": [
            "[2, 4, 6, 8]\n",
            "[2, 4]\n",
            "[2]\n"
          ]
        }
      ]
    },
    {
      "cell_type": "code",
      "source": [],
      "metadata": {
        "id": "fWzVGQ2q6a9w"
      },
      "execution_count": null,
      "outputs": []
    }
  ]
}