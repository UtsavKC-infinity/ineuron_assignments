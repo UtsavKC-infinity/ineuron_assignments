{
  "nbformat": 4,
  "nbformat_minor": 0,
  "metadata": {
    "colab": {
      "provenance": []
    },
    "kernelspec": {
      "name": "python3",
      "display_name": "Python 3"
    },
    "language_info": {
      "name": "python"
    }
  },
  "cells": [
    {
      "cell_type": "code",
      "execution_count": 1,
      "metadata": {
        "colab": {
          "base_uri": "https://localhost:8080/"
        },
        "id": "G98KRHeIpTJ-",
        "outputId": "e86a1463-fe6e-4a46-c12b-e0ef3b2a845b"
      },
      "outputs": [
        {
          "output_type": "stream",
          "name": "stdout",
          "text": [
            "Sum of elements: 15\n"
          ]
        }
      ],
      "source": [
        "#1. Write a Python program to find sum of elements in list?\n",
        "def sum_of_elements(lst):\n",
        "    return sum(lst)\n",
        "\n",
        "# Test the function\n",
        "numbers = [1, 2, 3, 4, 5]\n",
        "result = sum_of_elements(numbers)\n",
        "print(\"Sum of elements:\", result)\n"
      ]
    },
    {
      "cell_type": "code",
      "source": [
        "#2. Write a Python program to Multiply all numbers in the list?\n",
        "def multiply_numbers(lst):\n",
        "    result = 1\n",
        "    for num in lst:\n",
        "        result *= num\n",
        "    return result\n",
        "\n",
        "# Test the function\n",
        "numbers = [1, 2, 3, 4, 5]\n",
        "result = multiply_numbers(numbers)\n",
        "print(\"Multiplication of numbers:\", result)\n"
      ],
      "metadata": {
        "colab": {
          "base_uri": "https://localhost:8080/"
        },
        "id": "uCSrbnJapXOg",
        "outputId": "2104e6ec-ec1a-4b82-89f2-8b4ade5e52eb"
      },
      "execution_count": 2,
      "outputs": [
        {
          "output_type": "stream",
          "name": "stdout",
          "text": [
            "Multiplication of numbers: 120\n"
          ]
        }
      ]
    },
    {
      "cell_type": "code",
      "source": [
        "#3. Write a Python program to find smallest number in a list?\n",
        "def find_smallest_number(lst):\n",
        "    if len(lst) == 0:\n",
        "        return None\n",
        "    smallest = lst[0]\n",
        "    for num in lst:\n",
        "        if num < smallest:\n",
        "            smallest = num\n",
        "    return smallest\n",
        "\n",
        "# Test the function\n",
        "numbers = [5, 2, 8, 1, 4]\n",
        "smallest_number = find_smallest_number(numbers)\n",
        "print(\"Smallest number:\", smallest_number)\n"
      ],
      "metadata": {
        "colab": {
          "base_uri": "https://localhost:8080/"
        },
        "id": "31C9rH_0pfSI",
        "outputId": "06a7a37d-7199-408b-ebff-71db0480d972"
      },
      "execution_count": 3,
      "outputs": [
        {
          "output_type": "stream",
          "name": "stdout",
          "text": [
            "Smallest number: 1\n"
          ]
        }
      ]
    },
    {
      "cell_type": "code",
      "source": [
        "#4. Write a Python program to find largest number in a list?\n",
        "def find_largest_number(lst):\n",
        "    if len(lst) == 0:\n",
        "        return None\n",
        "    largest = lst[0]\n",
        "    for num in lst:\n",
        "        if num > largest:\n",
        "            largest = num\n",
        "    return largest\n",
        "\n",
        "# Test the function\n",
        "numbers = [5, 2, 8, 1, 4]\n",
        "largest_number = find_largest_number(numbers)\n",
        "print(\"Largest number:\", largest_number)\n"
      ],
      "metadata": {
        "colab": {
          "base_uri": "https://localhost:8080/"
        },
        "id": "xjoRLywNpndn",
        "outputId": "3d7f7f62-cbb4-4f2a-d6e5-0d56cf95a24b"
      },
      "execution_count": 4,
      "outputs": [
        {
          "output_type": "stream",
          "name": "stdout",
          "text": [
            "Largest number: 8\n"
          ]
        }
      ]
    },
    {
      "cell_type": "code",
      "source": [
        "#5. Write a Python program to find second largest number in a list?\n",
        "def find_second_largest_number(lst):\n",
        "    if len(lst) < 2:\n",
        "        return None\n",
        "    largest = max(lst[0], lst[1])\n",
        "    second_largest = min(lst[0], lst[1])\n",
        "    for num in lst[2:]:\n",
        "        if num > largest:\n",
        "            second_largest = largest\n",
        "            largest = num\n",
        "        elif num > second_largest:\n",
        "            second_largest = num\n",
        "    return second_largest\n",
        "\n",
        "# Test the function\n",
        "numbers = [5, 2, 8, 1, 4]\n",
        "second_largest_number = find_second_largest_number(numbers)\n",
        "print(\"Second largest number:\", second_largest_number)\n"
      ],
      "metadata": {
        "colab": {
          "base_uri": "https://localhost:8080/"
        },
        "id": "kvtCX_W-psq_",
        "outputId": "69fbb8b2-a962-4524-a1a9-00c944fd7088"
      },
      "execution_count": 5,
      "outputs": [
        {
          "output_type": "stream",
          "name": "stdout",
          "text": [
            "Second largest number: 5\n"
          ]
        }
      ]
    },
    {
      "cell_type": "code",
      "source": [
        "#6. Write a Python program to find N largest elements from a list?\n",
        "def find_n_largest_elements(lst, n):\n",
        "    if len(lst) < n:\n",
        "        return None\n",
        "    sorted_list = sorted(lst, reverse=True)\n",
        "    return sorted_list[:n]\n",
        "\n",
        "# Test the function\n",
        "numbers = [5, 2, 8, 1, 4]\n",
        "n = 3\n",
        "n_largest_elements = find_n_largest_elements(numbers, n)\n",
        "print(f\"{n} largest elements:\", n_largest_elements)\n"
      ],
      "metadata": {
        "colab": {
          "base_uri": "https://localhost:8080/"
        },
        "id": "GP4E2zSAp1FR",
        "outputId": "1c47603c-4434-4b11-8fe4-a6a10f860048"
      },
      "execution_count": 6,
      "outputs": [
        {
          "output_type": "stream",
          "name": "stdout",
          "text": [
            "3 largest elements: [8, 5, 4]\n"
          ]
        }
      ]
    },
    {
      "cell_type": "code",
      "source": [
        "#7. Write a Python program to print even numbers in a list?\n",
        "def print_even_numbers(lst):\n",
        "    even_numbers = [num for num in lst if num % 2 == 0]\n",
        "    for num in even_numbers:\n",
        "        print(num)\n",
        "\n",
        "# Test the function\n",
        "numbers = [1, 2, 3, 4, 5, 6, 7, 8, 9, 10]\n",
        "print(\"Even numbers:\")\n",
        "print_even_numbers(numbers)\n"
      ],
      "metadata": {
        "colab": {
          "base_uri": "https://localhost:8080/"
        },
        "id": "VpknhOm2p8oF",
        "outputId": "e3f556b8-d7d7-40f5-fd55-4abded187b6a"
      },
      "execution_count": 7,
      "outputs": [
        {
          "output_type": "stream",
          "name": "stdout",
          "text": [
            "Even numbers:\n",
            "2\n",
            "4\n",
            "6\n",
            "8\n",
            "10\n"
          ]
        }
      ]
    },
    {
      "cell_type": "code",
      "source": [
        "#8. Write a Python program to print odd numbers in a List?\n",
        "def print_odd_numbers(lst):\n",
        "    odd_numbers = [num for num in lst if num % 2 != 0]\n",
        "    for num in odd_numbers:\n",
        "        print(num)\n",
        "\n",
        "# Test the function\n",
        "numbers = [1, 2, 3, 4, 5, 6, 7, 8, 9, 10]\n",
        "print(\"Odd numbers:\")\n",
        "print_odd_numbers(numbers)\n"
      ],
      "metadata": {
        "colab": {
          "base_uri": "https://localhost:8080/"
        },
        "id": "xDyDjhJMqHvx",
        "outputId": "4185040f-a206-4e58-e827-c1048f239408"
      },
      "execution_count": 8,
      "outputs": [
        {
          "output_type": "stream",
          "name": "stdout",
          "text": [
            "Odd numbers:\n",
            "1\n",
            "3\n",
            "5\n",
            "7\n",
            "9\n"
          ]
        }
      ]
    },
    {
      "cell_type": "code",
      "source": [
        "#9. Write a Python program to Remove empty List from List?\n",
        "def remove_empty_lists(lst):\n",
        "    return [sublist for sublist in lst if sublist]\n",
        "\n",
        "# Test the function\n",
        "my_list = [1, [], [2, 3], [], 4, [], [], [5, 6]]\n",
        "updated_list = remove_empty_lists(my_list)\n",
        "print(\"Updated list:\", updated_list)\n"
      ],
      "metadata": {
        "colab": {
          "base_uri": "https://localhost:8080/"
        },
        "id": "kOd8_QKAqPge",
        "outputId": "f2f7979a-a62a-481f-aac9-178ab67ee134"
      },
      "execution_count": 10,
      "outputs": [
        {
          "output_type": "stream",
          "name": "stdout",
          "text": [
            "Updated list: [1, [2, 3], 4, [5, 6]]\n"
          ]
        }
      ]
    },
    {
      "cell_type": "code",
      "source": [
        "#10. Write a Python program to Cloning or Copying a list?\n",
        "def clone_list(lst):\n",
        "    return lst.copy()\n",
        "\n",
        "# Test the function\n",
        "original_list = [1, 2, 3, 4, 5]\n",
        "cloned_list = clone_list(original_list)\n",
        "print(\"Original list:\", original_list)\n",
        "print(\"Cloned list:\", cloned_list)\n"
      ],
      "metadata": {
        "colab": {
          "base_uri": "https://localhost:8080/"
        },
        "id": "3T2NFrrPqaAO",
        "outputId": "f0390aaa-3572-470c-9f42-4fbbfb2fc50e"
      },
      "execution_count": 11,
      "outputs": [
        {
          "output_type": "stream",
          "name": "stdout",
          "text": [
            "Original list: [1, 2, 3, 4, 5]\n",
            "Cloned list: [1, 2, 3, 4, 5]\n"
          ]
        }
      ]
    },
    {
      "cell_type": "code",
      "source": [
        "#11. Write a Python program to Count occurrences of an element in a list?\n",
        "def count_occurrences(lst, element):\n",
        "    count = 0\n",
        "    for item in lst:\n",
        "        if item == element:\n",
        "            count += 1\n",
        "    return count\n",
        "\n",
        "# Test the function\n",
        "my_list = [1, 2, 3, 4, 1, 1, 5, 2, 1]\n",
        "element = 1\n",
        "occurrences = count_occurrences(my_list, element)\n",
        "print(f\"The element {element} occurs {occurrences} times in the list.\")\n"
      ],
      "metadata": {
        "colab": {
          "base_uri": "https://localhost:8080/"
        },
        "id": "atWtjrGJqkJH",
        "outputId": "3f8a4e7f-a36d-4616-a3c9-377585de561f"
      },
      "execution_count": 12,
      "outputs": [
        {
          "output_type": "stream",
          "name": "stdout",
          "text": [
            "The element 1 occurs 4 times in the list.\n"
          ]
        }
      ]
    },
    {
      "cell_type": "code",
      "source": [],
      "metadata": {
        "id": "bT08bg1EqtSX"
      },
      "execution_count": null,
      "outputs": []
    }
  ]
}