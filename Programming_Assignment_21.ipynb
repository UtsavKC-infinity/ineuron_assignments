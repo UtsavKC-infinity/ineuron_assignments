{
  "nbformat": 4,
  "nbformat_minor": 0,
  "metadata": {
    "colab": {
      "provenance": []
    },
    "kernelspec": {
      "name": "python3",
      "display_name": "Python 3"
    },
    "language_info": {
      "name": "python"
    }
  },
  "cells": [
    {
      "cell_type": "markdown",
      "source": [
        "Write a function that takes a list and a number as arguments. Add the number to the end of\n",
        "the list, then remove the first element of the list. The function should then return the updated\n",
        "list.\n"
      ],
      "metadata": {
        "id": "xcw9M5uj72R3"
      }
    },
    {
      "cell_type": "code",
      "execution_count": 1,
      "metadata": {
        "colab": {
          "base_uri": "https://localhost:8080/"
        },
        "id": "TJvgGsOX70OJ",
        "outputId": "8bc27140-f780-4591-a7b8-a63c0f1f019d"
      },
      "outputs": [
        {
          "output_type": "stream",
          "name": "stdout",
          "text": [
            "[6, 7, 8, 9, 1]\n",
            "[6, 3, 23, 17, 10]\n",
            "[10, 20, 42, 6]\n",
            "No list has been selected\n"
          ]
        }
      ],
      "source": [
        "def next_in_line(lst, num):\n",
        "    if not lst:\n",
        "        return \"No list has been selected\"\n",
        "    lst.append(num)\n",
        "    lst.pop(0)\n",
        "    return lst\n",
        "\n",
        "# Examples:\n",
        "print(next_in_line([5, 6, 7, 8, 9], 1))  # Output: [6, 7, 8, 9, 1]\n",
        "print(next_in_line([7, 6, 3, 23, 17], 10))  # Output: [6, 3, 23, 17, 10]\n",
        "print(next_in_line([1, 10, 20, 42], 6))  # Output: [10, 20, 42, 6]\n",
        "print(next_in_line([], 6))  # Output: \"No list has been selected\"\n"
      ]
    },
    {
      "cell_type": "markdown",
      "source": [
        "Create the function that takes a list of dictionaries and returns the sum of people&#39;s budgets.\n"
      ],
      "metadata": {
        "id": "APncxrhS79aI"
      }
    },
    {
      "cell_type": "code",
      "source": [
        "def get_budgets(lst):\n",
        "    return sum(person[\"budget\"] for person in lst)\n",
        "\n",
        "# Examples:\n",
        "budgets1 = [\n",
        "    {\"name\": \"John\", \"age\": 21, \"budget\": 23000},\n",
        "    {\"name\": \"Steve\", \"age\": 32, \"budget\": 40000},\n",
        "    {\"name\": \"Martin\", \"age\": 16, \"budget\": 2700}\n",
        "]\n",
        "print(get_budgets(budgets1))  # Output: 65700\n",
        "\n",
        "budgets2 = [\n",
        "    {\"name\": \"John\", \"age\": 21, \"budget\": 29000},\n",
        "    {\"name\": \"Steve\", \"age\": 32, \"budget\": 32000},\n",
        "    {\"name\": \"Martin\", \"age\": 16, \"budget\": 1600}\n",
        "]\n",
        "print(get_budgets(budgets2))  # Output: 62600\n"
      ],
      "metadata": {
        "colab": {
          "base_uri": "https://localhost:8080/"
        },
        "id": "FXRN1D2k76_s",
        "outputId": "38beb347-0b74-4926-8f92-17ac65a6b480"
      },
      "execution_count": 2,
      "outputs": [
        {
          "output_type": "stream",
          "name": "stdout",
          "text": [
            "65700\n",
            "62600\n"
          ]
        }
      ]
    },
    {
      "cell_type": "markdown",
      "source": [
        "Create a function that takes a string and returns a string with its letters in alphabetical order."
      ],
      "metadata": {
        "id": "m_uER7yu8dek"
      }
    },
    {
      "cell_type": "code",
      "source": [
        "def alphabet_soup(txt):\n",
        "    return ''.join(sorted(txt))\n",
        "\n",
        "# Examples:\n",
        "print(alphabet_soup(\"hello\"))  # Output: ehllo\n",
        "print(alphabet_soup(\"edabit\"))  # Output: abdeit\n",
        "print(alphabet_soup(\"hacker\"))  # Output: acehkr\n",
        "print(alphabet_soup(\"geek\"))  # Output: eegk\n",
        "print(alphabet_soup(\"javascript\"))  # Output: aacijprstv\n"
      ],
      "metadata": {
        "colab": {
          "base_uri": "https://localhost:8080/"
        },
        "id": "5jxmsMwx8X9Q",
        "outputId": "2e3d839b-9fec-44fd-babc-a09c08050179"
      },
      "execution_count": 3,
      "outputs": [
        {
          "output_type": "stream",
          "name": "stdout",
          "text": [
            "ehllo\n",
            "abdeit\n",
            "acehkr\n",
            "eegk\n",
            "aacijprstv\n"
          ]
        }
      ]
    },
    {
      "cell_type": "markdown",
      "source": [
        "Suppose that you invest $10,000 for 10 years at an interest rate of 6% compounded monthly.\n",
        "What will be the value of your investment at the end of the 10 year period?\n",
        "Create a function that accepts the principal p, the term in years t, the interest rate r, and the\n",
        "number of compounding periods per year n. The function returns the value at the end of term\n",
        "rounded to the nearest cent.\n",
        "For the example above:\n",
        "compound_interest(10000, 10, 0.06, 12) ➞ 18193.97\n",
        "Note that the interest rate is given as a decimal and n=12 because with monthly compounding\n",
        "there are 12 periods per year. Compounding can also be done annually, quarterly, weekly, or\n",
        "daily."
      ],
      "metadata": {
        "id": "rxpMlql08uwR"
      }
    },
    {
      "cell_type": "code",
      "source": [
        "def compound_interest(p, t, r, n):\n",
        "    A = p * (1 + r/n) ** (n*t)\n",
        "    return round(A, 2)\n",
        "\n",
        "# Examples:\n",
        "print(compound_interest(10000, 10, 0.06, 12))  # Output: 18193.97\n",
        "print(compound_interest(100, 1, 0.05, 1))  # Output: 105.0\n",
        "print(compound_interest(3500, 15, 0.1, 4))  # Output: 15399.26\n",
        "print(compound_interest(50000, 20, 0.15, 365))  # Output: 2007316.26\n",
        "\n"
      ],
      "metadata": {
        "colab": {
          "base_uri": "https://localhost:8080/"
        },
        "id": "8nS0xSG98lKv",
        "outputId": "df59e42d-c6d8-4f88-aef2-d6e03c84b39c"
      },
      "execution_count": 4,
      "outputs": [
        {
          "output_type": "stream",
          "name": "stdout",
          "text": [
            "18193.97\n",
            "105.0\n",
            "15399.26\n",
            "1003658.13\n"
          ]
        }
      ]
    },
    {
      "cell_type": "markdown",
      "source": [
        "Write a function that takes a list of elements and returns only the integers.\n"
      ],
      "metadata": {
        "id": "tmFJXk4B81gJ"
      }
    },
    {
      "cell_type": "code",
      "source": [
        "def return_only_integer(lst):\n",
        "    return [num for num in lst if isinstance(num, int)]\n",
        "\n",
        "# Examples:\n",
        "print(return_only_integer([9, 2, \"space\", \"car\", \"lion\", 16]))  # Output: [9, 2, 16]\n",
        "print(return_only_integer([\"hello\", 81, \"basketball\", 123, \"fox\"]))  # Output: [81, 123]\n",
        "print(return_only_integer([10, \"121\", 56, 20, \"car\", 3, \"lion\"]))  # Output: [10, 56, 20, 3]\n",
        "print(return_only_integer([\"String\", True, 3.3, 1]))  # Output: [1]\n"
      ],
      "metadata": {
        "colab": {
          "base_uri": "https://localhost:8080/"
        },
        "id": "ewZ9SwbO8xpy",
        "outputId": "a5a9512f-fbc4-4809-fc8b-1e61e2ad7c7c"
      },
      "execution_count": 5,
      "outputs": [
        {
          "output_type": "stream",
          "name": "stdout",
          "text": [
            "[9, 2, 16]\n",
            "[81, 123]\n",
            "[10, 56, 20, 3]\n",
            "[True, 1]\n"
          ]
        }
      ]
    },
    {
      "cell_type": "code",
      "source": [],
      "metadata": {
        "id": "v6UXGNp885F_"
      },
      "execution_count": null,
      "outputs": []
    }
  ]
}